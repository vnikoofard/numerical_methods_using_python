{
 "cells": [
  {
   "cell_type": "markdown",
   "metadata": {},
   "source": [
    "# Modelo Matematico\n",
    "\n",
    "Um *modelo matemático* pode ser definido, de forma geral, como uma formulação ou\n",
    "equação que expressa as características essenciais de um sistema ou processo físico em\n",
    "termos matemáticos. Em um sentido muito geral, ele pode ser representado como uma\n",
    "relação funcional da forma\n",
    "\n",
    "$$\n",
    "\\text{Variavel dependente} = f(\\text{variaveis independentes, parametros, termos forçantes})\n",
    "$$\n",
    "\n",
    "Como um exemplo a gente tem a segunda lei da Newton\n",
    "\n",
    "$$\n",
    "F = m a\n",
    "$$\n",
    "\n",
    "onde $F$ é a força resultante agindo no corpo (N, ou kg m/s² ), $m$ = massa do objeto (kg) e\n",
    "$a$ é a sua aceleração (m/s² ).\n",
    "\n",
    "A segunda lei pode ser reescrita na forma de um modelo matematico simplesmente dividindo\n",
    "ambos os lados por $m$ para obter\n",
    "$$\n",
    "a = \\frac{F}{m}\n",
    "$$\n",
    "onde $a$ é a a variável dependente refletindo o comportamento do sistema, $F$ é o termo\n",
    "forçante e $m$ é um parâmetro representando uma propriedade do sistema. Observe que,\n",
    "para esse caso simples, não há nenhuma variável independente, porque não estamos prevendo como a aceleração varia no tempo ou no espaço.\n",
    "\n",
    "Agora vamos analisar o modelo simples de um paraquedista em uma queda livre. Um modelo para esse\n",
    "caso pode ser deduzido expressando a aceleração como taxa de variação no tempo da\n",
    "velocidade (dv/dt) e substituindo-a na equação da segunda lei de Newton para obter\n",
    "$$\n",
    "\\frac{dv}{dt} = \\frac{F}{m}\n",
    "$$\n",
    "onde $v$ é a velocidade $(m/s)$ e $t$ é o tempo $(s)$.\n",
    "A seguir, vamos expressar a força resultante em termos das variáveis e parâmetros\n",
    "mensuráveis. \n",
    "\n",
    "<p align=\"center\">\n",
    "<img src=\"./images/paraquedista.jpg\" width=250 height=300 />\n",
    "</p>\n",
    "\n",
    "Para um corpo em queda livre na vizinhança da Terra, a força\n",
    "resultante é composta de duas forças opostas: a força gravitacional, para baixo, $F_D$ e a\n",
    "força da resistência do ar, para cima, $F_U$:\n",
    "\n",
    "$$\n",
    "F = F_D + F_U\n",
    "$$\n",
    "Se associarmos um sinal positivo à força para baixo, a segunda lei pode ser usada\n",
    "para escrever a força devida à gravidade como\n",
    "$$\n",
    "F_D = mg\n",
    "$$\n",
    "onde $g$ é a constante gravitacional, ou a aceleração devida à gravidade, que é aproxi-\n",
    "madamente igual a 9,8 m/s² .\n",
    "A resistência do ar pode ser formulada de diversas maneiras. Uma abordagem simples é assumir que ela é linearmente proporcional à velocidade 1 e age no sentido para\n",
    "cima, como em\n",
    "$$\n",
    "F_U = -c v\n",
    "$$\n",
    "onde $c$ é uma constante de proporcionalidade chamada de coeficiente de arrasto $(kg/s)$.\n",
    "Portanto, quanto maior a velocidade de queda, maior a força para cima devida à resistência do ar. Então, a gente pode juntar essas equações de chegar na equação \n",
    "$$\n",
    "\\frac{dv}{dt} = \\frac{mg - cv}{m} = g - \\frac{c}{m} v.\n",
    "$$\n",
    "Essa equação é uma equação diferencial ordinaria (EDO) e tem uma solução analitica (exata). Por exemplo, se o páraquedista estiver inicialmente em repouso ($v = 0$ em\n",
    "$t = 0$), o cálculo pode ser usado para resolver a EDO, fornecendo\n",
    "$$\n",
    "v(t) = \\frac{gm}{c}(1- e^{-(c/m)t})\n",
    "$$\n",
    "Neste caso, fomos muito sortudos que a nossa EDO tinha uma solução analitica. De fato, não precisamos de metodos numericos para resolver esse EDO mas aqui vamos resolver ela numericamente para comparar o resultado com a solução analitica. \n",
    "\n",
    "O comportamento da solução analitica pode ser calculada fixando os parametros livres da solução. Vamos assumir que a o paraquedista peso (massa) 68.1 kg e pula de um balão de ar quente padado ($v_0 = 0$). O coeficiente de arrasto é igual a $12.5 kg/s$ e g= 9.81 $m/s²$.\n"
   ]
  },
  {
   "cell_type": "code",
   "execution_count": 9,
   "metadata": {},
   "outputs": [],
   "source": [
    "import numpy as np\n",
    "import plotly.graph_objects as go\n",
    "import matplotlib.pyplot as plt"
   ]
  },
  {
   "cell_type": "code",
   "execution_count": 3,
   "metadata": {},
   "outputs": [],
   "source": [
    "g = 9.81\n",
    "c = 12.5\n",
    "m = 68.1\n",
    "v = lambda t: ((g*m)/c)*(1- np.exp(-(c/m)*t))"
   ]
  },
  {
   "cell_type": "markdown",
   "metadata": {},
   "source": [
    "Agora podemos analisar o comportamento com modelo no intervalo de tempo $t \\in [0, 60]$"
   ]
  },
  {
   "cell_type": "code",
   "execution_count": 14,
   "metadata": {},
   "outputs": [
    {
     "data": {
      "image/png": "[encoded data removed]",
      "text/plain": [
       "<Figure size 720x432 with 1 Axes>"
      ]
     },
     "metadata": {
      "needs_background": "light"
     },
     "output_type": "display_data"
    }
   ],
   "source": [
    "t = np.linspace(0, 60, 100)\n",
    "\n",
    "#fig = go.FigureWidget()\n",
    "#fig.add_scatter(x=t, y=v(t))\n",
    "#fig.show()\n",
    "\n",
    "plt.figure(figsize=(10,6))\n",
    "plt.plot(t, v(t))\n",
    "plt.grid()\n",
    "plt.show()"
   ]
  },
  {
   "cell_type": "markdown",
   "metadata": {},
   "source": [
    "No grafico podemos observar que após o tempo $t\\approx 30$ a velocidade do paraquedista não está aumentando. Seria interessante achar um valor mais extato para esse tempo e tambem a velocidade assintomatica. "
   ]
  },
  {
   "cell_type": "code",
   "execution_count": null,
   "metadata": {},
   "outputs": [],
   "source": []
  }
 ],
 "metadata": {
  "kernelspec": {
   "display_name": "Python 3.9.13 ('base')",
   "language": "python",
   "name": "python3"
  },
  "language_info": {
   "codemirror_mode": {
    "name": "ipython",
    "version": 3
   },
   "file_extension": ".py",
   "mimetype": "text/x-python",
   "name": "python",
   "nbconvert_exporter": "python",
   "pygments_lexer": "ipython3",
   "version": "3.9.13"
  },
  "vscode": {
   "interpreter": {
    "hash": "92b1d5f842d7c1e714e1ab666cefb8d1f75311aac337aae0336133957fcbf554"
   }
  }
 },
 "nbformat": 4,
 "nbformat_minor": 2
}
