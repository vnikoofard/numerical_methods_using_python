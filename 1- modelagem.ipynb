{
 "cells": [
  {
   "cell_type": "markdown",
   "metadata": {},
   "source": [
    "# Modelo Matematico\n",
    "\n",
    "Um *modelo matemático* pode ser definido, de forma geral, como uma formulação ou\n",
    "equação que expressa as características essenciais de um sistema ou processo físico em\n",
    "termos matemáticos. Em um sentido muito geral, ele pode ser representado como uma\n",
    "relação funcional da forma\n",
    "\n",
    "$$\n",
    "\\text{Variavel dependente} = f(\\text{variaveis independentes, parametros, termos forçantes})\n",
    "$$\n",
    "\n",
    "Como um exemplo a gente tem a segunda lei da Newton\n",
    "\n",
    "$$\n",
    "F = m a\n",
    "$$\n",
    "\n",
    "onde $F$ é a força resultante agindo no corpo (N, ou kg m/s² ), $m$ = massa do objeto (kg) e\n",
    "$a$ é a sua aceleração (m/s² ).\n",
    "\n",
    "A segunda lei pode ser reescrita na forma de um modelo matematico simplesmente dividindo\n",
    "ambos os lados por $m$ para obter\n",
    "$$\n",
    "a = \\frac{F}{m}\n",
    "$$\n",
    "onde $a$ é a a variável dependente refletindo o comportamento do sistema, $F$ é o termo\n",
    "forçante e $m$ é um parâmetro representando uma propriedade do sistema. Observe que,\n",
    "para esse caso simples, não há nenhuma variável independente, porque não estamos prevendo como a aceleração varia no tempo ou no espaço.\n",
    "\n",
    "Agora vamos analisar o modelo simples de um paraquedista em uma queda livre. Um modelo para esse\n",
    "caso pode ser deduzido expressando a aceleração como taxa de variação no tempo da\n",
    "velocidade (dv/dt) e substituindo-a na equação da segunda lei de Newton para obter\n",
    "$$\n",
    "\\frac{dv}{dt} = \\frac{F}{m}\n",
    "$$\n",
    "onde $v$ é a velocidade $(m/s)$ e $t$ é o tempo $(s)$.\n",
    "A seguir, vamos expressar a força resultante em termos das variáveis e parâmetros\n",
    "mensuráveis. \n",
    "\n",
    "<p align=\"center\">\n",
    "<img src=\"./images/paraquedista.jpg\" width=250 height=300 />\n",
    "</p>\n",
    "\n",
    "Para um corpo em queda livre na vizinhança da Terra, a força\n",
    "resultante é composta de duas forças opostas: a força gravitacional, para baixo, $F_D$ e a\n",
    "força da resistência do ar, para cima, $F_U$:\n",
    "\n",
    "$$\n",
    "F = F_D + F_U\n",
    "$$\n",
    "Se associarmos um sinal positivo à força para baixo, a segunda lei pode ser usada\n",
    "para escrever a força devida à gravidade como\n",
    "$$\n",
    "F_D = mg\n",
    "$$\n",
    "onde $g$ é a constante gravitacional, ou a aceleração devida à gravidade, que é aproxi-\n",
    "madamente igual a 9,8 m/s² .\n",
    "A resistência do ar pode ser formulada de diversas maneiras. Uma abordagem simples é assumir que ela é linearmente proporcional à velocidade 1 e age no sentido para\n",
    "cima, como em\n",
    "$$\n",
    "F_U = -c v\n",
    "$$\n",
    "onde $c$ é uma constante de proporcionalidade chamada de coeficiente de arrasto $(kg/s)$.\n",
    "Portanto, quanto maior a velocidade de queda, maior a força para cima devida à resistência do ar. Então, a gente pode juntar essas equações de chegar na equação \n",
    "$$\n",
    "\\frac{dv}{dt} = \\frac{mg - cv}{m} = g - \\frac{c}{m} v.\n",
    "$$\n",
    "Essa equação é uma equação diferencial ordinaria (EDO) e tem uma solução analitica (exata). Por exemplo, se o páraquedista estiver inicialmente em repouso ($v = 0$ em\n",
    "$t = 0$), o cálculo pode ser usado para resolver a EDO, fornecendo\n",
    "$$\n",
    "v(t) = \\frac{gm}{c}(1- e^{-(c/m)t})\n",
    "$$\n",
    "Neste caso, fomos muito sortudos que a nossa EDO tinha uma solução analitica. De fato, não precisamos de metodos numericos para resolver esse EDO mas aqui vamos resolver ela numericamente para comparar o resultado com a solução analitica. \n",
    "\n",
    "O comportamento da solução analitica pode ser calculada fixando os parametros livres da solução. Vamos assumir que a o paraquedista peso (massa) 68.1 kg e pula de um balão de ar quente padado ($v_0 = 0$). O coeficiente de arrasto é igual a $12.5 kg/s$ e g= 9.81 $m/s²$.\n"
   ]
  },
  {
   "cell_type": "code",
   "execution_count": 2,
   "metadata": {},
   "outputs": [],
   "source": [
    "import numpy as np\n",
    "import plotly.graph_objects as go"
   ]
  },
  {
   "cell_type": "code",
   "execution_count": 3,
   "metadata": {},
   "outputs": [],
   "source": [
    "g = 9.81\n",
    "c = 12.5\n",
    "m = 68.1\n",
    "v = lambda t: ((g*m)/c)*(1- np.exp(-(c/m)*t))"
   ]
  },
  {
   "cell_type": "markdown",
   "metadata": {},
   "source": [
    "Agora podemos analisar o comportamento com modelo no intervalo de tempo $t \\in [0, 40]$"
   ]
  },
  {
   "cell_type": "code",
   "execution_count": 6,
   "metadata": {},
   "outputs": [
    {
     "data": {
      "application/vnd.plotly.v1+json": {
       "config": {
        "plotlyServerURL": "https://plot.ly"
       },
       "data": [
        {
         "type": "scatter",
         "x": [
          0,
          0.40404040404040403,
          0.8080808080808081,
          1.2121212121212122,
          1.6161616161616161,
          2.0202020202020203,
          2.4242424242424243,
          2.8282828282828283,
          3.2323232323232323,
          3.6363636363636362,
          4.040404040404041,
          4.444444444444445,
          4.848484848484849,
          5.252525252525253,
          5.656565656565657,
          6.0606060606060606,
          6.4646464646464645,
          6.8686868686868685,
          7.2727272727272725,
          7.6767676767676765,
          8.080808080808081,
          8.484848484848484,
          8.88888888888889,
          9.292929292929292,
          9.696969696969697,
          10.1010101010101,
          10.505050505050505,
          10.909090909090908,
          11.313131313131313,
          11.717171717171716,
          12.121212121212121,
          12.525252525252524,
          12.929292929292929,
          13.333333333333334,
          13.737373737373737,
          14.141414141414142,
          14.545454545454545,
          14.94949494949495,
          15.353535353535353,
          15.757575757575758,
          16.161616161616163,
          16.565656565656564,
          16.96969696969697,
          17.373737373737374,
          17.77777777777778,
          18.18181818181818,
          18.585858585858585,
          18.98989898989899,
          19.393939393939394,
          19.7979797979798,
          20.2020202020202,
          20.606060606060606,
          21.01010101010101,
          21.414141414141415,
          21.818181818181817,
          22.22222222222222,
          22.626262626262626,
          23.03030303030303,
          23.434343434343432,
          23.838383838383837,
          24.242424242424242,
          24.646464646464647,
          25.05050505050505,
          25.454545454545453,
          25.858585858585858,
          26.262626262626263,
          26.666666666666668,
          27.07070707070707,
          27.474747474747474,
          27.87878787878788,
          28.282828282828284,
          28.686868686868685,
          29.09090909090909,
          29.494949494949495,
          29.8989898989899,
          30.3030303030303,
          30.707070707070706,
          31.11111111111111,
          31.515151515151516,
          31.919191919191917,
          32.323232323232325,
          32.72727272727273,
          33.13131313131313,
          33.535353535353536,
          33.93939393939394,
          34.343434343434346,
          34.74747474747475,
          35.15151515151515,
          35.55555555555556,
          35.95959595959596,
          36.36363636363636,
          36.76767676767677,
          37.17171717171717,
          37.57575757575758,
          37.97979797979798,
          38.38383838383838,
          38.78787878787879,
          39.19191919191919,
          39.5959595959596,
          40
         ],
         "y": [
          0,
          3.820225703450854,
          7.367382697133694,
          10.660989859262175,
          13.719170863864758,
          16.55875390960602,
          19.19536432001862,
          21.643510524695436,
          23.916663894569144,
          26.0273328705874,
          27.987131793690185,
          29.806844814838783,
          31.496485236773093,
          33.06535061403591,
          34.52207391446229,
          35.87467102365942,
          37.13058485387887,
          38.2967262999986,
          39.37951226798224,
          40.38490098507437,
          41.31842478603243,
          42.18522055580765,
          42.99005799619122,
          43.737365871968166,
          44.43125638100326,
          45.07554778235963,
          45.673785406965564,
          46.22926116644445,
          46.74503166745882,
          47.22393503124589,
          47.66860651089722,
          48.081492992319426,
          48.464866458670095,
          48.82083649235942,
          49.1513618834121,
          49.45826140806668,
          49.74322383692345,
          50.00781722771266,
          50.25349755381809,
          50.48161671603618,
          50.69342998165659,
          50.890102891799444,
          51.072717675017884,
          51.242279202458015,
          51.399720517345635,
          51.54590796922676,
          51.681645981213954,
          51.807681476471224,
          51.92470798829493,
          52.03336947640721,
          52.13426387046181,
          52.227946360260994,
          52.31493245078875,
          52.39570079887089,
          52.47069584707157,
          52.540330269319526,
          52.60498724172166,
          52.66502255105937,
          52.72076655257028,
          52.77252598778813,
          52.82058567244398,
          52.86521006371679,
          52.90664471545717,
          52.94511762939233,
          52.980840509747054,
          53.014009928184905,
          53.044808405479564,
          53.07340541586873,
          53.09995831961698,
          53.12461322891936,
          53.14750581191035,
          53.16876203920252,
          53.18849887706281,
          53.20682493104075,
          53.223841043590255,
          53.239640848973686,
          53.25431128850138,
          53.267933088942144,
          53.28058120673695,
          53.29232524046047,
          53.303229813799895,
          53.313354931158564,
          53.32275630784116,
          53.3314856766373,
          53.33959107249066,
          53.34711709682003,
          53.3541051629467,
          53.36059372397888,
          53.3666184844069,
          53.37221259657367,
          53.37740684310154,
          53.382229806279234,
          53.38670802534116,
          53.390866142504336,
          53.39472703856674,
          53.39831195881301,
          53.40164062992054,
          53.40473136850913,
          53.40760118193148,
          53.41026586185928
         ]
        }
       ],
       "layout": {
        "template": {
         "data": {
          "bar": [
           {
            "error_x": {
             "color": "#2a3f5f"
            },
            "error_y": {
             "color": "#2a3f5f"
            },
            "marker": {
             "line": {
              "color": "#E5ECF6",
              "width": 0.5
             },
             "pattern": {
              "fillmode": "overlay",
              "size": 10,
              "solidity": 0.2
             }
            },
            "type": "bar"
           }
          ],
          "barpolar": [
           {
            "marker": {
             "line": {
              "color": "#E5ECF6",
              "width": 0.5
             },
             "pattern": {
              "fillmode": "overlay",
              "size": 10,
              "solidity": 0.2
             }
            },
            "type": "barpolar"
           }
          ],
          "carpet": [
           {
            "aaxis": {
             "endlinecolor": "#2a3f5f",
             "gridcolor": "white",
             "linecolor": "white",
             "minorgridcolor": "white",
             "startlinecolor": "#2a3f5f"
            },
            "baxis": {
             "endlinecolor": "#2a3f5f",
             "gridcolor": "white",
             "linecolor": "white",
             "minorgridcolor": "white",
             "startlinecolor": "#2a3f5f"
            },
            "type": "carpet"
           }
          ],
          "choropleth": [
           {
            "colorbar": {
             "outlinewidth": 0,
             "ticks": ""
            },
            "type": "choropleth"
           }
          ],
          "contour": [
           {
            "colorbar": {
             "outlinewidth": 0,
             "ticks": ""
            },
            "colorscale": [
             [
              0,
              "#0d0887"
             ],
             [
              0.1111111111111111,
              "#46039f"
             ],
             [
              0.2222222222222222,
              "#7201a8"
             ],
             [
              0.3333333333333333,
              "#9c179e"
             ],
             [
              0.4444444444444444,
              "#bd3786"
             ],
             [
              0.5555555555555556,
              "#d8576b"
             ],
             [
              0.6666666666666666,
              "#ed7953"
             ],
             [
              0.7777777777777778,
              "#fb9f3a"
             ],
             [
              0.8888888888888888,
              "#fdca26"
             ],
             [
              1,
              "#f0f921"
             ]
            ],
            "type": "contour"
           }
          ],
          "contourcarpet": [
           {
            "colorbar": {
             "outlinewidth": 0,
             "ticks": ""
            },
            "type": "contourcarpet"
           }
          ],
          "heatmap": [
           {
            "colorbar": {
             "outlinewidth": 0,
             "ticks": ""
            },
            "colorscale": [
             [
              0,
              "#0d0887"
             ],
             [
              0.1111111111111111,
              "#46039f"
             ],
             [
              0.2222222222222222,
              "#7201a8"
             ],
             [
              0.3333333333333333,
              "#9c179e"
             ],
             [
              0.4444444444444444,
              "#bd3786"
             ],
             [
              0.5555555555555556,
              "#d8576b"
             ],
             [
              0.6666666666666666,
              "#ed7953"
             ],
             [
              0.7777777777777778,
              "#fb9f3a"
             ],
             [
              0.8888888888888888,
              "#fdca26"
             ],
             [
              1,
              "#f0f921"
             ]
            ],
            "type": "heatmap"
           }
          ],
          "heatmapgl": [
           {
            "colorbar": {
             "outlinewidth": 0,
             "ticks": ""
            },
            "colorscale": [
             [
              0,
              "#0d0887"
             ],
             [
              0.1111111111111111,
              "#46039f"
             ],
             [
              0.2222222222222222,
              "#7201a8"
             ],
             [
              0.3333333333333333,
              "#9c179e"
             ],
             [
              0.4444444444444444,
              "#bd3786"
             ],
             [
              0.5555555555555556,
              "#d8576b"
             ],
             [
              0.6666666666666666,
              "#ed7953"
             ],
             [
              0.7777777777777778,
              "#fb9f3a"
             ],
             [
              0.8888888888888888,
              "#fdca26"
             ],
             [
              1,
              "#f0f921"
             ]
            ],
            "type": "heatmapgl"
           }
          ],
          "histogram": [
           {
            "marker": {
             "pattern": {
              "fillmode": "overlay",
              "size": 10,
              "solidity": 0.2
             }
            },
            "type": "histogram"
           }
          ],
          "histogram2d": [
           {
            "colorbar": {
             "outlinewidth": 0,
             "ticks": ""
            },
            "colorscale": [
             [
              0,
              "#0d0887"
             ],
             [
              0.1111111111111111,
              "#46039f"
             ],
             [
              0.2222222222222222,
              "#7201a8"
             ],
             [
              0.3333333333333333,
              "#9c179e"
             ],
             [
              0.4444444444444444,
              "#bd3786"
             ],
             [
              0.5555555555555556,
              "#d8576b"
             ],
             [
              0.6666666666666666,
              "#ed7953"
             ],
             [
              0.7777777777777778,
              "#fb9f3a"
             ],
             [
              0.8888888888888888,
              "#fdca26"
             ],
             [
              1,
              "#f0f921"
             ]
            ],
            "type": "histogram2d"
           }
          ],
          "histogram2dcontour": [
           {
            "colorbar": {
             "outlinewidth": 0,
             "ticks": ""
            },
            "colorscale": [
             [
              0,
              "#0d0887"
             ],
             [
              0.1111111111111111,
              "#46039f"
             ],
             [
              0.2222222222222222,
              "#7201a8"
             ],
             [
              0.3333333333333333,
              "#9c179e"
             ],
             [
              0.4444444444444444,
              "#bd3786"
             ],
             [
              0.5555555555555556,
              "#d8576b"
             ],
             [
              0.6666666666666666,
              "#ed7953"
             ],
             [
              0.7777777777777778,
              "#fb9f3a"
             ],
             [
              0.8888888888888888,
              "#fdca26"
             ],
             [
              1,
              "#f0f921"
             ]
            ],
            "type": "histogram2dcontour"
           }
          ],
          "mesh3d": [
           {
            "colorbar": {
             "outlinewidth": 0,
             "ticks": ""
            },
            "type": "mesh3d"
           }
          ],
          "parcoords": [
           {
            "line": {
             "colorbar": {
              "outlinewidth": 0,
              "ticks": ""
             }
            },
            "type": "parcoords"
           }
          ],
          "pie": [
           {
            "automargin": true,
            "type": "pie"
           }
          ],
          "scatter": [
           {
            "fillpattern": {
             "fillmode": "overlay",
             "size": 10,
             "solidity": 0.2
            },
            "type": "scatter"
           }
          ],
          "scatter3d": [
           {
            "line": {
             "colorbar": {
              "outlinewidth": 0,
              "ticks": ""
             }
            },
            "marker": {
             "colorbar": {
              "outlinewidth": 0,
              "ticks": ""
             }
            },
            "type": "scatter3d"
           }
          ],
          "scattercarpet": [
           {
            "marker": {
             "colorbar": {
              "outlinewidth": 0,
              "ticks": ""
             }
            },
            "type": "scattercarpet"
           }
          ],
          "scattergeo": [
           {
            "marker": {
             "colorbar": {
              "outlinewidth": 0,
              "ticks": ""
             }
            },
            "type": "scattergeo"
           }
          ],
          "scattergl": [
           {
            "marker": {
             "colorbar": {
              "outlinewidth": 0,
              "ticks": ""
             }
            },
            "type": "scattergl"
           }
          ],
          "scattermapbox": [
           {
            "marker": {
             "colorbar": {
              "outlinewidth": 0,
              "ticks": ""
             }
            },
            "type": "scattermapbox"
           }
          ],
          "scatterpolar": [
           {
            "marker": {
             "colorbar": {
              "outlinewidth": 0,
              "ticks": ""
             }
            },
            "type": "scatterpolar"
           }
          ],
          "scatterpolargl": [
           {
            "marker": {
             "colorbar": {
              "outlinewidth": 0,
              "ticks": ""
             }
            },
            "type": "scatterpolargl"
           }
          ],
          "scatterternary": [
           {
            "marker": {
             "colorbar": {
              "outlinewidth": 0,
              "ticks": ""
             }
            },
            "type": "scatterternary"
           }
          ],
          "surface": [
           {
            "colorbar": {
             "outlinewidth": 0,
             "ticks": ""
            },
            "colorscale": [
             [
              0,
              "#0d0887"
             ],
             [
              0.1111111111111111,
              "#46039f"
             ],
             [
              0.2222222222222222,
              "#7201a8"
             ],
             [
              0.3333333333333333,
              "#9c179e"
             ],
             [
              0.4444444444444444,
              "#bd3786"
             ],
             [
              0.5555555555555556,
              "#d8576b"
             ],
             [
              0.6666666666666666,
              "#ed7953"
             ],
             [
              0.7777777777777778,
              "#fb9f3a"
             ],
             [
              0.8888888888888888,
              "#fdca26"
             ],
             [
              1,
              "#f0f921"
             ]
            ],
            "type": "surface"
           }
          ],
          "table": [
           {
            "cells": {
             "fill": {
              "color": "#EBF0F8"
             },
             "line": {
              "color": "white"
             }
            },
            "header": {
             "fill": {
              "color": "#C8D4E3"
             },
             "line": {
              "color": "white"
             }
            },
            "type": "table"
           }
          ]
         },
         "layout": {
          "annotationdefaults": {
           "arrowcolor": "#2a3f5f",
           "arrowhead": 0,
           "arrowwidth": 1
          },
          "autotypenumbers": "strict",
          "coloraxis": {
           "colorbar": {
            "outlinewidth": 0,
            "ticks": ""
           }
          },
          "colorscale": {
           "diverging": [
            [
             0,
             "#8e0152"
            ],
            [
             0.1,
             "#c51b7d"
            ],
            [
             0.2,
             "#de77ae"
            ],
            [
             0.3,
             "#f1b6da"
            ],
            [
             0.4,
             "#fde0ef"
            ],
            [
             0.5,
             "#f7f7f7"
            ],
            [
             0.6,
             "#e6f5d0"
            ],
            [
             0.7,
             "#b8e186"
            ],
            [
             0.8,
             "#7fbc41"
            ],
            [
             0.9,
             "#4d9221"
            ],
            [
             1,
             "#276419"
            ]
           ],
           "sequential": [
            [
             0,
             "#0d0887"
            ],
            [
             0.1111111111111111,
             "#46039f"
            ],
            [
             0.2222222222222222,
             "#7201a8"
            ],
            [
             0.3333333333333333,
             "#9c179e"
            ],
            [
             0.4444444444444444,
             "#bd3786"
            ],
            [
             0.5555555555555556,
             "#d8576b"
            ],
            [
             0.6666666666666666,
             "#ed7953"
            ],
            [
             0.7777777777777778,
             "#fb9f3a"
            ],
            [
             0.8888888888888888,
             "#fdca26"
            ],
            [
             1,
             "#f0f921"
            ]
           ],
           "sequentialminus": [
            [
             0,
             "#0d0887"
            ],
            [
             0.1111111111111111,
             "#46039f"
            ],
            [
             0.2222222222222222,
             "#7201a8"
            ],
            [
             0.3333333333333333,
             "#9c179e"
            ],
            [
             0.4444444444444444,
             "#bd3786"
            ],
            [
             0.5555555555555556,
             "#d8576b"
            ],
            [
             0.6666666666666666,
             "#ed7953"
            ],
            [
             0.7777777777777778,
             "#fb9f3a"
            ],
            [
             0.8888888888888888,
             "#fdca26"
            ],
            [
             1,
             "#f0f921"
            ]
           ]
          },
          "colorway": [
           "#636efa",
           "#EF553B",
           "#00cc96",
           "#ab63fa",
           "#FFA15A",
           "#19d3f3",
           "#FF6692",
           "#B6E880",
           "#FF97FF",
           "#FECB52"
          ],
          "font": {
           "color": "#2a3f5f"
          },
          "geo": {
           "bgcolor": "white",
           "lakecolor": "white",
           "landcolor": "#E5ECF6",
           "showlakes": true,
           "showland": true,
           "subunitcolor": "white"
          },
          "hoverlabel": {
           "align": "left"
          },
          "hovermode": "closest",
          "mapbox": {
           "style": "light"
          },
          "paper_bgcolor": "white",
          "plot_bgcolor": "#E5ECF6",
          "polar": {
           "angularaxis": {
            "gridcolor": "white",
            "linecolor": "white",
            "ticks": ""
           },
           "bgcolor": "#E5ECF6",
           "radialaxis": {
            "gridcolor": "white",
            "linecolor": "white",
            "ticks": ""
           }
          },
          "scene": {
           "xaxis": {
            "backgroundcolor": "#E5ECF6",
            "gridcolor": "white",
            "gridwidth": 2,
            "linecolor": "white",
            "showbackground": true,
            "ticks": "",
            "zerolinecolor": "white"
           },
           "yaxis": {
            "backgroundcolor": "#E5ECF6",
            "gridcolor": "white",
            "gridwidth": 2,
            "linecolor": "white",
            "showbackground": true,
            "ticks": "",
            "zerolinecolor": "white"
           },
           "zaxis": {
            "backgroundcolor": "#E5ECF6",
            "gridcolor": "white",
            "gridwidth": 2,
            "linecolor": "white",
            "showbackground": true,
            "ticks": "",
            "zerolinecolor": "white"
           }
          },
          "shapedefaults": {
           "line": {
            "color": "#2a3f5f"
           }
          },
          "ternary": {
           "aaxis": {
            "gridcolor": "white",
            "linecolor": "white",
            "ticks": ""
           },
           "baxis": {
            "gridcolor": "white",
            "linecolor": "white",
            "ticks": ""
           },
           "bgcolor": "#E5ECF6",
           "caxis": {
            "gridcolor": "white",
            "linecolor": "white",
            "ticks": ""
           }
          },
          "title": {
           "x": 0.05
          },
          "xaxis": {
           "automargin": true,
           "gridcolor": "white",
           "linecolor": "white",
           "ticks": "",
           "title": {
            "standoff": 15
           },
           "zerolinecolor": "white",
           "zerolinewidth": 2
          },
          "yaxis": {
           "automargin": true,
           "gridcolor": "white",
           "linecolor": "white",
           "ticks": "",
           "title": {
            "standoff": 15
           },
           "zerolinecolor": "white",
           "zerolinewidth": 2
          }
         }
        }
       }
      }
     },
     "metadata": {},
     "output_type": "display_data"
    }
   ],
   "source": [
    "t = np.linspace(0, 40, 100)\n",
    "\n",
    "fig = go.Figure()\n",
    "fig.add_scatter(x=t, y=v(t))"
   ]
  },
  {
   "cell_type": "markdown",
   "metadata": {},
   "source": [
    "No grafico podemos observar que após o tempo $t\\approx 30$ a velocidade do paraquedista não está aumentando. Seria interessante achar um valor mais extato para esse tempo e tambem a velocidade assintomatica. "
   ]
  },
  {
   "cell_type": "code",
   "execution_count": null,
   "metadata": {},
   "outputs": [],
   "source": []
  }
 ],
 "metadata": {
  "kernelspec": {
   "display_name": "Python 3.9.13 ('base')",
   "language": "python",
   "name": "python3"
  },
  "language_info": {
   "codemirror_mode": {
    "name": "ipython",
    "version": 3
   },
   "file_extension": ".py",
   "mimetype": "text/x-python",
   "name": "python",
   "nbconvert_exporter": "python",
   "pygments_lexer": "ipython3",
   "version": "3.9.13"
  },
  "vscode": {
   "interpreter": {
    "hash": "92b1d5f842d7c1e714e1ab666cefb8d1f75311aac337aae0336133957fcbf554"
   }
  }
 },
 "nbformat": 4,
 "nbformat_minor": 2
}
