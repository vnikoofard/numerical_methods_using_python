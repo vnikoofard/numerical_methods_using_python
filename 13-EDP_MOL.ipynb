{
 "cells": [
  {
   "attachments": {},
   "cell_type": "markdown",
   "metadata": {},
   "source": [
    "# Metodo das Linhas\n",
    "\n",
    "O método das linhas é um método semi-discreto para a resolução de EDP's que consiste em discretizar as variáveis espaciais e manter uma das varáveis contínua (usualmente o tempo), de modo a transformar a EDP em um sistema de EDO's que pode então ser\n",
    "resolvido através dos métodos para a resolução de PVI's (como os métodos de Runge-Kutta). A abordagem utilizada para a discretização das variáveis espaciais usualmente é o método de diferenças finitas, por isso o método das linhas é muitas vezes chamado de método de diferenças finitas semi-discreto.\n",
    "\n",
    "Como um exemplo, vamos ver como o método das linhas pode ser utilizado para resolver a equação do calor. A discussão teorica sobre o método das linhas pode ser encontrada no arquivo [em anexo](./assets/material_MOL.pdf). No exemplo resolvido no texto temos a segiunte equação do calor:\n",
    "\n",
    "$$\n",
    "\\frac{\\partial T}{\\partial t} = \\alpha \\frac{\\partial^2 T}{\\partial x^2} - h' \\alpha (T - T_a)\n",
    "$$\n",
    "\n",
    "onde $T$ é a temperatura, $t$ é o tempo, $x$ é a posição, $\\alpha$ é a difusividade térmica, $h'$ é o coeficiente de transferência de calor por convecção e $T_a$ é a temperatura ambiente. \n",
    "\n",
    "<center>\n",
    "<img src=./images/fig_mol.png>\n",
    "</center>\n",
    "\n",
    "As condições de contorno associadas a este problema são:\n",
    "\n",
    "$$\n",
    "T(0,t) = T_{ext} \\\\\n",
    "\\frac{\\partial T}{\\partial x}|_{x=L} = 0\n",
    "$$\n",
    "\n",
    "onde $T_{ext}$ é a temperatura externa e $L$ é o comprimento da barra. As condições iniciais são:\n",
    "\n",
    "$$\n",
    "T(x,0) = T_{ini}\n",
    "$$\n",
    "\n",
    "\n",
    "Neste caso, será considerado um domínio somente com N = 6 pontos para ilustração:\n",
    "\n",
    "<center>\n",
    "<img src=./images/fig_mol1.png>\n",
    "</center>\n",
    "\n",
    "\n",
    "Neste caso, a discretização da EDP na direção x irá resultar um conjunto de valores $(T_1, T_2, T_3, T_4, T_5, T_6)$ que representam a temperatura nos pontos respectivos $(x_1, x_2, x_3, x_4, x_5, x_6)$. Neste caso, porém, estes valores Ti não são constantes, mas podem ser uma função do tempo.\n",
    "\n",
    "Descritizando o dominio espacial, temos:\n",
    "\n",
    "$$\n",
    "\\frac{\\partial^2 T}{\\partial x^2} = \\frac{T_{i-1} - 2T_i + T_{i+1}}{\\Delta x^2}\n",
    "$$\n",
    "\n",
    "subsituindo na equação do calor, temos:\n",
    "\n",
    "$$\n",
    "\\frac{\\partial T_i}{\\partial t} = \\alpha \\frac{T_{i-1} - 2T_i + T_{i+1}}{\\Delta x^2} - h' \\alpha (T_i - T_a)\n",
    "$$\n",
    "\n",
    "Esta equação pode ser aplicada nos pontos i = 2, 3, 4, 5 para obter uma EDO para a temperatura em cada um destes pontos. Para resolver este sistema de EDO's, é preciso definir uma condição inicial para cada ponto. Como a temperatura inicial é considerada\n",
    "constante e igual a Tini, basta associar este valor com a temperatura em cada ponto:\n",
    "\n",
    "$$T_i(0) = T_{ini}$$\n",
    "\n",
    "Para fechar o sistema de equações, é preciso ainda definir equações para $T_0$ e $T_6$, que são obtidas através da aplicação das condições de contorno. A condição $T(0, t) = T_{ext}$ resulta diretamente em:\n",
    "\n",
    "$$T_1 = T_{ext}$$\n",
    "\n",
    "Na extremidade $x = L$, a condição é de derivada nula. Neste caso pode-se aplicar um esquema de discretização para trás, de onde se obtém que $T_6 = T_5$. Com estas duas condições extras, o sistema de EDO's pode ser resolvido.\n",
    "\n",
    "De forma resumida, as equações para os 6 pontos são\n",
    "\n",
    "<center>\n",
    "<img src=./images/fig_mol2.png>\n",
    "</center>\n",
    "\n",
    "Agora vamos implementar este problema no Python. Primeiro, vamos definir as constantes e as condições iniciais:\n",
    "\n",
    "$$\n",
    "\\begin{align}\n",
    "\\alpha &= 0.01 \\; cm^2/s\\\\\n",
    "h' &= 0.1 \\; cm^2\\\\\n",
    "T_a &= 25 \\; C\\\\\n",
    "T_{ini} &= 25 \\; C\\\\\n",
    "T_{ext} &= 100 \\; C\\\\\n",
    "L &= 1 \\; cm\\\\\n",
    "\\Delta x &= \\frac{L}{N-1} \\\\\n",
    "\\Delta t &= 0.01 \\\\\n",
    "\\end{align}\n",
    "$$\n",
    "\n"
   ]
  },
  {
   "cell_type": "code",
   "execution_count": 4,
   "metadata": {},
   "outputs": [],
   "source": [
    "from scipy.integrate import solve_ivp\n",
    "import matplotlib.pyplot as plt\n",
    "import numpy as np"
   ]
  },
  {
   "cell_type": "code",
   "execution_count": 21,
   "metadata": {},
   "outputs": [],
   "source": [
    "alpha = 0.01\n",
    "h = 0.1\n",
    "T_a = 25.\n",
    "T_ini = 25.\n",
    "T_ext = 100.\n",
    "L = 1.\n",
    "N = 6\n",
    "dx = L/(N - 1)\n",
    "dt = 0.01\n",
    "\n",
    "duration = 12000\n",
    "t_eval = np.linspace(0, duration, 1000)"
   ]
  },
  {
   "cell_type": "code",
   "execution_count": 219,
   "metadata": {},
   "outputs": [],
   "source": [
    "def Eq(t, T):\n",
    "    Tt = T.copy()\n",
    "\n",
    "    n = len(Tt) - 1\n",
    "    \n",
    "    #Tt[0] = T_ext\n",
    "    #Tt[-1] = Tt[-2]\n",
    "    \n",
    "    for i in range(1, n):\n",
    "        Tt[i] = alpha * (Tt[i + 1] - 2 * Tt[i] + Tt[i - 1]) / dx ** 2 - h * alpha * (Tt[i] - T_a)\n",
    "    \n",
    "    Tt[0] = T_ext\n",
    "    Tt[-1] = Tt[-2]\n",
    "\n",
    "    return Tt.copy()"
   ]
  },
  {
   "cell_type": "code",
   "execution_count": 220,
   "metadata": {},
   "outputs": [],
   "source": [
    "# boundary conditions\n",
    "\n",
    "T0 = np.ones(N) * T_ini\n",
    "T0[0] = T_ext\n",
    "T0[-1] = T0[-2]\n",
    "\n",
    "res = solve_ivp(Eq, (0, duration), T0, t_eval=t_eval, method='LSODA', max_step=0.1)"
   ]
  },
  {
   "cell_type": "code",
   "execution_count": 221,
   "metadata": {},
   "outputs": [
    {
     "data": {
      "text/plain": [
       "(6, 1000)"
      ]
     },
     "execution_count": 221,
     "metadata": {},
     "output_type": "execute_result"
    }
   ],
   "source": [
    "res.y.shape"
   ]
  },
  {
   "cell_type": "code",
   "execution_count": 222,
   "metadata": {},
   "outputs": [
    {
     "data": {
      "image/png": "[encoded data removed]",
      "text/plain": [
       "<Figure size 640x480 with 1 Axes>"
      ]
     },
     "metadata": {},
     "output_type": "display_data"
    }
   ],
   "source": [
    "plt.plot(res.t, res.y.T);"
   ]
  },
  {
   "cell_type": "code",
   "execution_count": 185,
   "metadata": {},
   "outputs": [
    {
     "data": {
      "text/plain": [
       "  message: The solver successfully reached the end of the integration interval.\n",
       "  success: True\n",
       "   status: 0\n",
       "        t: [ 0.000e+00  1.201e+01 ...  1.199e+04  1.200e+04]\n",
       "        y: [[ 1.000e+02  1.040e+02 ...  1.071e+02  1.258e+02]\n",
       "            [ 1.875e+01  1.565e+01 ...  1.615e+01  1.936e+01]\n",
       "            ...\n",
       "            [-7.910e+00  8.241e-02 ...  8.643e-02  1.152e-01]\n",
       "            [-7.910e+00  8.241e-02 ...  8.643e-02  1.152e-01]]\n",
       "      sol: None\n",
       " t_events: None\n",
       " y_events: None\n",
       "     nfev: 176618\n",
       "     njev: 0\n",
       "      nlu: 0"
      ]
     },
     "execution_count": 185,
     "metadata": {},
     "output_type": "execute_result"
    }
   ],
   "source": [
    "res"
   ]
  },
  {
   "attachments": {},
   "cell_type": "markdown",
   "metadata": {},
   "source": [
    "# Usando o metodo de Euler"
   ]
  },
  {
   "cell_type": "code",
   "execution_count": null,
   "metadata": {},
   "outputs": [],
   "source": [
    "def euler(func, xi, yi, h=1):\n",
    "    return yi + func(xi, yi) * h"
   ]
  },
  {
   "cell_type": "code",
   "execution_count": 24,
   "metadata": {},
   "outputs": [],
   "source": [
    "def _Euler(Tt, h = dt):\n",
    "  \n",
    "    Tt[0] = T_ext\n",
    "    Tt[-1] = Tt[-2]\n",
    "    n = len(Tt) - 1\n",
    "\n",
    "    for i in range(1, n):\n",
    "        Tt[i] = Tt[i] + h*(alpha * (Tt[i + 1] - 2 * Tt[i] + Tt[i - 1]) / dx ** 2 - h * alpha * (Tt[i] - T_a))\n",
    "\n",
    "    Tt[0] =T_ext\n",
    "    Tt[-1] = Tt[-2]\n",
    "\n",
    "    return Tt"
   ]
  },
  {
   "cell_type": "code",
   "execution_count": 25,
   "metadata": {},
   "outputs": [],
   "source": [
    "T0 = np.ones(N) * T_ini\n",
    "\n",
    "# boundary conditions\n",
    "T0[0] = T_ext\n",
    "T0[-1] = T0[-2]\n",
    "\n",
    "Tts = [T0.copy()]\n",
    "\n",
    "for _ in range(1, duration):\n",
    "    Tts.append(_Euler(Tts[-1]).copy())\n",
    "\n",
    "Tts = np.array(Tts)"
   ]
  },
  {
   "cell_type": "code",
   "execution_count": 11,
   "metadata": {},
   "outputs": [
    {
     "data": {
      "text/plain": [
       "(12000, 6)"
      ]
     },
     "execution_count": 11,
     "metadata": {},
     "output_type": "execute_result"
    }
   ],
   "source": [
    "Tts.shape"
   ]
  },
  {
   "cell_type": "code",
   "execution_count": 26,
   "metadata": {},
   "outputs": [
    {
     "data": {
      "image/png": "[encoded data removed]",
      "text/plain": [
       "<Figure size 640x480 with 1 Axes>"
      ]
     },
     "metadata": {},
     "output_type": "display_data"
    }
   ],
   "source": [
    "t = np.linspace(0, duration, duration)\n",
    "\n",
    "plt.plot(t, Tts);\n",
    "plt.xlabel('t')\n",
    "plt.ylabel('T');    \n"
   ]
  },
  {
   "cell_type": "code",
   "execution_count": null,
   "metadata": {},
   "outputs": [],
   "source": []
  },
  {
   "cell_type": "code",
   "execution_count": null,
   "metadata": {},
   "outputs": [],
   "source": []
  },
  {
   "cell_type": "code",
   "execution_count": null,
   "metadata": {},
   "outputs": [],
   "source": [
    "\n",
    "def Eq(t, x:array):\n",
    "    n = len(x) - 1\n",
    "    sol = np.zeros_like(x)\n",
    "    sol[0] = (U*cin + coef*x[1])/(U+coef)\n",
    "    sol[-1] = sol[-2]\n",
    "    print(sol[0])\n",
    "    # sol = []\n",
    "    # condição de contorno na entrada do reator\n",
    "    # sol.append(1/(1+coef)*cin + coef/(1+coef)*x[1])\n",
    "    \n",
    "    for i in range(1, n):\n",
    "        sol[i] = (D*(x[i+1]-2*x[i]+x[i-1])/dx**2 - U*(x[i+1]-x[i-1])/(2*dx) - k*x[i])\n",
    "    \n",
    "    # condição de contorno na saida\n",
    "    #sol[-1] = sol[-2]\n",
    "\n",
    "    return sol\n",
    "\n",
    "\n",
    "\n",
    "ci = np.zeros(nx)\n",
    "\n",
    "# boundary conditions\n",
    "ci[0] = (U*cin + coef*ci[1])/(U + coef)\n",
    "ci[-1] = ci[-2]\n",
    "\n",
    "res = solve_ivp(Eq, (0, 10), ci, t_eval=t_eval, max_step=dx**2/(2*D+k*dx**2))"
   ]
  },
  {
   "cell_type": "code",
   "execution_count": null,
   "metadata": {},
   "outputs": [],
   "source": []
  },
  {
   "cell_type": "code",
   "execution_count": null,
   "metadata": {},
   "outputs": [],
   "source": []
  },
  {
   "cell_type": "code",
   "execution_count": null,
   "metadata": {},
   "outputs": [],
   "source": []
  },
  {
   "cell_type": "code",
   "execution_count": 8,
   "metadata": {},
   "outputs": [
    {
     "ename": "ValueError",
     "evalue": "could not broadcast input array from shape (10,) into shape (120,)",
     "output_type": "error",
     "traceback": [
      "\u001b[0;31m---------------------------------------------------------------------------\u001b[0m",
      "\u001b[0;31mValueError\u001b[0m                                Traceback (most recent call last)",
      "Cell \u001b[0;32mIn[8], line 13\u001b[0m\n\u001b[1;32m     10\u001b[0m         \u001b[39mreturn\u001b[39;00m alpha \u001b[39m*\u001b[39m (T[i \u001b[39m+\u001b[39m \u001b[39m1\u001b[39m] \u001b[39m-\u001b[39m \u001b[39m2\u001b[39m \u001b[39m*\u001b[39m T[i] \u001b[39m+\u001b[39m T[i \u001b[39m-\u001b[39m \u001b[39m1\u001b[39m]) \u001b[39m/\u001b[39m h \u001b[39m*\u001b[39m\u001b[39m*\u001b[39m \u001b[39m2\u001b[39m\n\u001b[1;32m     12\u001b[0m     sol \u001b[39m=\u001b[39m solve_ivp(f, [\u001b[39m0\u001b[39m, duration], T[i, :])\n\u001b[0;32m---> 13\u001b[0m     T[i, :] \u001b[39m=\u001b[39m sol\u001b[39m.\u001b[39my[\u001b[39m0\u001b[39m]\n\u001b[1;32m     15\u001b[0m \u001b[39m# Plot\u001b[39;00m\n\u001b[1;32m     16\u001b[0m plt\u001b[39m.\u001b[39mfigure(figsize\u001b[39m=\u001b[39m(\u001b[39m10\u001b[39m, \u001b[39m5\u001b[39m))\n",
      "\u001b[0;31mValueError\u001b[0m: could not broadcast input array from shape (10,) into shape (120,)"
     ]
    }
   ],
   "source": [
    "# Initialisation\n",
    "T = np.zeros((N, duration))\n",
    "T[:, 0] = T_ini\n",
    "T[0, :] = T_ext\n",
    "T[-1, :] = T_ext\n",
    "\n",
    "def f(t, T):\n",
    "    return alpha * (T[i + 1] - 2 * T[i] + T[i - 1]) / dx ** 2\n",
    "\n",
    "# Rung-Kutta para cada ponto\n",
    "for i in range(1, N):\n",
    "    \n",
    "\n",
    "    sol = solve_ivp(f, [0, duration], T[i, :])\n",
    "    T[i, :] = sol.y[0]\n",
    "\n",
    "# Plot\n",
    "plt.figure(figsize=(10, 5))\n",
    "plt.plot(T.T)\n",
    "plt.xlabel('Tempo (s)')\n",
    "plt.ylabel('Temperatura (°C)')\n",
    "plt.show()\n",
    "\n",
    "\n"
   ]
  },
  {
   "cell_type": "code",
   "execution_count": null,
   "metadata": {},
   "outputs": [],
   "source": []
  }
 ],
 "metadata": {
  "kernelspec": {
   "display_name": "base",
   "language": "python",
   "name": "python3"
  },
  "language_info": {
   "codemirror_mode": {
    "name": "ipython",
    "version": 3
   },
   "file_extension": ".py",
   "mimetype": "text/x-python",
   "name": "python",
   "nbconvert_exporter": "python",
   "pygments_lexer": "ipython3",
   "version": "3.10.11"
  },
  "orig_nbformat": 4
 },
 "nbformat": 4,
 "nbformat_minor": 2
}
