{
 "cells": [
  {
   "attachments": {},
   "cell_type": "markdown",
   "metadata": {},
   "source": [
    "# Metodo das Linhas\n",
    "\n",
    "O método das linhas é um método semi-discreto para a resolução de EDP's que consiste em discretizar as variáveis espaciais e manter uma das varáveis contínua (usualmente o tempo), de modo a transformar a EDP em um sistema de EDO's que pode então ser\n",
    "resolvido através dos métodos para a resolução de PVI's (como os métodos de Runge-Kutta). A abordagem utilizada para a discretização das variáveis espaciais usualmente é o método de diferenças finitas, por isso o método das linhas é muitas vezes chamado de método de diferenças finitas semi-discreto.\n",
    "\n",
    "Como um exemplo, vamos ver como o método das linhas pode ser utilizado para resolver a equação do calor. A discussão teorica sobre o método das linhas pode ser encontrada no arquivo [em anexo](./assets/material_MOL.pdf). No exemplo resolvido no texto temos a segiunte equação do calor:\n",
    "\n",
    "$$\n",
    "\\frac{\\partial T}{\\partial t} = \\alpha \\frac{\\partial^2 T}{\\partial x^2} - h' \\alpha (T - T_a)\n",
    "$$\n",
    "\n",
    "onde $T$ é a temperatura, $t$ é o tempo, $x$ é a posição, $\\alpha$ é a difusividade térmica, $h'$ é o coeficiente de transferência de calor por convecção e $T_a$ é a temperatura ambiente. \n",
    "\n",
    "<center>\n",
    "<img src=./images/fig_mol.png>\n",
    "</center>\n",
    "\n",
    "As condições de contorno associadas a este problema são:\n",
    "\n",
    "$$\n",
    "T(t, 0) = T_{ext} \\\\\n",
    "\\frac{\\partial T}{\\partial x}|_{x=L} = 0\n",
    "$$\n",
    "\n",
    "onde $T_{ext}$ é a temperatura externa e $L$ é o comprimento da barra. As condições iniciais são:\n",
    "\n",
    "$$\n",
    "T(0, x) = T_{ini}\n",
    "$$\n",
    "\n",
    "\n",
    "Neste caso, será considerado um domínio somente com N = 6 pontos para ilustração:\n",
    "\n",
    "<center>\n",
    "<img src=./images/fig_mol1.png>\n",
    "</center>\n",
    "\n",
    "\n",
    "Neste caso, a discretização da EDP na direção x irá resultar um conjunto de valores $(T_1, T_2, T_3, T_4, T_5, T_6)$ que representam a temperatura nos pontos respectivos $(x_1, x_2, x_3, x_4, x_5, x_6)$. Neste caso, porém, estes valores Ti não são constantes, mas podem ser uma função do tempo.\n",
    "\n",
    "Descritizando o dominio espacial, temos:\n",
    "\n",
    "$$\n",
    "\\frac{\\partial^2 T}{\\partial x^2} = \\frac{T_{i-1} - 2T_i + T_{i+1}}{\\Delta x^2}\n",
    "$$\n",
    "\n",
    "subsituindo na equação do calor, temos:\n",
    "\n",
    "$$\n",
    "\\frac{\\partial T_i}{\\partial t} = \\alpha \\frac{T_{i-1} - 2T_i + T_{i+1}}{\\Delta x^2} - h' \\alpha (T_i - T_a)\n",
    "$$\n",
    "\n",
    "Esta equação pode ser aplicada nos pontos i = 2, 3, 4, 5 para obter uma EDO para a temperatura em cada um destes pontos. Para resolver este sistema de EDO's, é preciso definir uma condição inicial para cada ponto. Como a temperatura inicial é considerada\n",
    "constante e igual a Tini, basta associar este valor com a temperatura em cada ponto:\n",
    "\n",
    "$$T_i(0) = T_{ini}$$\n",
    "\n",
    "Para fechar o sistema de equações, é preciso ainda definir equações para $T_0$ e $T_6$, que são obtidas através da aplicação das condições de contorno. A condição $T(0, t) = T_{ext}$ resulta diretamente em:\n",
    "\n",
    "$$T_1 = T_{ext}$$\n",
    "\n",
    "Na extremidade $x = L$, a condição é de derivada nula. Neste caso pode-se aplicar um esquema de discretização para trás, de onde se obtém que $T_6 = T_5$. Com estas duas condições extras, o sistema de EDO's pode ser resolvido.\n",
    "\n",
    "De forma resumida, as equações para os 6 pontos são\n",
    "\n",
    "<center>\n",
    "<img src=./images/fig_mol2.png>\n",
    "</center>\n",
    "\n",
    "Agora vamos implementar este problema no Python. Primeiro, vamos definir as constantes e as condições iniciais:\n",
    "\n",
    "$$\n",
    "\\begin{align}\n",
    "\\alpha &= 0.01 \\; cm^2/s\\\\\n",
    "h' &= 0.1 \\; cm^2\\\\\n",
    "T_a &= 25 \\; C\\\\\n",
    "T_{ini} &= 25 \\; C\\\\\n",
    "T_{ext} &= 100 \\; C\\\\\n",
    "L &= 1 \\; cm\\\\\n",
    "\\Delta x &= \\frac{L}{N-1} \\\\\n",
    "\\Delta t &= 0.01 \\\\\n",
    "\\end{align}\n",
    "$$\n",
    "\n"
   ]
  },
  {
   "cell_type": "code",
   "execution_count": 2,
   "metadata": {},
   "outputs": [],
   "source": [
    "import numpy as np\n",
    "import matplotlib.pyplot as plt\n",
    "\n",
    "alpha = 0.01\n",
    "h = 0.1\n",
    "T_a = 25.\n",
    "T_ini = 25.\n",
    "T_ext = 100.\n",
    "L = 1.\n",
    "N = 6\n",
    "dx = L/(N - 1)\n",
    "dt = 0.01\n",
    "\n",
    "duration = 12000\n",
    "t_eval = np.linspace(0, duration, 1000)"
   ]
  },
  {
   "attachments": {},
   "cell_type": "markdown",
   "metadata": {},
   "source": [
    "# Usando o metodo de Euler"
   ]
  },
  {
   "attachments": {},
   "cell_type": "markdown",
   "metadata": {},
   "source": [
    "Lembrando da implementação do método de Euler para resolver um PVI na forma \n",
    "\n",
    "$$\n",
    "\\frac{dy}{dt} = f(t,y) \\\\\n",
    "$$\n",
    "\n",
    "para fazer um passo $(y_i \\rightarrow y_{i+1})$ temos:"
   ]
  },
  {
   "cell_type": "code",
   "execution_count": 15,
   "metadata": {},
   "outputs": [],
   "source": [
    "def euler(func, ti, yi, h=1):\n",
    "    return yi + func(ti, yi) * h"
   ]
  },
  {
   "attachments": {},
   "cell_type": "markdown",
   "metadata": {},
   "source": [
    "Agora para usar o método de Euler para resolver o problema de valor inicial, vamos usar a seguinte notação que é mais adequada quando temos um array e estamos no contexto de diferenças finitis:"
   ]
  },
  {
   "cell_type": "code",
   "execution_count": 3,
   "metadata": {},
   "outputs": [],
   "source": [
    "alpha = 0.01\n",
    "h = 0.1\n",
    "T_a = 25.\n",
    "T_ini = 25.\n",
    "T_ext = 100.\n",
    "L = 1.\n",
    "N = 6\n",
    "dx = L/(N - 1)\n",
    "dt = 0.01\n",
    "\n",
    "duration = int(120 / dt)\n",
    "t_eval = np.linspace(0, duration, 1000)"
   ]
  },
  {
   "cell_type": "code",
   "execution_count": null,
   "metadata": {},
   "outputs": [],
   "source": [
    "\n",
    "\n",
    "def _Euler(Tt, h = dt):\n",
    "  \n",
    "    Tt[0] = T_ext\n",
    "    Tt[-1] = Tt[-2]\n",
    "    n = len(Tt) - 1\n",
    "\n",
    "    for i in range(1, n):\n",
    "        Tt[i] = Tt[i] + h*(alpha * (Tt[i + 1] - 2 * Tt[i] + Tt[i - 1]) / dx ** 2 - h * alpha * (Tt[i] - T_a))\n",
    "        \n",
    "        #print(Tt)\n",
    "\n",
    "    # enforce boundary conditions\n",
    "    Tt[0] = T_ext\n",
    "    Tt[-1] = Tt[-2]\n",
    "\n",
    "    return Tt"
   ]
  },
  {
   "cell_type": "code",
   "execution_count": 5,
   "metadata": {},
   "outputs": [],
   "source": [
    "T0 = np.ones(N) * T_ini\n",
    "\n",
    "# boundary conditions\n",
    "T0[0] = T_ext\n",
    "T0[-1] = T0[-2]\n",
    "\n",
    "Tts = [T0.copy()]\n",
    "\n",
    "for _ in range(1, duration):\n",
    "    Tts.append(_Euler(Tts[-1]).copy())\n",
    "\n",
    "Tts = np.array(Tts)"
   ]
  },
  {
   "cell_type": "code",
   "execution_count": 23,
   "metadata": {},
   "outputs": [
    {
     "data": {
      "text/plain": [
       "(12000, 6)"
      ]
     },
     "execution_count": 23,
     "metadata": {},
     "output_type": "execute_result"
    }
   ],
   "source": [
    "Tts.shape"
   ]
  },
  {
   "cell_type": "code",
   "execution_count": 6,
   "metadata": {},
   "outputs": [
    {
     "data": {
      "image/png": "[encoded data removed]",
      "text/plain": [
       "<Figure size 640x480 with 1 Axes>"
      ]
     },
     "metadata": {},
     "output_type": "display_data"
    }
   ],
   "source": [
    "t = np.linspace(0, duration, duration)\n",
    "\n",
    "plt.plot(t, Tts);\n",
    "plt.xlabel('t')\n",
    "plt.ylabel('T');    \n"
   ]
  },
  {
   "attachments": {},
   "cell_type": "markdown",
   "metadata": {},
   "source": [
    "# Py-PDE"
   ]
  },
  {
   "attachments": {},
   "cell_type": "markdown",
   "metadata": {},
   "source": [
    "$$\n",
    "\\frac{\\partial T}{\\partial t} = \\alpha \\frac{\\partial^2 T}{\\partial x^2} - h' \\alpha (T - T_a)\n",
    "$$"
   ]
  },
  {
   "cell_type": "code",
   "execution_count": null,
   "metadata": {},
   "outputs": [],
   "source": [
    "from pde import CartesianGrid, DiffusionPDE, ScalarField\n",
    "import numpy as np\n",
    "import pde"
   ]
  },
  {
   "cell_type": "code",
   "execution_count": null,
   "metadata": {},
   "outputs": [],
   "source": [
    "alpha = 0.01\n",
    "h = 0.1\n",
    "T_a = 25.0\n",
    "T_ini = 25.0\n",
    "T_ext = 100.0\n",
    "L = 1.0\n",
    "N = 60\n",
    "dt = 0.01\n",
    "\n",
    "duration = 120\n",
    "\n",
    "T0 = np.ones(N) * T_ini # Condições iniciais\n",
    "T0[0] = T_ext # Condições de contorno"
   ]
  },
  {
   "cell_type": "code",
   "execution_count": null,
   "metadata": {},
   "outputs": [
    {
     "data": {
      "application/vnd.jupyter.widget-view+json": {
       "model_id": "171c7ef2d95d444a8fa51b9349bd350b",
       "version_major": 2,
       "version_minor": 0
      },
      "text/plain": [
       "  0%|          | 0/120.0 [00:00<?, ?it/s]"
      ]
     },
     "metadata": {},
     "output_type": "display_data"
    },
    {
     "data": {
      "image/png": "[encoded data removed]",
      "text/plain": [
       "<Figure size 640x480 with 1 Axes>"
      ]
     },
     "metadata": {},
     "output_type": "display_data"
    }
   ],
   "source": [
    "grid = CartesianGrid([[0, L]], [N])  # generate grid\n",
    "\n",
    "state = ScalarField(grid, data=T0)  # generate initial condition\n",
    "bc_left = {\"value\": T_ext}  # boundary condition\n",
    "bc_right = {\"derivative\": 0}  # boundary condition\n",
    "bc = [bc_left, bc_right]  # combine boundary conditions\n",
    "eq = pde.PDE({\"T\": \"alpha*laplace(T) - h*alpha*(T - T_a)\"}, \n",
    "             consts={\"alpha\": alpha, \"h\": h, \"T_a\": T_a},\n",
    "             bc=bc)\n",
    "storage = pde.MemoryStorage()\n",
    "result = eq.solve(state, t_range=duration, dt=dt, tracker=[\"progress\", storage.tracker(1)])\n",
    "#result = eq.solve(state, t_range=100, dt=0.001, tracker=[\"plot\", storage.tracker(1)])\n",
    "result.plot();"
   ]
  },
  {
   "cell_type": "code",
   "execution_count": null,
   "metadata": {},
   "outputs": [
    {
     "data": {
      "application/vnd.jupyter.widget-view+json": {
       "model_id": "2fd9ad09e51742c49314eb652593eefd",
       "version_major": 2,
       "version_minor": 0
      },
      "text/plain": [
       "  0%|          | 0/121 [00:00<?, ?it/s]"
      ]
     },
     "metadata": {},
     "output_type": "display_data"
    }
   ],
   "source": [
    "pde.movie(storage, filename='./outputs/MOL.mp4')"
   ]
  },
  {
   "cell_type": "code",
   "execution_count": null,
   "metadata": {},
   "outputs": [],
   "source": []
  },
  {
   "attachments": {},
   "cell_type": "markdown",
   "metadata": {},
   "source": [
    "# Scipy (Not working)"
   ]
  },
  {
   "cell_type": "code",
   "execution_count": null,
   "metadata": {},
   "outputs": [],
   "source": [
    "import numpy as np\n",
    "from scipy.integrate import solve_ivp\n",
    "import matplotlib.pyplot as plt\n",
    "\n",
    "alpha = 0.01\n",
    "h = 0.1\n",
    "T_a = 25.0\n",
    "T_ini = 25.0\n",
    "T_ext = 100.0\n",
    "L = 1.0\n",
    "N = 10\n",
    "dx = L / (N - 1)\n",
    "dt = 0.01\n",
    "\n",
    "duration = 120\n",
    "t_eval = np.linspace(0, duration, 1000)\n",
    "\n",
    "# Função que representa a EDP\n",
    "def Eq(t, T):\n",
    "    Tt = np.zeros_like(T)\n",
    "    n = len(Tt) - 1\n",
    "    Tt[0] = T_ext\n",
    "    #Tt[-1] = Tt[-2]\n",
    "    \n",
    "    #Tt[1:-1] = alpha * (Tt[2:] - 2 * Tt[1:-1] + Tt[:-2]) / dx ** 2 - h * alpha * (Tt[1:-1] - T_a)\n",
    "    for i in range(1, n):\n",
    "        Tt[i] = alpha * (T[i + 1] - 2 * T[i] + T[i - 1]) / dx ** 2 - h * alpha * (T[i] - T_a)\n",
    "        #alpha * (Tt[i + 1] - 2 * Tt[i] + Tt[i - 1]) / dx ** 2 - h * alpha * (Tt[i] - T_a)\n",
    "    \n",
    "    \n",
    "    # Aplicação das condições de contorno\n",
    "    Tt[0] = T_ext\n",
    "    Tt[-1] = Tt[-2]\n",
    "    print(t, Tt)\n",
    "    \n",
    "    return Tt\n",
    "\n",
    "# Condições iniciais\n",
    "T0 = np.ones(N) * T_ini\n",
    "T0[0] = T_ext\n",
    "\n",
    "print(T0)\n",
    "print(Eq(0, T0))\n",
    "\n",
    "# Resolver a EDP usando solve_ivp\n",
    "res = solve_ivp(Eq, (0, duration), T0, t_eval=t_eval, method='RK45', max_step=0.01)\n",
    "\n",
    "\n",
    "# Plot do resultado\n",
    "\n",
    "plt.figure(figsize=(10, 6))\n",
    "plt.plot(res.t, res.y.T)\n",
    "plt.xlabel('Tempo')\n",
    "plt.ylabel('T')\n",
    "plt.title('Solução da EDP')\n",
    "plt.grid(True)\n",
    "plt.show()\n"
   ]
  },
  {
   "cell_type": "code",
   "execution_count": 33,
   "metadata": {},
   "outputs": [
    {
     "data": {
      "text/plain": [
       "(10, 1000)"
      ]
     },
     "execution_count": 33,
     "metadata": {},
     "output_type": "execute_result"
    }
   ],
   "source": [
    "res.y.shape"
   ]
  },
  {
   "cell_type": "code",
   "execution_count": 34,
   "metadata": {},
   "outputs": [
    {
     "data": {
      "text/plain": [
       "array([[  100.        ,   112.01201201,   124.02402402, ...,\n",
       "        12075.97597598, 12087.98798799, 12100.        ],\n",
       "       [   25.        ,    32.189396  ,    39.22494523, ...,\n",
       "        11057.05039451, 11068.86123017, 11080.67236109],\n",
       "       [   25.        ,    25.32982404,    26.23233235, ...,\n",
       "        10173.13225177, 10184.75953227, 10196.38739325],\n",
       "       ...,\n",
       "       [   25.        ,    25.        ,    25.00000012, ...,\n",
       "         7687.86383731,  7698.92444025,  7709.98658874],\n",
       "       [   25.        ,    25.        ,    25.        , ...,\n",
       "         7565.19404828,  7576.22456006,  7587.25667189],\n",
       "       [   25.        ,    25.        ,    25.        , ...,\n",
       "         7565.19404828,  7576.22456006,  7587.25667189]])"
      ]
     },
     "execution_count": 34,
     "metadata": {},
     "output_type": "execute_result"
    }
   ],
   "source": [
    "res.y"
   ]
  },
  {
   "cell_type": "code",
   "execution_count": null,
   "metadata": {},
   "outputs": [],
   "source": []
  }
 ],
 "metadata": {
  "kernelspec": {
   "display_name": "base",
   "language": "python",
   "name": "python3"
  },
  "language_info": {
   "codemirror_mode": {
    "name": "ipython",
    "version": 3
   },
   "file_extension": ".py",
   "mimetype": "text/x-python",
   "name": "python",
   "nbconvert_exporter": "python",
   "pygments_lexer": "ipython3",
   "version": "3.10.11"
  },
  "orig_nbformat": 4
 },
 "nbformat": 4,
 "nbformat_minor": 2
}
