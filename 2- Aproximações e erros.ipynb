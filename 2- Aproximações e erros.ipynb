{
    "cells": [
        {
            "cell_type": "code",
            "execution_count": 47,
            "metadata": {},
            "outputs": [],
            "source": [
                "import math\n",
                "import numpy as np\n",
                "import sympy as sp\n",
                "import cn_utils as cn\n",
                "import plotly.graph_objects as go"
            ]
        },
        {
            "cell_type": "code",
            "execution_count": 2,
            "metadata": {},
            "outputs": [],
            "source": [
                "x, y, z, t = sp.symbols('x y z t')"
            ]
        },
        {
            "cell_type": "markdown",
            "metadata": {},
            "source": [
                "# Definição de erro"
            ]
        },
        {
            "cell_type": "markdown",
            "metadata": {},
            "source": [
                "Qualquer diferença entre o valor exato (real) de uma quantidade com o valor aproximado é considerado um erro\n",
                "$$\n",
                "\\text{Erro = Valor verdadeiro - Valor aproximado}\n",
                "$$\n",
                "O problema desta definição é que não considera a magnitude das quantidades. Errar 1cm em 1m é muito grande em compração de errar 1cm em 1km. Para resolver esse problema temos o *erro relativo fracionario verdadeiro*\n",
                "\n",
                "$$\n",
                "\\text{Erro relativo fracionário verdadeiro} = \\frac{\\text{valor verdadeiro - valor aproximado}}{\\text{valor verdadeiro}} = \\frac{\\text{erro verdadeiro}}{\\text{valor verdadeiro}}\n",
                "$$\n",
                "E muitas vezes falamos de uma porcentagem, *erro relativo porcentual verdadeiro*\n",
                "$$\n",
                "\\varepsilon_t = \\frac{\\text{erro verdadeiro}}{\\text{valor verdadeiro}} \\times 100\\%\n",
                "$$\n",
                "Mas temos um problema GRANDE! No mundo real, geralmente, a gente não sabe o valor verdadeiro de uma quantidade. Alias, se soubéssemos do valor verdadeiro não precisavamos dessa busca numerica. Nessas situações vamos normalizar o erro usando a melhor estimativa disponivel do valor verdadeiro,\n",
                "$$\n",
                "\\varepsilon_a = \\frac{\\text{erro aproximado}}{\\text{aproximação}} \\times 100\\%\n",
                "$$\n",
                "onde o subscrito $a$ significa que o erro foi normalizado por um valor aproximado. Em muitos casos, usamos um metodo iterativo para calcular uma quantidade, melhorando a aproximação a cada interação. Nestes casos, o erro relativo porcentual é determinado de acordo com\n",
                "$$\n",
                "\\varepsilon_a = \\frac{\\text{aproximado atual - aproximação prévia}}{\\text{aproximação atual}} \\times 100\\%\n",
                "$$\n",
                "Na prática, tem uma tolerancia para erro de um calculo, $\\varepsilon_s$. Ou seja, o criterio para parada de um processo iterativo é que o erro seja menor dessa tolerancia,\n",
                "$$\n",
                "|\\varepsilon_a| < \\varepsilon_s\n",
                "$$\n",
                "Também é conveniente relacionar esses erros ao número de algarismos significativos na aproximação. Pode ser mostrado que, se o seguinte critério for satisfeito, é possível ter certeza de que o resultado é correto até pelo menos $n$ algarismos significativos\n",
                "$$\n",
                "\\varepsilon_s = (0.5 \\times 10^{2-n}) \\%\n",
                "$$\n",
                "\n"
            ]
        },
        {
            "cell_type": "markdown",
            "metadata": {},
            "source": [
                "## **Exemplo:  Estimativas de Erros para Métodos Iterativos**\n",
                "\n",
                "\n",
                "**Enunciado do Problema**. Em matemática, as funções, em geral, podem ser representadas por séries infinitas. Por exemplo, a função exponencial pode ser calculada usando-se\n",
                "$$\n",
                "e^x = 1 + x + \\frac{x^2}{2} + \\frac{x^3}{3!} + \\cdot\\cdot\\cdot + \\frac{x^n}{n!}\n",
                "$$\n",
                "Portanto, conforme mais termos forem adicionados em sequência, a aproximação se torna\n",
                "uma estimativa cada vez melhor do valor verdadeiro de $e^x$ . A Equação acima é chamada\n",
                "de *expansão em série de Maclaurin*.\n",
                "Começando com a versão mais simples,  $e^x = 1$, some um termo de cada vez para estimar $e^{0,5}$. Depois que cada termo for adicionado, calcule o erro verdadeiro e o erro relativo porcentual aproximado. Observe que o valor verdadeiro é $e^{0.5}= 1.648721 . . . .$ Adicione termos até que o valor absoluto do erro estimado aproximado $\\varepsilon_a$ esteja dentro do critério de erro pré-especificado $\\varepsilon_s$ que garanta três algarismos significativos.\n",
                "\n",
                "**Resolução:**\n",
                "Para ter uma precisão até pelo menos tres algarismos significativos temos que colocar uma tolerancia de\n",
                "\n",
                "$$ \\varepsilon_s = (0.5 \\times 10^{2-3})\\% = 0.05 \\% $$\n",
                "\n",
                "A primeira estimativa é manter só o primeiro termo da expansão que é 1. para calcular o resto podemos usar a função `taylor_expansion` no modulo `cn_utils`."
            ]
        },
        {
            "cell_type": "code",
            "execution_count": 3,
            "metadata": {},
            "outputs": [
                {
                    "name": "stdout",
                    "output_type": "stream",
                    "text": [
                        "a segunda estimativa é: 0.0902040104310499\n",
                        "a terceira estimativa é: 0.0143876779669707\n",
                        "a quarta estimativa é: 0.00175162255629090\n"
                    ]
                }
            ],
            "source": [
                "f = sp.exp(x)\n",
                "\n",
                "e_t_2 = (f.subs(x, 0.5) - cn.taylor_expansion(f, 0, 1).subs(x, 0.5))/f.subs(x, 0.5)\n",
                "e_t_3 = (f.subs(x, 0.5) - cn.taylor_expansion(f, 0, 2).subs(x, 0.5))/f.subs(x, 0.5)\n",
                "e_t_4 = (f.subs(x, 0.5) - cn.taylor_expansion(f, 0, 3).subs(x, 0.5))/f.subs(x, 0.5)\n",
                "\n",
                "\n",
                "print(f\"O erro da segunda estimativa é: {e_t_2}\")\n",
                "print(f\"O erro da terceira estimativa é: {e_t_3}\")\n",
                "print(f\"O erro da quarta estimativa é: {e_t_4}\")"
            ]
        },
        {
            "cell_type": "code",
            "execution_count": 4,
            "metadata": {},
            "outputs": [
                {
                    "name": "stdout",
                    "output_type": "stream",
                    "text": [
                        "0.333333333333333\n",
                        "0.0769230769230769\n",
                        "0.0126582278481012\n",
                        "0.00157977883096371\n",
                        "0.000157952930026843\n",
                        "Para ter um erro menor do que 0.0005 precisamos de incluir 6 da expansion e o erro relativo fracionario verdadeiro sera 0.000157952930026843\n"
                    ]
                }
            ],
            "source": [
                "f = sp.exp(x)\n",
                "e_s = 0.05/100\n",
                "valor_anterior = cn.taylor_expansion(f, 0, 0).subs(x, 0.5)\n",
                "i = 1\n",
                "e_t = 10000\n",
                "while e_t > e_s:\n",
                "    valor_atual = cn.taylor_expansion(f, 0, i).subs(x, 0.5)\n",
                "    e_t = (valor_atual - valor_anterior)/valor_atual\n",
                "    print(e_t)\n",
                "    i += 1\n",
                "    valor_anterior = valor_atual\n",
                "\n",
                "\n",
                "print(f\"Para ter um erro menor do que {e_s} precisamos de incluir {i} da expansion e o erro relativo fracionario verdadeiro sera {e_t}\")"
            ]
        },
        {
            "cell_type": "markdown",
            "metadata": {},
            "source": [
                "# A origem dos erros"
            ]
        },
        {
            "cell_type": "markdown",
            "metadata": {},
            "source": [
                "Os erros numericos que aparecem em uma modelagem tem duas origens:\n",
                "\n",
                "- Arredondamento\n",
                "- Truncamento \n",
                "\n",
                "O **arredondamento** tem origem na arquitetura binaria dos computadores. Ou seja, temos uma limitação computacional para representar um numero extremamente pequena ou extremamente grande no computador. Não tem como definir um numero menor do que um certo limite no computador e perto deste limite as contas ficam muito instaveis. \n",
                "\n",
                "O **truncamente** tem relação dos a aproximação que usamos na hora de modelar um fenomeno. Por exemplo, trabalhar com os primeiros termos da expansão de Taylor (vamos conhecer mais pela frente) em vez de trabalhar com um serie infinito.\n",
                "\n",
                "\n",
                "Prestem atenção que esses erros são inevitaveis e não tem relação com os possiveis erros logicos na hora de modelar um fenomeno. "
            ]
        },
        {
            "cell_type": "markdown",
            "metadata": {},
            "source": [
                "# Erros de arrendodamento\n",
                "Os erros de arredondamento se originam do fato de que o computador mantém apenas um número fixo de algarismos significativos durante os cálculos. Números como $\\pi$, e ou $\\sqrt 7$ não podem ser expressos por um número fixo de algarismos significativos. Portanto, eles não podem ser representados exatamente por um computador. Além disso, como os computadores usam uma representação na base 2, não podem representar precisamente certos números exatos na base 10. A discrepância introduzida por essa omissão de algarismos significativos é chamada de erro de\n",
                "arredondamento.\n",
                "\n",
                "\n",
                "<img src=\"./images/number_represent.jpg\" style=\"width:400px;height:400px;\">\n",
                "\n",
                "### Representação de numeros inteiros\n",
                "Para encontrar a representação binaria de um numbero **inteiro** em representação decimal tem o seguinte procedimento\n",
                "\n",
                "<img src=\"./images/decimal2binary.svg\" style=\"width:400px;height:400px;\">"
            ]
        },
        {
            "cell_type": "code",
            "execution_count": 5,
            "metadata": {},
            "outputs": [
                {
                    "data": {
                        "text/plain": [
                            "'101111'"
                        ]
                    },
                    "execution_count": 5,
                    "metadata": {},
                    "output_type": "execute_result"
                }
            ],
            "source": [
                "cn.dec2bin(47)"
            ]
        },
        {
            "cell_type": "markdown",
            "metadata": {},
            "source": [
                "O resultado acima mostra que um computador precisa de 6 bits para armazenar o numero 47. O procedimento para os numeros racionais é diferente que vamos ver mais na frente. \n",
                "\n",
                "### **Exemplo: Intervalo de Inteiros**\n",
                "\n",
                "**Enunciado do Problema.** Determine o intervalo dos inteiros na base 10 que pode ser\n",
                "representado em um computador de 16 bits.\n",
                "\n",
                "**Resolução:**\n",
                "Dos 16 bits, o primeiro bit representa o sinal. Os restantes 15 bits podem conter números binários de 0 a 111111111111111. O limite superior pode ser convertido para um inteiro decimal, como\n",
                "\n",
                "$$\n",
                "(1 \\times 2^{14}) + (1 \\times 2^{13}) + \\cdot\\cdot\\cdot + (1 \\times 2^{1}) + (1 \\times 2^{0})\n",
                "$$\n",
                "que é igual a 32.767 (observe que essa expressão pode ser calculada simplesmente como\n",
                "$2^{15} - 1$). Portanto, uma palavra no computador de 16 bits pode armazenar inteiros decimais variando de -32.767 a 32.767. Além disso, como o zero já foi definido como\n",
                "0000000000000000, é redundante usar o número 1000000000000000 para definir um\n",
                "“menos zero”. Portanto, ele é normalmente usado para representar um número negativo\n",
                "adicional: -32.768, e o intervalo é de -32.768 a 32.767.\n",
                "\n",
                "### **Representação em ponto flutuante**\n",
                "As quantidades fracionárias são representadas\n",
                "tipicamente em computadores usando-se a forma de ponto flutuante. Nessa abordagem, o\n",
                "número é expresso como uma parte fracionária, chamada mantissa ou significando, e uma\n",
                "parte inteira, chamada de expoente ou característica, como em\n",
                "$$\n",
                "m\\cdot b^e \\sim (b, e, m)\n",
                "$$\n",
                "onde m é a *mantissa*, b é a base do sistema numérico que está sendo usado, e $e$ é o *expoente*. Por exemplo, o número 156,78 poderia ser representado como $1,5678 \\times 10^3$ em um sistema de ponto flutuante na base 10. Essa forma de representar se chama representação cientifica. Aqui vamos usar a seguinte normalização para $m$ (diferente do livro de Chapra) \n",
                "$$\n",
                "1 \\le m < b\n",
                "$$\n",
                "onde $b$ é a base. Por exemplo, para um sistema na base 10, $m$ iria variar entre \\[1 , 10\\), e\n",
                "para um sistema na base 2, entre \\[1 , 2\\).\n",
                "\n",
                "<img src=\"./images/floating.jpg\" style=\"width:600px;height:200px;\">\n",
                "\n",
                "\n",
                "O Python usa a **precisão dupla** que é um padrão definido pelo IEEE para respresentar os numeros racionais. Neste padrão se usa 64 bits para representar um numero real/racional. \n",
                "\n",
                "<img src=\"./images/ieee_double.png\" style=\"width:600px;height:200px;\">\n",
                "\n",
                "Neste padrão, o *expoente* pode ter qualquer valor no conjunto de numeros naturais no intervalo \n",
                "$$\n",
                "\\mathbb{Z} \\sim \\{-1022, \\cdot\\cdot\\cdot, -2, -1, 0, 1, 2, \\cdot\\cdot\\cdot, 1023 \\}\n",
                "$$\n",
                "Então, vamos ter numeros na escala de $2^{-1022}$ e $2^{1023}$ que são realmente grandes. Agora a questão é como representar a mantissa como bits já que existem infinitos numeros no intervalo \\[1,2\\). O truque é dividir esse intevalo em espaços pequenos. É aqui que surge o conceito de precisão de maquina (ou epsilon da maquina). Ou seja, vamos ter o seguinte conjunto de numeros\n",
                "$$\n",
                "\\{1, 1+\\epsilon, 1+2\\epsilon, \\cdot\\cdot\\cdot 1+(N-1)\\epsilon\\}\n",
                "$$\n",
                "onde $1 + N \\epsilon\\ = 2$. No padrão de precisão dupla o $N=2^{52} \\sim 2.2\\times 10^{-16}$. Neste caso, o epsilon da maquina é $\\epsilon = 2^{-52}$.\n",
                "Para representar os numeros negativos vamos dedicar o primeiro bit. \n",
                "$$\n",
                "\\pm m\\cdot b^e \\sim (\\pm, b, e, m)\n",
                "$$\n",
                "Agora vamos ver como funciona nessa representação. \n",
                "\n",
                "\n",
                "| expoente(11bits) | mantissa(52bits)     | resultado(decimal)    |   \n",
                "|----------|--------------|--------------|\n",
                "| -1        | 1            | $\\frac{1}{2}$          |  \n",
                "| -1        | 1+$\\epsilon$   | $\\frac{1}{2} + \\frac{\\epsilon}{2}$   | \n",
                "| -1        | 1+$2\\epsilon$  | $\\frac{1}{2} + \\frac{\\epsilon}{4}$   |  \n",
                "|  ....  |           ....    |        ....       |   \n",
                "| -1        | 2 - $\\epsilon$ | 1 - $\\frac{\\epsilon}{2}$ |   \n",
                "| 0        | 1            | 1            |  \n",
                "| 0        | 1+$\\epsilon$   | 1+$\\epsilon$   | \n",
                "| 0        | 1+$2\\epsilon$  | 1+$2\\epsilon$  |  \n",
                "|  ....  |           ....    |        ....       |   \n",
                "| 0        | 2 - $\\epsilon$ | 2 - $\\epsilon$ |   \n",
                "| 1        | 1            | 2            |  \n",
                "| 1        | 1+$\\epsilon$ | 2+$2\\epsilon$ |   \n",
                "| 1        | 1+$2\\epsilon$ | 2 + $4\\epsilon$ |   \n",
                "|  ....  |           ....    |        ....       | \n",
                "| 1        | 2 - $\\epsilon$ | 4 - $2\\epsilon$ |   \n",
                "| 2        | 1            | 4            |  \n",
                "| 2        | 1+$\\epsilon$ | 4+$4\\epsilon$ |   \n",
                "| 2        | 1+$2\\epsilon$ | 4 + $8\\epsilon$ |   \n",
                "|  ....  |           ....    |        ....       | \n",
                "| 2        | 2 - $\\epsilon$ | 8 - $4\\epsilon$ |   \n",
                "\n",
                "\n",
                "\n"
            ]
        },
        {
            "cell_type": "code",
            "execution_count": 6,
            "metadata": {},
            "outputs": [
                {
                    "name": "stdout",
                    "output_type": "stream",
                    "text": [
                        "2.220446049250313e-16\n",
                        "1.1920929e-07\n",
                        "2.220446049250313e-16\n",
                        "5.42101086242752217e-20\n",
                        "1.7976931348623157e+308\n",
                        "1024\n",
                        "52\n",
                        "11\n",
                        "15\n"
                    ]
                }
            ],
            "source": [
                "print(np.finfo(float).eps)\n",
                "# 2.22044604925e-16\n",
                "\n",
                "print(np.finfo(np.float32).eps)\n",
                "# 1.19209e-07\n",
                "\n",
                "print(np.finfo(np.float64).eps)\n",
                "# 1.19209e-07\n",
                "\n",
                "\n",
                "print(np.finfo(np.float128).epsneg)\n",
                "\n",
                "print(np.finfo(np.float64).max)\n",
                "print(np.finfo(np.float64).maxexp)\n",
                "print(np.finfo(np.float64).nmant)\n",
                "print(np.finfo(np.float64).nexp)\n",
                "print(np.finfo(np.float64).precision)"
            ]
        },
        {
            "cell_type": "code",
            "execution_count": 7,
            "metadata": {},
            "outputs": [
                {
                    "name": "stdout",
                    "output_type": "stream",
                    "text": [
                        "0.0\n",
                        "1.0000000000000208164e-2000\n"
                    ]
                }
            ],
            "source": [
                "arr16 = np.array([1.], dtype=np.float16)\n",
                "arr128 = np.array([1.], dtype=np.float128)\n",
                "num = np.array([1e-5], dtype=np.float128)\n",
                "\n",
                "for i in range(1000):\n",
                "    arr16[0] = arr16[0]* 0.01\n",
                "    arr128[0] = arr128[0] * 0.01\n",
                "\n",
                "print(arr16[0])\n",
                "print(arr128[0])"
            ]
        },
        {
            "cell_type": "code",
            "execution_count": 8,
            "metadata": {},
            "outputs": [
                {
                    "data": {
                        "text/plain": [
                            "True"
                        ]
                    },
                    "execution_count": 8,
                    "metadata": {},
                    "output_type": "execute_result"
                }
            ],
            "source": [
                "arr16[0] == 0"
            ]
        },
        {
            "cell_type": "code",
            "execution_count": 9,
            "metadata": {},
            "outputs": [
                {
                    "data": {
                        "text/plain": [
                            "False"
                        ]
                    },
                    "execution_count": 9,
                    "metadata": {},
                    "output_type": "execute_result"
                }
            ],
            "source": [
                "arr128[0] == 0"
            ]
        },
        {
            "cell_type": "code",
            "execution_count": 10,
            "metadata": {},
            "outputs": [
                {
                    "name": "stdout",
                    "output_type": "stream",
                    "text": [
                        "1.0\n",
                        "1.0100000000000000262\n"
                    ]
                }
            ],
            "source": [
                "arr16 = np.array([1.], dtype=np.float16)\n",
                "arr128 = np.array([1.], dtype=np.float128)\n",
                "num = np.array([1e-5], dtype=np.float128)\n",
                "\n",
                "for i in range(1000):\n",
                "    arr16[0] = arr16[0] + num[0]\n",
                "    arr128[0] = arr128[0] + num[0]\n",
                "\n",
                "print(arr16[0])\n",
                "print(arr128[0])"
            ]
        },
        {
            "cell_type": "code",
            "execution_count": 11,
            "metadata": {},
            "outputs": [
                {
                    "name": "stdout",
                    "output_type": "stream",
                    "text": [
                        "float64\n"
                    ]
                }
            ],
            "source": [
                "arr = np.array([1.0])\n",
                "print(arr.dtype)"
            ]
        },
        {
            "cell_type": "markdown",
            "metadata": {},
            "source": [
                "## Cancelamento na subtração\n",
                "Um exemplo deste problema aparece na hora de calcular as raizes de uma equação quadratica usando a famosa formula\n",
                "$$\n",
                "x_1, x_2 = \\frac{-b \\pm \\sqrt{b^2 - 4ac}}{2a}\n",
                "$$\n",
                "Quando os valores de $a, c$ e $b^2$ são de escalas muuito diferentes\n",
                "\n",
                "### **Exemplo:** Cancelamento na Subtração\n",
                "Calcule os valores das raízes de uma equação quadrática\n",
                "com $a =1$ , $b = 3000.001$ e $c = 3$. Compare os valores calculados com as raízes verdadeiras $x_1 = -0,001$ e $x_2 =-3000$.\n"
            ]
        },
        {
            "cell_type": "code",
            "execution_count": 24,
            "metadata": {},
            "outputs": [
                {
                    "name": "stdout",
                    "output_type": "stream",
                    "text": [
                        "[-0.001]\n",
                        "[-inf]\n"
                    ]
                },
                {
                    "name": "stderr",
                    "output_type": "stream",
                    "text": [
                        "<ipython-input-24-cd10744934dc>:9: RuntimeWarning: overflow encountered in square\n",
                        "  x2_16 = (-b16 - np.sqrt(b16**2 - 4*a16*c16))/(2*a16)\n"
                    ]
                }
            ],
            "source": [
                "#usando half precision (32bits)\n",
                "a16 = np.array([1.], dtype=np.float16)\n",
                "b16 = np.array([3000.001], dtype=np.float16)\n",
                "c16 = np.array([3.], dtype=np.float16)\n",
                "x1_16 = np.array([1.], dtype=np.float16)\n",
                "x2_16 = np.array([1.], dtype=np.float16)\n",
                "\n",
                "x1_16[0] = (-b16[0] + np.sqrt(b16[0]**2 - 4*a16[0]*c16[0]))/(2*a16[0])\n",
                "x2_16 = (-b16 - np.sqrt(b16**2 - 4*a16*c16))/(2*a16)\n",
                "\n",
                "print(x1_16)\n",
                "print(x2_16) "
            ]
        },
        {
            "cell_type": "code",
            "execution_count": 25,
            "metadata": {},
            "outputs": [
                {
                    "data": {
                        "text/plain": [
                            "-2999.998999999667"
                        ]
                    },
                    "execution_count": 25,
                    "metadata": {},
                    "output_type": "execute_result"
                }
            ],
            "source": [
                "(-b16[0] - np.sqrt(b16[0]**2 - 4*a16[0]*c16[0]))/(2*a16[0])"
            ]
        },
        {
            "cell_type": "code",
            "execution_count": 21,
            "metadata": {},
            "outputs": [
                {
                    "name": "stdout",
                    "output_type": "stream",
                    "text": [
                        "-0.0009999999999763531\n",
                        "-3000.0\n"
                    ]
                }
            ],
            "source": [
                "#usando double precision (64bits)\n",
                "a = 1\n",
                "b = 3000.001\n",
                "c = 3\n",
                "x1 = (-b + np.sqrt(b**2 - 4*a*c))/(2*a)\n",
                "x2 = (-b - np.sqrt(b**2 - 4*a*c))/(2*a)\n",
                "\n",
                "print(x1)\n",
                "print(x2)"
            ]
        },
        {
            "cell_type": "code",
            "execution_count": 22,
            "metadata": {},
            "outputs": [
                {
                    "data": {
                        "text/plain": [
                            "'3000.00100000000020372681319713592529296875000000000000000'"
                        ]
                    },
                    "execution_count": 22,
                    "metadata": {},
                    "output_type": "execute_result"
                }
            ],
            "source": [
                "format(b, \".53f\")"
            ]
        },
        {
            "cell_type": "code",
            "execution_count": 28,
            "metadata": {},
            "outputs": [
                {
                    "name": "stdout",
                    "output_type": "stream",
                    "text": [
                        "-0.0010000000000000008882\n",
                        "[-3000.]\n"
                    ]
                }
            ],
            "source": [
                "#usando extended precision (128 bits)\n",
                "a128 = np.array([1.], dtype=np.float128)\n",
                "b128 = np.array([3000.001], dtype=np.float128)\n",
                "c128 = np.array([3.], dtype=np.float128)\n",
                "x1_128 = np.array([1.], dtype=np.float128)\n",
                "x2_128 = np.array([1.], dtype=np.float128)\n",
                "\n",
                "x1_128 = (-b128 + np.sqrt(b128**2 - 4*a128*c128))/(2*a128)\n",
                "x2_128[0] = (-b128[0] - np.sqrt(b128[0]**2 - 4*a128[0]*c128[0]))/(2*a128[0])\n",
                "\n",
                "print(x1_128[0])\n",
                "print(x2_128) "
            ]
        },
        {
            "cell_type": "markdown",
            "metadata": {},
            "source": [
                "# Erros de Truncamento e Séries de Taylor\n",
                "\n",
                "Os erros de truncamento são aqueles que resultam do uso de uma aproximação no lugar\n",
                "de um procedimento matemático exato. Por exemplo, aproximação dederivada pode ser feita por uma equação de diferenças divididas da forma \n",
                "$$\n",
                "\\frac{dx}{dt} \\approx \\frac{\\Delta x}{\\Delta t} = \\frac{x(t_{i+1}) - x(t_i)}{t_{i+1} - t_i}\n",
                "$$\n",
                "\n",
                "Um erro de truncamento é introduzido na solução numérica porque a equação de diferenças apenas aproxima o valor verdadeiro da derivada. Para obter uma percepção das propriedades de tais erros, será abordada agora uma formulação matemática que é amplamente usada nos métodos numéricos para expressar uma função de forma aproximada — a série de Taylor. \n",
                "\n",
                "## A Série de Taylor\n",
                "Se a função f e suas primeiras $n +1$ derivadas forem contínuas em um intervalo contendo $a$ e $x$, então o valor da função em $x$ é dado por\n",
                "\n",
                "$$\n",
                "f(x) = f(a) + f'(a)(x-a) + \\frac{f''(a)}{2!}(x-a)^2 + \\frac{f^{(3)}(a)}{3!}(x-a)^3 + \\cdot\\cdot\\cdot + \\frac{f^{(n)}(a)}{n!}(x-a)^n + R_n\n",
                "$$\n",
                "onde o resto $R_n$ é definido por \n",
                "$$\n",
                "R_n = \\int^x_a \\frac{(x-t)^n}{n!} f^{(n+1)}(t)dt = \\frac{f^{(n+1)}(\\xi)}{(n+1)!}(x-a)^{n+1}\n",
                "$$\n",
                "\n",
                "Em um calculo iterativo é conveniente simplificar a série de Taylor definindo um tamanho do\n",
                "passo $h = x_{i+1} - x_i$ e expressando a equação geral como\n",
                "$$\n",
                "f(x_{i+1}) = f(x_{i}) + f'(x_i)h + \\frac{f''(x_i)}{2!}h^2 + \\frac{f^{(3)}(x_i)}{3!}h^3 + \\cdot\\cdot\\cdot + \\frac{f^{(n)}(x_i)}{n!}h^n + R_n\n",
                "$$\n",
                "onde o resto agora é \n",
                "\n",
                "$$\n",
                "R_n =  \\frac{f^{(n+1)}(\\xi)}{(n+1)!}h^{n+1}\n",
                "$$\n",
                "\n",
                "Agora vamos escrever um script que calcule a série de Taylor para uma função. Vamos usar o Sympy para fazer isso. Basicamente a ideia é que a gente sabe o valor de uma função e as suas derivadas em um ponto ($x0$) e queremos saber o valor aproximado da em um ponto proximo.   "
            ]
        },
        {
            "cell_type": "code",
            "execution_count": 30,
            "metadata": {},
            "outputs": [],
            "source": [
                "import sympy as sp\n",
                "x, t = sp.symbols('x t')\n",
                "\n",
                "def taylor_expansion(func, x0, order):\n",
                "    \"\"\"\n",
                "    func: a sympy univariable function with x as its argument. \n",
                "    order: the order of expansion\n",
                "    -----\n",
                "    returns the expansion of the `func` around the point `a` at the order `order` \n",
                "    \"\"\"\n",
                "    series = 0\n",
                "    for i in range(order+1):\n",
                "        series += (func.diff(x, i).subs(x,x0)/sp.factorial(i))*(x-x0)**i\n",
                "    \n",
                "    return series\n"
            ]
        },
        {
            "cell_type": "markdown",
            "metadata": {},
            "source": [
                "Vamos testar o nosso script para aproximar a função polinomial na vizinhaça do ponto $x_0=0$\n",
                "\n",
                "$$\n",
                "f(x) = -0.1 x^4 - 0.15 x^3 - 0.5 x^2 - 0.25 x + 1.2\n",
                "$$"
            ]
        },
        {
            "cell_type": "code",
            "execution_count": 37,
            "metadata": {},
            "outputs": [
                {
                    "data": {
                        "text/latex": [
                            "$\\displaystyle - 0.1 x^{4} - 0.15 x^{3} - 0.5 x^{2} - 0.25 x + 1.2$"
                        ],
                        "text/plain": [
                            "-0.1*x**4 - 0.15*x**3 - 0.5*x**2 - 0.25*x + 1.2"
                        ]
                    },
                    "metadata": {},
                    "output_type": "display_data"
                }
            ],
            "source": [
                "f = -0.1*x**4 - 0.15*x**3 - 0.5*x**2 - 0.25*x + 1.2\n",
                "\n",
                "display(f)"
            ]
        },
        {
            "cell_type": "markdown",
            "metadata": {},
            "source": [
                "A primeira aproxação é "
            ]
        },
        {
            "cell_type": "code",
            "execution_count": 38,
            "metadata": {},
            "outputs": [
                {
                    "data": {
                        "text/latex": [
                            "$\\displaystyle 1.2 - 0.25 x$"
                        ],
                        "text/plain": [
                            "1.2 - 0.25*x"
                        ]
                    },
                    "execution_count": 38,
                    "metadata": {},
                    "output_type": "execute_result"
                }
            ],
            "source": [
                "taylor_expansion(f, 0, 1)"
            ]
        },
        {
            "cell_type": "markdown",
            "metadata": {},
            "source": [
                "Para achar o erro relativo verdadeiro dessa aproximação no ponto $x=1$ na primeira ordem temos"
            ]
        },
        {
            "cell_type": "code",
            "execution_count": 39,
            "metadata": {},
            "outputs": [
                {
                    "data": {
                        "text/latex": [
                            "$\\displaystyle -3.75$"
                        ],
                        "text/plain": [
                            "-3.75000000000000"
                        ]
                    },
                    "metadata": {},
                    "output_type": "display_data"
                }
            ],
            "source": [
                "e_t_1 = (f.subs(x,1) - taylor_expansion(f, 0, 1).subs(x,1))/ f.subs(x,1)\n",
                "\n",
                "display(e_t_1)"
            ]
        },
        {
            "cell_type": "markdown",
            "metadata": {},
            "source": [
                "E na segunda ordem"
            ]
        },
        {
            "cell_type": "code",
            "execution_count": 42,
            "metadata": {},
            "outputs": [
                {
                    "data": {
                        "text/latex": [
                            "$\\displaystyle -1.25$"
                        ],
                        "text/plain": [
                            "-1.25000000000000"
                        ]
                    },
                    "metadata": {},
                    "output_type": "display_data"
                }
            ],
            "source": [
                "e_t_2 = (f.subs(x,1) - taylor_expansion(f, 0, 2).subs(x,1))/ f.subs(x,1)\n",
                "\n",
                "display(e_t_2)"
            ]
        },
        {
            "cell_type": "markdown",
            "metadata": {},
            "source": [
                "Na terceira ordem"
            ]
        },
        {
            "cell_type": "code",
            "execution_count": 43,
            "metadata": {},
            "outputs": [
                {
                    "data": {
                        "text/latex": [
                            "$\\displaystyle -0.5$"
                        ],
                        "text/plain": [
                            "-0.500000000000000"
                        ]
                    },
                    "metadata": {},
                    "output_type": "display_data"
                }
            ],
            "source": [
                "e_t_3 = (f.subs(x,1) - taylor_expansion(f, 0, 3).subs(x,1))/ f.subs(x,1)\n",
                "\n",
                "display(e_t_3)"
            ]
        },
        {
            "cell_type": "markdown",
            "metadata": {},
            "source": [
                "Podemos plotar essas aproximações"
            ]
        },
        {
            "cell_type": "code",
            "execution_count": 52,
            "metadata": {},
            "outputs": [],
            "source": [
                "xx = np.linspace(0,3,20)\n",
                "\n",
                "y_real = [float(f.subs(x, i)) for i in xx]\n",
                "y0 = [float(taylor_expansion(f, 0, 0).subs(x, i)) for i in xx]\n",
                "y1 = [float(taylor_expansion(f, 0, 1).subs(x, i)) for i in xx]\n",
                "y2 = [float(taylor_expansion(f, 0, 2).subs(x, i)) for i in xx]\n",
                "y3 = [float(taylor_expansion(f, 0, 3).subs(x, i)) for i in xx]\n",
                "y4 = [float(taylor_expansion(f, 0, 4).subs(x, i)) for i in xx]"
            ]
        },
        {
            "cell_type": "code",
            "execution_count": 53,
            "metadata": {},
            "outputs": [
                {
                    "data": {
                        "application/vnd.plotly.v1+json": {
                            "config": {
                                "plotlyServerURL": "https://plot.ly"
                            },
                            "data": [
                                {
                                    "name": "real values",
                                    "type": "scatter",
                                    "x": [
                                        1,
                                        1.1052631578947367,
                                        1.2105263157894737,
                                        1.3157894736842106,
                                        1.4210526315789473,
                                        1.526315789473684,
                                        1.631578947368421,
                                        1.736842105263158,
                                        1.8421052631578947,
                                        1.9473684210526314,
                                        2.052631578947368,
                                        2.1578947368421053,
                                        2.263157894736842,
                                        2.3684210526315788,
                                        2.473684210526316,
                                        2.5789473684210527,
                                        2.6842105263157894,
                                        2.789473684210526,
                                        2.894736842105263,
                                        3
                                    ],
                                    "y": [
                                        0.19999999999999998,
                                        -0.03888091712003408,
                                        -0.3161317055578149,
                                        -0.6360433084460682,
                                        -1.0032013259566763,
                                        -1.4224860153006802,
                                        -1.8990722907282782,
                                        -2.4384297235288255,
                                        -3.0463225420308313,
                                        -3.7288096316019668,
                                        -4.492244534649057,
                                        -5.34327545061809,
                                        -6.288845235994199,
                                        -7.336191404301685,
                                        -8.492846126104006,
                                        -9.766636229003769,
                                        -11.165683197642743,
                                        -12.698403173701857,
                                        -14.373506955901192,
                                        -16.2
                                    ]
                                },
                                {
                                    "name": "zero order",
                                    "type": "scatter",
                                    "x": [
                                        1,
                                        1.1052631578947367,
                                        1.2105263157894737,
                                        1.3157894736842106,
                                        1.4210526315789473,
                                        1.526315789473684,
                                        1.631578947368421,
                                        1.736842105263158,
                                        1.8421052631578947,
                                        1.9473684210526314,
                                        2.052631578947368,
                                        2.1578947368421053,
                                        2.263157894736842,
                                        2.3684210526315788,
                                        2.473684210526316,
                                        2.5789473684210527,
                                        2.6842105263157894,
                                        2.789473684210526,
                                        2.894736842105263,
                                        3
                                    ],
                                    "y": [
                                        1.2,
                                        1.2,
                                        1.2,
                                        1.2,
                                        1.2,
                                        1.2,
                                        1.2,
                                        1.2,
                                        1.2,
                                        1.2,
                                        1.2,
                                        1.2,
                                        1.2,
                                        1.2,
                                        1.2,
                                        1.2,
                                        1.2,
                                        1.2,
                                        1.2,
                                        1.2
                                    ]
                                },
                                {
                                    "name": "one order",
                                    "type": "scatter",
                                    "x": [
                                        1,
                                        1.1052631578947367,
                                        1.2105263157894737,
                                        1.3157894736842106,
                                        1.4210526315789473,
                                        1.526315789473684,
                                        1.631578947368421,
                                        1.736842105263158,
                                        1.8421052631578947,
                                        1.9473684210526314,
                                        2.052631578947368,
                                        2.1578947368421053,
                                        2.263157894736842,
                                        2.3684210526315788,
                                        2.473684210526316,
                                        2.5789473684210527,
                                        2.6842105263157894,
                                        2.789473684210526,
                                        2.894736842105263,
                                        3
                                    ],
                                    "y": [
                                        0.95,
                                        0.9236842105263158,
                                        0.8973684210526316,
                                        0.8710526315789473,
                                        0.8447368421052631,
                                        0.8184210526315789,
                                        0.7921052631578946,
                                        0.7657894736842105,
                                        0.7394736842105263,
                                        0.7131578947368421,
                                        0.6868421052631579,
                                        0.6605263157894736,
                                        0.6342105263157894,
                                        0.6078947368421053,
                                        0.581578947368421,
                                        0.5552631578947368,
                                        0.5289473684210526,
                                        0.5026315789473684,
                                        0.47631578947368425,
                                        0.44999999999999996
                                    ]
                                },
                                {
                                    "name": "second order",
                                    "type": "scatter",
                                    "x": [
                                        1,
                                        1.1052631578947367,
                                        1.2105263157894737,
                                        1.3157894736842106,
                                        1.4210526315789473,
                                        1.526315789473684,
                                        1.631578947368421,
                                        1.736842105263158,
                                        1.8421052631578947,
                                        1.9473684210526314,
                                        2.052631578947368,
                                        2.1578947368421053,
                                        2.263157894736842,
                                        2.3684210526315788,
                                        2.473684210526316,
                                        2.5789473684210527,
                                        2.6842105263157894,
                                        2.789473684210526,
                                        2.894736842105263,
                                        3
                                    ],
                                    "y": [
                                        0.44999999999999996,
                                        0.31288088642659295,
                                        0.1646814404432133,
                                        0.0054016620498612555,
                                        -0.16495844875346266,
                                        -0.3463988919667589,
                                        -0.5389196675900276,
                                        -0.7425207756232689,
                                        -0.9572022160664819,
                                        -1.1829639889196675,
                                        -1.4198060941828248,
                                        -1.667728531855956,
                                        -1.926731301939058,
                                        -2.196814404432133,
                                        -2.4779778393351806,
                                        -2.7702216066481995,
                                        -3.073545706371191,
                                        -3.387950138504155,
                                        -3.713434903047091,
                                        -4.05
                                    ]
                                },
                                {
                                    "name": "third order",
                                    "type": "scatter",
                                    "x": [
                                        1,
                                        1.1052631578947367,
                                        1.2105263157894737,
                                        1.3157894736842106,
                                        1.4210526315789473,
                                        1.526315789473684,
                                        1.631578947368421,
                                        1.736842105263158,
                                        1.8421052631578947,
                                        1.9473684210526314,
                                        2.052631578947368,
                                        2.1578947368421053,
                                        2.263157894736842,
                                        2.3684210526315788,
                                        2.473684210526316,
                                        2.5789473684210527,
                                        2.6842105263157894,
                                        2.789473684210526,
                                        2.894736842105263,
                                        3
                                    ],
                                    "y": [
                                        0.29999999999999993,
                                        0.11035136317247435,
                                        -0.10139962093599647,
                                        -0.33630266802740955,
                                        -0.5954074938037615,
                                        -0.8797638139670503,
                                        -1.1904213442192737,
                                        -1.5284298002624293,
                                        -1.8948388977985127,
                                        -2.290698352529523,
                                        -2.717057880157456,
                                        -3.174967196384313,
                                        -3.665476016912086,
                                        -4.189634057442776,
                                        -4.74849103367838,
                                        -5.343096661320892,
                                        -5.974500656072314,
                                        -6.643752733634639,
                                        -7.351902609709868,
                                        -8.1
                                    ]
                                },
                                {
                                    "name": "forth order",
                                    "type": "scatter",
                                    "x": [
                                        1,
                                        1.1052631578947367,
                                        1.2105263157894737,
                                        1.3157894736842106,
                                        1.4210526315789473,
                                        1.526315789473684,
                                        1.631578947368421,
                                        1.736842105263158,
                                        1.8421052631578947,
                                        1.9473684210526314,
                                        2.052631578947368,
                                        2.1578947368421053,
                                        2.263157894736842,
                                        2.3684210526315788,
                                        2.473684210526316,
                                        2.5789473684210527,
                                        2.6842105263157894,
                                        2.789473684210526,
                                        2.894736842105263,
                                        3
                                    ],
                                    "y": [
                                        0.1999999999999999,
                                        -0.03888091712003411,
                                        -0.3161317055578149,
                                        -0.6360433084460682,
                                        -1.003201325956676,
                                        -1.4224860153006804,
                                        -1.8990722907282784,
                                        -2.4384297235288255,
                                        -3.0463225420308313,
                                        -3.7288096316019668,
                                        -4.492244534649057,
                                        -5.343275450618091,
                                        -6.288845235994199,
                                        -7.336191404301685,
                                        -8.492846126104007,
                                        -9.766636229003769,
                                        -11.165683197642744,
                                        -12.698403173701857,
                                        -14.373506955901195,
                                        -16.200000000000003
                                    ]
                                }
                            ],
                            "layout": {
                                "template": {
                                    "data": {
                                        "bar": [
                                            {
                                                "error_x": {
                                                    "color": "#2a3f5f"
                                                },
                                                "error_y": {
                                                    "color": "#2a3f5f"
                                                },
                                                "marker": {
                                                    "line": {
                                                        "color": "#E5ECF6",
                                                        "width": 0.5
                                                    },
                                                    "pattern": {
                                                        "fillmode": "overlay",
                                                        "size": 10,
                                                        "solidity": 0.2
                                                    }
                                                },
                                                "type": "bar"
                                            }
                                        ],
                                        "barpolar": [
                                            {
                                                "marker": {
                                                    "line": {
                                                        "color": "#E5ECF6",
                                                        "width": 0.5
                                                    },
                                                    "pattern": {
                                                        "fillmode": "overlay",
                                                        "size": 10,
                                                        "solidity": 0.2
                                                    }
                                                },
                                                "type": "barpolar"
                                            }
                                        ],
                                        "carpet": [
                                            {
                                                "aaxis": {
                                                    "endlinecolor": "#2a3f5f",
                                                    "gridcolor": "white",
                                                    "linecolor": "white",
                                                    "minorgridcolor": "white",
                                                    "startlinecolor": "#2a3f5f"
                                                },
                                                "baxis": {
                                                    "endlinecolor": "#2a3f5f",
                                                    "gridcolor": "white",
                                                    "linecolor": "white",
                                                    "minorgridcolor": "white",
                                                    "startlinecolor": "#2a3f5f"
                                                },
                                                "type": "carpet"
                                            }
                                        ],
                                        "choropleth": [
                                            {
                                                "colorbar": {
                                                    "outlinewidth": 0,
                                                    "ticks": ""
                                                },
                                                "type": "choropleth"
                                            }
                                        ],
                                        "contour": [
                                            {
                                                "colorbar": {
                                                    "outlinewidth": 0,
                                                    "ticks": ""
                                                },
                                                "colorscale": [
                                                    [
                                                        0,
                                                        "#0d0887"
                                                    ],
                                                    [
                                                        0.1111111111111111,
                                                        "#46039f"
                                                    ],
                                                    [
                                                        0.2222222222222222,
                                                        "#7201a8"
                                                    ],
                                                    [
                                                        0.3333333333333333,
                                                        "#9c179e"
                                                    ],
                                                    [
                                                        0.4444444444444444,
                                                        "#bd3786"
                                                    ],
                                                    [
                                                        0.5555555555555556,
                                                        "#d8576b"
                                                    ],
                                                    [
                                                        0.6666666666666666,
                                                        "#ed7953"
                                                    ],
                                                    [
                                                        0.7777777777777778,
                                                        "#fb9f3a"
                                                    ],
                                                    [
                                                        0.8888888888888888,
                                                        "#fdca26"
                                                    ],
                                                    [
                                                        1,
                                                        "#f0f921"
                                                    ]
                                                ],
                                                "type": "contour"
                                            }
                                        ],
                                        "contourcarpet": [
                                            {
                                                "colorbar": {
                                                    "outlinewidth": 0,
                                                    "ticks": ""
                                                },
                                                "type": "contourcarpet"
                                            }
                                        ],
                                        "heatmap": [
                                            {
                                                "colorbar": {
                                                    "outlinewidth": 0,
                                                    "ticks": ""
                                                },
                                                "colorscale": [
                                                    [
                                                        0,
                                                        "#0d0887"
                                                    ],
                                                    [
                                                        0.1111111111111111,
                                                        "#46039f"
                                                    ],
                                                    [
                                                        0.2222222222222222,
                                                        "#7201a8"
                                                    ],
                                                    [
                                                        0.3333333333333333,
                                                        "#9c179e"
                                                    ],
                                                    [
                                                        0.4444444444444444,
                                                        "#bd3786"
                                                    ],
                                                    [
                                                        0.5555555555555556,
                                                        "#d8576b"
                                                    ],
                                                    [
                                                        0.6666666666666666,
                                                        "#ed7953"
                                                    ],
                                                    [
                                                        0.7777777777777778,
                                                        "#fb9f3a"
                                                    ],
                                                    [
                                                        0.8888888888888888,
                                                        "#fdca26"
                                                    ],
                                                    [
                                                        1,
                                                        "#f0f921"
                                                    ]
                                                ],
                                                "type": "heatmap"
                                            }
                                        ],
                                        "heatmapgl": [
                                            {
                                                "colorbar": {
                                                    "outlinewidth": 0,
                                                    "ticks": ""
                                                },
                                                "colorscale": [
                                                    [
                                                        0,
                                                        "#0d0887"
                                                    ],
                                                    [
                                                        0.1111111111111111,
                                                        "#46039f"
                                                    ],
                                                    [
                                                        0.2222222222222222,
                                                        "#7201a8"
                                                    ],
                                                    [
                                                        0.3333333333333333,
                                                        "#9c179e"
                                                    ],
                                                    [
                                                        0.4444444444444444,
                                                        "#bd3786"
                                                    ],
                                                    [
                                                        0.5555555555555556,
                                                        "#d8576b"
                                                    ],
                                                    [
                                                        0.6666666666666666,
                                                        "#ed7953"
                                                    ],
                                                    [
                                                        0.7777777777777778,
                                                        "#fb9f3a"
                                                    ],
                                                    [
                                                        0.8888888888888888,
                                                        "#fdca26"
                                                    ],
                                                    [
                                                        1,
                                                        "#f0f921"
                                                    ]
                                                ],
                                                "type": "heatmapgl"
                                            }
                                        ],
                                        "histogram": [
                                            {
                                                "marker": {
                                                    "pattern": {
                                                        "fillmode": "overlay",
                                                        "size": 10,
                                                        "solidity": 0.2
                                                    }
                                                },
                                                "type": "histogram"
                                            }
                                        ],
                                        "histogram2d": [
                                            {
                                                "colorbar": {
                                                    "outlinewidth": 0,
                                                    "ticks": ""
                                                },
                                                "colorscale": [
                                                    [
                                                        0,
                                                        "#0d0887"
                                                    ],
                                                    [
                                                        0.1111111111111111,
                                                        "#46039f"
                                                    ],
                                                    [
                                                        0.2222222222222222,
                                                        "#7201a8"
                                                    ],
                                                    [
                                                        0.3333333333333333,
                                                        "#9c179e"
                                                    ],
                                                    [
                                                        0.4444444444444444,
                                                        "#bd3786"
                                                    ],
                                                    [
                                                        0.5555555555555556,
                                                        "#d8576b"
                                                    ],
                                                    [
                                                        0.6666666666666666,
                                                        "#ed7953"
                                                    ],
                                                    [
                                                        0.7777777777777778,
                                                        "#fb9f3a"
                                                    ],
                                                    [
                                                        0.8888888888888888,
                                                        "#fdca26"
                                                    ],
                                                    [
                                                        1,
                                                        "#f0f921"
                                                    ]
                                                ],
                                                "type": "histogram2d"
                                            }
                                        ],
                                        "histogram2dcontour": [
                                            {
                                                "colorbar": {
                                                    "outlinewidth": 0,
                                                    "ticks": ""
                                                },
                                                "colorscale": [
                                                    [
                                                        0,
                                                        "#0d0887"
                                                    ],
                                                    [
                                                        0.1111111111111111,
                                                        "#46039f"
                                                    ],
                                                    [
                                                        0.2222222222222222,
                                                        "#7201a8"
                                                    ],
                                                    [
                                                        0.3333333333333333,
                                                        "#9c179e"
                                                    ],
                                                    [
                                                        0.4444444444444444,
                                                        "#bd3786"
                                                    ],
                                                    [
                                                        0.5555555555555556,
                                                        "#d8576b"
                                                    ],
                                                    [
                                                        0.6666666666666666,
                                                        "#ed7953"
                                                    ],
                                                    [
                                                        0.7777777777777778,
                                                        "#fb9f3a"
                                                    ],
                                                    [
                                                        0.8888888888888888,
                                                        "#fdca26"
                                                    ],
                                                    [
                                                        1,
                                                        "#f0f921"
                                                    ]
                                                ],
                                                "type": "histogram2dcontour"
                                            }
                                        ],
                                        "mesh3d": [
                                            {
                                                "colorbar": {
                                                    "outlinewidth": 0,
                                                    "ticks": ""
                                                },
                                                "type": "mesh3d"
                                            }
                                        ],
                                        "parcoords": [
                                            {
                                                "line": {
                                                    "colorbar": {
                                                        "outlinewidth": 0,
                                                        "ticks": ""
                                                    }
                                                },
                                                "type": "parcoords"
                                            }
                                        ],
                                        "pie": [
                                            {
                                                "automargin": true,
                                                "type": "pie"
                                            }
                                        ],
                                        "scatter": [
                                            {
                                                "marker": {
                                                    "colorbar": {
                                                        "outlinewidth": 0,
                                                        "ticks": ""
                                                    }
                                                },
                                                "type": "scatter"
                                            }
                                        ],
                                        "scatter3d": [
                                            {
                                                "line": {
                                                    "colorbar": {
                                                        "outlinewidth": 0,
                                                        "ticks": ""
                                                    }
                                                },
                                                "marker": {
                                                    "colorbar": {
                                                        "outlinewidth": 0,
                                                        "ticks": ""
                                                    }
                                                },
                                                "type": "scatter3d"
                                            }
                                        ],
                                        "scattercarpet": [
                                            {
                                                "marker": {
                                                    "colorbar": {
                                                        "outlinewidth": 0,
                                                        "ticks": ""
                                                    }
                                                },
                                                "type": "scattercarpet"
                                            }
                                        ],
                                        "scattergeo": [
                                            {
                                                "marker": {
                                                    "colorbar": {
                                                        "outlinewidth": 0,
                                                        "ticks": ""
                                                    }
                                                },
                                                "type": "scattergeo"
                                            }
                                        ],
                                        "scattergl": [
                                            {
                                                "marker": {
                                                    "colorbar": {
                                                        "outlinewidth": 0,
                                                        "ticks": ""
                                                    }
                                                },
                                                "type": "scattergl"
                                            }
                                        ],
                                        "scattermapbox": [
                                            {
                                                "marker": {
                                                    "colorbar": {
                                                        "outlinewidth": 0,
                                                        "ticks": ""
                                                    }
                                                },
                                                "type": "scattermapbox"
                                            }
                                        ],
                                        "scatterpolar": [
                                            {
                                                "marker": {
                                                    "colorbar": {
                                                        "outlinewidth": 0,
                                                        "ticks": ""
                                                    }
                                                },
                                                "type": "scatterpolar"
                                            }
                                        ],
                                        "scatterpolargl": [
                                            {
                                                "marker": {
                                                    "colorbar": {
                                                        "outlinewidth": 0,
                                                        "ticks": ""
                                                    }
                                                },
                                                "type": "scatterpolargl"
                                            }
                                        ],
                                        "scatterternary": [
                                            {
                                                "marker": {
                                                    "colorbar": {
                                                        "outlinewidth": 0,
                                                        "ticks": ""
                                                    }
                                                },
                                                "type": "scatterternary"
                                            }
                                        ],
                                        "surface": [
                                            {
                                                "colorbar": {
                                                    "outlinewidth": 0,
                                                    "ticks": ""
                                                },
                                                "colorscale": [
                                                    [
                                                        0,
                                                        "#0d0887"
                                                    ],
                                                    [
                                                        0.1111111111111111,
                                                        "#46039f"
                                                    ],
                                                    [
                                                        0.2222222222222222,
                                                        "#7201a8"
                                                    ],
                                                    [
                                                        0.3333333333333333,
                                                        "#9c179e"
                                                    ],
                                                    [
                                                        0.4444444444444444,
                                                        "#bd3786"
                                                    ],
                                                    [
                                                        0.5555555555555556,
                                                        "#d8576b"
                                                    ],
                                                    [
                                                        0.6666666666666666,
                                                        "#ed7953"
                                                    ],
                                                    [
                                                        0.7777777777777778,
                                                        "#fb9f3a"
                                                    ],
                                                    [
                                                        0.8888888888888888,
                                                        "#fdca26"
                                                    ],
                                                    [
                                                        1,
                                                        "#f0f921"
                                                    ]
                                                ],
                                                "type": "surface"
                                            }
                                        ],
                                        "table": [
                                            {
                                                "cells": {
                                                    "fill": {
                                                        "color": "#EBF0F8"
                                                    },
                                                    "line": {
                                                        "color": "white"
                                                    }
                                                },
                                                "header": {
                                                    "fill": {
                                                        "color": "#C8D4E3"
                                                    },
                                                    "line": {
                                                        "color": "white"
                                                    }
                                                },
                                                "type": "table"
                                            }
                                        ]
                                    },
                                    "layout": {
                                        "annotationdefaults": {
                                            "arrowcolor": "#2a3f5f",
                                            "arrowhead": 0,
                                            "arrowwidth": 1
                                        },
                                        "autotypenumbers": "strict",
                                        "coloraxis": {
                                            "colorbar": {
                                                "outlinewidth": 0,
                                                "ticks": ""
                                            }
                                        },
                                        "colorscale": {
                                            "diverging": [
                                                [
                                                    0,
                                                    "#8e0152"
                                                ],
                                                [
                                                    0.1,
                                                    "#c51b7d"
                                                ],
                                                [
                                                    0.2,
                                                    "#de77ae"
                                                ],
                                                [
                                                    0.3,
                                                    "#f1b6da"
                                                ],
                                                [
                                                    0.4,
                                                    "#fde0ef"
                                                ],
                                                [
                                                    0.5,
                                                    "#f7f7f7"
                                                ],
                                                [
                                                    0.6,
                                                    "#e6f5d0"
                                                ],
                                                [
                                                    0.7,
                                                    "#b8e186"
                                                ],
                                                [
                                                    0.8,
                                                    "#7fbc41"
                                                ],
                                                [
                                                    0.9,
                                                    "#4d9221"
                                                ],
                                                [
                                                    1,
                                                    "#276419"
                                                ]
                                            ],
                                            "sequential": [
                                                [
                                                    0,
                                                    "#0d0887"
                                                ],
                                                [
                                                    0.1111111111111111,
                                                    "#46039f"
                                                ],
                                                [
                                                    0.2222222222222222,
                                                    "#7201a8"
                                                ],
                                                [
                                                    0.3333333333333333,
                                                    "#9c179e"
                                                ],
                                                [
                                                    0.4444444444444444,
                                                    "#bd3786"
                                                ],
                                                [
                                                    0.5555555555555556,
                                                    "#d8576b"
                                                ],
                                                [
                                                    0.6666666666666666,
                                                    "#ed7953"
                                                ],
                                                [
                                                    0.7777777777777778,
                                                    "#fb9f3a"
                                                ],
                                                [
                                                    0.8888888888888888,
                                                    "#fdca26"
                                                ],
                                                [
                                                    1,
                                                    "#f0f921"
                                                ]
                                            ],
                                            "sequentialminus": [
                                                [
                                                    0,
                                                    "#0d0887"
                                                ],
                                                [
                                                    0.1111111111111111,
                                                    "#46039f"
                                                ],
                                                [
                                                    0.2222222222222222,
                                                    "#7201a8"
                                                ],
                                                [
                                                    0.3333333333333333,
                                                    "#9c179e"
                                                ],
                                                [
                                                    0.4444444444444444,
                                                    "#bd3786"
                                                ],
                                                [
                                                    0.5555555555555556,
                                                    "#d8576b"
                                                ],
                                                [
                                                    0.6666666666666666,
                                                    "#ed7953"
                                                ],
                                                [
                                                    0.7777777777777778,
                                                    "#fb9f3a"
                                                ],
                                                [
                                                    0.8888888888888888,
                                                    "#fdca26"
                                                ],
                                                [
                                                    1,
                                                    "#f0f921"
                                                ]
                                            ]
                                        },
                                        "colorway": [
                                            "#636efa",
                                            "#EF553B",
                                            "#00cc96",
                                            "#ab63fa",
                                            "#FFA15A",
                                            "#19d3f3",
                                            "#FF6692",
                                            "#B6E880",
                                            "#FF97FF",
                                            "#FECB52"
                                        ],
                                        "font": {
                                            "color": "#2a3f5f"
                                        },
                                        "geo": {
                                            "bgcolor": "white",
                                            "lakecolor": "white",
                                            "landcolor": "#E5ECF6",
                                            "showlakes": true,
                                            "showland": true,
                                            "subunitcolor": "white"
                                        },
                                        "hoverlabel": {
                                            "align": "left"
                                        },
                                        "hovermode": "closest",
                                        "mapbox": {
                                            "style": "light"
                                        },
                                        "paper_bgcolor": "white",
                                        "plot_bgcolor": "#E5ECF6",
                                        "polar": {
                                            "angularaxis": {
                                                "gridcolor": "white",
                                                "linecolor": "white",
                                                "ticks": ""
                                            },
                                            "bgcolor": "#E5ECF6",
                                            "radialaxis": {
                                                "gridcolor": "white",
                                                "linecolor": "white",
                                                "ticks": ""
                                            }
                                        },
                                        "scene": {
                                            "xaxis": {
                                                "backgroundcolor": "#E5ECF6",
                                                "gridcolor": "white",
                                                "gridwidth": 2,
                                                "linecolor": "white",
                                                "showbackground": true,
                                                "ticks": "",
                                                "zerolinecolor": "white"
                                            },
                                            "yaxis": {
                                                "backgroundcolor": "#E5ECF6",
                                                "gridcolor": "white",
                                                "gridwidth": 2,
                                                "linecolor": "white",
                                                "showbackground": true,
                                                "ticks": "",
                                                "zerolinecolor": "white"
                                            },
                                            "zaxis": {
                                                "backgroundcolor": "#E5ECF6",
                                                "gridcolor": "white",
                                                "gridwidth": 2,
                                                "linecolor": "white",
                                                "showbackground": true,
                                                "ticks": "",
                                                "zerolinecolor": "white"
                                            }
                                        },
                                        "shapedefaults": {
                                            "line": {
                                                "color": "#2a3f5f"
                                            }
                                        },
                                        "ternary": {
                                            "aaxis": {
                                                "gridcolor": "white",
                                                "linecolor": "white",
                                                "ticks": ""
                                            },
                                            "baxis": {
                                                "gridcolor": "white",
                                                "linecolor": "white",
                                                "ticks": ""
                                            },
                                            "bgcolor": "#E5ECF6",
                                            "caxis": {
                                                "gridcolor": "white",
                                                "linecolor": "white",
                                                "ticks": ""
                                            }
                                        },
                                        "title": {
                                            "x": 0.05
                                        },
                                        "xaxis": {
                                            "automargin": true,
                                            "gridcolor": "white",
                                            "linecolor": "white",
                                            "ticks": "",
                                            "title": {
                                                "standoff": 15
                                            },
                                            "zerolinecolor": "white",
                                            "zerolinewidth": 2
                                        },
                                        "yaxis": {
                                            "automargin": true,
                                            "gridcolor": "white",
                                            "linecolor": "white",
                                            "ticks": "",
                                            "title": {
                                                "standoff": 15
                                            },
                                            "zerolinecolor": "white",
                                            "zerolinewidth": 2
                                        }
                                    }
                                }
                            }
                        }
                    },
                    "metadata": {},
                    "output_type": "display_data"
                }
            ],
            "source": [
                "fig = go.Figure()\n",
                "fig.add_scatter(x = xx, y = y_real, name = 'real values')\n",
                "fig.add_scatter(x = xx, y = y0, name = 'zero order')\n",
                "fig.add_scatter(x = xx, y = y1, name = 'first order')\n",
                "fig.add_scatter(x = xx, y = y2, name = 'second order')\n",
                "fig.add_scatter(x = xx, y = y3, name = 'third order')\n",
                "fig.add_scatter(x = xx, y = y4, name = 'forth order')\n"
            ]
        },
        {
            "cell_type": "markdown",
            "metadata": {},
            "source": [
                "Como essa função é um polinomial de quarta grau a derivada de ordens maior do que 4 são zeros. Por isso, os termos sa série de Taylor que tem essas derivadas serão nulos e a série termina em 5 termos.\n",
                "\n",
                "Agora vamos estudar uma função que precise de infinitos termos na sua série de Taylor.\n",
                "\n",
                "Vamos ver o comportamento da $f(x) = \\cos(x)$ no ponto $x = \\frac{\\pi}{3}$ baseado em valores da função e suas deerivadas no ponto $x = \\frac{\\pi}{4}$."
            ]
        },
        {
            "cell_type": "code",
            "execution_count": 55,
            "metadata": {},
            "outputs": [
                {
                    "data": {
                        "application/vnd.plotly.v1+json": {
                            "config": {
                                "plotlyServerURL": "https://plot.ly"
                            },
                            "data": [
                                {
                                    "name": "real values",
                                    "type": "scatter",
                                    "x": [
                                        1,
                                        1.1127154028205155,
                                        1.2254308056410308,
                                        1.3381462084615463,
                                        1.4508616112820616,
                                        1.563577014102577,
                                        1.6762924169230926,
                                        1.789007819743608,
                                        1.9017232225641234,
                                        2.014438625384639,
                                        2.127154028205154,
                                        2.23986943102567,
                                        2.352584833846185,
                                        2.4653002366667005,
                                        2.578015639487216,
                                        2.690731042307731,
                                        2.803446445128247,
                                        2.9161618479487625,
                                        3.028877250769278,
                                        3.141592653589793
                                    ],
                                    "y": [
                                        0.5403023058681398,
                                        0.4422276976578119,
                                        0.3385406376329391,
                                        0.23055705112172545,
                                        0.11964739203121016,
                                        0.007219249982554022,
                                        -0.10530051385478437,
                                        -0.21648387551019924,
                                        -0.3249197717165661,
                                        -0.429232008161207,
                                        -0.5280967252039099,
                                        -0.6202591993990395,
                                        -0.7045497675882968,
                                        -0.7798986714664281,
                                        -0.8453496342227891,
                                        -0.9000719969533101,
                                        -0.9433712608158116,
                                        -0.9746979011348363,
                                        -0.9936543415934025,
                                        -1
                                    ]
                                },
                                {
                                    "name": "zero order",
                                    "type": "scatter",
                                    "x": [
                                        1,
                                        1.1127154028205155,
                                        1.2254308056410308,
                                        1.3381462084615463,
                                        1.4508616112820616,
                                        1.563577014102577,
                                        1.6762924169230926,
                                        1.789007819743608,
                                        1.9017232225641234,
                                        2.014438625384639,
                                        2.127154028205154,
                                        2.23986943102567,
                                        2.352584833846185,
                                        2.4653002366667005,
                                        2.578015639487216,
                                        2.690731042307731,
                                        2.803446445128247,
                                        2.9161618479487625,
                                        3.028877250769278,
                                        3.141592653589793
                                    ],
                                    "y": [
                                        0.7071067811865476,
                                        0.7071067811865476,
                                        0.7071067811865476,
                                        0.7071067811865476,
                                        0.7071067811865476,
                                        0.7071067811865476,
                                        0.7071067811865476,
                                        0.7071067811865476,
                                        0.7071067811865476,
                                        0.7071067811865476,
                                        0.7071067811865476,
                                        0.7071067811865476,
                                        0.7071067811865476,
                                        0.7071067811865476,
                                        0.7071067811865476,
                                        0.7071067811865476,
                                        0.7071067811865476,
                                        0.7071067811865476,
                                        0.7071067811865476,
                                        0.7071067811865476
                                    ]
                                },
                                {
                                    "name": "first order",
                                    "type": "scatter",
                                    "x": [
                                        1,
                                        1.1127154028205155,
                                        1.2254308056410308,
                                        1.3381462084615463,
                                        1.4508616112820616,
                                        1.563577014102577,
                                        1.6762924169230926,
                                        1.789007819743608,
                                        1.9017232225641234,
                                        2.014438625384639,
                                        2.127154028205154,
                                        2.23986943102567,
                                        2.352584833846185,
                                        2.4653002366667005,
                                        2.578015639487216,
                                        2.690731042307731,
                                        2.803446445128247,
                                        2.9161618479487625,
                                        3.028877250769278,
                                        3.141592653589793
                                    ],
                                    "y": [
                                        0.5553603672697958,
                                        0.475658541591236,
                                        0.39595671591267634,
                                        0.31625489023411646,
                                        0.2365530645555569,
                                        0.15685123887699692,
                                        0.07714941319843716,
                                        -0.00255241248012239,
                                        -0.08225423815868238,
                                        -0.16195606383724215,
                                        -0.2416578895158017,
                                        -0.3213597151943617,
                                        -0.40106154087292145,
                                        -0.480763366551481,
                                        -0.5604651922300408,
                                        -0.6401670179086003,
                                        -0.7198688435871603,
                                        -0.7995706692657203,
                                        -0.8792724949442801,
                                        -0.9589743206228398
                                    ]
                                },
                                {
                                    "name": "second order",
                                    "type": "scatter",
                                    "x": [
                                        1,
                                        1.1127154028205155,
                                        1.2254308056410308,
                                        1.3381462084615463,
                                        1.4508616112820616,
                                        1.563577014102577,
                                        1.6762924169230926,
                                        1.789007819743608,
                                        1.9017232225641234,
                                        2.014438625384639,
                                        2.127154028205154,
                                        2.23986943102567,
                                        2.352584833846185,
                                        2.4653002366667005,
                                        2.578015639487216,
                                        2.690731042307731,
                                        2.803446445128247,
                                        2.9161618479487625,
                                        3.028877250769278,
                                        3.141592653589793
                                    ],
                                    "y": [
                                        0.5390778377076028,
                                        0.43778004216440297,
                                        0.32749862323431395,
                                        0.2082335809173353,
                                        0.0799849152134677,
                                        -0.057247373877289814,
                                        -0.2034632863549365,
                                        -0.35866282221947215,
                                        -0.5228459814708978,
                                        -0.6960127641092125,
                                        -0.8781631701344162,
                                        -1.0692971995465101,
                                        -1.269414852345493,
                                        -1.4785161285313646,
                                        -1.696601028104126,
                                        -1.9236695510637765,
                                        -2.1597216974103173,
                                        -2.4047574671437477,
                                        -2.6587768602640667,
                                        -2.921779876771275
                                    ]
                                },
                                {
                                    "name": "third order",
                                    "type": "scatter",
                                    "x": [
                                        1,
                                        1.1127154028205155,
                                        1.2254308056410308,
                                        1.3381462084615463,
                                        1.4508616112820616,
                                        1.563577014102577,
                                        1.6762924169230926,
                                        1.789007819743608,
                                        1.9017232225641234,
                                        2.014438625384639,
                                        2.127154028205154,
                                        2.23986943102567,
                                        2.352584833846185,
                                        2.4653002366667005,
                                        2.578015639487216,
                                        2.690731042307731,
                                        2.803446445128247,
                                        2.9161618479487625,
                                        3.028877250769278,
                                        3.141592653589793
                                    ],
                                    "y": [
                                        0.5402425912904635,
                                        0.4419128041196961,
                                        0.3375398883690525,
                                        0.22813643676737355,
                                        0.114715042043501,
                                        -0.0017117030737254513,
                                        -0.12013120585546366,
                                        -0.23953087357287256,
                                        -0.358898113497112,
                                        -0.4772203328993402,
                                        -0.5934849390507161,
                                        -0.7066793392223993,
                                        -0.8157909406855481,
                                        -0.9198071507113218,
                                        -1.017715376570879,
                                        -1.1085030255353792,
                                        -1.1911575048759817,
                                        -1.2646662218638445,
                                        -1.328016583770126,
                                        -1.3801959978659875
                                    ]
                                },
                                {
                                    "name": "forth order",
                                    "type": "scatter",
                                    "x": [
                                        1,
                                        1.1127154028205155,
                                        1.2254308056410308,
                                        1.3381462084615463,
                                        1.4508616112820616,
                                        1.563577014102577,
                                        1.6762924169230926,
                                        1.789007819743608,
                                        1.9017232225641234,
                                        2.014438625384639,
                                        2.127154028205154,
                                        2.23986943102567,
                                        2.352584833846185,
                                        2.4653002366667005,
                                        2.578015639487216,
                                        2.690731042307731,
                                        2.803446445128247,
                                        2.9161618479487625,
                                        3.028877250769278,
                                        3.141592653589793
                                    ],
                                    "y": [
                                        0.5403050808549813,
                                        0.4422509851782959,
                                        0.3386445094762293,
                                        0.23088675293294886,
                                        0.12049294952994691,
                                        0.009092468046038499,
                                        -0.10157118794263453,
                                        -0.20964038006260705,
                                        -0.31314333514309023,
                                        -0.40999414521596955,
                                        -0.49799276751580657,
                                        -0.5748250244798385,
                                        -0.638062603747978,
                                        -0.6851630581628131,
                                        -0.7134698057696074,
                                        -0.7202121298163007,
                                        -0.7025051787535077,
                                        -0.6573499662345184,
                                        -0.5816333711152988,
                                        -0.47212813745449167
                                    ]
                                },
                                {
                                    "name": "tenth order",
                                    "type": "scatter",
                                    "x": [
                                        1,
                                        1.1127154028205155,
                                        1.2254308056410308,
                                        1.3381462084615463,
                                        1.4508616112820616,
                                        1.563577014102577,
                                        1.6762924169230926,
                                        1.789007819743608,
                                        1.9017232225641234,
                                        2.014438625384639,
                                        2.127154028205154,
                                        2.23986943102567,
                                        2.352584833846185,
                                        2.4653002366667005,
                                        2.578015639487216,
                                        2.690731042307731,
                                        2.803446445128247,
                                        2.9161618479487625,
                                        3.028877250769278,
                                        3.141592653589793
                                    ],
                                    "y": [
                                        0.5403023058681389,
                                        0.44222769765772796,
                                        0.33854063763074227,
                                        0.23055705109450828,
                                        0.11964739181990394,
                                        0.007219248791802458,
                                        -0.10530051916771004,
                                        -0.21648389535543602,
                                        -0.3249198361686749,
                                        -0.429232195128073,
                                        -0.528097219336375,
                                        -0.6202604071902009,
                                        -0.7045525298619304,
                                        -0.7799046372804026,
                                        -0.8453618922963534,
                                        -0.9000961046554875,
                                        -0.9434168695527989,
                                        -0.9747812541403028,
                                        -0.9938020196407517,
                                        -1.0002544169162744
                                    ]
                                }
                            ],
                            "layout": {
                                "template": {
                                    "data": {
                                        "bar": [
                                            {
                                                "error_x": {
                                                    "color": "#2a3f5f"
                                                },
                                                "error_y": {
                                                    "color": "#2a3f5f"
                                                },
                                                "marker": {
                                                    "line": {
                                                        "color": "#E5ECF6",
                                                        "width": 0.5
                                                    },
                                                    "pattern": {
                                                        "fillmode": "overlay",
                                                        "size": 10,
                                                        "solidity": 0.2
                                                    }
                                                },
                                                "type": "bar"
                                            }
                                        ],
                                        "barpolar": [
                                            {
                                                "marker": {
                                                    "line": {
                                                        "color": "#E5ECF6",
                                                        "width": 0.5
                                                    },
                                                    "pattern": {
                                                        "fillmode": "overlay",
                                                        "size": 10,
                                                        "solidity": 0.2
                                                    }
                                                },
                                                "type": "barpolar"
                                            }
                                        ],
                                        "carpet": [
                                            {
                                                "aaxis": {
                                                    "endlinecolor": "#2a3f5f",
                                                    "gridcolor": "white",
                                                    "linecolor": "white",
                                                    "minorgridcolor": "white",
                                                    "startlinecolor": "#2a3f5f"
                                                },
                                                "baxis": {
                                                    "endlinecolor": "#2a3f5f",
                                                    "gridcolor": "white",
                                                    "linecolor": "white",
                                                    "minorgridcolor": "white",
                                                    "startlinecolor": "#2a3f5f"
                                                },
                                                "type": "carpet"
                                            }
                                        ],
                                        "choropleth": [
                                            {
                                                "colorbar": {
                                                    "outlinewidth": 0,
                                                    "ticks": ""
                                                },
                                                "type": "choropleth"
                                            }
                                        ],
                                        "contour": [
                                            {
                                                "colorbar": {
                                                    "outlinewidth": 0,
                                                    "ticks": ""
                                                },
                                                "colorscale": [
                                                    [
                                                        0,
                                                        "#0d0887"
                                                    ],
                                                    [
                                                        0.1111111111111111,
                                                        "#46039f"
                                                    ],
                                                    [
                                                        0.2222222222222222,
                                                        "#7201a8"
                                                    ],
                                                    [
                                                        0.3333333333333333,
                                                        "#9c179e"
                                                    ],
                                                    [
                                                        0.4444444444444444,
                                                        "#bd3786"
                                                    ],
                                                    [
                                                        0.5555555555555556,
                                                        "#d8576b"
                                                    ],
                                                    [
                                                        0.6666666666666666,
                                                        "#ed7953"
                                                    ],
                                                    [
                                                        0.7777777777777778,
                                                        "#fb9f3a"
                                                    ],
                                                    [
                                                        0.8888888888888888,
                                                        "#fdca26"
                                                    ],
                                                    [
                                                        1,
                                                        "#f0f921"
                                                    ]
                                                ],
                                                "type": "contour"
                                            }
                                        ],
                                        "contourcarpet": [
                                            {
                                                "colorbar": {
                                                    "outlinewidth": 0,
                                                    "ticks": ""
                                                },
                                                "type": "contourcarpet"
                                            }
                                        ],
                                        "heatmap": [
                                            {
                                                "colorbar": {
                                                    "outlinewidth": 0,
                                                    "ticks": ""
                                                },
                                                "colorscale": [
                                                    [
                                                        0,
                                                        "#0d0887"
                                                    ],
                                                    [
                                                        0.1111111111111111,
                                                        "#46039f"
                                                    ],
                                                    [
                                                        0.2222222222222222,
                                                        "#7201a8"
                                                    ],
                                                    [
                                                        0.3333333333333333,
                                                        "#9c179e"
                                                    ],
                                                    [
                                                        0.4444444444444444,
                                                        "#bd3786"
                                                    ],
                                                    [
                                                        0.5555555555555556,
                                                        "#d8576b"
                                                    ],
                                                    [
                                                        0.6666666666666666,
                                                        "#ed7953"
                                                    ],
                                                    [
                                                        0.7777777777777778,
                                                        "#fb9f3a"
                                                    ],
                                                    [
                                                        0.8888888888888888,
                                                        "#fdca26"
                                                    ],
                                                    [
                                                        1,
                                                        "#f0f921"
                                                    ]
                                                ],
                                                "type": "heatmap"
                                            }
                                        ],
                                        "heatmapgl": [
                                            {
                                                "colorbar": {
                                                    "outlinewidth": 0,
                                                    "ticks": ""
                                                },
                                                "colorscale": [
                                                    [
                                                        0,
                                                        "#0d0887"
                                                    ],
                                                    [
                                                        0.1111111111111111,
                                                        "#46039f"
                                                    ],
                                                    [
                                                        0.2222222222222222,
                                                        "#7201a8"
                                                    ],
                                                    [
                                                        0.3333333333333333,
                                                        "#9c179e"
                                                    ],
                                                    [
                                                        0.4444444444444444,
                                                        "#bd3786"
                                                    ],
                                                    [
                                                        0.5555555555555556,
                                                        "#d8576b"
                                                    ],
                                                    [
                                                        0.6666666666666666,
                                                        "#ed7953"
                                                    ],
                                                    [
                                                        0.7777777777777778,
                                                        "#fb9f3a"
                                                    ],
                                                    [
                                                        0.8888888888888888,
                                                        "#fdca26"
                                                    ],
                                                    [
                                                        1,
                                                        "#f0f921"
                                                    ]
                                                ],
                                                "type": "heatmapgl"
                                            }
                                        ],
                                        "histogram": [
                                            {
                                                "marker": {
                                                    "pattern": {
                                                        "fillmode": "overlay",
                                                        "size": 10,
                                                        "solidity": 0.2
                                                    }
                                                },
                                                "type": "histogram"
                                            }
                                        ],
                                        "histogram2d": [
                                            {
                                                "colorbar": {
                                                    "outlinewidth": 0,
                                                    "ticks": ""
                                                },
                                                "colorscale": [
                                                    [
                                                        0,
                                                        "#0d0887"
                                                    ],
                                                    [
                                                        0.1111111111111111,
                                                        "#46039f"
                                                    ],
                                                    [
                                                        0.2222222222222222,
                                                        "#7201a8"
                                                    ],
                                                    [
                                                        0.3333333333333333,
                                                        "#9c179e"
                                                    ],
                                                    [
                                                        0.4444444444444444,
                                                        "#bd3786"
                                                    ],
                                                    [
                                                        0.5555555555555556,
                                                        "#d8576b"
                                                    ],
                                                    [
                                                        0.6666666666666666,
                                                        "#ed7953"
                                                    ],
                                                    [
                                                        0.7777777777777778,
                                                        "#fb9f3a"
                                                    ],
                                                    [
                                                        0.8888888888888888,
                                                        "#fdca26"
                                                    ],
                                                    [
                                                        1,
                                                        "#f0f921"
                                                    ]
                                                ],
                                                "type": "histogram2d"
                                            }
                                        ],
                                        "histogram2dcontour": [
                                            {
                                                "colorbar": {
                                                    "outlinewidth": 0,
                                                    "ticks": ""
                                                },
                                                "colorscale": [
                                                    [
                                                        0,
                                                        "#0d0887"
                                                    ],
                                                    [
                                                        0.1111111111111111,
                                                        "#46039f"
                                                    ],
                                                    [
                                                        0.2222222222222222,
                                                        "#7201a8"
                                                    ],
                                                    [
                                                        0.3333333333333333,
                                                        "#9c179e"
                                                    ],
                                                    [
                                                        0.4444444444444444,
                                                        "#bd3786"
                                                    ],
                                                    [
                                                        0.5555555555555556,
                                                        "#d8576b"
                                                    ],
                                                    [
                                                        0.6666666666666666,
                                                        "#ed7953"
                                                    ],
                                                    [
                                                        0.7777777777777778,
                                                        "#fb9f3a"
                                                    ],
                                                    [
                                                        0.8888888888888888,
                                                        "#fdca26"
                                                    ],
                                                    [
                                                        1,
                                                        "#f0f921"
                                                    ]
                                                ],
                                                "type": "histogram2dcontour"
                                            }
                                        ],
                                        "mesh3d": [
                                            {
                                                "colorbar": {
                                                    "outlinewidth": 0,
                                                    "ticks": ""
                                                },
                                                "type": "mesh3d"
                                            }
                                        ],
                                        "parcoords": [
                                            {
                                                "line": {
                                                    "colorbar": {
                                                        "outlinewidth": 0,
                                                        "ticks": ""
                                                    }
                                                },
                                                "type": "parcoords"
                                            }
                                        ],
                                        "pie": [
                                            {
                                                "automargin": true,
                                                "type": "pie"
                                            }
                                        ],
                                        "scatter": [
                                            {
                                                "marker": {
                                                    "colorbar": {
                                                        "outlinewidth": 0,
                                                        "ticks": ""
                                                    }
                                                },
                                                "type": "scatter"
                                            }
                                        ],
                                        "scatter3d": [
                                            {
                                                "line": {
                                                    "colorbar": {
                                                        "outlinewidth": 0,
                                                        "ticks": ""
                                                    }
                                                },
                                                "marker": {
                                                    "colorbar": {
                                                        "outlinewidth": 0,
                                                        "ticks": ""
                                                    }
                                                },
                                                "type": "scatter3d"
                                            }
                                        ],
                                        "scattercarpet": [
                                            {
                                                "marker": {
                                                    "colorbar": {
                                                        "outlinewidth": 0,
                                                        "ticks": ""
                                                    }
                                                },
                                                "type": "scattercarpet"
                                            }
                                        ],
                                        "scattergeo": [
                                            {
                                                "marker": {
                                                    "colorbar": {
                                                        "outlinewidth": 0,
                                                        "ticks": ""
                                                    }
                                                },
                                                "type": "scattergeo"
                                            }
                                        ],
                                        "scattergl": [
                                            {
                                                "marker": {
                                                    "colorbar": {
                                                        "outlinewidth": 0,
                                                        "ticks": ""
                                                    }
                                                },
                                                "type": "scattergl"
                                            }
                                        ],
                                        "scattermapbox": [
                                            {
                                                "marker": {
                                                    "colorbar": {
                                                        "outlinewidth": 0,
                                                        "ticks": ""
                                                    }
                                                },
                                                "type": "scattermapbox"
                                            }
                                        ],
                                        "scatterpolar": [
                                            {
                                                "marker": {
                                                    "colorbar": {
                                                        "outlinewidth": 0,
                                                        "ticks": ""
                                                    }
                                                },
                                                "type": "scatterpolar"
                                            }
                                        ],
                                        "scatterpolargl": [
                                            {
                                                "marker": {
                                                    "colorbar": {
                                                        "outlinewidth": 0,
                                                        "ticks": ""
                                                    }
                                                },
                                                "type": "scatterpolargl"
                                            }
                                        ],
                                        "scatterternary": [
                                            {
                                                "marker": {
                                                    "colorbar": {
                                                        "outlinewidth": 0,
                                                        "ticks": ""
                                                    }
                                                },
                                                "type": "scatterternary"
                                            }
                                        ],
                                        "surface": [
                                            {
                                                "colorbar": {
                                                    "outlinewidth": 0,
                                                    "ticks": ""
                                                },
                                                "colorscale": [
                                                    [
                                                        0,
                                                        "#0d0887"
                                                    ],
                                                    [
                                                        0.1111111111111111,
                                                        "#46039f"
                                                    ],
                                                    [
                                                        0.2222222222222222,
                                                        "#7201a8"
                                                    ],
                                                    [
                                                        0.3333333333333333,
                                                        "#9c179e"
                                                    ],
                                                    [
                                                        0.4444444444444444,
                                                        "#bd3786"
                                                    ],
                                                    [
                                                        0.5555555555555556,
                                                        "#d8576b"
                                                    ],
                                                    [
                                                        0.6666666666666666,
                                                        "#ed7953"
                                                    ],
                                                    [
                                                        0.7777777777777778,
                                                        "#fb9f3a"
                                                    ],
                                                    [
                                                        0.8888888888888888,
                                                        "#fdca26"
                                                    ],
                                                    [
                                                        1,
                                                        "#f0f921"
                                                    ]
                                                ],
                                                "type": "surface"
                                            }
                                        ],
                                        "table": [
                                            {
                                                "cells": {
                                                    "fill": {
                                                        "color": "#EBF0F8"
                                                    },
                                                    "line": {
                                                        "color": "white"
                                                    }
                                                },
                                                "header": {
                                                    "fill": {
                                                        "color": "#C8D4E3"
                                                    },
                                                    "line": {
                                                        "color": "white"
                                                    }
                                                },
                                                "type": "table"
                                            }
                                        ]
                                    },
                                    "layout": {
                                        "annotationdefaults": {
                                            "arrowcolor": "#2a3f5f",
                                            "arrowhead": 0,
                                            "arrowwidth": 1
                                        },
                                        "autotypenumbers": "strict",
                                        "coloraxis": {
                                            "colorbar": {
                                                "outlinewidth": 0,
                                                "ticks": ""
                                            }
                                        },
                                        "colorscale": {
                                            "diverging": [
                                                [
                                                    0,
                                                    "#8e0152"
                                                ],
                                                [
                                                    0.1,
                                                    "#c51b7d"
                                                ],
                                                [
                                                    0.2,
                                                    "#de77ae"
                                                ],
                                                [
                                                    0.3,
                                                    "#f1b6da"
                                                ],
                                                [
                                                    0.4,
                                                    "#fde0ef"
                                                ],
                                                [
                                                    0.5,
                                                    "#f7f7f7"
                                                ],
                                                [
                                                    0.6,
                                                    "#e6f5d0"
                                                ],
                                                [
                                                    0.7,
                                                    "#b8e186"
                                                ],
                                                [
                                                    0.8,
                                                    "#7fbc41"
                                                ],
                                                [
                                                    0.9,
                                                    "#4d9221"
                                                ],
                                                [
                                                    1,
                                                    "#276419"
                                                ]
                                            ],
                                            "sequential": [
                                                [
                                                    0,
                                                    "#0d0887"
                                                ],
                                                [
                                                    0.1111111111111111,
                                                    "#46039f"
                                                ],
                                                [
                                                    0.2222222222222222,
                                                    "#7201a8"
                                                ],
                                                [
                                                    0.3333333333333333,
                                                    "#9c179e"
                                                ],
                                                [
                                                    0.4444444444444444,
                                                    "#bd3786"
                                                ],
                                                [
                                                    0.5555555555555556,
                                                    "#d8576b"
                                                ],
                                                [
                                                    0.6666666666666666,
                                                    "#ed7953"
                                                ],
                                                [
                                                    0.7777777777777778,
                                                    "#fb9f3a"
                                                ],
                                                [
                                                    0.8888888888888888,
                                                    "#fdca26"
                                                ],
                                                [
                                                    1,
                                                    "#f0f921"
                                                ]
                                            ],
                                            "sequentialminus": [
                                                [
                                                    0,
                                                    "#0d0887"
                                                ],
                                                [
                                                    0.1111111111111111,
                                                    "#46039f"
                                                ],
                                                [
                                                    0.2222222222222222,
                                                    "#7201a8"
                                                ],
                                                [
                                                    0.3333333333333333,
                                                    "#9c179e"
                                                ],
                                                [
                                                    0.4444444444444444,
                                                    "#bd3786"
                                                ],
                                                [
                                                    0.5555555555555556,
                                                    "#d8576b"
                                                ],
                                                [
                                                    0.6666666666666666,
                                                    "#ed7953"
                                                ],
                                                [
                                                    0.7777777777777778,
                                                    "#fb9f3a"
                                                ],
                                                [
                                                    0.8888888888888888,
                                                    "#fdca26"
                                                ],
                                                [
                                                    1,
                                                    "#f0f921"
                                                ]
                                            ]
                                        },
                                        "colorway": [
                                            "#636efa",
                                            "#EF553B",
                                            "#00cc96",
                                            "#ab63fa",
                                            "#FFA15A",
                                            "#19d3f3",
                                            "#FF6692",
                                            "#B6E880",
                                            "#FF97FF",
                                            "#FECB52"
                                        ],
                                        "font": {
                                            "color": "#2a3f5f"
                                        },
                                        "geo": {
                                            "bgcolor": "white",
                                            "lakecolor": "white",
                                            "landcolor": "#E5ECF6",
                                            "showlakes": true,
                                            "showland": true,
                                            "subunitcolor": "white"
                                        },
                                        "hoverlabel": {
                                            "align": "left"
                                        },
                                        "hovermode": "closest",
                                        "mapbox": {
                                            "style": "light"
                                        },
                                        "paper_bgcolor": "white",
                                        "plot_bgcolor": "#E5ECF6",
                                        "polar": {
                                            "angularaxis": {
                                                "gridcolor": "white",
                                                "linecolor": "white",
                                                "ticks": ""
                                            },
                                            "bgcolor": "#E5ECF6",
                                            "radialaxis": {
                                                "gridcolor": "white",
                                                "linecolor": "white",
                                                "ticks": ""
                                            }
                                        },
                                        "scene": {
                                            "xaxis": {
                                                "backgroundcolor": "#E5ECF6",
                                                "gridcolor": "white",
                                                "gridwidth": 2,
                                                "linecolor": "white",
                                                "showbackground": true,
                                                "ticks": "",
                                                "zerolinecolor": "white"
                                            },
                                            "yaxis": {
                                                "backgroundcolor": "#E5ECF6",
                                                "gridcolor": "white",
                                                "gridwidth": 2,
                                                "linecolor": "white",
                                                "showbackground": true,
                                                "ticks": "",
                                                "zerolinecolor": "white"
                                            },
                                            "zaxis": {
                                                "backgroundcolor": "#E5ECF6",
                                                "gridcolor": "white",
                                                "gridwidth": 2,
                                                "linecolor": "white",
                                                "showbackground": true,
                                                "ticks": "",
                                                "zerolinecolor": "white"
                                            }
                                        },
                                        "shapedefaults": {
                                            "line": {
                                                "color": "#2a3f5f"
                                            }
                                        },
                                        "ternary": {
                                            "aaxis": {
                                                "gridcolor": "white",
                                                "linecolor": "white",
                                                "ticks": ""
                                            },
                                            "baxis": {
                                                "gridcolor": "white",
                                                "linecolor": "white",
                                                "ticks": ""
                                            },
                                            "bgcolor": "#E5ECF6",
                                            "caxis": {
                                                "gridcolor": "white",
                                                "linecolor": "white",
                                                "ticks": ""
                                            }
                                        },
                                        "title": {
                                            "x": 0.05
                                        },
                                        "xaxis": {
                                            "automargin": true,
                                            "gridcolor": "white",
                                            "linecolor": "white",
                                            "ticks": "",
                                            "title": {
                                                "standoff": 15
                                            },
                                            "zerolinecolor": "white",
                                            "zerolinewidth": 2
                                        },
                                        "yaxis": {
                                            "automargin": true,
                                            "gridcolor": "white",
                                            "linecolor": "white",
                                            "ticks": "",
                                            "title": {
                                                "standoff": 15
                                            },
                                            "zerolinecolor": "white",
                                            "zerolinewidth": 2
                                        }
                                    }
                                }
                            }
                        }
                    },
                    "metadata": {},
                    "output_type": "display_data"
                }
            ],
            "source": [
                "f = sp.cos(x)\n",
                "\n",
                "xx = np.linspace(1,np.pi,20)\n",
                "\n",
                "y_real = [float(f.subs(x, i)) for i in xx]\n",
                "y0 = [float(taylor_expansion(f, np.pi/4, 0).subs(x, i)) for i in xx]\n",
                "y1 = [float(taylor_expansion(f, np.pi/4, 1).subs(x, i)) for i in xx]\n",
                "y2 = [float(taylor_expansion(f, np.pi/4, 2).subs(x, i)) for i in xx]\n",
                "y3 = [float(taylor_expansion(f, np.pi/4, 3).subs(x, i)) for i in xx]\n",
                "y4 = [float(taylor_expansion(f, np.pi/4, 4).subs(x, i)) for i in xx]\n",
                "y10 = [float(taylor_expansion(f, np.pi/4, 10).subs(x, i)) for i in xx]\n",
                "\n",
                "\n",
                "fig = go.Figure()\n",
                "fig.add_scatter(x = xx, y = y_real, name = 'real values')\n",
                "fig.add_scatter(x = xx, y = y0, name = 'zero order')\n",
                "fig.add_scatter(x = xx, y = y1, name = 'first order')\n",
                "fig.add_scatter(x = xx, y = y2, name = 'second order')\n",
                "fig.add_scatter(x = xx, y = y3, name = 'third order')\n",
                "fig.add_scatter(x = xx, y = y4, name = 'forth order')\n",
                "fig.add_scatter(x = xx, y = y10, name = 'tenth order')"
            ]
        },
        {
            "cell_type": "markdown",
            "metadata": {},
            "source": [
                "## Propagação de erros\n",
                "\n",
                "Para $n$ variaveis independentes $x_1, x_2, ...,x_n$ tendo erros $\\Delta \\tilde{x}_1, \\Delta \\tilde{x}_2, ..., \\Delta \\tilde{x}_n$, o erro da função $f$ pode ser estimado por\n",
                "\n",
                "$$\n",
                "\\Delta f = |\\frac{\\partial f}{\\partial x_1}| \\Delta \\tilde{x}_1 + |\\frac{\\partial f}{\\partial x_2}| \\Delta \\tilde{x}_2 + ... + |\\frac{\\partial f}{\\partial x_n}| \\Delta \\tilde{x}_n\n",
                "$$"
            ]
        },
        {
            "cell_type": "code",
            "execution_count": null,
            "metadata": {},
            "outputs": [],
            "source": []
        }
    ],
    "metadata": {
        "kernelspec": {
            "display_name": "Python 3.9.13 ('base')",
            "language": "python",
            "name": "python3"
        },
        "language_info": {
            "codemirror_mode": {
                "name": "ipython",
                "version": 3
            },
            "file_extension": ".py",
            "mimetype": "text/x-python",
            "name": "python",
            "nbconvert_exporter": "python",
            "pygments_lexer": "ipython3",
            "version": "3.9.13"
        },
        "orig_nbformat": 4,
        "vscode": {
            "interpreter": {
                "hash": "92b1d5f842d7c1e714e1ab666cefb8d1f75311aac337aae0336133957fcbf554"
            }
        }
    },
    "nbformat": 4,
    "nbformat_minor": 2
}
