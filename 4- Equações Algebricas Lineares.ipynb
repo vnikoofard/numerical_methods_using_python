{
 "cells": [
  {
   "cell_type": "code",
   "execution_count": 1,
   "source": [
    "import numpy as np\n",
    "import sympy as sp\n",
    "import numba"
   ],
   "outputs": [],
   "metadata": {}
  },
  {
   "cell_type": "markdown",
   "source": [
    "# Oprações Matriciais"
   ],
   "metadata": {}
  },
  {
   "cell_type": "code",
   "execution_count": 55,
   "source": [
    "mat33 = np.array([[1,2,3], [5,6,3], [4,8,1]])\n",
    "mat43 = np.array([[1,2,3], [5,6,3], [4,8,1], [4,-1,10]])\n",
    "arr = np.array([3,4,5])"
   ],
   "outputs": [],
   "metadata": {}
  },
  {
   "cell_type": "code",
   "execution_count": 4,
   "source": [
    "mat33"
   ],
   "outputs": [
    {
     "output_type": "execute_result",
     "data": {
      "text/plain": [
       "array([[1, 2, 3],\n",
       "       [5, 6, 3],\n",
       "       [4, 8, 1]])"
      ]
     },
     "metadata": {},
     "execution_count": 4
    }
   ],
   "metadata": {}
  },
  {
   "cell_type": "markdown",
   "source": [
    "## Traço de Matrix"
   ],
   "metadata": {}
  },
  {
   "cell_type": "code",
   "execution_count": 6,
   "source": [
    "def matrix_trace(a):\n",
    "    assert a.shape[0] == a.shape[1], 'Matrix must be quadratic'\n",
    "    sum = 0\n",
    "    for i in range(len(a)):\n",
    "        sum += a[i][i]\n",
    "    \n",
    "    return sum"
   ],
   "outputs": [],
   "metadata": {}
  },
  {
   "cell_type": "code",
   "execution_count": 7,
   "source": [
    "matrix_trace(mat33)"
   ],
   "outputs": [
    {
     "output_type": "execute_result",
     "data": {
      "text/plain": [
       "8"
      ]
     },
     "metadata": {},
     "execution_count": 7
    }
   ],
   "metadata": {}
  },
  {
   "cell_type": "code",
   "execution_count": 8,
   "source": [
    "mat33.trace()"
   ],
   "outputs": [
    {
     "output_type": "execute_result",
     "data": {
      "text/plain": [
       "8"
      ]
     },
     "metadata": {},
     "execution_count": 8
    }
   ],
   "metadata": {}
  },
  {
   "cell_type": "markdown",
   "source": [
    "## Transposto de Matrix"
   ],
   "metadata": {}
  },
  {
   "cell_type": "code",
   "execution_count": 30,
   "source": [
    "def matrix_tranpose(a):\n",
    "    res = np.empty((a.shape[1], a.shape[0]))\n",
    "    for idx, row in enumerate(a):\n",
    "        for i, element in enumerate(row):\n",
    "            res[i, idx] = element\n",
    "\n",
    "    return res"
   ],
   "outputs": [],
   "metadata": {}
  },
  {
   "cell_type": "code",
   "execution_count": 37,
   "source": [
    "matrix_tranpose(mat43)"
   ],
   "outputs": [
    {
     "output_type": "execute_result",
     "data": {
      "text/plain": [
       "array([[ 1.,  5.,  4.,  4.],\n",
       "       [ 2.,  6.,  8., -1.],\n",
       "       [ 3.,  3.,  1., 10.]])"
      ]
     },
     "metadata": {},
     "execution_count": 37
    }
   ],
   "metadata": {}
  },
  {
   "cell_type": "code",
   "execution_count": 38,
   "source": [
    "mat43.T"
   ],
   "outputs": [
    {
     "output_type": "execute_result",
     "data": {
      "text/plain": [
       "array([[ 1,  5,  4,  4],\n",
       "       [ 2,  6,  8, -1],\n",
       "       [ 3,  3,  1, 10]])"
      ]
     },
     "metadata": {},
     "execution_count": 38
    }
   ],
   "metadata": {}
  },
  {
   "cell_type": "markdown",
   "source": [
    "## Produto Matricial"
   ],
   "metadata": {}
  },
  {
   "cell_type": "code",
   "execution_count": 25,
   "source": [
    "@numba.njit()\n",
    "def matrix_prod(a, b):\n",
    "    assert a.shape[1] == b.shape[0], \"The product is not defined\"\n",
    "    res = np.empty((a.shape[0], b.shape[1]))\n",
    "    for idx_r, row in enumerate(a):\n",
    "        for idx_c, col in enumerate(b.T):\n",
    "            sum = 0\n",
    "            for i, j in zip(row, col):\n",
    "                sum += i*j\n",
    "            res[idx_r, idx_c] = sum\n",
    "    \n",
    "    return res\n"
   ],
   "outputs": [],
   "metadata": {}
  },
  {
   "cell_type": "code",
   "execution_count": 28,
   "source": [
    "%timeit matrix_prod(mat33, mat33)"
   ],
   "outputs": [
    {
     "output_type": "stream",
     "name": "stdout",
     "text": [
      "652 ns ± 15.7 ns per loop (mean ± std. dev. of 7 runs, 1000000 loops each)\n"
     ]
    }
   ],
   "metadata": {}
  },
  {
   "cell_type": "code",
   "execution_count": 22,
   "source": [
    "%timeit mat33.dot(mat33)"
   ],
   "outputs": [
    {
     "output_type": "stream",
     "name": "stdout",
     "text": [
      "554 ns ± 12.6 ns per loop (mean ± std. dev. of 7 runs, 1000000 loops each)\n"
     ]
    }
   ],
   "metadata": {}
  },
  {
   "cell_type": "markdown",
   "source": [
    "# Representando Equações Algébricas Lineares na Forma Matricial\n",
    "\n",
    "Um sistema de equações lineares pode ser representado como um produto matricual. Vamos ver atraves de um exemplo. \n",
    "\n",
    "O sistema abaixo\n",
    "$$\n",
    "2x + 3y - z = 2 \\\\\n",
    "x - 4y + 2z = 5 \\\\\n",
    "-3x - y + 9z = -3\n",
    "$$\n",
    "Pode ser escrito como\n",
    "\n",
    "$$\n",
    "A = \\begin{bmatrix}\n",
    "2 & 3 & -1 \\\\\n",
    "1 & -4 & 2 \\\\\n",
    "-3 & -1 & 9 \n",
    "\\end{bmatrix}  \n",
    "\\\\\n",
    "X = \\begin{bmatrix}\n",
    "x  \\\\\n",
    "y  \\\\\n",
    "z  \n",
    "\\end{bmatrix}\n",
    "\\\\\n",
    "B = \\begin{bmatrix}\n",
    "2  \\\\\n",
    "5  \\\\\n",
    "-3  \n",
    "\\end{bmatrix}\n",
    "$$\n",
    "\n",
    "Aí, com essas definições podem reescrever o sistema na forma matricial\n",
    "$$\n",
    "\\Rightarrow AX = B\n",
    "$$ \n",
    "Agora, se multiplicarmos os dois lados por $A^{-1}$ teremos\n",
    "$$\n",
    "A^{-1} A X = A^{-1} B \\rightarrow X = A^{-1} B\n",
    "$$\n",
    "Então, a equação foi resolvida e $X$ for determinado. Esse é um outro exemplo de como\n",
    "a inversa desempenha um papel na álgebra de matrizes que é semelhante à divisão. Devemos observar que esse não é um método muito eficiente para resolver um sistema de equações. Portanto, outras abordagens são empregadas nos algoritmos numéricos.\n",
    "\n",
    "# Eliminação de Gauss\n",
    "\n",
    "Este metodo envolve combinar equações para eliminar variáveis. Apesar de ser um dos métodos mais antigos para resolver equações simultâneas, mantém-se como um dos algoritmos mais importantes em uso hoje em dia e é a base da resolução de equações lineares em muitos pacotes de software populares.\n",
    "\n",
    "\n",
    "## Determinantes e a Regra de Cramer\n",
    "\n",
    "Determinante é um conceito muito importante em calculo matricial. Vamos ver como esse conceito nos ajuda a descobrir se um sistema tem solução ou não. E alem disso, precisaremos dele para implementar a regra de Cramer para resolver um sistema de eqs. lineares.\n",
    "\n",
    "O determinante de uma matrix 2x2 é definido como\n",
    "$$\n",
    "D = \\begin{vmatrix}\n",
    "a_{11} & a_{12} \\\\\n",
    "a_{21} & a_{22}  \n",
    "\\end{vmatrix} \n",
    " = a_{11}a_{22} - a_{12}a_{21}\n",
    "$$\n",
    "E para uma matrix 3x3 é \n",
    "$$\n",
    "D = \\begin{vmatrix}\n",
    "a_{11} & a_{12} & a_{13}\\\\\n",
    "a_{21} & a_{22} & a_{23} \\\\\n",
    "a_{31} & a_{32} & a_{33} \n",
    "\\end{vmatrix} \n",
    " = \n",
    " a_{11}\\begin{vmatrix}\n",
    "a_{22} & a_{23} \\\\\n",
    "a_{32} & a_{33}  \n",
    "\\end{vmatrix}  - \n",
    "a_{12}\\begin{vmatrix}\n",
    "a_{21} & a_{23} \\\\\n",
    "a_{31} & a_{33}  \n",
    "\\end{vmatrix} + \n",
    "a_{13}\\begin{vmatrix}\n",
    "a_{21} & a_{22} \\\\\n",
    "a_{31} & a_{32}  \n",
    "\\end{vmatrix}\n",
    "$$\n",
    "\n",
    "\n",
    "\n",
    "\n"
   ],
   "metadata": {}
  },
  {
   "cell_type": "code",
   "execution_count": 42,
   "source": [
    "def matrix_determinent(a):\n",
    "    assert a.shape[0] == a.shape[1], 'Matrix must be quadratic'\n",
    "    assert len(a) == 2 or len(a) == 3, 'The shape of matrix must be 2x2 or 3x3'\n",
    "\n",
    "    if len(a) == 2:\n",
    "        return a[0,0]*a[1,1] - a[0,1]*a[1,0]\n",
    "    if len(a) == 3:\n",
    "        return a[0,0]*matrix_determinent(a[1:,[1,2]]) - a[0,1]*matrix_determinent(a[1:,[0,2]])+\\\n",
    "            a[0,2]*matrix_determinent(a[1:,[0,1]])\n"
   ],
   "outputs": [],
   "metadata": {}
  },
  {
   "cell_type": "code",
   "execution_count": 43,
   "source": [
    "matrix_determinent(mat33)"
   ],
   "outputs": [
    {
     "output_type": "execute_result",
     "data": {
      "text/plain": [
       "44"
      ]
     },
     "metadata": {},
     "execution_count": 43
    }
   ],
   "metadata": {}
  },
  {
   "cell_type": "code",
   "execution_count": 36,
   "source": [
    "np.linalg.det(mat33)"
   ],
   "outputs": [
    {
     "output_type": "execute_result",
     "data": {
      "text/plain": [
       "43.99999999999997"
      ]
     },
     "metadata": {},
     "execution_count": 36
    }
   ],
   "metadata": {}
  },
  {
   "cell_type": "markdown",
   "source": [
    "Um sistema se diz **singular** se tiver determinante nulo. Neste caso, o sistema não tem uma solução unica. \n",
    "\n",
    "## Regra de Cramer. \n",
    "Essa regra estabelece que cada incógnita em um sistema de equações algébricas lineares pode ser expressa como uma fração de dois determinantes, com denominador $D$ e com o numerador obtido a partir de $D$ trocando-se a coluna de coeficientes da incógnita em questão pelas constantes $b_1, b_2,..., b_n$ . Por exemplo, $x_1$ é calculada por\n",
    "$$\n",
    "x_1 = \\frac{\\begin{vmatrix}\n",
    "b_{1} & a_{12} & a_{13}\\\\\n",
    "b_{2} & a_{22} & a_{23} \\\\\n",
    "b_{3} & a_{32} & a_{33} \n",
    "\\end{vmatrix} }{D}\n",
    "$$\n",
    "\n",
    "### **Exemplo:** Use a regra de Cramer para resolver\n",
    "\n",
    "$$\n",
    "\\begin{align}\n",
    "0.3 x_1 &+ 0.52 x_2 + x_3 = -0.01 \\\\\n",
    "0.5 x_1 &+ x_2 + 1.9 x_3 = 0.67 \\\\\n",
    "0.1 x_1 &+ 0.3 x_2 + 0.5 x_3 = -0.44\n",
    "\\end{align}\n",
    "$$\n",
    "\n"
   ],
   "metadata": {}
  },
  {
   "cell_type": "code",
   "execution_count": 74,
   "source": [
    "def cramer(a, b):\n",
    "    assert a.shape[0] == a.shape[1], 'Matrix must be quadratic'\n",
    "    assert a.shape[0] == b.shape[0], 'The dimension of the matrix must the same as the vector of constants'\n",
    "    D = matrix_determinent(a)\n",
    "    temp = a.copy()\n",
    "    temp[:,0] = b\n",
    "    x1 = matrix_determinent(temp)/D\n",
    "\n",
    "    temp = a.copy()\n",
    "    temp[:,1] = b\n",
    "    x2 = matrix_determinent(temp)/D\n",
    "\n",
    "    temp = a.copy()\n",
    "    temp[:,2] = b\n",
    "    x3 = matrix_determinent(temp)/D\n",
    "\n",
    "    return x1, x2, x3\n"
   ],
   "outputs": [],
   "metadata": {}
  },
  {
   "cell_type": "code",
   "execution_count": 75,
   "source": [
    "A = np.array([[0.3, 0.52, 1], [0.5, 1, 1.9], [0.1, 0.3, 0.5]])\n",
    "B = np.array([-0.01, 0.67, -0.44])"
   ],
   "outputs": [],
   "metadata": {}
  },
  {
   "cell_type": "code",
   "execution_count": 76,
   "source": [
    "cramer(A,B)"
   ],
   "outputs": [
    {
     "output_type": "execute_result",
     "data": {
      "text/plain": [
       "(-14.900000000000057, -29.500000000000068, 19.80000000000005)"
      ]
     },
     "metadata": {},
     "execution_count": 76
    }
   ],
   "metadata": {}
  },
  {
   "cell_type": "markdown",
   "source": [
    "Para mais de três equações, a regra de Cramer torna-se impraticável, pois à medida\n",
    "que o número de equações cresce, os determinantes demoram mais para ser calculados à\n",
    "mão (ou pelo computador). Conseqüentemente, são usadas alternativas mais eficientes.\n",
    "\n",
    "## Eliminação de Gauss Ingênua\n",
    "\n",
    "Esse método é baseado tecnicas sistematicas para eliminação as variaveis de um sistema progressivamente e substituição regressiva. Apesar de essas técnicas serem hipoteticamente adequadas para implementação em computadores, algumas modificações serãon ecessárias para se obter um algoritmo confiável. Em particular, o programa de computador deve evitar a divisão por zero. O método a seguir é chamado de eliminação de Gauss “ingênua” porque não evita esse problema. Seções subseqüentes irão tratar das características adicionais necessárias para um programa de computador efetivo.\n",
    "Vamos ver esse método resolvendo o exemplo anterior\n",
    "\n",
    "$\\begin{align*}\n",
    "3 x_1 - 0.1 x_2 - 0.2 x_3 &= 7.85 \\\\\n",
    "0.1 x_1 + 7x_2 - 0.3 x_3 &= -19.3 \\\\\n",
    "0.3 x_1 - 0.2 x_2 + 10 x_3 &= 71.4\n",
    "\\end{align*}$\n",
    "\n",
    "A primeira fase é projetada para reduzir o conjunto de equações a um sistema triangular superior. Para fazer isso vamos eliminar a variavel $x_1$ da segunda equação e $x_1, x_2$ da terceira equação. \n",
    "\n",
    "Multiplicamos a primeira linha por $\\frac{0.1}{3}$ e depois subtraimos a segunda linha da primeira. O resultado é a nova segunda linha\n",
    "\n",
    "$$\n",
    "\\begin{align}\n",
    "\\text{Nova segunda linha}&: (0.1 x_1 + 7x_2 - 0.3 x_3 = -19.3) \\\\ \n",
    "& - \\frac{0.1}{3}\\times(3 x_1 - 0.1 x_2 - 0.2 x_3 = 7.85) \\\\\n",
    "&= 7.00333 x_2 - 0.293333 x_3 = -19.5617\n",
    "\\end{align}\n",
    "$$\n",
    "Depois dessa operação o conjunto de equações é \n",
    "$$\n",
    "\\begin{align}\n",
    "3 x_1 - 0.1 x_2 - 0.2 x_3 &= 7.85 \\\\\n",
    "7.00333 x_2 - 0.293333 x_3 &= -19.5617 \\\\\n",
    "0.3 x_1 - 0.2 x_2 + 10 x_3 &= 71.4\n",
    "\\end{align}\n",
    "$$\n",
    "Na proxima etapa eliminamos $x_1$ da terceira equação. Para fazer isso multiplicamos a primeira linha por $\\frac{0.3}{3}$ e subtraimos da terceira linha. O resultado fica\n",
    " $$\n",
    "\\begin{align}\n",
    "3 x_1 - 0.1 x_2 - 0.2 x_3 &= 7.85 \\\\\n",
    "7.00333 x_2 - 0.293333 x_3 &= -19.5617 \\\\\n",
    "- 0.1900 x_2 + 10.0200 x_3 &= 70.6150\n",
    "\\end{align}\n",
    "$$\n",
    "O ultimo passo da primeira fase é eliminar $x_2$ da terceira equação. Multiplicamos a segunda equação por $\\frac{-.1900}{7.0033}$ e subtraimos da terceira. Isso elimina $x_2$ da terceira equação e reduz o sistema a um sistema triangular superior, como em\n",
    " $$\n",
    "\\begin{align}\n",
    "3 x_1 - 0.1 x_2 - 0.2 x_3 &= 7.85 \\\\\n",
    "7.00333 x_2 - 0.293333 x_3 &= -19.5617 \\\\\n",
    " 10.120 x_3 &= 70.0843\n",
    "\\end{align}\n",
    "$$\n",
    "Agora, é possível resolver essas equações por substituição regressiva. Primeiro, a\n",
    "terceira equação pode ser resolvida para determinar\n",
    "$$\n",
    "x_3 = \\frac{70.843}{10.0120} = 7.000\n",
    "$$\n",
    "Esse resultado pode ser substituído na segunda equação\n",
    "$$\n",
    "7.0033 x_2 - 0.293333(7.000) = -2.5000\n",
    "$$\n",
    "Finalmente os valores de $x_3$ e $x_2$ podem ser inseridos na primeira equação\n",
    "$$\n",
    "3x_1 - 0.1(-2.5000) - 0.2(7.0000) = 7.85 = 3.000\n",
    "$$\n",
    "Tais resultados são idênticos à solução exata. Podemos testar o resultado inserindo os valores no sistema.\n",
    "\n",
    "Esse metodo é facilmente estendido para uma sistema com $n$ equações e $n$ variaveis. \n",
    "\n",
    "Para uma sistema com $n$ variaveis o numero das operações com ponto flutuante (ou flops) para resolver o sistema usando o metodo de eliminação de Gauss é da ordem \n",
    "$$\n",
    " \\underbrace{\\frac{2n^3}{2} +\\mathcal{O}(n^2)}_{\\text{Eliminação progressiva}} +  \\underbrace{n^2 +\\mathcal{O}(n)}_{\\text{Substituição regressiva}} \\overbrace{\\longrightarrow}^{\\text{quando n cresce}} \\frac{2n^3}{2} +\\mathcal{O}(n^2)\n",
    "$$\n",
    "Agora vamos tentar implementar este algoritmo. O pseducorde para este algoritmo é \n",
    "\n",
    "<img src=\"./images/gauss_elimi_simple.jpg\" style=\"width:250px;height:350px;\">"
   ],
   "metadata": {}
  },
  {
   "cell_type": "code",
   "execution_count": 140,
   "source": [
    "def gauss_elimination_minimal(A, b):\n",
    "    assert A.shape[0] == A.shape[1], 'the matrix of coefficients must be squared'\n",
    "\n",
    "    mat = np.concatenate([A, b.reshape(-1,1)], axis=1)\n",
    "    for idx_i in range(0, len(mat)-1):\n",
    "        for idx_j in range(idx_i+1, len(mat)):\n",
    "            factor = mat[idx_j, idx_i] / mat[idx_i, idx_i] \n",
    "            mat[idx_j] = mat[idx_j] - factor * mat[idx_i]\n",
    "\n",
    "    n = len(A)-1\n",
    "    xs = np.zeros(len(A))\n",
    "    xs[-1] = mat[n,n+1]/mat[n,n]\n",
    "\n",
    "    for i in range(n-1, -1, -1):\n",
    "        sum = mat[i, -1]\n",
    "        for j in range(0, len(A)):\n",
    "            sum -= mat[i, j]* xs[j]\n",
    "        xs[i] = sum / mat[i,i]\n",
    "\n",
    "    return xs"
   ],
   "outputs": [],
   "metadata": {}
  },
  {
   "cell_type": "code",
   "execution_count": 141,
   "source": [
    "AA = np.array([[3, -.1, -0.2], [0.1, 7, -0.3], [0.3, -0.2, 10]])\n",
    "bb = np.array([7.85, -19.3, 71.4])"
   ],
   "outputs": [],
   "metadata": {}
  },
  {
   "cell_type": "code",
   "execution_count": 142,
   "source": [
    "gauss_elimination_minimal(AA, bb)"
   ],
   "outputs": [
    {
     "output_type": "execute_result",
     "data": {
      "text/plain": [
       "array([ 3. , -2.5,  7. ])"
      ]
     },
     "metadata": {},
     "execution_count": 142
    }
   ],
   "metadata": {}
  },
  {
   "cell_type": "markdown",
   "source": [
    "## Armadilhas dos métodos de eliminação\n",
    "\n",
    "Embora existam muitos sistemas de equações que podem ser resolvidas pela eliminação\n",
    "de Gauss ingênua, há algumas armadilhas que precisam ser exploradas antes de escrever\n",
    "um programa de computador geral para implementar o método.\n",
    "\n",
    "### Divisão por zero\n",
    "\n",
    "A principal razão para que a técnica anterior seja chamada de “ingênua” é que tanto durante a fase de eliminação quanto durante a de substituição é possível ocorrer uma divisão por zero. Por exemplo, se for usada a eliminação de Gauss ingênua para resolver\n",
    "\n",
    "$$\n",
    "\\begin{align}\n",
    "2 x_2 - 3 x_3 &= 7 \\\\\n",
    "4x_1 + 6 x_2 - 7 x_3 &= -3 \\\\\n",
    "2 x_1 -  x_2 + 6 x_3 &= 5\n",
    "\\end{align}\n",
    "$$\n",
    "\n",
    "a normalização da primeira linha iria envolver a divisão por $a_{11} = 0$. Também podem surgir problemas quando um coeficiente está muito próximo de zero. A técnica de pivotamento foi desenvolvida para evitar parcialmente esses problemas.\n",
    "\n",
    "### Erros de Arredondamento"
   ],
   "metadata": {}
  },
  {
   "cell_type": "code",
   "execution_count": null,
   "source": [],
   "outputs": [],
   "metadata": {}
  }
 ],
 "metadata": {
  "interpreter": {
   "hash": "6b999023d3c78d31a29340b60dffb0231e86afde0b96b9a787fbee7e3f5558ae"
  },
  "kernelspec": {
   "name": "python3",
   "display_name": "Python 3.8.10 64-bit ('base': conda)"
  },
  "language_info": {
   "codemirror_mode": {
    "name": "ipython",
    "version": 3
   },
   "file_extension": ".py",
   "mimetype": "text/x-python",
   "name": "python",
   "nbconvert_exporter": "python",
   "pygments_lexer": "ipython3",
   "version": "3.8.10"
  }
 },
 "nbformat": 4,
 "nbformat_minor": 2
}