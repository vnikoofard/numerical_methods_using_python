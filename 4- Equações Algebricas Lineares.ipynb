{
 "cells": [
  {
   "cell_type": "code",
   "execution_count": 1,
   "metadata": {},
   "outputs": [],
   "source": [
    "import numpy as np\n",
    "import sympy as sp\n",
    "from numba import njit\n",
    "from scipy import linalg"
   ]
  },
  {
   "cell_type": "markdown",
   "metadata": {},
   "source": [
    "# Opreações Matriciais"
   ]
  },
  {
   "cell_type": "code",
   "execution_count": 12,
   "metadata": {},
   "outputs": [],
   "source": [
    "mat33 = np.array([[1,2,3], [5,6,3], [4,8,1]])\n",
    "mat43 = np.array([[1,2,3], [5,6,3], [4,8,1], [4,-1,10]])\n",
    "arr = np.array([3,4,5])"
   ]
  },
  {
   "cell_type": "code",
   "execution_count": 13,
   "metadata": {},
   "outputs": [
    {
     "data": {
      "text/plain": [
       "array([[1, 2, 3],\n",
       "       [5, 6, 3],\n",
       "       [4, 8, 1]])"
      ]
     },
     "execution_count": 13,
     "metadata": {},
     "output_type": "execute_result"
    }
   ],
   "source": [
    "mat33"
   ]
  },
  {
   "cell_type": "markdown",
   "metadata": {},
   "source": [
    "## Traço de Matrix"
   ]
  },
  {
   "cell_type": "code",
   "execution_count": 14,
   "metadata": {},
   "outputs": [],
   "source": [
    "def matrix_trace(a):\n",
    "    assert a.shape[0] == a.shape[1], 'Matrix must be quadratic'\n",
    "    sum = 0\n",
    "    for i in range(len(a)):\n",
    "        sum += a[i][i]\n",
    "    \n",
    "    return sum"
   ]
  },
  {
   "cell_type": "code",
   "execution_count": 15,
   "metadata": {},
   "outputs": [
    {
     "data": {
      "text/plain": [
       "8"
      ]
     },
     "execution_count": 15,
     "metadata": {},
     "output_type": "execute_result"
    }
   ],
   "source": [
    "matrix_trace(mat33)"
   ]
  },
  {
   "cell_type": "code",
   "execution_count": 16,
   "metadata": {},
   "outputs": [
    {
     "data": {
      "text/plain": [
       "8"
      ]
     },
     "execution_count": 16,
     "metadata": {},
     "output_type": "execute_result"
    }
   ],
   "source": [
    "mat33.trace()"
   ]
  },
  {
   "cell_type": "markdown",
   "metadata": {},
   "source": [
    "## Transposto de Matrix"
   ]
  },
  {
   "cell_type": "code",
   "execution_count": 17,
   "metadata": {},
   "outputs": [],
   "source": [
    "def matrix_tranpose(a):\n",
    "    res = np.empty((a.shape[1], a.shape[0]))\n",
    "    for idx, row in enumerate(a):\n",
    "        for i, element in enumerate(row):\n",
    "            res[i, idx] = element\n",
    "\n",
    "    return res"
   ]
  },
  {
   "cell_type": "code",
   "execution_count": 18,
   "metadata": {},
   "outputs": [
    {
     "data": {
      "text/plain": [
       "array([[ 1.,  5.,  4.,  4.],\n",
       "       [ 2.,  6.,  8., -1.],\n",
       "       [ 3.,  3.,  1., 10.]])"
      ]
     },
     "execution_count": 18,
     "metadata": {},
     "output_type": "execute_result"
    }
   ],
   "source": [
    "matrix_tranpose(mat43)"
   ]
  },
  {
   "cell_type": "code",
   "execution_count": 19,
   "metadata": {},
   "outputs": [
    {
     "data": {
      "text/plain": [
       "array([[ 1,  5,  4,  4],\n",
       "       [ 2,  6,  8, -1],\n",
       "       [ 3,  3,  1, 10]])"
      ]
     },
     "execution_count": 19,
     "metadata": {},
     "output_type": "execute_result"
    }
   ],
   "source": [
    "mat43.T"
   ]
  },
  {
   "cell_type": "markdown",
   "metadata": {},
   "source": [
    "## Produto Matricial"
   ]
  },
  {
   "cell_type": "code",
   "execution_count": 51,
   "metadata": {},
   "outputs": [],
   "source": [
    "@njit()\n",
    "def matrix_prod(a, b):\n",
    "    assert a.shape[1] == b.shape[0], \"The product is not defined\"\n",
    "    res = np.empty((a.shape[0], b.shape[1]))\n",
    "    for idx_r, row in enumerate(a):\n",
    "        for idx_c, col in enumerate(b.T):\n",
    "            sum = 0\n",
    "            for i, j in zip(row, col):\n",
    "                sum += i*j\n",
    "            res[idx_r, idx_c] = sum\n",
    "    \n",
    "    return res\n"
   ]
  },
  {
   "cell_type": "code",
   "execution_count": 52,
   "metadata": {},
   "outputs": [
    {
     "name": "stdout",
     "output_type": "stream",
     "text": [
      "631 ns ± 21 ns per loop (mean ± std. dev. of 7 runs, 1000000 loops each)\n"
     ]
    }
   ],
   "source": [
    "%timeit matrix_prod(mat33, mat33)"
   ]
  },
  {
   "cell_type": "code",
   "execution_count": 53,
   "metadata": {},
   "outputs": [
    {
     "name": "stdout",
     "output_type": "stream",
     "text": [
      "555 ns ± 24.1 ns per loop (mean ± std. dev. of 7 runs, 1000000 loops each)\n"
     ]
    }
   ],
   "source": [
    "%timeit mat33.dot(mat33)"
   ]
  },
  {
   "cell_type": "markdown",
   "metadata": {},
   "source": [
    "# Representando Equações Algébricas Lineares na Forma Matricial\n",
    "\n",
    "Um sistema de equações lineares pode ser representado como um produto matricual. Vamos ver atraves de um exemplo. \n",
    "\n",
    "O sistema abaixo\n",
    "\n",
    "$\n",
    "\\begin{align*}\n",
    "2x + 3y - z = 2 \\\\\n",
    "x - 4y + 2z = 5 \\\\\n",
    "-3x - y + 9z = -3\n",
    "\\end{align*}\n",
    "$\n",
    "\n",
    "Pode ser escrito como\n",
    "\n",
    "$\n",
    "A = \\begin{bmatrix}\n",
    "2 & 3 & -1 \\\\\n",
    "1 & -4 & 2 \\\\\n",
    "-3 & -1 & 9 \n",
    "\\end{bmatrix}  \n",
    "$\n",
    "\n",
    "$\n",
    "X = \\begin{bmatrix}\n",
    "x  \\\\\n",
    "y  \\\\\n",
    "z  \n",
    "\\end{bmatrix}\n",
    "$\n",
    "\n",
    "$\n",
    "B = \\begin{bmatrix}\n",
    "2  \\\\\n",
    "5  \\\\\n",
    "-3  \n",
    "\\end{bmatrix}\n",
    "$\n",
    "\n",
    "Aí, com essas definições podem reescrever o sistema na forma matricial\n",
    "\n",
    "$\\Rightarrow [A]{x} = {b}$\n",
    "\n",
    "Agora, se multiplicarmos os dois lados por $A^{-1}$ teremos\n",
    "\n",
    "$A^{-1} A X = A^{-1} B \\rightarrow X = A^{-1} B$\n",
    "\n",
    "Então, a equação foi resolvida e $X$ for determinado. Esse é um outro exemplo de como\n",
    "a inversa desempenha um papel na álgebra de matrizes que é semelhante à divisão. Devemos observar que esse não é um método muito eficiente para resolver um sistema de equações. Portanto, outras abordagens são empregadas nos algoritmos numéricos.\n",
    "\n",
    "# Eliminação de Gauss\n",
    "\n",
    "Este metodo envolve combinar equações para eliminar variáveis. Apesar de ser um dos métodos mais antigos para resolver equações simultâneas, mantém-se como um dos algoritmos mais importantes em uso hoje em dia e é a base da resolução de equações lineares em muitos pacotes de software populares.\n",
    "\n",
    "\n",
    "## Determinantes e a Regra de Cramer\n",
    "\n",
    "Determinante é um conceito muito importante em calculo matricial. Vamos ver como esse conceito nos ajuda a descobrir se um sistema tem solução ou não. E alem disso, precisaremos dele para implementar a regra de Cramer para resolver um sistema de eqs. lineares.\n",
    "\n",
    "O determinante de uma matrix 2x2 é definido como\n",
    "\n",
    "$D = \\begin{vmatrix}\n",
    "a_{11} & a_{12} \\\\\n",
    "a_{21} & a_{22}  \n",
    "\\end{vmatrix} \n",
    " = a_{11}a_{22} - a_{12}a_{21}$\n",
    "\n",
    "E para uma matrix 3x3 é \n",
    "\n",
    "$$\n",
    "D = \\begin{vmatrix}\n",
    "a_{11} & a_{12} & a_{13}\\\\\n",
    "a_{21} & a_{22} & a_{23} \\\\\n",
    "a_{31} & a_{32} & a_{33} \n",
    "\\end{vmatrix} \n",
    "= \n",
    "a_{11}\\begin{vmatrix}\n",
    "a_{22} & a_{23} \\\\\n",
    "a_{32} & a_{33}  \n",
    "\\end{vmatrix}  - \n",
    "a_{12}\\begin{vmatrix}\n",
    "a_{21} & a_{23} \\\\\n",
    "a_{31} & a_{33}  \n",
    "\\end{vmatrix} + \n",
    "a_{13}\\begin{vmatrix}\n",
    "a_{21} & a_{22} \\\\\n",
    "a_{31} & a_{32}  \n",
    "\\end{vmatrix}\n",
    "$$"
   ]
  },
  {
   "cell_type": "code",
   "execution_count": 23,
   "metadata": {},
   "outputs": [],
   "source": [
    "def matrix_determinent(a):\n",
    "    assert a.shape[0] == a.shape[1], 'Matrix must be quadratic'\n",
    "    assert len(a) == 2 or len(a) == 3, 'The shape of matrix must be 2x2 or 3x3'\n",
    "\n",
    "    if len(a) == 2:\n",
    "        return a[0,0]*a[1,1] - a[0,1]*a[1,0]\n",
    "    if len(a) == 3:\n",
    "        return a[0,0]*matrix_determinent(a[1:,[1,2]]) - a[0,1]*matrix_determinent(a[1:,[0,2]])+\\\n",
    "            a[0,2]*matrix_determinent(a[1:,[0,1]])\n"
   ]
  },
  {
   "cell_type": "code",
   "execution_count": 24,
   "metadata": {},
   "outputs": [
    {
     "data": {
      "text/plain": [
       "44"
      ]
     },
     "execution_count": 24,
     "metadata": {},
     "output_type": "execute_result"
    }
   ],
   "source": [
    "matrix_determinent(mat33)"
   ]
  },
  {
   "cell_type": "code",
   "execution_count": 25,
   "metadata": {},
   "outputs": [
    {
     "data": {
      "text/plain": [
       "43.99999999999997"
      ]
     },
     "execution_count": 25,
     "metadata": {},
     "output_type": "execute_result"
    }
   ],
   "source": [
    "np.linalg.det(mat33)"
   ]
  },
  {
   "cell_type": "markdown",
   "metadata": {},
   "source": [
    "Um sistema se diz **singular** se tiver determinante nulo. Neste caso, o sistema não tem uma solução unica. \n",
    "\n",
    "## Regra de Cramer. \n",
    "Essa regra estabelece que cada incógnita em um sistema de equações algébricas lineares pode ser expressa como uma fração de dois determinantes, com denominador $D$ e com o numerador obtido a partir de $D$ trocando-se a coluna de coeficientes da incógnita em questão pelas constantes $b_1, b_2,..., b_n$ . Por exemplo, $x_1$ é calculada por\n",
    "$$\n",
    "x_1 = \\frac{\\begin{vmatrix}\n",
    "b_{1} & a_{12} & a_{13}\\\\\n",
    "b_{2} & a_{22} & a_{23} \\\\\n",
    "b_{3} & a_{32} & a_{33} \n",
    "\\end{vmatrix} }{D}\n",
    "$$\n",
    "\n",
    "### **Exemplo:** Use a regra de Cramer para resolver\n",
    "\n",
    "$$\n",
    "\\begin{align}\n",
    "0.3 x_1 &+ 0.52 x_2 + x_3 = -0.01 \\\\\n",
    "0.5 x_1 &+ x_2 + 1.9 x_3 = 0.67 \\\\\n",
    "0.1 x_1 &+ 0.3 x_2 + 0.5 x_3 = -0.44\n",
    "\\end{align}\n",
    "$$\n",
    "\n"
   ]
  },
  {
   "cell_type": "code",
   "execution_count": 26,
   "metadata": {},
   "outputs": [],
   "source": [
    "def cramer(a, b):\n",
    "    assert a.shape[0] == a.shape[1], 'Matrix must be quadratic'\n",
    "    assert a.shape[0] == b.shape[0], 'The dimension of the matrix must the same as the vector of constants'\n",
    "    D = matrix_determinent(a)\n",
    "    temp = a.copy()\n",
    "    temp[:,0] = b\n",
    "    x1 = matrix_determinent(temp)/D\n",
    "\n",
    "    temp = a.copy()\n",
    "    temp[:,1] = b\n",
    "    x2 = matrix_determinent(temp)/D\n",
    "\n",
    "    temp = a.copy()\n",
    "    temp[:,2] = b\n",
    "    x3 = matrix_determinent(temp)/D\n",
    "\n",
    "    return x1, x2, x3\n"
   ]
  },
  {
   "cell_type": "code",
   "execution_count": 27,
   "metadata": {},
   "outputs": [],
   "source": [
    "A = np.array([[0.3, 0.52, 1], [0.5, 1, 1.9], [0.1, 0.3, 0.5]])\n",
    "B = np.array([-0.01, 0.67, -0.44])"
   ]
  },
  {
   "cell_type": "code",
   "execution_count": 28,
   "metadata": {},
   "outputs": [
    {
     "data": {
      "text/plain": [
       "(-14.900000000000057, -29.500000000000068, 19.80000000000005)"
      ]
     },
     "execution_count": 28,
     "metadata": {},
     "output_type": "execute_result"
    }
   ],
   "source": [
    "cramer(A,B)"
   ]
  },
  {
   "cell_type": "markdown",
   "metadata": {},
   "source": [
    "Para mais de três equações, a regra de Cramer torna-se impraticável, pois à medida\n",
    "que o número de equações cresce, os determinantes demoram mais para ser calculados à\n",
    "mão (ou pelo computador). Conseqüentemente, são usadas alternativas mais eficientes.\n",
    "\n",
    "## Eliminação de Gauss Ingênua\n",
    "\n",
    "Esse método é baseado tecnicas sistematicas para eliminação as variaveis de um sistema progressivamente e substituição regressiva. Apesar de essas técnicas serem hipoteticamente adequadas para implementação em computadores, algumas modificações serãon ecessárias para se obter um algoritmo confiável. Em particular, o programa de computador deve evitar a divisão por zero. O método a seguir é chamado de eliminação de Gauss “ingênua” porque não evita esse problema. Seções subseqüentes irão tratar das características adicionais necessárias para um programa de computador efetivo.\n",
    "Vamos ver esse método resolvendo o exemplo anterior\n",
    "\n",
    "$\\begin{align*}\n",
    "3 x_1 - 0.1 x_2 - 0.2 x_3 &= 7.85 \\\\\n",
    "0.1 x_1 + 7x_2 - 0.3 x_3 &= -19.3 \\\\\n",
    "0.3 x_1 - 0.2 x_2 + 10 x_3 &= 71.4\n",
    "\\end{align*}$\n",
    "\n",
    "A primeira fase é projetada para reduzir o conjunto de equações a um sistema triangular superior. Para fazer isso vamos eliminar a variavel $x_1$ da segunda equação e $x_1, x_2$ da terceira equação. \n",
    "\n",
    "Multiplicamos a primeira linha por $\\frac{0.1}{3}$ e depois subtraimos a segunda linha da primeira. O resultado é a nova segunda linha\n",
    "\n",
    "$\\begin{align}\n",
    "\\text{Nova segunda linha}&: (0.1 x_1 + 7x_2 - 0.3 x_3 = -19.3) \\\\ \n",
    "& - \\frac{0.1}{3}\\times(3 x_1 - 0.1 x_2 - 0.2 x_3 = 7.85) \\\\\n",
    "&= 7.00333 x_2 - 0.293333 x_3 = -19.5617\n",
    "\\end{align}$\n",
    "\n",
    "Depois dessa operação o conjunto de equações é \n",
    "\n",
    "$\\begin{align}\n",
    "3 x_1 - 0.1 x_2 - 0.2 x_3 &= 7.85 \\\\\n",
    "7.00333 x_2 - 0.293333 x_3 &= -19.5617 \\\\\n",
    "0.3 x_1 - 0.2 x_2 + 10 x_3 &= 71.4\n",
    "\\end{align}$\n",
    "\n",
    "Na proxima etapa eliminamos $x_1$ da terceira equação. Para fazer isso multiplicamos a primeira linha por $\\frac{0.3}{3}$ e subtraimos da terceira linha. O resultado fica\n",
    "\n",
    "$$\n",
    "\\begin{align}\n",
    "3 x_1 - 0.1 x_2 - 0.2 x_3 &= 7.85 \\\\\n",
    "7.00333 x_2 - 0.293333 x_3 &= -19.5617 \\\\\n",
    "- 0.1900 x_2 + 10.0200 x_3 &= 70.6150\n",
    "\\end{align}\n",
    "$$\n",
    "\n",
    "O ultimo passo da primeira fase é eliminar $x_2$ da terceira equação. Multiplicamos a segunda equação por $\\frac{-.1900}{7.0033}$ e subtraimos da terceira. Isso elimina $x_2$ da terceira equação e reduz o sistema a um sistema triangular superior, como em\n",
    "\n",
    "$\\begin{align}\n",
    "3 x_1 - 0.1 x_2 - 0.2 x_3 &= 7.85 \\\\\n",
    "7.00333 x_2 - 0.293333 x_3 &= -19.5617 \\\\\n",
    " 10.120 x_3 &= 70.0843\n",
    "\\end{align}$\n",
    "\n",
    "Agora, é possível resolver essas equações por substituição regressiva. Primeiro, a\n",
    "terceira equação pode ser resolvida para determinar\n",
    "\n",
    "$x_3 = \\frac{70.843}{10.0120} = 7.000$\n",
    "\n",
    "Esse resultado pode ser substituído na segunda equação\n",
    "\n",
    "$7.0033 x_2 - 0.293333(7.000) = -2.5000$\n",
    "\n",
    "Finalmente os valores de $x_3$ e $x_2$ podem ser inseridos na primeira equação\n",
    "\n",
    "$3x_1 - 0.1(-2.5000) - 0.2(7.0000) = 7.85 = 3.000$\n",
    "\n",
    "Tais resultados são idênticos à solução exata. Podemos testar o resultado inserindo os valores no sistema.\n",
    "\n",
    "Esse metodo é facilmente estendido para uma sistema com $n$ equações e $n$ variaveis. \n",
    "\n",
    "Para uma sistema com $n$ variaveis o numero das operações com ponto flutuante (ou flops) para resolver o sistema usando o metodo de eliminação de Gauss é da ordem \n",
    "\n",
    "$\\underbrace{\\frac{2n^3}{3} +\\mathcal{O}(n^2)}_{\\text{Eliminação progressiva}} +  \\underbrace{n^2 +\\mathcal{O}(n)}_{\\text{Substituição regressiva}} \\overbrace{\\longrightarrow}^{\\text{quando n cresce}} \\frac{2n^3}{3} +\\mathcal{O}(n^2)$\n",
    "\n",
    "Agora vamos tentar implementar este algoritmo. O pseducode para este algoritmo é \n",
    "\n",
    "<img src=\"./images/gauss_elimi_simple.jpg\" style=\"width:250px;height:350px;\">"
   ]
  },
  {
   "cell_type": "code",
   "execution_count": 29,
   "metadata": {},
   "outputs": [],
   "source": [
    "def gauss_elimination_minimal(A, b):\n",
    "    assert A.shape[0] == A.shape[1], 'the matrix of coefficients must be squared'\n",
    "\n",
    "    mat = np.concatenate([A, b.reshape(-1,1)], axis=1)\n",
    "    for idx_i in range(0, len(mat)-1):\n",
    "        for idx_j in range(idx_i+1, len(mat)):\n",
    "            factor = mat[idx_j, idx_i] / mat[idx_i, idx_i] \n",
    "            mat[idx_j] = mat[idx_j] - factor * mat[idx_i]\n",
    "\n",
    "    n = len(A)-1\n",
    "    xs = np.zeros(len(A))\n",
    "    xs[-1] = mat[n,n+1]/mat[n,n]\n",
    "\n",
    "    for i in range(n-1, -1, -1):\n",
    "        sum = mat[i, -1]\n",
    "        for j in range(0, len(A)):\n",
    "            sum -= mat[i, j]* xs[j]\n",
    "        xs[i] = sum / mat[i,i]\n",
    "\n",
    "    return xs"
   ]
  },
  {
   "cell_type": "code",
   "execution_count": 30,
   "metadata": {},
   "outputs": [],
   "source": [
    "AA = np.array([[3, -.1, -0.2], [0.1, 7, -0.3], [0.3, -0.2, 10]])\n",
    "bb = np.array([7.85, -19.3, 71.4])"
   ]
  },
  {
   "cell_type": "code",
   "execution_count": 31,
   "metadata": {},
   "outputs": [
    {
     "data": {
      "text/plain": [
       "array([ 3. , -2.5,  7. ])"
      ]
     },
     "execution_count": 31,
     "metadata": {},
     "output_type": "execute_result"
    }
   ],
   "source": [
    "gauss_elimination_minimal(AA, bb)"
   ]
  },
  {
   "cell_type": "markdown",
   "metadata": {},
   "source": [
    "## Armadilhas dos métodos de eliminação\n",
    "\n",
    "Embora existam muitos sistemas de equações que podem ser resolvidas pela eliminação\n",
    "de Gauss ingênua, há algumas armadilhas que precisam ser exploradas antes de escrever\n",
    "um programa de computador geral para implementar o método.\n",
    "\n",
    "### Divisão por zero\n",
    "\n",
    "A principal razão para que a técnica anterior seja chamada de “ingênua” é que tanto durante a fase de eliminação quanto durante a de substituição é possível ocorrer uma divisão por zero. Por exemplo, se for usada a eliminação de Gauss ingênua para resolver\n",
    "\n",
    "$$\n",
    "\\begin{align}\n",
    "2 x_2 - 3 x_3 &= 7 \\\\\n",
    "4x_1 + 6 x_2 - 7 x_3 &= -3 \\\\\n",
    "2 x_1 -  x_2 + 6 x_3 &= 5\n",
    "\\end{align}\n",
    "$$\n",
    "\n",
    "a normalização da primeira linha iria envolver a divisão por $a_{11} = 0$. Também podem surgir problemas quando um coeficiente está muito próximo de zero. A técnica de pivotamento foi desenvolvida para evitar parcialmente esses problemas.\n",
    "\n",
    "### Erros de Arredondamento\n",
    "Esse erro vem da limitação dos computadores em representar os numeros. Podemos melhorar esse erro usando mais algarismos significativos e usar o padrão de precisão dupla para variaveis.\n",
    "\n",
    "O problema de erros de arredondamento pode tornar-se particularmente importante\n",
    "quando se resolve um número grande de equações, por causa do fato de que cada resultado depende dos resultados anteriores. Conseqüentemente, um erro nas etapas iniciais tende a se propagar — isto é, irá causar erros nas etapas subseqüentes. Uma regra empírica é que os erros de arredondamento podem ser importantes quando se lida com 100 ou mais equações.\n",
    "\n",
    "### Sistemas Mal Condicionados\n",
    "*Sistemas mal condicionados* são aqueles para os quais pequenas mudanças nos coeficientes resultam em grandes mudanças nas soluções. Uma interpretação alternativa do mal condicionamento é que uma gama ampla de respostas pode satisfazer aproximadamente as equações. Vamos ver isso atraves de um exemplo:\n",
    "\n",
    "#### **Exemplo:** Resolva o seguinte sistema\n",
    "\n",
    "\\begin{align*}\n",
    "x_1 + 2x_2 &= 10 \\\\\n",
    "1.1 x_1 + 2x_2 &= 10.4\n",
    "\\end{align*}\n",
    "\n",
    "A seguir, resolva novamente com o coeficiente de $x_1$ na segunda equação levemente modificado para $1.05$.\n",
    "\n",
    "**Resolução:**"
   ]
  },
  {
   "cell_type": "code",
   "execution_count": 32,
   "metadata": {},
   "outputs": [],
   "source": [
    "AA = np.array([[1, 2], [1.1, 2]])\n",
    "bb = np.array([10, 10.4])"
   ]
  },
  {
   "cell_type": "code",
   "execution_count": 33,
   "metadata": {},
   "outputs": [
    {
     "data": {
      "text/plain": [
       "array([4., 3.])"
      ]
     },
     "execution_count": 33,
     "metadata": {},
     "output_type": "execute_result"
    }
   ],
   "source": [
    "gauss_elimination_minimal(AA, bb)"
   ]
  },
  {
   "cell_type": "code",
   "execution_count": 34,
   "metadata": {},
   "outputs": [
    {
     "data": {
      "text/plain": [
       "array([8., 1.])"
      ]
     },
     "execution_count": 34,
     "metadata": {},
     "output_type": "execute_result"
    }
   ],
   "source": [
    "AAA = np.array([[1, 2], [1.05, 2]])\n",
    "bbb = np.array([10, 10.4])\n",
    "gauss_elimination_minimal(AAA, bbb)"
   ]
  },
  {
   "cell_type": "markdown",
   "metadata": {},
   "source": [
    "O problema é que as duas soluções (quase) satisfazem as equações. Assim, embora $x_1 = 8$ e $x_2 = 1$ não sejam a solução verdadeira, a verificação de erro é suficientemente próxima para possivelmente levá-lo a concluir, de maneira errônea, que essa solução é adequada.\n",
    "\n",
    "Para detectar se um sistema é mal condicionado temos que mudar a escala do sistema e calcular o determinante. Neste caso se o determinante for muito proximo de zero implica que o sistema é mal condicionado. Mas o que é mudar a escala de um sistema? Basicamente é normalizar cada equação dividindo ela por a sua maior coeficiente. \n",
    "\n",
    "#### **Exemplo:** Faça uma mudança de escala nos sistemas de equações abaixo de calcula o seu determinante\n",
    "$$\n",
    "x_1 + 2x_2 = 10 \\\\\n",
    "1.1 x_1 + 2x_2 = 10.4\n",
    "$$\n",
    "\n",
    "**Resolução:**\n",
    "\n",
    "\\begin{align*}\n",
    "\\frac{1}{2} (x_1 + 2x_2 &= 10) \\\\\n",
    "\\frac{1}{2} (1.1 x_1 + 2x_2 &= 10.4)\n",
    "\\end{align*}\n",
    "\n",
    "\\begin{align*}\n",
    "\\rightarrow \\frac{x_1}{2} + x_2 &= 5 \\\\\n",
    "\\rightarrow  \\frac{1.1 x_1}{2} + x_2 &= 5.2\n",
    "\\end{align*}\n"
   ]
  },
  {
   "cell_type": "code",
   "execution_count": 35,
   "metadata": {},
   "outputs": [
    {
     "data": {
      "text/plain": [
       "-0.050000000000000044"
      ]
     },
     "execution_count": 35,
     "metadata": {},
     "output_type": "execute_result"
    }
   ],
   "source": [
    "AA = np.array([[0.5, 1], [1.1/2, 1]])\n",
    "matrix_determinent(AA)"
   ]
  },
  {
   "cell_type": "markdown",
   "metadata": {},
   "source": [
    "Então, foi por isso que o sistema é mal condicionado.\n",
    "\n",
    "### Sistema singulares\n",
    "\n",
    "Na seção anterior, aprendemos que uma forma pela qual um sistema de equações pode ser\n",
    "mal condicionado é quando duas ou mais equações são quase iguais. Obviamente, é ainda\n",
    "pior quando duas equações são idênticas. Em tais casos, perderíamos um grau de liberdade, e estaríamos tratando do caso impossível de n − 1 equações com n incógnitas. Tais\n",
    "casos podem não ser óbvios para você, particularmente ao lidar com um conjunto grande\n",
    "de equações. Conseqüentemente, seria ótimo ter alguma forma de detectar a singularidade automaticamente.\n",
    "\n",
    "## Tecnicas para melhorar o metodo de eliminação de Gauss\n",
    "\n",
    "As seguintes técnicas podem ser incorporadas ao algoritmo da eliminação de Gauss ingênua para evitar algumas das armadilhas discutidas na seção anterior.\n",
    "\n",
    "### Uso de mais algarismo signficativos\n",
    "O remédio mais simples para o mal condicionamento é usar mais algarismos significativos nos cálculos. Se sua aplicação puder ser estendida para manipular palavras de tamanho maior, tal recurso vai reduzir bastante o problema. Entretanto, deve-se pagar um preço na forma de uso elevado de memória e recursos computacionais associado ao uso.\n",
    "de precisão estendida\n",
    "\n",
    "### Pivotamento\n",
    "Como mencionado anteriormente problemas óbvios ocorrem quando um\n",
    "elemento pivô é zero, pois o passo de normalização leva a uma divisão por zero. Problemas também podem surgir quando o elemento pivô é muito próximo de zero, em vez de exatamente igual a zero, porque, se a ordem de grandeza do elemento pivô é pequena comparada com a dos outros elementos, então podem ocorrer erros de arredondamento. Assim, antes que cada linha seja normalizada, é vantajoso determinar o maior coeficiente disponível na coluna abaixo do elemento pivô. As linhas podem ser trocadas de modo que o maior coeficiente seja o elemento pivô. Isso é chamado de pivotamento parcial. Se procurarmos o maior elemento também nas colunas, além de nas linhas, e então trocarmos, o processo é chamado de pivotamento completo.\n",
    "\n",
    "#### **Exemplo:** Use eliminação de Gauss para resolver\n",
    "$$\n",
    "0.0003 x_1 + 3.000x_2 = 2.0001 \\\\\n",
    "1.0000 x_1 + 1.0000 x_2 = 1.0000\n",
    "$$\n",
    "Observe que dessa forma o primeiro elemento pivô, $a_{11} = 0.0003$, é muito próximo de\n",
    "zero. Então, repita os cálculos, mas use pivotamento parcial, trocando a ordem das\n",
    "equações. As soluções exatas são $x_1 = 1/3$ e $x_2 = 2/3$.\n",
    "\n",
    "**Resolução:**\n",
    "\n",
    "Vamos usar a nossa função \"minimal\" para resolver esse sistema"
   ]
  },
  {
   "cell_type": "code",
   "execution_count": 36,
   "metadata": {},
   "outputs": [
    {
     "data": {
      "text/plain": [
       "array([-3.25596184,  0.66699219])"
      ]
     },
     "execution_count": 36,
     "metadata": {},
     "output_type": "execute_result"
    }
   ],
   "source": [
    "AA = np.array([[0.0003, 3.0000], [1.000, 1.000]], dtype=np.float16)\n",
    "bb = np.array([2.0001, 1.000], dtype=np.float16)\n",
    "gauss_elimination_minimal(AA, bb)"
   ]
  },
  {
   "cell_type": "markdown",
   "metadata": {},
   "source": [
    "Com uma precisão baixa deu um resultado errado! Mas se usarmos a precisão dupla não teremos problema"
   ]
  },
  {
   "cell_type": "code",
   "execution_count": 37,
   "metadata": {},
   "outputs": [
    {
     "data": {
      "text/plain": [
       "array([0.33333333, 0.66666667])"
      ]
     },
     "execution_count": 37,
     "metadata": {},
     "output_type": "execute_result"
    }
   ],
   "source": [
    "AA = np.array([[0.0003, 3.0000], [1.000, 1.000]])\n",
    "bb = np.array([2.0001, 1.000])\n",
    "gauss_elimination_minimal(AA, bb)"
   ]
  },
  {
   "cell_type": "markdown",
   "metadata": {},
   "source": [
    "Mas se a gente usar o pivotamento parcial podemos evitar esse problema, mesmo usando poucos algarismos significaivos."
   ]
  },
  {
   "cell_type": "code",
   "execution_count": 38,
   "metadata": {},
   "outputs": [
    {
     "data": {
      "text/plain": [
       "array([0.33349609, 0.66650391])"
      ]
     },
     "execution_count": 38,
     "metadata": {},
     "output_type": "execute_result"
    }
   ],
   "source": [
    "AA = np.array([[1.000, 1.000], [0.0003, 3.0000]], dtype=np.float16)\n",
    "bb = np.array([1.000, 2.0001], dtype=np.float16)\n",
    "gauss_elimination_minimal(AA, bb)"
   ]
  },
  {
   "cell_type": "markdown",
   "metadata": {},
   "source": [
    "Um algoritmo para fazer pivotamento parcial é \n",
    "\n",
    "<img src=\"./images/pivo.jpg\" style=\"width:200px;height:350px;\">"
   ]
  },
  {
   "cell_type": "markdown",
   "metadata": {},
   "source": [
    "### Mudando a escala\n",
    "\n",
    "mudança de escala é valiosa na padronização do\n",
    "tamanho do determinante. Além dessa aplicação, ela tem utilidade na minimização de\n",
    "erros de arredondamento para aqueles casos nos quais algumas equações do sistema têm\n",
    "coeficientes muito maiores que as outras.\n",
    "\n",
    "## Algoritmo computacional para a eliminação de Gauss\n",
    "\n",
    "Embaixo tem um algoritmo para implementar o metodo de eliminação de Gauss que já inclui as discussões que a gente tinha sobre as armadilhas do metodo. Observe que o programa inclui módulos para as três operações principais do algoritmo da eliminação de Gauss: eliminação progressiva, substituição regressiva e pivotamento. Além disso, temos diversos aspectos do código que diferem e são aperfeiçoamentos dos pseudocódigos anteriores. São eles:\n",
    "- Não são feitas mudanças de escala nas equações, mas os valores na nova escala dos\n",
    "elementos são usados para determinar quando o pivotamento deve ser implementado.\n",
    "- O termo na diagonal é monitorado durante a fase de pivotamento para se detectar a\n",
    "ocorrência de valores próximos de zero e identificar sistemas singulares. Se o algoritmo\n",
    "devolver um valor `er = −1`, uma matriz singular foi detectada e os cálculos devem ser\n",
    "interrompidos. Um valor pequeno para o parâmetro `tol` é escolhido pelo usuário, para\n",
    "detectar ocorrências próximas de zero.\n",
    "\n",
    "<img src=\"./images/gauss_elimi.jpg\" style=\"width:600px;height:800px;\">\n"
   ]
  },
  {
   "cell_type": "markdown",
   "metadata": {},
   "source": [
    "### **Exercicio:** Implemente esse algoritmo no Python\n",
    "\n",
    "\n",
    "### **Exemplo:** \n",
    "Suponha que um time de três páraquedistas está ligado por uma corda sem peso enquanto cai, em queda livre, a uma velocidade de $5 m/s$. Calcule a tensão em cada seção da corda e a aceleração do time, dado o seguinte:\n",
    "\n",
    "|Paraquedista | Massa (kh) | Coeficiente de arrasto|\n",
    "|   ----      | -----------|-----------------------|\n",
    "| 1           |     70     |        10             |\n",
    "| 2           |    60      |       14              |\n",
    "|       3     |     40     |        17             |\n",
    "\n",
    "\n",
    "<img src=\"./images/paraq1.jpg\" style=\"width:100px;height:500px;\">\n",
    "\n",
    "<img src=\"./images/paraq2.jpg\" style=\"width:400px;height:360px;\">\n",
    "\n",
    "\n",
    "Essas equações possuem três incógnitas: $a, T$ e $R$. Depois de substituir os valores conhecidos, as equações podem ser expressas na forma matricial ($g = 9,8 m/s^2$ ),\n",
    "\n",
    "$$\n",
    "D = \\begin{bmatrix}\n",
    "70 & 1 & 0\\\\\n",
    "60 & -1 & 1 \\\\\n",
    "40 & 0 & -1 \n",
    "\\end{bmatrix}\n",
    "\n",
    "\\begin{bmatrix}\n",
    "a &\\\\\n",
    "T & \\\\\n",
    "R & \n",
    "\\end{bmatrix}\n",
    "=\n",
    "\\begin{bmatrix}\n",
    "636 &\\\\\n",
    "518 & \\\\\n",
    "307 & \n",
    "\\end{bmatrix}\n",
    "$$ \n",
    "Esse sistema pode ser resolvido usando sua própria implementação. O resultado é $a = 8,5941 m/s^2$; $T = 34,4118 N$ e $R = 36,7647 N$.\n",
    "\n",
    "## Determinante de uma matriz $n \\times n$\n",
    "\n",
    "No metodo de eliminação de Gauss, depois do processo de eliminação progressiva, o determinante pode ser calculada simplesmente por \n",
    "\n",
    "$$\n",
    "D = a_{11} a'_{22} a''_{33} ... a^{n-1}_{nn}\n",
    "$$\n",
    "onde os subscritos significam o número de vezes que os elementos foram modificados pelo processo de eliminação. Assim, podemos aproveitar o esforço que já foi despendido para reduzir o sistema a uma forma triangular e, de brinde, obter uma estimativa simples do\n",
    "determinante.\n",
    "\n",
    "### **Exercicio:** Implemente esse algoritmo de calcular determinante no Python\n",
    "\n",
    "## Gauss-Jordan\n",
    "\n",
    "O método de Gauss-Jordan é uma variação da eliminação de Gauss. A maior diferença é\n",
    "que, quando uma variável é eliminada no método de Gauss-Jordan, ela é eliminada de\n",
    "todas as outras equações, não só das posteriores. Além disso, todas as linhas são normalizadas pela divisão pelo seu elemento pivô. Então, o passo de eliminação resulta na matriz identidade e não em uma matriz triangular. Vamos ver esse metodo atraves de um exemplo\n",
    "\n",
    "### **Exemplo:** \n",
    "Usando o metodo Gauss-Jordan resolve o sistema\n",
    "\n",
    "$\\begin{align*}\n",
    "3 x_1 - 0.1 x_2 - 0.2 x_3 &= 7.85 \\\\\n",
    "0.1 x_1 + 7x_2 - 0.3 x_3 &= -19.3 \\\\\n",
    "0.3 x_1 - 0.2 x_2 + 10 x_3 &= 71.4\n",
    "\\end{align*}$ \n",
    "\n",
    "**Resolução:**\n",
    "\n",
    "Primeiro, expresse os coeficientes e as constantes do lado direito da equação\n",
    "como uma matriz aumentada:\n",
    "\n",
    "$$\n",
    "\\begin{bmatrix}\n",
    "3 & -0.1 & -0.2 & 7.85\\\\\n",
    "0.1 & 7 & -0.3 & -19.3\\\\\n",
    "0.3 & -0.2 & 10 & 71.4 \n",
    "\\end{bmatrix}\n",
    "$$\n",
    "\n",
    "Então, normalize a primeira linha dividindo-a pelo elemento pivô, 3, para obter\n",
    "\n",
    "$$\n",
    "\\begin{bmatrix}\n",
    "1 & -0.033333 & -0.066667 & 2.61667\\\\\n",
    "0.1 & 7 & -0.3 & -19.3\\\\\n",
    "0.3 & -0.2 & 10 & 71.4 \n",
    "\\end{bmatrix}\n",
    "$$\n",
    "\n",
    "O termo $x_1$ pode ser eliminado da segunda linha subtraindo 0,1 vezes a primeira linha da segunda linha. De maneira semelhante, subtraindo 0,3 vez a primeira linha da terceira linha,\n",
    "iremos eliminar o termo $x_1$ da terceira linha:\n",
    "\n",
    "$$\n",
    "\\begin{bmatrix}\n",
    "1 & -0.033333 & -0.066667 & 2.61667\\\\\n",
    "0 & 7.00333 & -0.293333 & -19.5617\\\\\n",
    "0 & -0.190000 & 10.0200 & 70.6150 \n",
    "\\end{bmatrix}\n",
    "$$\n",
    "\n",
    "Em seguida, normalizamos a segunda linha, dividindo-a por 7,00333:\n",
    "\n",
    "$$\n",
    "\\begin{bmatrix}\n",
    "1 & -0.033333 & -0.066667 & 2.61667\\\\\n",
    "0 & 1 & -0.0418848 & -2.79320\\\\\n",
    "0 & -0.190000 & 10.0200 & 70.6150 \n",
    "\\end{bmatrix}\n",
    "$$\n",
    "\n",
    "A redução do termo $x_2$ da primeira e da terceira linhas resulta em\n",
    "\n",
    "$$\n",
    "\\begin{bmatrix}\n",
    "1 & 0 & -0.0680629 & 2.52356\\\\\n",
    "0 & 1 & -0.0418848 & -2.79320\\\\\n",
    "0 & 0 & 10.01200 & 70.0843 \n",
    "\\end{bmatrix}\n",
    "$$\n",
    "\n",
    "A terceira linha é então normalizada dividindo-se por 10,0120:\n",
    "\n",
    "$$\n",
    "\\begin{bmatrix}\n",
    "1 & 0 & 0 & 3.000\\\\\n",
    "0 & 1 & 0 & -2.5000\\\\\n",
    "0 & 0 & 1 & 7.0000 \n",
    "\\end{bmatrix}\n",
    "$$\n",
    "\n",
    "Assim, a matriz dos coeficientes foi transformada na matriz identidade e a solução é obtida no vetor do lado direito. Observe que não foi necessária a substituição regressiva para se obter a solução.\n",
    "\n",
    "Toda a discussão relativo a armadilhas e aprimoramentos do método de eliminação de Gauss também se aplica ao método de Gauss-Jordan. Por exemplo, uma estratégia de pivotamento parecida pode ser usada para evitar a divisão por zero e reduzir erros de arredondamento.\n",
    "\n",
    "Computacionalmente o metodo de Gauss-Jordan é 50% mais pesado do que o metodo de eliminação de Gauss\n",
    "\n",
    "$\\frac{n^3}{2} + n^2 - \\frac{n}{2} \\overbrace{\\longrightarrow}^{\\text{quando n cresce}} \\frac{n^3}{2} +\\mathcal{O}(n^2)$\n",
    "\n",
    "\n",
    "## Exercicio: Implemente of metodo Gauss-Jordan no Python\n",
    "\n",
    "## Decomposição LU\n",
    "\n",
    "Este metodo é muito parecido com a eliminação de Gauss. Tem muitas formas de decomposição de uma matriz mas aqui a gente vamos estudar a decomposição LU. De fato, o metodo de eleiminação pode ser implementado como uma decomposição LU.\n",
    "\n",
    "O interesse principal da decomposição LU é que o passo de eliminação,\n",
    "que consome muito tempo, pode ser formulado de modo que envolva apenas operações\n",
    "na matriz dos coeficientes, [A]. Assim, ele se adapta bem àquelas situações nas quais\n",
    "muitos vetores à direita, {b}, devem ser calculados para um único valor de [A].\n",
    "\n",
    "Outro motivo para aprender a decomposição LU é que ela fornece uma maneira eficiente de calcular a matriz inversa, a qual tem um grande número de aplicações valiosas\n",
    "na prática da engenharia. A decomposição LU também fornece um meio de avaliar o\n",
    "condicionamento do sistema.\n",
    "\n",
    "Na composição LU, no primeiro passo a gente vai dividir a matriz [A] em duas matrizes triangulares, [L] e [U]. A matriz U é a matriz que calculamos no final do processo de eliminação. Agora a matriz [L] é uma matrix diagonal e os elementos não-zeros são os fatores que usamos no processo de eliminação para criar a matriz triangular [U]. Então o primeiro passo é decompor a matriz em duas matrizes triangulares. \n",
    "$$\n",
    "A = L U\n",
    "$$\n",
    "A matriz [U] satisfaz a seguinte equação\n",
    "$$\n",
    "U X - d = 0\n",
    "$$\n",
    "onde ${d}$ é um vetor que temos que calcular. E a matriz [L] satisfaz\n",
    "$$\n",
    "L d = b\n",
    "$$\n",
    "Juntando essas duas condições conseguimos chegar na equação inicial \n",
    "$$\n",
    "L(U X - d) = 0 \\rightarrow (L U) X- L d = A X - b = 0\n",
    "$$\n",
    "O segundo passo é usar a relação $L d = b$ para determinar o vetor intermediario ${d}$ e depois usar esse vetor na relação $U X -d = 0$. \n",
    "\n",
    "Resumindo as duas etapas temos:\n",
    "\n",
    "- Passo da decomposição LU. [A] é fatorada ou “decomposta” em matrizes triangu-\n",
    "lares inferior [L] e superior [U].\n",
    "- Passo de substituição. [L] e [U] são usadas para determinar a solução {X} para um\n",
    "lado direito {b}. Esse passo consiste em duas etapas. Primeiro, a $L d = b$ é\n",
    "usada para gerar um vetor intermediário {d} por substituição progressiva. A seguir,\n",
    "o resultado é substituído na $U X -d = 0$, que pode ser resolvida por substituição\n",
    "regressiva, determinando-se {X}.\n",
    "\n",
    "Graficamente esse processo pode ser demonstrado na seguinte forma\n",
    "\n",
    "<img src=\"./images/lu_graph.jpg\" style=\"width:600px;height:400px;\">\n",
    "\n",
    "## A Versão da Eliminação de Gauss por Decomposição LU\n",
    "Na eliminção de Gauss, depois de terminar o processo de eliminação, para uma matriz $3 \\times 3$, temos algo do tipo\n",
    "\n",
    "$$\n",
    "[U] = \\begin{bmatrix}\n",
    "a_{11} & a_{12} & a_{13}\\\\\n",
    "0 & a'_{22} & a'_{23}\\\\\n",
    "0 & 0 & a''_{33} \n",
    "\\end{bmatrix}\n",
    "$$\n",
    "onde $a'$ e $a''$ são elementos que foram calculados na primeira e segunda fase de eliminação. Agora como calcular [L]? Considerem um sistema $3 \\times 3$ geral\n",
    "\n",
    "$$\n",
    "\\begin{bmatrix}\n",
    "a_{11} & a_{12} & a_{13}\\\\\n",
    "a_{21} & a_{22} & a_{23}\\\\\n",
    "a_{31} & a_{32} & a_{33} \n",
    "\\end{bmatrix}\n",
    "\n",
    "\\begin{bmatrix}\n",
    "x_{1} & \\\\\n",
    "x_{2} & \\\\\n",
    "x_{3}  \n",
    "\\end{bmatrix}\n",
    "\n",
    "=\n",
    "\n",
    "\\begin{bmatrix}\n",
    "b_{1} & \\\\\n",
    "b_{2} & \\\\\n",
    "b_{3}  \n",
    "\\end{bmatrix}\n",
    "$$\n",
    "A primeira etapa da eliminação de Gauss é multiplicar a linha 1 pelo fator\n",
    "$$\n",
    "f_{21} = \\frac{a_{21}}{a_{11}}\n",
    "$$\n",
    "e subtrair o resultado da segunda linha para eliminar $a_{21}$ . Analogamente, a linha 1 é mul-\n",
    "tiplicada por\n",
    "$$\n",
    "f_{31} = \\frac{a_{31}}{a_{11}}\n",
    "$$\n",
    "e o resultado é subtraído da terceira linha para eliminar $a_{31}$ . O passo final é multiplicar a\n",
    "segunda linha modificada por\n",
    "$$\n",
    "f_{31} = \\frac{a'_{32}}{a'_{22}}\n",
    "$$\n",
    "e subtrair o resultado da terceira linha para eliminar $a'_{32}$. Aí, a matriz [L] é \n",
    "\n",
    "$$\n",
    "[L] = \\begin{bmatrix}\n",
    "1 & 0 & 0\\\\\n",
    "f_{21} & 1 & 0\\\\\n",
    "f_{31} & f_{32} &  1\n",
    "\\end{bmatrix}\n",
    "$$\n",
    "\n",
    "Vamos ver esse procedimento em um exemplo:\n",
    "\n",
    "### **Exemplo:** Obtenha uma decomposição LU baseada na eliminação de Gauss efetuada para a matriz\n",
    "\n",
    "$$\n",
    "\\begin{bmatrix}\n",
    "3 & -0.1 & -0.2\\\\\n",
    "0.1 & 7 & -0.3\\\\\n",
    "0.3 & -0.2 & 10 \n",
    "\\end{bmatrix}\n",
    "$$\n",
    "\n",
    "**Resolução:** \n",
    "\n",
    "A matriz [U] já foi calculada e é \n",
    " \n",
    "$$\n",
    "U = \\begin{bmatrix}\n",
    "3 & -0.1 & -0.2\\\\\n",
    "0 & 7.0033 & -0.2933\\\\\n",
    "0 & 0 & 10.0120 \n",
    "\\end{bmatrix}\n",
    "$$ \n",
    "\n",
    "Os fatores empregados para obter a matriz triangular superior podem ser reunidos\n",
    "em uma matriz triangular inferior. Os elementos $a_{21}$ e $a_{31}$ foram eliminados usando-se\n",
    "os fatores\n",
    "\n",
    "$$\n",
    "f_{21} = \\frac{0.1}{3} = 0.03333 \\;\\;f_{31} = \\frac{0.3}{3} = 0.10000\n",
    "$$\n",
    "e o elemento $a'_{32}$ foi eliminado usando-se o fator\n",
    "$$\n",
    "f_{32} = \\frac{-0.19}{7.0033} = -0.0271300\n",
    "$$\n",
    "\n",
    "Assim, a matriz [L] é \n",
    "\n",
    "$$\n",
    "L = \\begin{bmatrix}\n",
    "1 & 0 & 0\\\\\n",
    "0.03333 & 1 & 0\\\\\n",
    "0.10000 & -0.0271300 & 1 \n",
    "\\end{bmatrix}\n",
    "$$ \n",
    "\n",
    "Vamos implementar isso no Python"
   ]
  },
  {
   "cell_type": "code",
   "execution_count": 3,
   "metadata": {},
   "outputs": [],
   "source": [
    "def decompose(A):\n",
    "    assert A.shape[0] == A.shape[1], 'the matrix of coefficients must be squared'\n",
    "\n",
    "    L = np.eye(len(A))\n",
    "    U = A.copy()\n",
    "\n",
    "    n = len(A)\n",
    "    for idx_i in range(0, n-1):\n",
    "        for idx_j in range(idx_i+1, n):\n",
    "            factor = U[idx_j, idx_i] / U[idx_i, idx_i] \n",
    "            U[idx_j] = U[idx_j] - factor * U[idx_i]\n",
    "            L[idx_j, idx_i] = factor\n",
    "    \n",
    "\n",
    "    return L, U\n",
    "\n",
    "    "
   ]
  },
  {
   "cell_type": "code",
   "execution_count": 4,
   "metadata": {},
   "outputs": [
    {
     "data": {
      "text/plain": [
       "(array([[ 1.        ,  0.        ,  0.        ],\n",
       "        [ 0.03333333,  1.        ,  0.        ],\n",
       "        [ 0.1       , -0.02712994,  1.        ]]),\n",
       " array([[ 3.        , -0.1       , -0.2       ],\n",
       "        [ 0.        ,  7.00333333, -0.29333333],\n",
       "        [ 0.        ,  0.        , 10.01204188]]))"
      ]
     },
     "execution_count": 4,
     "metadata": {},
     "output_type": "execute_result"
    }
   ],
   "source": [
    "AA = np.array([[3, -.1, -0.2], [0.1, 7, -0.3], [0.3, -0.2, 10]])\n",
    "decompose(AA)"
   ]
  },
  {
   "cell_type": "markdown",
   "metadata": {},
   "source": [
    "Depois que a matriz é decomposta, pode-se produzir uma solução para um valor particular do vetor à direita {b}, o que é feito em duas etapas. Primeiro, uma substituição\n",
    "progressiva é executada, resolvendo-se a $L d = b$ para {d}. É importante reconhecer que isso significa simplesmente efetuar as manipulações da eliminação em {b}.\n",
    "Assim, ao final desse passo, o lado direito estará no mesmo estado em que estaria se\n",
    "tivesse sido efetuada a eliminação progressiva em [A] e {b} simultaneamente.\n",
    "O passo de substituição progressiva pode ser representado de modo conciso por\n",
    "\n",
    "$$\n",
    "d_i = b_i - \\sum^{i-1}_{j=1} a_{ij}d_j \\;\\;\\; \\text{para } i=2,3,...,n\n",
    "$$\n",
    "\n",
    "O segundo passo, então, resume-se simplesmente em implementar a substituição regressiva, como na $U X - d = 0$. Novamente, é importante perceber que isso é idêntico à fase de substituição regressiva da eliminação de Gauss convencional.\n",
    "\n",
    "$$\n",
    "x_n = \\frac{d_n}{a_{nn}} \\\\\n",
    "x_i = \\frac{d_i - \\sum^{n}_{j=i+1} a_{ij}x_j}{a_{ii}} \\;\\;\\; \\text{para } i=n-1,n-2,...,1\n",
    "$$\n",
    "\n",
    "### **Continuação do Exemplo:** Complete o problema iniciado, determinando a solução final por substituição progressiva e regressiva.\n",
    "\n",
    "**Resolução:**\n",
    "\n",
    "Primeiro vamos resolver a equação $L d = b$, ou seja:\n",
    "\n",
    "$$\n",
    "\\begin{bmatrix}\n",
    "1 & 0 & 0\\\\\n",
    "0.03333 & 1 & 0\\\\\n",
    "0.10000 & -0.0271300 & 1 \n",
    "\\end{bmatrix}\n",
    "\n",
    "\\begin{bmatrix}\n",
    "d_1 \\\\\n",
    "d_2 \\\\\n",
    "d_3 \n",
    "\\end{bmatrix}\n",
    "=\n",
    "\\begin{bmatrix}\n",
    "7.85 \\\\\n",
    "-19.3 \\\\\n",
    "71.4 \n",
    "\\end{bmatrix}\n",
    "$$ \n",
    "\n",
    "Multiplicando o lado esquerdo temos\n",
    "\n",
    "$$\n",
    "d_1 = 7.85 \\\\\n",
    "0.03333d_1 + d_2 = -19.3 \\\\\n",
    "0.1 d_1 - 0.02713 d_2 + d_3 = 71.4\n",
    "$$\n",
    "\n",
    "Da primeira equação temo $d_1 = 7.85$. Substituindo isso na segunda equação temos\n",
    "\n",
    "$$\n",
    "d_2 = -19.3 - 0.0333(7.85) = -19.5617\n",
    "$$\n",
    "\n",
    "E finalmente inserindo $d_1, d_2$ na terceira equação achamos o valor da $d_3$\n",
    "\n",
    "$$\n",
    "d_3 = 71,4 − 0,1(7,85) + 0,02713(−19,5617) = 70,0843\n",
    "$$\n",
    "\n",
    "Assim,\n",
    "\n",
    "$$\n",
    "\\begin{bmatrix}\n",
    "7.85 \\\\\n",
    "-19.5617 \\\\\n",
    "70.0843 \n",
    "\\end{bmatrix}\n",
    "$$ \n",
    "\n",
    "Agora, a ultima fase para calcular os valores de $x$ é identico ao processo de substituição regressiva na eliminação de Gauss\n",
    "$$\n",
    "\\begin{bmatrix}\n",
    "3 & -0.1 & -0.2\\\\\n",
    "0 & 7.0033 & -0.2933\\\\\n",
    "0 & 0 & 10.0120 \n",
    "\\end{bmatrix}\n",
    "\n",
    "\\begin{bmatrix}\n",
    "x_1 \\\\\n",
    "x_2 \\\\\n",
    "x_3 \n",
    "\\end{bmatrix}\n",
    "\n",
    "=\n",
    "\n",
    "\\begin{bmatrix}\n",
    "7.85 \\\\\n",
    "-19.5617 \\\\\n",
    "70.0843 \n",
    "\\end{bmatrix}\n",
    "$$\n",
    "\n",
    "Esse procedimento já foi feito anteriormente e não vamos reproduzir aqui.\n",
    "\n",
    "Agora vamos implementar essa fase no Python"
   ]
  },
  {
   "cell_type": "code",
   "execution_count": 19,
   "metadata": {},
   "outputs": [],
   "source": [
    "def substitute(L, U, b):\n",
    "    # forward substitution\n",
    "    n = len(U)\n",
    "    ds = np.zeros(n)\n",
    "\n",
    "    for i in range(0, n):\n",
    "        ds[i] = b[i] - sum(L[i] * ds)\n",
    "    \n",
    "    xs = np.zeros(n)\n",
    "    for i in range(n-1, -1, -1):\n",
    "        xs[i] = (ds[i] - sum(U[i] * xs)) / U[i, i]\n",
    "\n",
    "    return xs"
   ]
  },
  {
   "cell_type": "code",
   "execution_count": 20,
   "metadata": {},
   "outputs": [
    {
     "data": {
      "text/plain": [
       "array([ 3. , -2.5,  7. ])"
      ]
     },
     "execution_count": 20,
     "metadata": {},
     "output_type": "execute_result"
    }
   ],
   "source": [
    "AA = np.array([[3, -.1, -0.2], [0.1, 7, -0.3], [0.3, -0.2, 10]])\n",
    "bb = np.array([7.85, -19.3, 71.4])\n",
    "L, U = decompose(AA)\n",
    "substitute(L, U, bb)"
   ]
  },
  {
   "cell_type": "markdown",
   "metadata": {},
   "source": [
    "O algoritmo de decomposição LU exige o mesmo número de flops de multiplicação/divisão que a eliminação de Gauss. A única diferença é que um pouco menos de esforço é gasto na fase de decomposição, já que as operações não são aplicadas ao lado direito.\n",
    "\n",
    "## A Matriz Inversa\n",
    "\n",
    "A matriz inversa é uma matriz que satisfaz a seguinte relação\n",
    "\n",
    "$$\n",
    "A A^{-1} = A^{-1} A = I\n",
    "$$\n",
    "\n",
    "Onde $I$ é uma matriz diagonal com elementos 1. Po]r exemplo para um caso de uma matriz $3 \\times 3$ temos\n",
    "\n",
    "$$\n",
    "I = \\begin{bmatrix}\n",
    "1 & 0 & 0\\\\\n",
    "0 & 1 & 0\\\\\n",
    "0 & 0 & 1 \n",
    "\\end{bmatrix}\n",
    "$$\n",
    "\n",
    "Podemos usar o metodo de composição LU para calcular a matriz inversa. Para fazer isso, separamos as colunas da matriz $I$ e cada coluna será um vetor {b}. Alem disso, vamos fazer a decomposição da matriz [A]. Por exemplo, para achar a primeira coluna da matriz inversa para uma matriz $3 \\times 3$ vamos ter as seguintes relações\n",
    "$$\n",
    "\n",
    "[A] = [L][U]\n",
    "$$\n",
    "$$\n",
    "{b} = \\begin{bmatrix}\n",
    "1 \\\\\n",
    "0 \\\\\n",
    "0 \n",
    "\\end{bmatrix} \n",
    "$$\n",
    "\n",
    "$$\n",
    "[L] \\{d\\} = \\{b\\}\n",
    "$$\n",
    "$$\n",
    "[U] \\{x\\} = \\{d\\} \n",
    "$$\n",
    "\n",
    "Onde $\\{x\\}$ é a primeira coluna da matriz inversa da matriz [A] e ${b}$ é a primeira coluna da matriz $[I]$. Vamos ver esse procedimento via um exemplo\n",
    "\n",
    "### **Exemplo:** Utilize a decomposição LU para determinar a inversa da matriz\n",
    "\n",
    "$$\n",
    "\\begin{bmatrix}\n",
    "3 & -0.1 & -0.2\\\\\n",
    "0.1 & 7 & -0.3\\\\\n",
    "0.3 & -0.2 & 10 \n",
    "\\end{bmatrix}\n",
    "$$\n",
    "\n",
    "Lembre-se de que a decomposição resultou nas seguintes matrizes triangulares superior e\n",
    "inferior:\n",
    "\n",
    "$$\n",
    "L = \\begin{bmatrix}\n",
    "1 & 0 & 0\\\\\n",
    "0.03333 & 1 & 0\\\\\n",
    "0.10000 & -0.0271300 & 1 \n",
    "\\end{bmatrix}\n",
    "$$ \n",
    "\n",
    "$$\n",
    "U = \\begin{bmatrix}\n",
    "3 & -0.1 & -0.2\\\\\n",
    "0 & 7.0033 & -0.2933\\\\\n",
    "0 & 0 & 10.0120 \n",
    "\\end{bmatrix}\n",
    "$$ \n",
    "\n",
    "A primeira coluna da matriz inversa é determinada \n",
    "\n",
    "$$\n",
    "\\begin{bmatrix}\n",
    "1 & 0 & 0\\\\\n",
    "0.03333 & 1 & 0\\\\\n",
    "0.10000 & -0.0271300 & 1 \n",
    "\\end{bmatrix}\n",
    "\\begin{bmatrix}\n",
    "d_1 \\\\\n",
    "d_2 \\\\\n",
    "d_3 \n",
    "\\end{bmatrix}\n",
    " = \n",
    "\\begin{bmatrix}\n",
    "1 \\\\\n",
    "0 \\\\\n",
    "0 \n",
    "\\end{bmatrix}\n",
    "$$ \n",
    "\n",
    "e resolvido com substituição progressiva para determinar $\\{D\\}^T = [1, −0.03333,\n",
    "−0.1009]$. Esse vetor pode ser usado como lado direito na equação $[U]\\{x\\} = \\{d\\}$\n",
    "\n",
    "$$\n",
    "\\begin{bmatrix}\n",
    "3 & -0.1 & -0.2\\\\\n",
    "0 & 7.0033 & -0.2933\\\\\n",
    "0 & 0 & 10.0120 \n",
    "\\end{bmatrix}\n",
    "\n",
    "\\begin{bmatrix}\n",
    "x_1 \\\\\n",
    "x_2 \\\\\n",
    "x_3 \n",
    "\\end{bmatrix}\n",
    " = \n",
    "\\begin{bmatrix}\n",
    "1 \\\\\n",
    "-0.0333 \\\\\n",
    "-0.1009\n",
    "\\end{bmatrix}\n",
    "$$ \n",
    "\n",
    "a qual pode ser resolvida por substituição regressiva para determinar $\\{X\\}^T = [0.33249, −0.00518, −0.01008]$, que é a primeira coluna da matriz,\n",
    "\n",
    "$$\n",
    "A^{-1} = \\begin{bmatrix}\n",
    "30.33249& ? & ?\\\\\n",
    "-0.00518 & ? & ?\\\\\n",
    "-0.01008 & ? & ? \n",
    "\\end{bmatrix}\n",
    "$$\n",
    "\n",
    "Continuando esse procedimento para outras colunas chegamos na matriz inversa completa\n",
    "\n",
    "$$\n",
    "A^{-1} = \\begin{bmatrix}\n",
    "0.33249 & 0.004944 & 0.006798\\\\\n",
    "-0.00518 & 0.142903 & 0.004183\\\\\n",
    "-0.01008 & 0.00271 & 0.09988 \n",
    "\\end{bmatrix}\n",
    "$$\n",
    "\n",
    "## **Exercicio:** Implemente o algoritmo da matriz inversa usando decomposição LU no Python\n",
    "\n"
   ]
  },
  {
   "cell_type": "markdown",
   "metadata": {},
   "source": [
    "## Gauss-Seidel\n",
    "\n",
    "Os métodos iterativos ou de aproximação fornecem uma alternativa aos métodos de\n",
    "eliminação descritos até agora. Tais abordagens são semelhantes às técnicas desenvolvidas para obter as raízes de uma única equação. Aquelas abordagens consistiam em escolher um valor e então usar um método sistemático para obter uma estimativa refinada da raiz. O procedimento é o seguinte. Suponha que tenhamos um conjunto de $n$ equações\n",
    "\n",
    "$$\n",
    "[A]\\{x\\} = \\{b\\}\n",
    "$$\n",
    "\n",
    "No caso de um matriz $3 \\times 3$, se os elementos da diagonal forem todos não-nulos, esse sistema pode ser escrito na forma\n",
    "\n",
    "$$\n",
    "\\begin{align*}\n",
    "x_1 &= \\frac{b_1 - a_{12}x_2 - a_{13}x_3}{a_{11}} \\\\\n",
    "x_2 &= \\frac{b_2 - a_{21}x_1 - a_{23}x_3}{a_{22}} \\\\\n",
    "x_3 &= \\frac{b_3 - a_{31}x_1 - a_{32}x_2}{a_{33}} \n",
    "\\end{align*}\n",
    "$$\n",
    "\n",
    "Agora, a partir de um chute incial podemos resolver essas equações um por um. Começando com a euqação para $x_1$, temos\n",
    "$$\n",
    "x_1^{i+1} = \\frac{b_1 - a_{12}x_2^i - a_{13}x_3^i}{a_{11}} \n",
    "$$\n",
    "\n",
    "calculando essa equação, inserimos esse valor novo de $x_1$ na segunda equação\n",
    "\n",
    "$$\n",
    "x_2^{i+1} = \\frac{b_2 - a_{21}x_1^{i+1} - a_{23}x_3^{i}}{a_{22}} \n",
    "$$\n",
    "\n",
    "e finalmente para a variavel $x_3$ temos\n",
    "\n",
    "$$\n",
    "x_3^{i+1} = \\frac{b_3 - a_{31}x_1^{i+1} - a_{32}x_2^{i+1}}{a_{33}} \n",
    "$$\n",
    "\n",
    "Então, volta-se para a primeira equação e o procedimento inteiro é repetido até que a\n",
    "solução convirja para valores suficientemente próximos dos valores verdadeiros. A convergência pode ser verificada usando-se o critério\n",
    "\n",
    "$$\n",
    "|\\varepsilon_{a, i}| = |\\frac{x_i^j - x_i^{j-1}}{x_i^j}| 100\\% < \\varepsilon_s\n",
    "$$\n",
    "para todo $i$, onde $j$ e $j − 1$ representam a iteração atual e a anterior.\n",
    "\n",
    "Vamos implementar esse algoritmo no Python"
   ]
  },
  {
   "cell_type": "code",
   "execution_count": 70,
   "metadata": {},
   "outputs": [],
   "source": [
    "def gauss_seidel(A, b, x0, tol=1e-5, max_iter=20):\n",
    "    n = len(A)\n",
    "    assert len(x0) == n, 'the size of initial guess must be the same as the system'\n",
    "    assert all([A[i,i] != 0 for i in range(n)]), 'There is a zero in the diagonal of the matrix'\n",
    "    iteration = 0\n",
    "    x_old = xs = np.array(x0, dtype=np.float64)\n",
    "    error = np.ones(n)*100\n",
    "\n",
    "    while max(np.abs(error)) > tol and iteration < max_iter:\n",
    "        \n",
    "        for i in range(n):\n",
    "            xs[i] = (b[i] - sum(np.delete(xs, i) * np.delete(A[i, :], i)))/A[i, i]\n",
    "            error[i] = np.abs((xs[i] - x_old[i])/ xs[i])*100\n",
    "            x_old = xs.copy()\n",
    "        \n",
    "        iteration += 1\n",
    "\n",
    "    return xs\n"
   ]
  },
  {
   "cell_type": "code",
   "execution_count": 71,
   "metadata": {},
   "outputs": [
    {
     "data": {
      "text/plain": [
       "array([ 3. , -2.5,  7. ])"
      ]
     },
     "execution_count": 71,
     "metadata": {},
     "output_type": "execute_result"
    }
   ],
   "source": [
    "AA = np.array([[3, -.1, -0.2], [0.1, 7, -0.3], [0.3, -0.2, 10]])\n",
    "bb = np.array([7.85, -19.3, 71.4])\n",
    "x0 = [10,5,100]\n",
    "\n",
    "gauss_seidel(AA, bb, x0, tol=1e-10, max_iter=10)"
   ]
  },
  {
   "cell_type": "markdown",
   "metadata": {},
   "source": [
    "## Metodo de iteração de Jacobi\n",
    "\n",
    "À medida que cada novo valor de x é calculado pelo método de Gauss-Seidel, ele é\n",
    "imediatamente usado na próxima equação para se determinar outro valor de $x$. Assim, se\n",
    "a solução estiver convergindo, a melhor estimativa disponível será empregada. Uma\n",
    "abordagem alternativa, chamada iteração de Jacobi, utiliza uma tática um pouco diferente. Em vez de usar os últimos $x$'s disponíveis, essa técnica calcula um conjunto de novos $x$'s com base no conjunto de antigos $x$'s. Logo, conforme novos valores são gerados, não são imediatamente usados, mas guardados para a próxima iteração.\n",
    "\n",
    "<img src=\"./images/gauss_jacobi.jpg\" style=\"width:450px;height:400px;\">\n",
    "\n",
    "## Exercicio: Implemente o metodo de Jacobi no Python"
   ]
  },
  {
   "cell_type": "markdown",
   "metadata": {},
   "source": [
    "### Convergencia do metodo de Gauss-Seidel (e de Jacobi)\n",
    "\n",
    "#### **Critero das linha (metodo de Jacobi e Gauss-Seidel)**\n",
    "Seja o sistema linear $[A]\\{x\\} = \\{b\\}$ e seja $\\alpha_k = \\sum_{\\substack{i=1 \\\\ i\\neq k}}^n |a_{ki}|/|a_{kk}|$. Se $\\alpha = \\text{max}_{1 \\le k \\le n} \\alpha_k <1 $, então o metodo de Gauss-Seidel gera uma sequencia $\\{x^k\\}$ convergente para a solução do sistema dado, independentemente da scolha da aproximação inicial.\n",
    "\n",
    "#### **Critero de Sassenfeld (metodo de Gauss-Seidel)**\n",
    "Seja o sistema linear $[A]\\{x\\} = \\{b\\}$. Sejam \n",
    "\n",
    "$$\n",
    "\\beta_1 = \\frac{|a_{12}| + |a_{13}| + ... +|a_{1n}|}{|a_{11}|}\\\\\n",
    "\n",
    "\\beta_j = \\frac{|a_{j1}|\\beta_1 + |a_{j2}|\\beta_2 + ...+ |a_{jj-1}|\\beta_{j-1} +|a_{jj+1}|+...+|a_{jn}|}{|a_{11}|}\n",
    "$$\n",
    "Seja $\\beta = \\text{max}_{1 \\le j \\le n}\\{\\beta_j\\}$.\n",
    "\n",
    "Se $\\beta < 1$, então o metodo de Gauss-Seidel gera uma sequencia convergente qualquer que seja a aproximação inicial. Alem disso, quanto menor for $\\beta$, mais rapida será a convergência. "
   ]
  },
  {
   "cell_type": "code",
   "execution_count": null,
   "metadata": {},
   "outputs": [],
   "source": []
  },
  {
   "cell_type": "code",
   "execution_count": null,
   "metadata": {},
   "outputs": [],
   "source": []
  }
 ],
 "metadata": {
  "kernelspec": {
   "display_name": "Python 3.9.13 ('base')",
   "language": "python",
   "name": "python3"
  },
  "language_info": {
   "codemirror_mode": {
    "name": "ipython",
    "version": 3
   },
   "file_extension": ".py",
   "mimetype": "text/x-python",
   "name": "python",
   "nbconvert_exporter": "python",
   "pygments_lexer": "ipython3",
   "version": "3.9.13"
  },
  "vscode": {
   "interpreter": {
    "hash": "92b1d5f842d7c1e714e1ab666cefb8d1f75311aac337aae0336133957fcbf554"
   }
  }
 },
 "nbformat": 4,
 "nbformat_minor": 2
}
