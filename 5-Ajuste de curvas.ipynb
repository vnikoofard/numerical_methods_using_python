{
 "cells": [
  {
   "cell_type": "markdown",
   "metadata": {},
   "source": [
    "# Ajuste de Curvas\n",
    "\n",
    "Em geral, os dados são fornecidos em um conjunto discreto de valores entre um contínuo\n",
    "de possibilidades. Entretanto, pode ser necessário fazer estimativas em pontos que estão\n",
    "entre os valores discretos. Neste capitulo, descrevemos técnicas para ajustar curvas a tais\n",
    "dados, com o objetivo de obter estimativas intermediárias.\n",
    "\n",
    "Há duas abordagens gerais para o ajuste de curvas, as quais são distinguidas entre\n",
    "si com base na quantidade de erro associada com os dados. Primeiro, quando os dados\n",
    "exibirem um grau significativo de erro ou “ruído”, a estratégia será encontrar uma única\n",
    "curva que represente a tendência geral dos dados. Como cada ponto individual pode\n",
    "estar incorreto, não será feito nenhum esforço para passar a curva por todos os pontos.\n",
    "Em vez disso, a curva é escolhida para seguir o padrão dos pontos considerados como\n",
    "um grupo. Uma abordagem dessa natureza é chamada de **regressão por mínimos quadrados**.\n",
    "\n",
    "Segundo, quando se souber que os dados são muito precisos, a abordagem básica\n",
    "é ajustar uma curva ou uma série de curvas que passam diretamente por cada um dos\n",
    "pontos. Tais dados usualmente se originam de tabelas. Exemplos são os valores da den-\n",
    "sidade da água ou da capacidade térmica dos gases como função da temperatura. A es-\n",
    "timativa de valores entre pontos discretos bem conhecidos é chamada **interpolação**. Vamos estudar esse assunto no proximo capitulo.\n",
    "\n",
    "\n",
    "## Estatisticas Simples\n",
    "\n",
    "Suponha que, no decorrer de um estudo em engenharia, tenham sido feitas diversas medidas de uma quantidade particular. Por exemplo, as leituras do coeficiente de expansão térmica de um aço estrutural. Tomados como valores de face, os dados fornecem uma quantidade limitada de informação — isto é, os valores variam entre um mínimo a um máximo.\n",
    "\n",
    "Uma informação muito importante sobre os dados é a sua *media aritmetica* $(\\bar y)$ que é definido como a soma dois pontos individualmente dados ($y_i$) dividida pelo numero de pontos ($n$), ou\n",
    "\n",
    "$$\n",
    "\\bar y = \\frac{\\sum y_i}{n}\n",
    "$$\n",
    "\n",
    "onde a somatoria vai de $i=1$ ate $n$. \n",
    "\n",
    "A medida de dispersão mais comum para uma amostra é o *desvio-padrão* $(s_y)$ em\n",
    "torno da média,\n",
    "\n",
    "$$\n",
    "s_y = \\sqrt{\\frac{S_t}{n-1}}\n",
    "$$\n",
    "\n",
    "onde $S_t$ é a soma total dos quadrados dos resíduos entre os pontos dados e a média, ou\n",
    "\n",
    "$$\n",
    "S_t = \\sum(y_i - \\bar y)^2\n",
    "$$\n",
    "\n",
    "Portanto, se as medidas individuais estiverem amplamente dispersas em torno da média, $S_t$ (e, consequentemente, $s_y$ ) será grande. Se elas estiverem bem agrupadas, o desvio-padrão será pequeno. A dispersão também pode ser representada pelo quadrado do\n",
    "desvio-padrão, o qual é chamado de variância:\n",
    "\n",
    "$$\n",
    "s_y^2 = \\frac{\\sum(y_i - \\bar y)^2}{n-1}\n",
    "$$\n",
    "\n",
    "Uma estatística final que tem utilidade na quantificação da dispersão dos dados é o *coeficiente de variação* (c.v.). Essa estatística é a razão do desvio-padrão pela média. Como tal, o c.v. fornece uma medida normalizada da dispersão. Ele é, em geral, multiplicado por 100, de modo que possa ser expresso como uma porcentagem:\n",
    "\n",
    "$$\n",
    "c.v. = \\frac{s_y}{\\bar y} 100\\%\n",
    "$$\n",
    "Esse coeficiente é muito parecido com o erro relativo porcentual ($\\varepsilon_t$) discutido anteriormente.\n",
    "\n",
    "Vamos calcular a media e desvio-padrão para os dados abaixo "
   ]
  },
  {
   "cell_type": "code",
   "execution_count": 2,
   "metadata": {},
   "outputs": [],
   "source": [
    "import numpy as np\n",
    "\n",
    "data = [6.395, 6.435, 6.485, 6.495, 6.505, 6.515, 6.555, 6.555,6.565, \n",
    "        6.575, 6.595, 6.605, 6.615, 6.625, 6.625, 6.635, 6.655, 6.655, \n",
    "        6.665, 6.685, 6.715, 6.715, 6.755, 6.775]\n",
    "\n",
    "data = np.array(data)"
   ]
  },
  {
   "cell_type": "code",
   "execution_count": 2,
   "metadata": {},
   "outputs": [
    {
     "name": "stdout",
     "output_type": "stream",
     "text": [
      "O numero de dados é n = 24 e a sua media é 6.6.\n",
      "True\n"
     ]
    }
   ],
   "source": [
    "n = len(data)\n",
    "\n",
    "sums = data.sum()\n",
    "\n",
    "media = sums/n\n",
    "\n",
    "print(f\"O numero de dados é n = {n} e a sua media é {np.round(media,3)}.\")\n",
    "print(media == data.mean())"
   ]
  },
  {
   "cell_type": "code",
   "execution_count": 3,
   "metadata": {},
   "outputs": [
    {
     "name": "stdout",
     "output_type": "stream",
     "text": [
      "O desvio-padrão é 0.09713280912593676\n"
     ]
    }
   ],
   "source": [
    "S_t = sum((data - media)**2)\n",
    "s_y = np.sqrt(S_t/(n-1))\n",
    "print(f\"O desvio-padrão é {s_y}\")"
   ]
  },
  {
   "cell_type": "code",
   "execution_count": 4,
   "metadata": {},
   "outputs": [
    {
     "name": "stdout",
     "output_type": "stream",
     "text": [
      "o coeficiente de variação é 1.47%\n"
     ]
    }
   ],
   "source": [
    "c_v = (s_y/media) * 100\n",
    "print(f\"o coeficiente de variação é {np.round(c_v, 2)}%\")"
   ]
  },
  {
   "cell_type": "markdown",
   "metadata": {},
   "source": [
    "## Distribuição Normal\n",
    "\n",
    "Uma outra característica relacionada com a discussão presente é a distribuição de dados\n",
    "— isto é, a forma como os dados estão dispersos em torno da média. Um histograma\n",
    "fornece uma representação visual simples da distribuição.\n",
    "\n",
    "Se tivéssemos um conjunto muito grande de dados, o histograma em geral poderia\n",
    "ser aproximado por uma curva lisa. A curva simétrica, em forma de sino, superposta na\n",
    "figura abaixo é uma de tais formas características — a distribuição normal."
   ]
  },
  {
   "cell_type": "code",
   "execution_count": 22,
   "metadata": {},
   "outputs": [
    {
     "data": {
      "text/plain": [
       "<AxesSubplot:ylabel='Count'>"
      ]
     },
     "execution_count": 22,
     "metadata": {},
     "output_type": "execute_result"
    },
    {
     "data": {
      "image/png": "[encoded data removed]",
      "text/plain": [
       "<Figure size 576x432 with 1 Axes>"
      ]
     },
     "metadata": {},
     "output_type": "display_data"
    }
   ],
   "source": [
    "import plotly.express as px\n",
    "import matplotlib.pyplot as plt\n",
    "import seaborn as sns \n",
    "#sns.set_context(\"paper\")\n",
    "sns.set_theme(style=\"darkgrid\")\n",
    "\n",
    "\n",
    "x = np.random.randn(1000)\n",
    "#px.histogram(x, nbins=80)\n",
    "plt.figure(figsize=(8,6))\n",
    "sns.histplot(x)"
   ]
  },
  {
   "cell_type": "code",
   "execution_count": 23,
   "metadata": {},
   "outputs": [
    {
     "data": {
      "text/plain": [
       "<Figure size 576x432 with 0 Axes>"
      ]
     },
     "metadata": {},
     "output_type": "display_data"
    },
    {
     "data": {
      "image/png": "[encoded data removed]",
      "text/plain": [
       "<Figure size 360x360 with 1 Axes>"
      ]
     },
     "metadata": {},
     "output_type": "display_data"
    }
   ],
   "source": [
    "plt.figure(figsize=(8,6))\n",
    "sns.displot(x, kde=True)\n",
    "plt.show()"
   ]
  },
  {
   "cell_type": "markdown",
   "metadata": {},
   "source": [
    "Com mais dados temos uma curva mais lisa ainda"
   ]
  },
  {
   "cell_type": "code",
   "execution_count": 24,
   "metadata": {},
   "outputs": [
    {
     "data": {
      "text/plain": [
       "<Figure size 576x432 with 0 Axes>"
      ]
     },
     "metadata": {},
     "output_type": "display_data"
    },
    {
     "data": {
      "image/png": "[encoded data removed]",
      "text/plain": [
       "<Figure size 360x360 with 1 Axes>"
      ]
     },
     "metadata": {},
     "output_type": "display_data"
    }
   ],
   "source": [
    "x = np.random.randn(50000)\n",
    "#hist_data = [x]\n",
    "#group_labels = ['distplot'] # name of the dataset\n",
    "#fig = ff.create_distplot(hist_data, group_labels, bin_size=.1)\n",
    "#fig.show()\n",
    "plt.figure(figsize=(8,6))\n",
    "sns.displot(x, kde=True)\n",
    "plt.show()"
   ]
  },
  {
   "cell_type": "markdown",
   "metadata": {},
   "source": [
    "Os conceitos de média, desvio-padrão, soma dos quadrados dos resíduos e distribuição normal têm todos grande relevância na prática da engenharia. Um exemplo muito simples é a sua utilização para determinar a *confiança* que pode ser associada a uma medida particular. Se uma quantidade for normalmente distribuída, o intervalo definido por $\\bar y − s_y$ a $\\bar y + s_y$ irá conter aproximadamente 68% do total das medidas. Analogamente, o intervalo definido por $\\bar y − 2s_y$ a $\\bar y + 2 s_y$ irá conter aproximadamente 95%.\n",
    "\n",
    "Observe que, na discussão a seguir, os símbolos $\\bar y$ e $s_y$ se referem à média e ao\n",
    "desvio-padrão da amostra, respectivamente. Os símbolos $\\mu$ e $\\sigma$ se referem à média e ao\n",
    "desvio-padrão da população, respectivamente.\n",
    "\n",
    "Um intervalo estimador dá o intervalo de valores no qual é esperado que o\n",
    "parâmetro esteja com uma dada probabilidade. Um intervalo bilateral pode ser descrito pela expressão\n",
    "\n",
    "$$\n",
    "P\\{L \\le \\mu \\le U\\} = 1 - \\alpha\n",
    "$$\n",
    "\n",
    "a qual é lida: “a probabilidade de que a média verdadeira de $y$, $\\mu$, caia dentro dos limites\n",
    "de $L$ a $U$ é $1 − \\alpha$”. A quantidade α é chamada de nível de significância.\n",
    "\n",
    "Se a variância verdadeira da distribuição de $y$, $\\sigma^2$ , for conhecida (o que, em geral,\n",
    "não é o caso), a teoria estatística afirma que a média da amostra $\\bar y$ vem de uma distribuição normal com média \\mu$$ e variância $\\sigma^2 /n$. Na realidade não se conhece $\\mu$. Portanto, não se sabe onde a curva normal está exatamente localizada em relação a $\\bar y$. Para contornar esse dilema, calcula-se uma nova quantidade, a *estimativa normal padrão*\n",
    "\n",
    "$$\n",
    "\\bar z = \\frac{\\bar y - \\mu}{\\sigma/\\sqrt n}\n",
    "$$\n",
    "\n",
    "a qual representa a distância normalizada entre $\\bar y$ e $\\mu$. De acordo com a teoria estatística, essa quantidade deveria ser normalmente distribuída, com média 0 e variância 1.\n",
    "\n",
    "Esses resultados podem ser reorganizados para fornecer\n",
    "\n",
    "$$\n",
    "L \\le \\mu \\le U\n",
    "$$\n",
    "\n",
    "com probabilidade $1-\\alpha$, onde\n",
    "\n",
    "$$\n",
    "L = \\bar y - \\frac{\\sigma}{\\sqrt n} z_{\\alpha/2} , \\;\\;\\;\\;\\; U = \\bar y + \\frac{\\sigma}{\\sqrt n} z_{\\alpha/2}\n",
    "$$\n",
    "\n",
    "Agora, embora o precedente forneça uma estimativa para $L$ e para $U$, ela é baseada\n",
    "no conhecimento da variância verdadeira σ. No nosso caso, conhecemos apenas a variância estimada $s_y$ . Uma alternativa simples seria deduzir uma versão no lugar de $\\bar z$\n",
    "baseada em $s_y$,\n",
    "\n",
    "$$\n",
    "t = \\frac{\\bar y - \\mu}{s_y/\\sqrt n}\n",
    "$$\n",
    "\n",
    "Mesmo quando são tomadas amostras de uma distribuição normal, essa fração não\n",
    "será normalmente distribuída, particularmente quando n for pequeno. Foi descoberto por\n",
    "W. S. Gossett que a variável aleatória definida chamada\n",
    "*distribuição t de Student* ou, simplesmente, *distribuição $t$*. Nesse caso,\n",
    "\n",
    "$$\n",
    "L = \\bar y - \\frac{s_y}{\\sqrt n} t_{\\alpha/2, n-1} , \\;\\;\\;\\;\\; U = \\bar y + \\frac{s_y}{\\sqrt n} t_{\\alpha/2, n-1}\n",
    "$$\n",
    "onde $t_{\\alpha/2, n-1}$ é a variável aleatória padrão para a distribuição t para uma probabilidade de $\\alpha/2$ e os valres são tabelados. Por exemplo, se $\\alpha = 0,05$ e $n = 20$, $t_{\\alpha/2, n-1}= 2,086$. Isso significa que um intervalo em torno da média de largura $\\pm 2,086$ vez o desvio-padrão delimitará aproximadamente $95\\%$ da distribuição.\n",
    "\n",
    "A distribuição $t$ pode ser considerada como uma modificação da distribuição normal\n",
    "que leva em conta o fato de se ter uma estimativa imperfeita do desvio-padrão. Quando $n$\n",
    "for pequeno, ela tende a ser mais achatada do que a normal. Conforme $n$ se torna grande, a distribuição $t$ converge para a normal."
   ]
  },
  {
   "cell_type": "code",
   "execution_count": 8,
   "metadata": {},
   "outputs": [],
   "source": [
    "from scipy.stats import t, norm\n",
    "import plotly.graph_objects as go"
   ]
  },
  {
   "cell_type": "markdown",
   "metadata": {},
   "source": [
    "O valor de $t_{\\alpha/2, n-1}$ para $\\alpha = 0,05$ e $n = 20$ pode ser calculado usando a biblioteca `Scipy` "
   ]
  },
  {
   "cell_type": "code",
   "execution_count": 9,
   "metadata": {},
   "outputs": [
    {
     "data": {
      "text/plain": [
       "2.085963447265837"
      ]
     },
     "execution_count": 9,
     "metadata": {},
     "output_type": "execute_result"
    }
   ],
   "source": [
    "t.isf(0.05/2, 20)"
   ]
  },
  {
   "cell_type": "markdown",
   "metadata": {},
   "source": [
    "Uma comparação entre a distribuição normal e $t$."
   ]
  },
  {
   "cell_type": "code",
   "execution_count": 10,
   "metadata": {},
   "outputs": [
    {
     "data": {
      "application/vnd.plotly.v1+json": {
       "config": {
        "plotlyServerURL": "https://plot.ly"
       },
       "data": [
        {
         "name": "df = 1",
         "type": "scatter",
         "x": [
          -10,
          -9.899497487437186,
          -9.798994974874372,
          -9.698492462311558,
          -9.597989949748744,
          -9.49748743718593,
          -9.396984924623116,
          -9.296482412060302,
          -9.195979899497488,
          -9.095477386934673,
          -8.99497487437186,
          -8.894472361809045,
          -8.793969849246231,
          -8.693467336683417,
          -8.592964824120603,
          -8.492462311557789,
          -8.391959798994975,
          -8.291457286432161,
          -8.190954773869347,
          -8.090452261306533,
          -7.989949748743719,
          -7.889447236180905,
          -7.788944723618091,
          -7.688442211055277,
          -7.5879396984924625,
          -7.4874371859296485,
          -7.386934673366834,
          -7.28643216080402,
          -7.185929648241206,
          -7.085427135678392,
          -6.984924623115578,
          -6.884422110552764,
          -6.78391959798995,
          -6.683417085427136,
          -6.582914572864322,
          -6.482412060301508,
          -6.381909547738694,
          -6.28140703517588,
          -6.180904522613066,
          -6.080402010050252,
          -5.979899497487437,
          -5.879396984924623,
          -5.7788944723618085,
          -5.6783919597989945,
          -5.57788944723618,
          -5.477386934673366,
          -5.376884422110552,
          -5.276381909547738,
          -5.175879396984924,
          -5.07537688442211,
          -4.974874371859296,
          -4.874371859296482,
          -4.773869346733668,
          -4.673366834170854,
          -4.57286432160804,
          -4.472361809045226,
          -4.371859296482412,
          -4.271356783919598,
          -4.1708542713567835,
          -4.0703517587939695,
          -3.9698492462311554,
          -3.8693467336683414,
          -3.7688442211055273,
          -3.6683417085427132,
          -3.567839195979899,
          -3.467336683417085,
          -3.366834170854271,
          -3.266331658291457,
          -3.165829145728643,
          -3.065326633165829,
          -2.964824120603015,
          -2.8643216080402008,
          -2.7638190954773867,
          -2.6633165829145726,
          -2.5628140703517586,
          -2.4623115577889445,
          -2.3618090452261304,
          -2.2613065326633164,
          -2.1608040201005023,
          -2.0603015075376883,
          -1.9597989949748733,
          -1.8592964824120592,
          -1.7587939698492452,
          -1.6582914572864311,
          -1.557788944723617,
          -1.457286432160803,
          -1.356783919597989,
          -1.2562814070351749,
          -1.1557788944723608,
          -1.0552763819095468,
          -0.9547738693467327,
          -0.8542713567839186,
          -0.7537688442211046,
          -0.6532663316582905,
          -0.5527638190954764,
          -0.4522613065326624,
          -0.3517587939698483,
          -0.25125628140703427,
          -0.1507537688442202,
          -0.05025125628140614,
          0.05025125628140792,
          0.15075376884422198,
          0.25125628140703604,
          0.3517587939698501,
          0.45226130653266416,
          0.5527638190954782,
          0.6532663316582923,
          0.7537688442211063,
          0.8542713567839204,
          0.9547738693467345,
          1.0552763819095485,
          1.1557788944723626,
          1.2562814070351767,
          1.3567839195979907,
          1.4572864321608048,
          1.5577889447236188,
          1.658291457286433,
          1.758793969849247,
          1.859296482412061,
          1.959798994974875,
          2.060301507537689,
          2.160804020100503,
          2.2613065326633173,
          2.3618090452261313,
          2.4623115577889454,
          2.5628140703517595,
          2.6633165829145735,
          2.7638190954773876,
          2.8643216080402016,
          2.9648241206030157,
          3.0653266331658298,
          3.165829145728644,
          3.266331658291458,
          3.366834170854272,
          3.467336683417086,
          3.5678391959799,
          3.668341708542714,
          3.768844221105528,
          3.8693467336683423,
          3.9698492462311563,
          4.07035175879397,
          4.170854271356784,
          4.2713567839195985,
          4.371859296482413,
          4.472361809045227,
          4.572864321608041,
          4.673366834170855,
          4.773869346733669,
          4.874371859296483,
          4.974874371859297,
          5.075376884422111,
          5.175879396984925,
          5.276381909547739,
          5.376884422110553,
          5.477386934673367,
          5.577889447236181,
          5.678391959798995,
          5.778894472361809,
          5.8793969849246235,
          5.9798994974874375,
          6.080402010050253,
          6.180904522613066,
          6.2814070351758815,
          6.381909547738694,
          6.48241206030151,
          6.582914572864322,
          6.683417085427138,
          6.78391959798995,
          6.884422110552766,
          6.984924623115578,
          7.085427135678394,
          7.185929648241206,
          7.286432160804022,
          7.386934673366834,
          7.48743718592965,
          7.5879396984924625,
          7.688442211055278,
          7.788944723618091,
          7.8894472361809065,
          7.989949748743719,
          8.090452261306535,
          8.190954773869347,
          8.291457286432163,
          8.391959798994975,
          8.49246231155779,
          8.592964824120603,
          8.693467336683419,
          8.793969849246231,
          8.894472361809047,
          8.99497487437186,
          9.095477386934675,
          9.195979899497488,
          9.296482412060303,
          9.396984924623116,
          9.497487437185931,
          9.597989949748744,
          9.69849246231156,
          9.798994974874372,
          9.899497487437188,
          10
         ],
         "y": [
          0.0031515830315226806,
          0.0032152497353691014,
          0.0032808585205761896,
          0.00334848889740348,
          0.003418224471768264,
          0.0034901532000473734,
          0.003564367662490212,
          0.0036409653568062563,
          0.0037200490136388613,
          0.0038017269358015995,
          0.0038861133633353675,
          0.003973328866646314,
          0.004063500770208416,
          0.004156763609563294,
          0.004253259624626201,
          0.004353139292614913,
          0.004456561904261055,
          0.0045636961873459,
          0.004674720982029785,
          0.004789825972921808,
          0.004909212483371038,
          0.005033094338059476,
          0.005161698800649235,
          0.005295267593991474,
          0.005434058011254164,
          0.005578344127282458,
          0.005728418120584493,
          0.005884591717554072,
          0.006047197771919657,
          0.006216591993969671,
          0.006393154845873841,
          0.006577293621430042,
          0.006769444730852031,
          0.006970076213817022,
          0.007179690506962345,
          0.007398827495413983,
          0.007628067881813263,
          0.007868036910759244,
          0.00811940849169456,
          0.008382909769139142,
          0.008659326195945664,
          0.008949507173061503,
          0.009254372328310676,
          0.009574918517163526,
          0.009912227640588708,
          0.010267475389173993,
          0.010641941039107861,
          0.011037018444747268,
          0.011454228394853163,
          0.01189523252574481,
          0.012361849015313607,
          0.012856070317892893,
          0.013380083242417,
          0.013936291726337837,
          0.014527342716862488,
          0.015156155640986723,
          0.01582595602863562,
          0.016540313951516006,
          0.017303188057071026,
          0.01811897611583755,
          0.018992573165874844,
          0.019929438534902394,
          0.020935673255424423,
          0.02201810966751901,
          0.02318441533630488,
          0.02444321380560499,
          0.02580422517612922,
          0.02727843004616804,
          0.02887826099542567,
          0.03061782653616168,
          0.032513173303046164,
          0.03458259319662854,
          0.03684698320894794,
          0.039330266684859956,
          0.04205988569529064,
          0.045067374813691406,
          0.04838902654026011,
          0.05206665731560093,
          0.05614847952910811,
          0.06069007757672953,
          0.06575547233850793,
          0.07141823447325686,
          0.07776256656506936,
          0.084884208205765,
          0.09289091313081192,
          0.1019020848882734,
          0.11204691338534156,
          0.12346000335711023,
          0.1362730111324668,
          0.15060022942096643,
          0.16651549917126998,
          0.18401760270308917,
          0.2029820744072448,
          0.22310029561891484,
          0.24381326865562192,
          0.26425839715654403,
          0.28326082116726153,
          0.2994083229083467,
          0.31123650780880224,
          0.31750811825304903,
          0.317508118253049,
          0.31123650780880213,
          0.2994083229083464,
          0.2832608211672612,
          0.2642583971565437,
          0.24381326865562156,
          0.2231002956189145,
          0.20298207440724444,
          0.1840176027030888,
          0.1665154991712697,
          0.15060022942096615,
          0.13627301113246654,
          0.12346000335711001,
          0.11204691338534134,
          0.10190208488827326,
          0.09289091313081178,
          0.08488420820576487,
          0.07776256656506925,
          0.07141823447325675,
          0.06575547233850783,
          0.06069007757672949,
          0.056148479529108064,
          0.05206665731560089,
          0.04838902654026008,
          0.04506737481369138,
          0.042059885695290615,
          0.03933026668485993,
          0.03684698320894792,
          0.03458259319662852,
          0.03251317330304614,
          0.03061782653616166,
          0.028878260995425654,
          0.027278430046168027,
          0.025804225176129205,
          0.02444321380560498,
          0.02318441533630487,
          0.022018109667519,
          0.020935673255424413,
          0.019929438534902384,
          0.018992573165874837,
          0.018118976115837543,
          0.01730318805707102,
          0.016540313951516,
          0.015825956028635613,
          0.015156155640986718,
          0.014527342716862486,
          0.013936291726337834,
          0.013380083242416997,
          0.01285607031789289,
          0.012361849015313602,
          0.011895232525744806,
          0.011454228394853157,
          0.011037018444747266,
          0.010641941039107858,
          0.01026747538917399,
          0.009912227640588704,
          0.009574918517163524,
          0.009254372328310672,
          0.0089495071730615,
          0.008659326195945661,
          0.008382909769139137,
          0.00811940849169456,
          0.00786803691075924,
          0.007628067881813263,
          0.007398827495413978,
          0.007179690506962345,
          0.0069700762138170174,
          0.006769444730852031,
          0.006577293621430039,
          0.006393154845873841,
          0.006216591993969668,
          0.006047197771919657,
          0.00588459171755407,
          0.005728418120584493,
          0.005578344127282454,
          0.005434058011254164,
          0.005295267593991472,
          0.005161698800649235,
          0.005033094338059474,
          0.004909212483371038,
          0.004789825972921807,
          0.004674720982029785,
          0.004563696187345898,
          0.004456561904261055,
          0.004353139292614911,
          0.004253259624626201,
          0.004156763609563292,
          0.004063500770208416,
          0.003973328866646312,
          0.0038861133633353675,
          0.0038017269358015973,
          0.0037200490136388613,
          0.003640965356806255,
          0.003564367662490212,
          0.0034901532000473716,
          0.003418224471768264,
          0.003348488897403479,
          0.0032808585205761896,
          0.0032152497353691,
          0.0031515830315226806
         ]
        },
        {
         "name": "df = 4",
         "type": "scatter",
         "x": [
          -10,
          -9.899497487437186,
          -9.798994974874372,
          -9.698492462311558,
          -9.597989949748744,
          -9.49748743718593,
          -9.396984924623116,
          -9.296482412060302,
          -9.195979899497488,
          -9.095477386934673,
          -8.99497487437186,
          -8.894472361809045,
          -8.793969849246231,
          -8.693467336683417,
          -8.592964824120603,
          -8.492462311557789,
          -8.391959798994975,
          -8.291457286432161,
          -8.190954773869347,
          -8.090452261306533,
          -7.989949748743719,
          -7.889447236180905,
          -7.788944723618091,
          -7.688442211055277,
          -7.5879396984924625,
          -7.4874371859296485,
          -7.386934673366834,
          -7.28643216080402,
          -7.185929648241206,
          -7.085427135678392,
          -6.984924623115578,
          -6.884422110552764,
          -6.78391959798995,
          -6.683417085427136,
          -6.582914572864322,
          -6.482412060301508,
          -6.381909547738694,
          -6.28140703517588,
          -6.180904522613066,
          -6.080402010050252,
          -5.979899497487437,
          -5.879396984924623,
          -5.7788944723618085,
          -5.6783919597989945,
          -5.57788944723618,
          -5.477386934673366,
          -5.376884422110552,
          -5.276381909547738,
          -5.175879396984924,
          -5.07537688442211,
          -4.974874371859296,
          -4.874371859296482,
          -4.773869346733668,
          -4.673366834170854,
          -4.57286432160804,
          -4.472361809045226,
          -4.371859296482412,
          -4.271356783919598,
          -4.1708542713567835,
          -4.0703517587939695,
          -3.9698492462311554,
          -3.8693467336683414,
          -3.7688442211055273,
          -3.6683417085427132,
          -3.567839195979899,
          -3.467336683417085,
          -3.366834170854271,
          -3.266331658291457,
          -3.165829145728643,
          -3.065326633165829,
          -2.964824120603015,
          -2.8643216080402008,
          -2.7638190954773867,
          -2.6633165829145726,
          -2.5628140703517586,
          -2.4623115577889445,
          -2.3618090452261304,
          -2.2613065326633164,
          -2.1608040201005023,
          -2.0603015075376883,
          -1.9597989949748733,
          -1.8592964824120592,
          -1.7587939698492452,
          -1.6582914572864311,
          -1.557788944723617,
          -1.457286432160803,
          -1.356783919597989,
          -1.2562814070351749,
          -1.1557788944723608,
          -1.0552763819095468,
          -0.9547738693467327,
          -0.8542713567839186,
          -0.7537688442211046,
          -0.6532663316582905,
          -0.5527638190954764,
          -0.4522613065326624,
          -0.3517587939698483,
          -0.25125628140703427,
          -0.1507537688442202,
          -0.05025125628140614,
          0.05025125628140792,
          0.15075376884422198,
          0.25125628140703604,
          0.3517587939698501,
          0.45226130653266416,
          0.5527638190954782,
          0.6532663316582923,
          0.7537688442211063,
          0.8542713567839204,
          0.9547738693467345,
          1.0552763819095485,
          1.1557788944723626,
          1.2562814070351767,
          1.3567839195979907,
          1.4572864321608048,
          1.5577889447236188,
          1.658291457286433,
          1.758793969849247,
          1.859296482412061,
          1.959798994974875,
          2.060301507537689,
          2.160804020100503,
          2.2613065326633173,
          2.3618090452261313,
          2.4623115577889454,
          2.5628140703517595,
          2.6633165829145735,
          2.7638190954773876,
          2.8643216080402016,
          2.9648241206030157,
          3.0653266331658298,
          3.165829145728644,
          3.266331658291458,
          3.366834170854272,
          3.467336683417086,
          3.5678391959799,
          3.668341708542714,
          3.768844221105528,
          3.8693467336683423,
          3.9698492462311563,
          4.07035175879397,
          4.170854271356784,
          4.2713567839195985,
          4.371859296482413,
          4.472361809045227,
          4.572864321608041,
          4.673366834170855,
          4.773869346733669,
          4.874371859296483,
          4.974874371859297,
          5.075376884422111,
          5.175879396984925,
          5.276381909547739,
          5.376884422110553,
          5.477386934673367,
          5.577889447236181,
          5.678391959798995,
          5.778894472361809,
          5.8793969849246235,
          5.9798994974874375,
          6.080402010050253,
          6.180904522613066,
          6.2814070351758815,
          6.381909547738694,
          6.48241206030151,
          6.582914572864322,
          6.683417085427138,
          6.78391959798995,
          6.884422110552766,
          6.984924623115578,
          7.085427135678394,
          7.185929648241206,
          7.286432160804022,
          7.386934673366834,
          7.48743718592965,
          7.5879396984924625,
          7.688442211055278,
          7.788944723618091,
          7.8894472361809065,
          7.989949748743719,
          8.090452261306535,
          8.190954773869347,
          8.291457286432163,
          8.391959798994975,
          8.49246231155779,
          8.592964824120603,
          8.693467336683419,
          8.793969849246231,
          8.894472361809047,
          8.99497487437186,
          9.095477386934675,
          9.195979899497488,
          9.296482412060303,
          9.396984924623116,
          9.497487437185931,
          9.597989949748744,
          9.69849246231156,
          9.798994974874372,
          9.899497487437188,
          10
         ],
         "y": [
          0.00010879223472902223,
          0.00011420372748971765,
          0.0001199391140806637,
          0.00012602106711448588,
          0.00013247407686323826,
          0.0001393246154747451,
          0.00014660131769326422,
          0.00015433517991013648,
          0.00016255977959034787,
          0.0001713115173699546,
          0.00018062988440112964,
          0.00019055775784082782,
          0.0002011417277410632,
          0.00021243245900970554,
          0.00022448509257761204,
          0.00023735969043900689,
          0.00025112172983676165,
          0.00026584265255355657,
          0.00028160047605648076,
          0.0002984804741411556,
          0.0003165759357489706,
          0.0003359890118073065,
          0.00035683166129070134,
          0.00037922670924757314,
          0.0004033090313135561,
          0.00042922688127512937,
          0.0004571433805984734,
          0.0004872381915480188,
          0.0005197093986449445,
          0.0005547756268258463,
          0.0005926784288354249,
          0.0006336849792175208,
          0.0006780911178654355,
          0.0007262247925834429,
          0.0007784499576473003,
          0.0008351709941092136,
          0.0008968377277798794,
          0.000963951132681063,
          0.0010370698215834994,
          0.0011168174413638092,
          0.0012038911097263362,
          0.0012990710518057994,
          0.0014032316208389948,
          0.0015173539171058324,
          0.0016425402544369158,
          0.0017800307646349892,
          0.0019312224781704343,
          0.0020976912756549564,
          0.0022812171702187253,
          0.0024838134575545885,
          0.0027077603597967124,
          0.0029556438935322,
          0.003230400813274089,
          0.0035353706220074433,
          0.0038743558024405774,
          0.004251691608861642,
          0.004672326972384881,
          0.005141918313827065,
          0.005666938329612567,
          0.006254802116650296,
          0.006914013329389006,
          0.0076543334099077945,
          0.00848697728807507,
          0.009424839293501002,
          0.010482753322416629,
          0.011677791512170363,
          0.01302960572167757,
          0.01456081589340365,
          0.0162974487327553,
          0.018269428876704068,
          0.02051112255065765,
          0.02306193024826125,
          0.025966919708554508,
          0.029277482760389405,
          0.033051988647502,
          0.037356391273917156,
          0.042264727332579265,
          0.04785941539281919,
          0.05423123179709542,
          0.061478797265730516,
          0.06970735916289382,
          0.0790266011672694,
          0.0895471605534014,
          0.10137549407972815,
          0.11460672357960794,
          0.12931513628387128,
          0.14554214460639553,
          0.16328176203382216,
          0.18246405920288145,
          0.20293764337121048,
          0.22445293329112354,
          0.24664879485119662,
          0.2690457919429568,
          0.29104963822122054,
          0.31196810742403186,
          0.3310434123945087,
          0.34749981017963744,
          0.36060315870422543,
          0.36972594381429114,
          0.37440881211461186,
          0.37440881211461186,
          0.36972594381429114,
          0.36060315870422516,
          0.34749981017963705,
          0.3310434123945084,
          0.3119681074240315,
          0.29104963822122004,
          0.2690457919429564,
          0.24664879485119617,
          0.22445293329112312,
          0.20293764337121006,
          0.18246405920288103,
          0.1632817620338219,
          0.14554214460639522,
          0.12931513628387106,
          0.11460672357960766,
          0.10137549407972792,
          0.08954716055340119,
          0.0790266011672692,
          0.06970735916289365,
          0.061478797265730446,
          0.05423123179709533,
          0.04785941539281912,
          0.04226472733257921,
          0.03735639127391713,
          0.03305198864750196,
          0.029277482760389367,
          0.02596691970855448,
          0.023061930248261225,
          0.020511122550657627,
          0.01826942887670405,
          0.016297448732755283,
          0.014560815893403639,
          0.01302960572167756,
          0.01167779151217036,
          0.010482753322416622,
          0.009424839293500993,
          0.008486977288075064,
          0.007654333409907787,
          0.006914013329389,
          0.0062548021166502895,
          0.005666938329612562,
          0.0051419183138270595,
          0.004672326972384876,
          0.004251691608861638,
          0.0038743558024405744,
          0.003535370622007441,
          0.0032304008132740874,
          0.002955643893532198,
          0.002707760359796711,
          0.002483813457554587,
          0.0022812171702187235,
          0.002097691275654954,
          0.0019312224781704319,
          0.0017800307646349874,
          0.0016425402544369143,
          0.0015173539171058317,
          0.0014032316208389935,
          0.001299071051805798,
          0.001203891109726335,
          0.0011168174413638077,
          0.0010370698215834994,
          0.0009639511326810618,
          0.0008968377277798794,
          0.0008351709941092123,
          0.0007784499576473003,
          0.0007262247925834417,
          0.0006780911178654355,
          0.00063368497921752,
          0.0005926784288354249,
          0.0005547756268258458,
          0.0005197093986449445,
          0.00048723819154801836,
          0.0004571433805984734,
          0.0004292268812751288,
          0.0004033090313135561,
          0.00037922670924757276,
          0.00035683166129070134,
          0.00033598901180730613,
          0.0003165759357489706,
          0.0002984804741411554,
          0.00028160047605648076,
          0.0002658426525535563,
          0.00025112172983676165,
          0.00023735969043900653,
          0.00022448509257761204,
          0.00021243245900970527,
          0.0002011417277410632,
          0.0001905577578408277,
          0.00018062988440112964,
          0.0001713115173699544,
          0.00016255977959034787,
          0.00015433517991013637,
          0.00014660131769326422,
          0.00013932461547474498,
          0.00013247407686323826,
          0.00012602106711448574,
          0.0001199391140806637,
          0.00011420372748971752,
          0.00010879223472902223
         ]
        },
        {
         "name": "df = 10",
         "type": "scatter",
         "x": [
          -10,
          -9.899497487437186,
          -9.798994974874372,
          -9.698492462311558,
          -9.597989949748744,
          -9.49748743718593,
          -9.396984924623116,
          -9.296482412060302,
          -9.195979899497488,
          -9.095477386934673,
          -8.99497487437186,
          -8.894472361809045,
          -8.793969849246231,
          -8.693467336683417,
          -8.592964824120603,
          -8.492462311557789,
          -8.391959798994975,
          -8.291457286432161,
          -8.190954773869347,
          -8.090452261306533,
          -7.989949748743719,
          -7.889447236180905,
          -7.788944723618091,
          -7.688442211055277,
          -7.5879396984924625,
          -7.4874371859296485,
          -7.386934673366834,
          -7.28643216080402,
          -7.185929648241206,
          -7.085427135678392,
          -6.984924623115578,
          -6.884422110552764,
          -6.78391959798995,
          -6.683417085427136,
          -6.582914572864322,
          -6.482412060301508,
          -6.381909547738694,
          -6.28140703517588,
          -6.180904522613066,
          -6.080402010050252,
          -5.979899497487437,
          -5.879396984924623,
          -5.7788944723618085,
          -5.6783919597989945,
          -5.57788944723618,
          -5.477386934673366,
          -5.376884422110552,
          -5.276381909547738,
          -5.175879396984924,
          -5.07537688442211,
          -4.974874371859296,
          -4.874371859296482,
          -4.773869346733668,
          -4.673366834170854,
          -4.57286432160804,
          -4.472361809045226,
          -4.371859296482412,
          -4.271356783919598,
          -4.1708542713567835,
          -4.0703517587939695,
          -3.9698492462311554,
          -3.8693467336683414,
          -3.7688442211055273,
          -3.6683417085427132,
          -3.567839195979899,
          -3.467336683417085,
          -3.366834170854271,
          -3.266331658291457,
          -3.165829145728643,
          -3.065326633165829,
          -2.964824120603015,
          -2.8643216080402008,
          -2.7638190954773867,
          -2.6633165829145726,
          -2.5628140703517586,
          -2.4623115577889445,
          -2.3618090452261304,
          -2.2613065326633164,
          -2.1608040201005023,
          -2.0603015075376883,
          -1.9597989949748733,
          -1.8592964824120592,
          -1.7587939698492452,
          -1.6582914572864311,
          -1.557788944723617,
          -1.457286432160803,
          -1.356783919597989,
          -1.2562814070351749,
          -1.1557788944723608,
          -1.0552763819095468,
          -0.9547738693467327,
          -0.8542713567839186,
          -0.7537688442211046,
          -0.6532663316582905,
          -0.5527638190954764,
          -0.4522613065326624,
          -0.3517587939698483,
          -0.25125628140703427,
          -0.1507537688442202,
          -0.05025125628140614,
          0.05025125628140792,
          0.15075376884422198,
          0.25125628140703604,
          0.3517587939698501,
          0.45226130653266416,
          0.5527638190954782,
          0.6532663316582923,
          0.7537688442211063,
          0.8542713567839204,
          0.9547738693467345,
          1.0552763819095485,
          1.1557788944723626,
          1.2562814070351767,
          1.3567839195979907,
          1.4572864321608048,
          1.5577889447236188,
          1.658291457286433,
          1.758793969849247,
          1.859296482412061,
          1.959798994974875,
          2.060301507537689,
          2.160804020100503,
          2.2613065326633173,
          2.3618090452261313,
          2.4623115577889454,
          2.5628140703517595,
          2.6633165829145735,
          2.7638190954773876,
          2.8643216080402016,
          2.9648241206030157,
          3.0653266331658298,
          3.165829145728644,
          3.266331658291458,
          3.366834170854272,
          3.467336683417086,
          3.5678391959799,
          3.668341708542714,
          3.768844221105528,
          3.8693467336683423,
          3.9698492462311563,
          4.07035175879397,
          4.170854271356784,
          4.2713567839195985,
          4.371859296482413,
          4.472361809045227,
          4.572864321608041,
          4.673366834170855,
          4.773869346733669,
          4.874371859296483,
          4.974874371859297,
          5.075376884422111,
          5.175879396984925,
          5.276381909547739,
          5.376884422110553,
          5.477386934673367,
          5.577889447236181,
          5.678391959798995,
          5.778894472361809,
          5.8793969849246235,
          5.9798994974874375,
          6.080402010050253,
          6.180904522613066,
          6.2814070351758815,
          6.381909547738694,
          6.48241206030151,
          6.582914572864322,
          6.683417085427138,
          6.78391959798995,
          6.884422110552766,
          6.984924623115578,
          7.085427135678394,
          7.185929648241206,
          7.286432160804022,
          7.386934673366834,
          7.48743718592965,
          7.5879396984924625,
          7.688442211055278,
          7.788944723618091,
          7.8894472361809065,
          7.989949748743719,
          8.090452261306535,
          8.190954773869347,
          8.291457286432163,
          8.391959798994975,
          8.49246231155779,
          8.592964824120603,
          8.693467336683419,
          8.793969849246231,
          8.894472361809047,
          8.99497487437186,
          9.095477386934675,
          9.195979899497488,
          9.296482412060303,
          9.396984924623116,
          9.497487437185931,
          9.597989949748744,
          9.69849246231156,
          9.798994974874372,
          9.899497487437188,
          10
         ],
         "y": [
          7.284685722912541e-7,
          8.05821436475958e-7,
          8.921356071689921e-7,
          9.885353757310166e-7,
          0.0000010962968076452663,
          0.0000012168696625947037,
          0.0000013519026840236889,
          0.0000015032728068228814,
          0.0000016731189259762184,
          0.000001863880980189883,
          0.0000020783452358850354,
          0.000002319696812305727,
          0.0000025915806724531106,
          0.0000028981725225978334,
          0.0000032442613218300637,
          0.0000036353454103890566,
          0.000004077744630871758,
          0.000004578731251281253,
          0.000005146683016994233,
          0.000005791262276672791,
          0.0000065236258648956665,
          0.000007356671305938884,
          0.000008305325957793974,
          0.000009386886978326938,
          0.00001062142150894874,
          0.000012032238286683841,
          0.000013646444075279725,
          0.00001549560092528051,
          0.00001761650342294824,
          0.000020052098878959833,
          0.000022852577973653344,
          0.0000260766688782034,
          0.000029793174506593238,
          0.000034082800559032365,
          0.0000390403316807893,
          0.00004477722472854826,
          0.00005142470222880315,
          0.000059137446135456194,
          0.0000680980125560716,
          0.0000785221129506457,
          0.00009066493729162196,
          0.00010482873085933087,
          0.00012137187998409262,
          0.00014071981461876495,
          0.00016337809888436542,
          0.00018994815672891273,
          0.0002211461709626245,
          0.0002578258029292978,
          0.0003010055100689191,
          0.0003519013931161677,
          0.0004119666874909643,
          0.0004829392286381492,
          0.0005668984728020236,
          0.0006663339469044464,
          0.0007842273371048485,
          0.0009241508072097087,
          0.0010903845650320834,
          0.0012880571630796318,
          0.001523312520002847,
          0.0018035081633360865,
          0.002137449692888486,
          0.0025356669023060266,
          0.003010737306736797,
          0.0035776629114472104,
          0.004254305787059282,
          0.005061887213120704,
          0.00602555357857148,
          0.007175009586372811,
          0.008545215230625581,
          0.010177137058013475,
          0.012118535891935062,
          0.014424761956591982,
          0.017159513681832276,
          0.02039549800296435,
          0.024214907548166468,
          0.028709604027353782,
          0.033980868393933696,
          0.040138548939891446,
          0.04729941173467175,
          0.055584478698462086,
          0.06511513390414528,
          0.07600779697589231,
          0.08836701349435898,
          0.10227690605666717,
          0.11779107423015997,
          0.13492123073856963,
          0.15362511059567382,
          0.17379447387919694,
          0.1952443114658861,
          0.2177046112514308,
          0.2408161925131903,
          0.2641321050757995,
          0.2871258613964554,
          0.3092072896904942,
          0.3297460699856523,
          0.348102099517126,
          0.3636608411464787,
          0.3758708948873424,
          0.3842803732446317,
          0.38856841253290114,
          0.38856841253290114,
          0.3842803732446317,
          0.3758708948873424,
          0.36366084114647823,
          0.3481020995171256,
          0.329746069985652,
          0.30920728969049394,
          0.2871258613964551,
          0.26413210507579893,
          0.24081619251319003,
          0.2177046112514306,
          0.19524431146588572,
          0.17379447387919658,
          0.15362511059567355,
          0.13492123073856938,
          0.11779107423015964,
          0.10227690605666687,
          0.08836701349435873,
          0.0760077969758921,
          0.06511513390414504,
          0.055584478698461996,
          0.04729941173467168,
          0.040138548939891376,
          0.03398086839393365,
          0.02870960402735374,
          0.024214907548166412,
          0.020395498002964307,
          0.01715951368183224,
          0.014424761956591963,
          0.012118535891935046,
          0.010177137058013456,
          0.00854521523062556,
          0.007175009586372802,
          0.006025553578571474,
          0.005061887213120698,
          0.004254305787059278,
          0.0035776629114472026,
          0.0030107373067367912,
          0.002535666902306021,
          0.0021374496928884823,
          0.001803508163336085,
          0.0015233125200028454,
          0.0012880571630796292,
          0.0010903845650320808,
          0.0009241508072097078,
          0.0007842273371048478,
          0.0006663339469044456,
          0.000566898472802023,
          0.0004829392286381489,
          0.00041196668749096367,
          0.0003519013931161675,
          0.00030100551006891866,
          0.00025782580292929753,
          0.0002211461709626242,
          0.0001899481567289125,
          0.00016337809888436523,
          0.00014071981461876478,
          0.0001213718799840925,
          0.00010482873085933076,
          0.00009066493729162173,
          0.00007852211295064552,
          0.0000680980125560716,
          0.00005913744613545602,
          0.00005142470222880315,
          0.000044777224728548137,
          0.0000390403316807893,
          0.00003408280055903224,
          0.000029793174506593238,
          0.00002607666887820331,
          0.000022852577973653344,
          0.0000200520988789598,
          0.00001761650342294824,
          0.000015495600925280477,
          0.000013646444075279725,
          0.000012032238286683814,
          0.00001062142150894874,
          0.000009386886978326918,
          0.000008305325957793974,
          0.00000735667130593887,
          0.0000065236258648956665,
          0.0000057912622766727795,
          0.000005146683016994233,
          0.0000045787312512812444,
          0.000004077744630871758,
          0.000003635345410389048,
          0.0000032442613218300637,
          0.0000028981725225978237,
          0.0000025915806724531106,
          0.0000023196968123057216,
          0.0000020783452358850354,
          0.000001863880980189879,
          0.0000016731189259762184,
          0.00000150327280682288,
          0.0000013519026840236889,
          0.0000012168696625947016,
          0.0000010962968076452663,
          9.88535375731014e-7,
          8.921356071689921e-7,
          8.058214364759566e-7,
          7.284685722912541e-7
         ]
        },
        {
         "name": "df = 50",
         "type": "scatter",
         "x": [
          -10,
          -9.899497487437186,
          -9.798994974874372,
          -9.698492462311558,
          -9.597989949748744,
          -9.49748743718593,
          -9.396984924623116,
          -9.296482412060302,
          -9.195979899497488,
          -9.095477386934673,
          -8.99497487437186,
          -8.894472361809045,
          -8.793969849246231,
          -8.693467336683417,
          -8.592964824120603,
          -8.492462311557789,
          -8.391959798994975,
          -8.291457286432161,
          -8.190954773869347,
          -8.090452261306533,
          -7.989949748743719,
          -7.889447236180905,
          -7.788944723618091,
          -7.688442211055277,
          -7.5879396984924625,
          -7.4874371859296485,
          -7.386934673366834,
          -7.28643216080402,
          -7.185929648241206,
          -7.085427135678392,
          -6.984924623115578,
          -6.884422110552764,
          -6.78391959798995,
          -6.683417085427136,
          -6.582914572864322,
          -6.482412060301508,
          -6.381909547738694,
          -6.28140703517588,
          -6.180904522613066,
          -6.080402010050252,
          -5.979899497487437,
          -5.879396984924623,
          -5.7788944723618085,
          -5.6783919597989945,
          -5.57788944723618,
          -5.477386934673366,
          -5.376884422110552,
          -5.276381909547738,
          -5.175879396984924,
          -5.07537688442211,
          -4.974874371859296,
          -4.874371859296482,
          -4.773869346733668,
          -4.673366834170854,
          -4.57286432160804,
          -4.472361809045226,
          -4.371859296482412,
          -4.271356783919598,
          -4.1708542713567835,
          -4.0703517587939695,
          -3.9698492462311554,
          -3.8693467336683414,
          -3.7688442211055273,
          -3.6683417085427132,
          -3.567839195979899,
          -3.467336683417085,
          -3.366834170854271,
          -3.266331658291457,
          -3.165829145728643,
          -3.065326633165829,
          -2.964824120603015,
          -2.8643216080402008,
          -2.7638190954773867,
          -2.6633165829145726,
          -2.5628140703517586,
          -2.4623115577889445,
          -2.3618090452261304,
          -2.2613065326633164,
          -2.1608040201005023,
          -2.0603015075376883,
          -1.9597989949748733,
          -1.8592964824120592,
          -1.7587939698492452,
          -1.6582914572864311,
          -1.557788944723617,
          -1.457286432160803,
          -1.356783919597989,
          -1.2562814070351749,
          -1.1557788944723608,
          -1.0552763819095468,
          -0.9547738693467327,
          -0.8542713567839186,
          -0.7537688442211046,
          -0.6532663316582905,
          -0.5527638190954764,
          -0.4522613065326624,
          -0.3517587939698483,
          -0.25125628140703427,
          -0.1507537688442202,
          -0.05025125628140614,
          0.05025125628140792,
          0.15075376884422198,
          0.25125628140703604,
          0.3517587939698501,
          0.45226130653266416,
          0.5527638190954782,
          0.6532663316582923,
          0.7537688442211063,
          0.8542713567839204,
          0.9547738693467345,
          1.0552763819095485,
          1.1557788944723626,
          1.2562814070351767,
          1.3567839195979907,
          1.4572864321608048,
          1.5577889447236188,
          1.658291457286433,
          1.758793969849247,
          1.859296482412061,
          1.959798994974875,
          2.060301507537689,
          2.160804020100503,
          2.2613065326633173,
          2.3618090452261313,
          2.4623115577889454,
          2.5628140703517595,
          2.6633165829145735,
          2.7638190954773876,
          2.8643216080402016,
          2.9648241206030157,
          3.0653266331658298,
          3.165829145728644,
          3.266331658291458,
          3.366834170854272,
          3.467336683417086,
          3.5678391959799,
          3.668341708542714,
          3.768844221105528,
          3.8693467336683423,
          3.9698492462311563,
          4.07035175879397,
          4.170854271356784,
          4.2713567839195985,
          4.371859296482413,
          4.472361809045227,
          4.572864321608041,
          4.673366834170855,
          4.773869346733669,
          4.874371859296483,
          4.974874371859297,
          5.075376884422111,
          5.175879396984925,
          5.276381909547739,
          5.376884422110553,
          5.477386934673367,
          5.577889447236181,
          5.678391959798995,
          5.778894472361809,
          5.8793969849246235,
          5.9798994974874375,
          6.080402010050253,
          6.180904522613066,
          6.2814070351758815,
          6.381909547738694,
          6.48241206030151,
          6.582914572864322,
          6.683417085427138,
          6.78391959798995,
          6.884422110552766,
          6.984924623115578,
          7.085427135678394,
          7.185929648241206,
          7.286432160804022,
          7.386934673366834,
          7.48743718592965,
          7.5879396984924625,
          7.688442211055278,
          7.788944723618091,
          7.8894472361809065,
          7.989949748743719,
          8.090452261306535,
          8.190954773869347,
          8.291457286432163,
          8.391959798994975,
          8.49246231155779,
          8.592964824120603,
          8.693467336683419,
          8.793969849246231,
          8.894472361809047,
          8.99497487437186,
          9.095477386934675,
          9.195979899497488,
          9.296482412060303,
          9.396984924623116,
          9.497487437185931,
          9.597989949748744,
          9.69849246231156,
          9.798994974874372,
          9.899497487437188,
          10
         ],
         "y": [
          2.7048721527008514e-13,
          3.8088715518883934e-13,
          5.369528234472371e-13,
          7.57807261435435e-13,
          1.070671699196608e-12,
          1.5143294956170664e-12,
          2.1440847727840916e-12,
          3.0388654749859858e-12,
          4.311404670599289e-12,
          6.1228427339202294e-12,
          8.703681480683138e-12,
          1.2383868425863085e-11,
          1.7636008881241534e-11,
          2.5137459394428464e-11,
          3.585958367612836e-11,
          5.1196090480304374e-11,
          7.314760877995446e-11,
          1.0458718819331282e-10,
          1.4964224514059181e-10,
          2.1424404563976214e-10,
          3.0691818300347995e-10,
          4.3992161763475763e-10,
          6.308779020959657e-10,
          9.051282145925966e-10,
          1.2991103051314782e-9,
          1.8652125516072008e-9,
          2.6787432295272625e-9,
          3.847930156256865e-9,
          5.528257426618269e-9,
          7.943002357412624e-9,
          1.1412624852065638e-8,
          1.6396778094366895e-8,
          2.3554286086263303e-8,
          3.382865378351858e-8,
          4.8569793522679555e-8,
          6.970701682194962e-8,
          9.999443255395028e-8,
          1.4335836360276217e-7,
          2.053881283313796e-7,
          2.9402771975673064e-7,
          4.2054814290500317e-7,
          6.009105447742927e-7,
          8.576715573344084e-7,
          0.0000012226380694735106,
          0.0000017405535764907394,
          0.0000024741982042342527,
          0.000003511416829544007,
          0.000004974763480260248,
          0.0000070346763294889275,
          0.00000992738897170745,
          0.000013979154974376866,
          0.00001963883003151628,
          0.000027521436031159268,
          0.00003846603963256798,
          0.00005361212680959681,
          0.00007449964964022252,
          0.00010319905597561631,
          0.0001424788616839074,
          0.00019601963737903166,
          0.00026868456855386945,
          0.00036685787324153654,
          0.0004988631279269854,
          0.0006754736923748521,
          0.0009105265901683618,
          0.0012216489662629719,
          0.0016311021061757116,
          0.0021667414163447306,
          0.002863081181389317,
          0.003762439847749147,
          0.004916124715306734,
          0.0063855942206882494,
          0.008243511879764628,
          0.010574579434987547,
          0.0134760095902055,
          0.01705747354042109,
          0.0214403388449911,
          0.02675600339310858,
          0.03314313618081648,
          0.040743660396432034,
          0.04969736341306181,
          0.06013509487976547,
          0.07217061905684721,
          0.08589131847978405,
          0.10134809654961477,
          0.11854498585430445,
          0.13742912169205454,
          0.15788186764234263,
          0.17971196148114332,
          0.20265156514911742,
          0.22635603522649736,
          0.25040807047775193,
          0.27432664008841345,
          0.29758076140955847,
          0.3196078027959973,
          0.3398355700592974,
          0.35770703685273003,
          0.3727062460069037,
          0.38438368388980787,
          0.39237934783604866,
          0.3964418076378795,
          0.3964418076378795,
          0.39237934783604866,
          0.38438368388980787,
          0.3727062460069037,
          0.35770703685273003,
          0.3398355700592974,
          0.3196078027959973,
          0.29758076140955847,
          0.27432664008841345,
          0.25040807047775193,
          0.22635603522649736,
          0.20265156514911742,
          0.17971196148114332,
          0.15788186764234263,
          0.1374291216920538,
          0.11854498585430445,
          0.10134809654961421,
          0.0858913184797836,
          0.07217061905684721,
          0.06013509487976547,
          0.04969736341306181,
          0.040743660396432034,
          0.03314313618081648,
          0.02675600339310858,
          0.02144033884499099,
          0.01705747354042109,
          0.0134760095902055,
          0.010574579434987547,
          0.008243511879764628,
          0.0063855942206882494,
          0.004916124715306734,
          0.003762439847749147,
          0.002863081181389317,
          0.0021667414163447306,
          0.0016311021061757116,
          0.0012216489662629719,
          0.0009105265901683577,
          0.0006754736923748491,
          0.0004988631279269854,
          0.00036685787324153654,
          0.00026868456855386945,
          0.00019601963737903166,
          0.0001424788616839074,
          0.00010319905597561589,
          0.00007449964964022224,
          0.00005361212680959681,
          0.00003846603963256783,
          0.000027521436031159268,
          0.00001963883003151628,
          0.000013979154974376811,
          0.000009927388971707413,
          0.000007034676329488902,
          0.000004974763480260212,
          0.000003511416829544007,
          0.0000024741982042342442,
          0.0000017405535764907333,
          0.0000012226380694735106,
          8.576715573344084e-7,
          6.009105447742907e-7,
          4.205481429050004e-7,
          2.940277197567288e-7,
          2.053881283313796e-7,
          1.4335836360276124e-7,
          9.999443255395028e-8,
          6.970701682194896e-8,
          4.8569793522679555e-8,
          3.382865378351838e-8,
          2.3554286086263303e-8,
          1.639677809436675e-8,
          1.1412624852065638e-8,
          7.943002357412535e-9,
          5.528257426618269e-9,
          3.847930156256824e-9,
          2.6787432295272625e-9,
          1.865212551607181e-9,
          1.2991103051314782e-9,
          9.051282145925917e-10,
          6.308779020959657e-10,
          4.3992161763475546e-10,
          3.0691818300347995e-10,
          2.1424404563976005e-10,
          1.4964224514059181e-10,
          1.0458718819331233e-10,
          7.314760877995446e-11,
          5.119609048030391e-11,
          3.585958367612836e-11,
          2.513745939442824e-11,
          1.7636008881241534e-11,
          1.238386842586303e-11,
          8.703681480683138e-12,
          6.1228427339202036e-12,
          4.311404670599289e-12,
          3.0388654749859858e-12,
          2.1440847727840916e-12,
          1.514329495617054e-12,
          1.070671699196608e-12,
          7.57807261435429e-13,
          5.369528234472371e-13,
          3.808871551888364e-13,
          2.7048721527008514e-13
         ]
        },
        {
         "name": "normal dist",
         "type": "scatter",
         "x": [
          -10,
          -9.899497487437186,
          -9.798994974874372,
          -9.698492462311558,
          -9.597989949748744,
          -9.49748743718593,
          -9.396984924623116,
          -9.296482412060302,
          -9.195979899497488,
          -9.095477386934673,
          -8.99497487437186,
          -8.894472361809045,
          -8.793969849246231,
          -8.693467336683417,
          -8.592964824120603,
          -8.492462311557789,
          -8.391959798994975,
          -8.291457286432161,
          -8.190954773869347,
          -8.090452261306533,
          -7.989949748743719,
          -7.889447236180905,
          -7.788944723618091,
          -7.688442211055277,
          -7.5879396984924625,
          -7.4874371859296485,
          -7.386934673366834,
          -7.28643216080402,
          -7.185929648241206,
          -7.085427135678392,
          -6.984924623115578,
          -6.884422110552764,
          -6.78391959798995,
          -6.683417085427136,
          -6.582914572864322,
          -6.482412060301508,
          -6.381909547738694,
          -6.28140703517588,
          -6.180904522613066,
          -6.080402010050252,
          -5.979899497487437,
          -5.879396984924623,
          -5.7788944723618085,
          -5.6783919597989945,
          -5.57788944723618,
          -5.477386934673366,
          -5.376884422110552,
          -5.276381909547738,
          -5.175879396984924,
          -5.07537688442211,
          -4.974874371859296,
          -4.874371859296482,
          -4.773869346733668,
          -4.673366834170854,
          -4.57286432160804,
          -4.472361809045226,
          -4.371859296482412,
          -4.271356783919598,
          -4.1708542713567835,
          -4.0703517587939695,
          -3.9698492462311554,
          -3.8693467336683414,
          -3.7688442211055273,
          -3.6683417085427132,
          -3.567839195979899,
          -3.467336683417085,
          -3.366834170854271,
          -3.266331658291457,
          -3.165829145728643,
          -3.065326633165829,
          -2.964824120603015,
          -2.8643216080402008,
          -2.7638190954773867,
          -2.6633165829145726,
          -2.5628140703517586,
          -2.4623115577889445,
          -2.3618090452261304,
          -2.2613065326633164,
          -2.1608040201005023,
          -2.0603015075376883,
          -1.9597989949748733,
          -1.8592964824120592,
          -1.7587939698492452,
          -1.6582914572864311,
          -1.557788944723617,
          -1.457286432160803,
          -1.356783919597989,
          -1.2562814070351749,
          -1.1557788944723608,
          -1.0552763819095468,
          -0.9547738693467327,
          -0.8542713567839186,
          -0.7537688442211046,
          -0.6532663316582905,
          -0.5527638190954764,
          -0.4522613065326624,
          -0.3517587939698483,
          -0.25125628140703427,
          -0.1507537688442202,
          -0.05025125628140614,
          0.05025125628140792,
          0.15075376884422198,
          0.25125628140703604,
          0.3517587939698501,
          0.45226130653266416,
          0.5527638190954782,
          0.6532663316582923,
          0.7537688442211063,
          0.8542713567839204,
          0.9547738693467345,
          1.0552763819095485,
          1.1557788944723626,
          1.2562814070351767,
          1.3567839195979907,
          1.4572864321608048,
          1.5577889447236188,
          1.658291457286433,
          1.758793969849247,
          1.859296482412061,
          1.959798994974875,
          2.060301507537689,
          2.160804020100503,
          2.2613065326633173,
          2.3618090452261313,
          2.4623115577889454,
          2.5628140703517595,
          2.6633165829145735,
          2.7638190954773876,
          2.8643216080402016,
          2.9648241206030157,
          3.0653266331658298,
          3.165829145728644,
          3.266331658291458,
          3.366834170854272,
          3.467336683417086,
          3.5678391959799,
          3.668341708542714,
          3.768844221105528,
          3.8693467336683423,
          3.9698492462311563,
          4.07035175879397,
          4.170854271356784,
          4.2713567839195985,
          4.371859296482413,
          4.472361809045227,
          4.572864321608041,
          4.673366834170855,
          4.773869346733669,
          4.874371859296483,
          4.974874371859297,
          5.075376884422111,
          5.175879396984925,
          5.276381909547739,
          5.376884422110553,
          5.477386934673367,
          5.577889447236181,
          5.678391959798995,
          5.778894472361809,
          5.8793969849246235,
          5.9798994974874375,
          6.080402010050253,
          6.180904522613066,
          6.2814070351758815,
          6.381909547738694,
          6.48241206030151,
          6.582914572864322,
          6.683417085427138,
          6.78391959798995,
          6.884422110552766,
          6.984924623115578,
          7.085427135678394,
          7.185929648241206,
          7.286432160804022,
          7.386934673366834,
          7.48743718592965,
          7.5879396984924625,
          7.688442211055278,
          7.788944723618091,
          7.8894472361809065,
          7.989949748743719,
          8.090452261306535,
          8.190954773869347,
          8.291457286432163,
          8.391959798994975,
          8.49246231155779,
          8.592964824120603,
          8.693467336683419,
          8.793969849246231,
          8.894472361809047,
          8.99497487437186,
          9.095477386934675,
          9.195979899497488,
          9.296482412060303,
          9.396984924623116,
          9.497487437185931,
          9.597989949748744,
          9.69849246231156,
          9.798994974874372,
          9.899497487437188,
          10
         ],
         "y": [
          7.69459862670642e-23,
          2.0915559460237316e-22,
          5.628158231224585e-22,
          1.4992581197302371e-21,
          3.953664545731887e-21,
          1.0321350458954363e-20,
          2.667390063081357e-20,
          6.82416990343029e-20,
          1.7283290551742168e-19,
          4.3332757730469813e-19,
          1.0755225595718092e-18,
          2.6426279118109925e-18,
          6.427851116947396e-18,
          1.5477788151728963e-17,
          3.689481057752749e-17,
          8.706326898583476e-17,
          2.0338454688554668e-16,
          4.703425101618815e-16,
          1.0767721414028013e-15,
          2.4403194807463487e-15,
          5.474984080248159e-15,
          1.2159965209398838e-14,
          2.6735918082730703e-14,
          5.819305660715444e-14,
          1.2538931631597639e-13,
          2.674626833434393e-13,
          5.647798038091508e-13,
          1.1806153265304457e-12,
          2.4431547340451372e-12,
          5.00503164397649e-12,
          1.0150232254276442e-11,
          2.0377853218566854e-11,
          4.049992113099725e-11,
          7.968254984524808e-11,
          1.5519780209799942e-10,
          2.992410760535496e-10,
          5.711762579595927e-10,
          1.0792756621825112e-9,
          2.018867972986445e-9,
          3.738494543185957e-9,
          6.853286400480501e-9,
          1.2436962065961212e-8,
          2.2343079753424036e-8,
          3.973608350059317e-8,
          6.995848263981094e-8,
          1.219295583830592e-7,
          2.103734446745959e-7,
          3.5932392368063e-7,
          6.075676564618936e-7,
          0.0000010169894723044362,
          0.000001685200447834652,
          0.000002764394195246486,
          0.000004489124774019365,
          0.0000072166672123560765,
          0.000011484840781110738,
          0.000018093666307248787,
          0.000028218990425409123,
          0.00004356820481627285,
          0.00006659032843530923,
          0.00010075484657182175,
          0.00015091556464144599,
          0.00022377698474260044,
          0.00032848088361525076,
          0.00047732928584549384,
          0.0006866562208011893,
          0.0009778538162001056,
          0.0013785477345316117,
          0.001923902152764817,
          0.0026580151387191543,
          0.0036353415271796904,
          0.004922052964715569,
          0.006597215121080793,
          0.008753632433787812,
          0.01149818429328922,
          0.014951457192859684,
          0.019246469512527096,
          0.024526293906179268,
          0.03094041098802078,
          0.03863968044048048,
          0.047769893348557114,
          0.05846397165839058,
          0.07083300334470599,
          0.08495643804976388,
          0.1008719072736545,
          0.11856526253021346,
          0.1379615292990553,
          0.15891753876005665,
          0.18121700919741976,
          0.20456879388398067,
          0.22860888661109421,
          0.25290658087438367,
          0.27697492268521184,
          0.3002852963293314,
          0.3222856601983407,
          0.3424216340835994,
          0.36015936032965784,
          0.3750088483191984,
          0.38654638984772,
          0.39443461944238506,
          0.3984388959727278,
          0.39843889597272775,
          0.39443461944238495,
          0.38654638984771983,
          0.3750088483191981,
          0.36015936032965756,
          0.3424216340835991,
          0.3222856601983403,
          0.30028529632933093,
          0.27697492268521146,
          0.2529065808743833,
          0.22860888661109377,
          0.20456879388398022,
          0.18121700919741937,
          0.1589175387600563,
          0.13796152929905497,
          0.11856526253021313,
          0.10087190727365417,
          0.08495643804976362,
          0.07083300334470576,
          0.05846397165839037,
          0.04776989334855703,
          0.03863968044048039,
          0.030940410988020712,
          0.024526293906179213,
          0.01924646951252705,
          0.014951457192859646,
          0.01149818429328919,
          0.008753632433787788,
          0.006597215121080775,
          0.004922052964715556,
          0.003635341527179681,
          0.0026580151387191474,
          0.0019239021527648118,
          0.001378547734531608,
          0.000977853816200103,
          0.0006866562208011875,
          0.0004773292858454921,
          0.0003284808836152496,
          0.00022377698474259966,
          0.00015091556464144547,
          0.00010075484657182141,
          0.000066590328435309,
          0.00004356820481627261,
          0.00002821899042540897,
          0.000018093666307248723,
          0.000011484840781110696,
          0.000007216667212356051,
          0.000004489124774019349,
          0.0000027643941952464764,
          0.000001685200447834646,
          0.0000010169894723044326,
          6.075676564618903e-7,
          3.5932392368062804e-7,
          2.1037344467459514e-7,
          1.2192955838305855e-7,
          6.995848263981057e-8,
          3.9736083500593033e-8,
          2.2343079753423878e-8,
          1.2436962065961123e-8,
          6.853286400480452e-9,
          3.738494543185918e-9,
          2.018867972986445e-9,
          1.0792756621824996e-9,
          5.711762579595927e-10,
          2.992410760535454e-10,
          1.5519780209799942e-10,
          7.968254984524694e-11,
          4.049992113099725e-11,
          2.0377853218566566e-11,
          1.0150232254276442e-11,
          5.005031643976436e-12,
          2.4431547340451372e-12,
          1.1806153265304332e-12,
          5.647798038091508e-13,
          2.674626833434355e-13,
          1.2538931631597639e-13,
          5.819305660715361e-14,
          2.6735918082730703e-14,
          1.2159965209398664e-14,
          5.474984080248159e-15,
          2.4403194807463144e-15,
          1.0767721414028013e-15,
          4.703425101618749e-16,
          2.0338454688554668e-16,
          8.70632689858329e-17,
          3.689481057752749e-17,
          1.5477788151728634e-17,
          6.427851116947396e-18,
          2.642627911810955e-18,
          1.0755225595718092e-18,
          4.333275773046889e-19,
          1.7283290551742168e-19,
          6.824169903430192e-20,
          2.667390063081357e-20,
          1.0321350458954142e-20,
          3.953664545731887e-21,
          1.499258119730205e-21,
          5.628158231224585e-22,
          2.0915559460236872e-22,
          7.69459862670642e-23
         ]
        }
       ],
       "layout": {
        "template": {
         "data": {
          "bar": [
           {
            "error_x": {
             "color": "#2a3f5f"
            },
            "error_y": {
             "color": "#2a3f5f"
            },
            "marker": {
             "line": {
              "color": "#E5ECF6",
              "width": 0.5
             },
             "pattern": {
              "fillmode": "overlay",
              "size": 10,
              "solidity": 0.2
             }
            },
            "type": "bar"
           }
          ],
          "barpolar": [
           {
            "marker": {
             "line": {
              "color": "#E5ECF6",
              "width": 0.5
             },
             "pattern": {
              "fillmode": "overlay",
              "size": 10,
              "solidity": 0.2
             }
            },
            "type": "barpolar"
           }
          ],
          "carpet": [
           {
            "aaxis": {
             "endlinecolor": "#2a3f5f",
             "gridcolor": "white",
             "linecolor": "white",
             "minorgridcolor": "white",
             "startlinecolor": "#2a3f5f"
            },
            "baxis": {
             "endlinecolor": "#2a3f5f",
             "gridcolor": "white",
             "linecolor": "white",
             "minorgridcolor": "white",
             "startlinecolor": "#2a3f5f"
            },
            "type": "carpet"
           }
          ],
          "choropleth": [
           {
            "colorbar": {
             "outlinewidth": 0,
             "ticks": ""
            },
            "type": "choropleth"
           }
          ],
          "contour": [
           {
            "colorbar": {
             "outlinewidth": 0,
             "ticks": ""
            },
            "colorscale": [
             [
              0,
              "#0d0887"
             ],
             [
              0.1111111111111111,
              "#46039f"
             ],
             [
              0.2222222222222222,
              "#7201a8"
             ],
             [
              0.3333333333333333,
              "#9c179e"
             ],
             [
              0.4444444444444444,
              "#bd3786"
             ],
             [
              0.5555555555555556,
              "#d8576b"
             ],
             [
              0.6666666666666666,
              "#ed7953"
             ],
             [
              0.7777777777777778,
              "#fb9f3a"
             ],
             [
              0.8888888888888888,
              "#fdca26"
             ],
             [
              1,
              "#f0f921"
             ]
            ],
            "type": "contour"
           }
          ],
          "contourcarpet": [
           {
            "colorbar": {
             "outlinewidth": 0,
             "ticks": ""
            },
            "type": "contourcarpet"
           }
          ],
          "heatmap": [
           {
            "colorbar": {
             "outlinewidth": 0,
             "ticks": ""
            },
            "colorscale": [
             [
              0,
              "#0d0887"
             ],
             [
              0.1111111111111111,
              "#46039f"
             ],
             [
              0.2222222222222222,
              "#7201a8"
             ],
             [
              0.3333333333333333,
              "#9c179e"
             ],
             [
              0.4444444444444444,
              "#bd3786"
             ],
             [
              0.5555555555555556,
              "#d8576b"
             ],
             [
              0.6666666666666666,
              "#ed7953"
             ],
             [
              0.7777777777777778,
              "#fb9f3a"
             ],
             [
              0.8888888888888888,
              "#fdca26"
             ],
             [
              1,
              "#f0f921"
             ]
            ],
            "type": "heatmap"
           }
          ],
          "heatmapgl": [
           {
            "colorbar": {
             "outlinewidth": 0,
             "ticks": ""
            },
            "colorscale": [
             [
              0,
              "#0d0887"
             ],
             [
              0.1111111111111111,
              "#46039f"
             ],
             [
              0.2222222222222222,
              "#7201a8"
             ],
             [
              0.3333333333333333,
              "#9c179e"
             ],
             [
              0.4444444444444444,
              "#bd3786"
             ],
             [
              0.5555555555555556,
              "#d8576b"
             ],
             [
              0.6666666666666666,
              "#ed7953"
             ],
             [
              0.7777777777777778,
              "#fb9f3a"
             ],
             [
              0.8888888888888888,
              "#fdca26"
             ],
             [
              1,
              "#f0f921"
             ]
            ],
            "type": "heatmapgl"
           }
          ],
          "histogram": [
           {
            "marker": {
             "pattern": {
              "fillmode": "overlay",
              "size": 10,
              "solidity": 0.2
             }
            },
            "type": "histogram"
           }
          ],
          "histogram2d": [
           {
            "colorbar": {
             "outlinewidth": 0,
             "ticks": ""
            },
            "colorscale": [
             [
              0,
              "#0d0887"
             ],
             [
              0.1111111111111111,
              "#46039f"
             ],
             [
              0.2222222222222222,
              "#7201a8"
             ],
             [
              0.3333333333333333,
              "#9c179e"
             ],
             [
              0.4444444444444444,
              "#bd3786"
             ],
             [
              0.5555555555555556,
              "#d8576b"
             ],
             [
              0.6666666666666666,
              "#ed7953"
             ],
             [
              0.7777777777777778,
              "#fb9f3a"
             ],
             [
              0.8888888888888888,
              "#fdca26"
             ],
             [
              1,
              "#f0f921"
             ]
            ],
            "type": "histogram2d"
           }
          ],
          "histogram2dcontour": [
           {
            "colorbar": {
             "outlinewidth": 0,
             "ticks": ""
            },
            "colorscale": [
             [
              0,
              "#0d0887"
             ],
             [
              0.1111111111111111,
              "#46039f"
             ],
             [
              0.2222222222222222,
              "#7201a8"
             ],
             [
              0.3333333333333333,
              "#9c179e"
             ],
             [
              0.4444444444444444,
              "#bd3786"
             ],
             [
              0.5555555555555556,
              "#d8576b"
             ],
             [
              0.6666666666666666,
              "#ed7953"
             ],
             [
              0.7777777777777778,
              "#fb9f3a"
             ],
             [
              0.8888888888888888,
              "#fdca26"
             ],
             [
              1,
              "#f0f921"
             ]
            ],
            "type": "histogram2dcontour"
           }
          ],
          "mesh3d": [
           {
            "colorbar": {
             "outlinewidth": 0,
             "ticks": ""
            },
            "type": "mesh3d"
           }
          ],
          "parcoords": [
           {
            "line": {
             "colorbar": {
              "outlinewidth": 0,
              "ticks": ""
             }
            },
            "type": "parcoords"
           }
          ],
          "pie": [
           {
            "automargin": true,
            "type": "pie"
           }
          ],
          "scatter": [
           {
            "marker": {
             "colorbar": {
              "outlinewidth": 0,
              "ticks": ""
             }
            },
            "type": "scatter"
           }
          ],
          "scatter3d": [
           {
            "line": {
             "colorbar": {
              "outlinewidth": 0,
              "ticks": ""
             }
            },
            "marker": {
             "colorbar": {
              "outlinewidth": 0,
              "ticks": ""
             }
            },
            "type": "scatter3d"
           }
          ],
          "scattercarpet": [
           {
            "marker": {
             "colorbar": {
              "outlinewidth": 0,
              "ticks": ""
             }
            },
            "type": "scattercarpet"
           }
          ],
          "scattergeo": [
           {
            "marker": {
             "colorbar": {
              "outlinewidth": 0,
              "ticks": ""
             }
            },
            "type": "scattergeo"
           }
          ],
          "scattergl": [
           {
            "marker": {
             "colorbar": {
              "outlinewidth": 0,
              "ticks": ""
             }
            },
            "type": "scattergl"
           }
          ],
          "scattermapbox": [
           {
            "marker": {
             "colorbar": {
              "outlinewidth": 0,
              "ticks": ""
             }
            },
            "type": "scattermapbox"
           }
          ],
          "scatterpolar": [
           {
            "marker": {
             "colorbar": {
              "outlinewidth": 0,
              "ticks": ""
             }
            },
            "type": "scatterpolar"
           }
          ],
          "scatterpolargl": [
           {
            "marker": {
             "colorbar": {
              "outlinewidth": 0,
              "ticks": ""
             }
            },
            "type": "scatterpolargl"
           }
          ],
          "scatterternary": [
           {
            "marker": {
             "colorbar": {
              "outlinewidth": 0,
              "ticks": ""
             }
            },
            "type": "scatterternary"
           }
          ],
          "surface": [
           {
            "colorbar": {
             "outlinewidth": 0,
             "ticks": ""
            },
            "colorscale": [
             [
              0,
              "#0d0887"
             ],
             [
              0.1111111111111111,
              "#46039f"
             ],
             [
              0.2222222222222222,
              "#7201a8"
             ],
             [
              0.3333333333333333,
              "#9c179e"
             ],
             [
              0.4444444444444444,
              "#bd3786"
             ],
             [
              0.5555555555555556,
              "#d8576b"
             ],
             [
              0.6666666666666666,
              "#ed7953"
             ],
             [
              0.7777777777777778,
              "#fb9f3a"
             ],
             [
              0.8888888888888888,
              "#fdca26"
             ],
             [
              1,
              "#f0f921"
             ]
            ],
            "type": "surface"
           }
          ],
          "table": [
           {
            "cells": {
             "fill": {
              "color": "#EBF0F8"
             },
             "line": {
              "color": "white"
             }
            },
            "header": {
             "fill": {
              "color": "#C8D4E3"
             },
             "line": {
              "color": "white"
             }
            },
            "type": "table"
           }
          ]
         },
         "layout": {
          "annotationdefaults": {
           "arrowcolor": "#2a3f5f",
           "arrowhead": 0,
           "arrowwidth": 1
          },
          "autotypenumbers": "strict",
          "coloraxis": {
           "colorbar": {
            "outlinewidth": 0,
            "ticks": ""
           }
          },
          "colorscale": {
           "diverging": [
            [
             0,
             "#8e0152"
            ],
            [
             0.1,
             "#c51b7d"
            ],
            [
             0.2,
             "#de77ae"
            ],
            [
             0.3,
             "#f1b6da"
            ],
            [
             0.4,
             "#fde0ef"
            ],
            [
             0.5,
             "#f7f7f7"
            ],
            [
             0.6,
             "#e6f5d0"
            ],
            [
             0.7,
             "#b8e186"
            ],
            [
             0.8,
             "#7fbc41"
            ],
            [
             0.9,
             "#4d9221"
            ],
            [
             1,
             "#276419"
            ]
           ],
           "sequential": [
            [
             0,
             "#0d0887"
            ],
            [
             0.1111111111111111,
             "#46039f"
            ],
            [
             0.2222222222222222,
             "#7201a8"
            ],
            [
             0.3333333333333333,
             "#9c179e"
            ],
            [
             0.4444444444444444,
             "#bd3786"
            ],
            [
             0.5555555555555556,
             "#d8576b"
            ],
            [
             0.6666666666666666,
             "#ed7953"
            ],
            [
             0.7777777777777778,
             "#fb9f3a"
            ],
            [
             0.8888888888888888,
             "#fdca26"
            ],
            [
             1,
             "#f0f921"
            ]
           ],
           "sequentialminus": [
            [
             0,
             "#0d0887"
            ],
            [
             0.1111111111111111,
             "#46039f"
            ],
            [
             0.2222222222222222,
             "#7201a8"
            ],
            [
             0.3333333333333333,
             "#9c179e"
            ],
            [
             0.4444444444444444,
             "#bd3786"
            ],
            [
             0.5555555555555556,
             "#d8576b"
            ],
            [
             0.6666666666666666,
             "#ed7953"
            ],
            [
             0.7777777777777778,
             "#fb9f3a"
            ],
            [
             0.8888888888888888,
             "#fdca26"
            ],
            [
             1,
             "#f0f921"
            ]
           ]
          },
          "colorway": [
           "#636efa",
           "#EF553B",
           "#00cc96",
           "#ab63fa",
           "#FFA15A",
           "#19d3f3",
           "#FF6692",
           "#B6E880",
           "#FF97FF",
           "#FECB52"
          ],
          "font": {
           "color": "#2a3f5f"
          },
          "geo": {
           "bgcolor": "white",
           "lakecolor": "white",
           "landcolor": "#E5ECF6",
           "showlakes": true,
           "showland": true,
           "subunitcolor": "white"
          },
          "hoverlabel": {
           "align": "left"
          },
          "hovermode": "closest",
          "mapbox": {
           "style": "light"
          },
          "paper_bgcolor": "white",
          "plot_bgcolor": "#E5ECF6",
          "polar": {
           "angularaxis": {
            "gridcolor": "white",
            "linecolor": "white",
            "ticks": ""
           },
           "bgcolor": "#E5ECF6",
           "radialaxis": {
            "gridcolor": "white",
            "linecolor": "white",
            "ticks": ""
           }
          },
          "scene": {
           "xaxis": {
            "backgroundcolor": "#E5ECF6",
            "gridcolor": "white",
            "gridwidth": 2,
            "linecolor": "white",
            "showbackground": true,
            "ticks": "",
            "zerolinecolor": "white"
           },
           "yaxis": {
            "backgroundcolor": "#E5ECF6",
            "gridcolor": "white",
            "gridwidth": 2,
            "linecolor": "white",
            "showbackground": true,
            "ticks": "",
            "zerolinecolor": "white"
           },
           "zaxis": {
            "backgroundcolor": "#E5ECF6",
            "gridcolor": "white",
            "gridwidth": 2,
            "linecolor": "white",
            "showbackground": true,
            "ticks": "",
            "zerolinecolor": "white"
           }
          },
          "shapedefaults": {
           "line": {
            "color": "#2a3f5f"
           }
          },
          "ternary": {
           "aaxis": {
            "gridcolor": "white",
            "linecolor": "white",
            "ticks": ""
           },
           "baxis": {
            "gridcolor": "white",
            "linecolor": "white",
            "ticks": ""
           },
           "bgcolor": "#E5ECF6",
           "caxis": {
            "gridcolor": "white",
            "linecolor": "white",
            "ticks": ""
           }
          },
          "title": {
           "x": 0.05
          },
          "xaxis": {
           "automargin": true,
           "gridcolor": "white",
           "linecolor": "white",
           "ticks": "",
           "title": {
            "standoff": 15
           },
           "zerolinecolor": "white",
           "zerolinewidth": 2
          },
          "yaxis": {
           "automargin": true,
           "gridcolor": "white",
           "linecolor": "white",
           "ticks": "",
           "title": {
            "standoff": 15
           },
           "zerolinecolor": "white",
           "zerolinewidth": 2
          }
         }
        },
        "title": {
         "text": "Comparação de distribuição normal e t"
        }
       }
      }
     },
     "metadata": {},
     "output_type": "display_data"
    }
   ],
   "source": [
    "df1 = 1\n",
    "df2 = 4\n",
    "df3 = 10\n",
    "df4 = 50\n",
    "\n",
    "x = np.linspace(-10, 10, 200)\n",
    "\n",
    "fig = go.Figure()\n",
    "fig.add_scatter(x=x, y=t.pdf(x, df1), name=f\"df = {df1}\")\n",
    "fig.add_scatter(x=x, y=t.pdf(x, df2), name=f\"df = {df2}\")\n",
    "fig.add_scatter(x=x, y=t.pdf(x, df3), name=f\"df = {df3}\")\n",
    "fig.add_scatter(x=x, y=t.pdf(x, df4), name=f\"df = {df4}\")\n",
    "fig.add_scatter(x=x, y=norm.pdf(x), name=\"normal dist\")\n",
    "fig.update_layout(title=\"Comparação de distribuição normal e t\")\n"
   ]
  },
  {
   "cell_type": "markdown",
   "metadata": {},
   "source": [
    "### **Exemplo:** \n",
    "Determine a média e o intervalo de confiança de $95\\%$ para os dados ddo exemplo anterior. Faça três estimativas baseadas (a) nas primeiras 8, (b) nas primeiras 16 e (c) em todas as 24 medidas.\n",
    "\n",
    "**Resolução:**\n",
    "\n",
    "(a) A média e o desvio-padrão para os primeiros 8 pontos são"
   ]
  },
  {
   "cell_type": "code",
   "execution_count": 11,
   "metadata": {},
   "outputs": [
    {
     "name": "stdout",
     "output_type": "stream",
     "text": [
      "A media dos primeiros 8 dados é 6.4925\n",
      "O desvio-padrão para os primeiros 8 dados é 0.05522680508593635\n",
      "Então, considerando os primeiros 8 medições, a probabilidade 95% a média \n",
      "verdadeira de dados é no intervalo 6.446329235524765 e 6.538670764475235\n"
     ]
    }
   ],
   "source": [
    "data = [6.395, 6.435, 6.485, 6.495, 6.505, 6.515, 6.555, 6.555,6.565, \n",
    "        6.575, 6.595, 6.605, 6.615, 6.625, 6.625, 6.635, 6.655, 6.655, \n",
    "        6.665, 6.685, 6.715, 6.715, 6.755, 6.775]\n",
    "\n",
    "data = np.array(data)\n",
    "n = 8\n",
    "\n",
    "media = sum(data[:n])/n\n",
    "print(f\"A media dos primeiros {n} dados é {media}\")\n",
    "\n",
    "S_t = sum((data[:n] - media)**2)\n",
    "s_y = np.sqrt(S_t/(n-1))\n",
    "print(f\"O desvio-padrão para os primeiros {n} dados é {s_y}\")\n",
    "\n",
    "t_dist = t.isf(0.05/2, n-1)\n",
    "L = media - (s_y/np.sqrt(n)) * t_dist\n",
    "U = media + (s_y/np.sqrt(n)) * t_dist\n",
    "\n",
    "print(f\"\"\"Então, considerando os primeiros {n} medições, a probabilidade 95% a média \n",
    "verdadeira de dados é no intervalo {L} e {U}\"\"\")\n"
   ]
  },
  {
   "cell_type": "markdown",
   "metadata": {},
   "source": [
    "E a (b) e (c):"
   ]
  },
  {
   "cell_type": "code",
   "execution_count": 12,
   "metadata": {},
   "outputs": [
    {
     "name": "stdout",
     "output_type": "stream",
     "text": [
      "A media dos primeiros 16 dados é 6.549\n",
      "O desvio-padrão para os primeiros 16 dados é 0.071\n",
      "Então, considerando os primeiros 16 medições, a probabilidade 95% a média \n",
      "    verdadeira de dados é no intervalo 6.511 e 6.587\n",
      "----------------\n",
      "A media dos primeiros 24 dados é 6.6\n",
      "O desvio-padrão para os primeiros 24 dados é 0.097\n",
      "Então, considerando os primeiros 24 medições, a probabilidade 95% a média \n",
      "    verdadeira de dados é no intervalo 6.559 e 6.641\n",
      "----------------\n"
     ]
    }
   ],
   "source": [
    "for n in [16, 24]:\n",
    "    media = sum(data[:n])/n\n",
    "    print(f\"A media dos primeiros {n} dados é {np.round(media,3)}\")\n",
    "\n",
    "    S_t = sum((data[:n] - media)**2)\n",
    "    s_y = np.sqrt(S_t/(n-1))\n",
    "    print(f\"O desvio-padrão para os primeiros {n} dados é {np.round(s_y,3)}\")\n",
    "\n",
    "    t_dist = t.isf(0.05/2, n-1)\n",
    "    L = media - (s_y/np.sqrt(n)) * t_dist\n",
    "    U = media + (s_y/np.sqrt(n)) * t_dist\n",
    "\n",
    "    print(f\"\"\"Então, considerando os primeiros {n} medições, a probabilidade 95% a média \n",
    "    verdadeira de dados é no intervalo {np.round(L,3)} e {np.round(U,3)}\"\"\")\n",
    "\n",
    "    print(\"----------------\")"
   ]
  },
  {
   "cell_type": "markdown",
   "metadata": {},
   "source": [
    "## Regressão por Mínimos Quadrados\n",
    "\n",
    "Quando um erro substancial estiver associado aos dados, a interpolação polinomial é inapropriada e pode produzir resultados insatisfatórios quando usada para prever valores intermediários. Dados experimentais, em geral, são desse tipo.\n",
    "\n",
    "Uma estratégia mais adequada para tais casos seria determinar uma função (uma curva) aproximadora que ajustasse a forma ou tendência geral dos dados sem necessariamente passar pelos pontos individuais.\n",
    "\n",
    "Uma forma de fazê-lo é determinar a curva que minimize a discrepância entre os dados e os pontos da curva. Uma técnica para conseguir esse objetivo, chamada **regressão por mínimos quadrados**, será discutida no presente capítulo.\n",
    "\n",
    "### Regressão Linear\n",
    "\n",
    "O exemplo mais simples de aproximação por mínimos quadrados é ajustar uma reta a um\n",
    "conjunto de pares de observação: $(x_1 , y_1 ), (x_2 , y_2 ), ... , (x_n , y_n )$. A expressão matemática\n",
    "do ajuste por uma reta é\n",
    "\n",
    "$$\n",
    "y = a_0 + a_1 x + e\n",
    "$$\n",
    "\n",
    "onde $a_0$ e $a_1$ são coeficientes representando a intersecção com o eixo y e a inclinação, respectivamente, e $e$ é o erro ou resíduo entre o modelo e a observação, o qual pode ser representado, por\n",
    "\n",
    "$$\n",
    "e = y - a_0 + a_1 x \n",
    "$$\n",
    "\n",
    "Portanto, o erro ou resíduo é a discrepância entre o valor verdadeiro de $y$ e o valor aproximado, $a_0 + a_1 x$, previsto pela equação linear.\n",
    "\n",
    "Tem varias estratégias para ajustar uma \"melhor\" reta pelos dados. A abordagem mais comum é minimizar a soma dos quadrados dos resídos entre o $y$ medido e o $y$ calculado com o modelo linear\n",
    "\n",
    "$$\n",
    "S_r = \\sum^n_{i=1} e_i^2 = \\sum^n_{i=1}(y_{i,\\text{medido}} − y_{i,\\text{modelo}} )^2 = \\sum^n_{i=1}(y_i - a_0 -a_1 x_i)^2\n",
    "$$\n",
    "\n",
    "Esse critério tem diversas vantagens, incluindo o fato de que ele fornece uma única reta\n",
    "para um dado conjunto de dados.\n",
    "\n",
    "<img src=\"./images/regression.png\" style=\"width:600px;height:350px;\">\n",
    "\n",
    "Para determinar os valores de $a_0$ e $a_1$ derivamos da equação de $S_r$ com relação a cada coeficiente:\n",
    "\n",
    "\\begin{align*}\n",
    "\\frac{\\partial S_r}{\\partial a_0} &= -2 \\sum (y_i - a_0 - a_1 x_i) \\\\\n",
    "\\frac{\\partial S_r}{\\partial a_1} &= -2 \\sum [(y_i - a_0 - a_1 x_i)x_i]\n",
    "\\end{align*}\n",
    "\n",
    "Igualando essas expressões a zero podemos resolver elas simulateamente\n",
    "\n",
    "\\begin{align*}\n",
    "a_0 &= \\bar y - a_1 \\bar x\\\\\n",
    "a_1 &= \\frac{n \\sum x_i y_i - \\sum x_i \\sum y_i}{n \\sum x_i^2 -(\\sum x_i)^2} \n",
    "\\end{align*}\n",
    "\n",
    "onde $\\bar y$ e $\\bar x$ são as médias de $y$ e $x$, respectivamente. Usamos a relação $\\sum a_0 = n a_0$ para chegar nas equações acima. \n",
    "\n",
    "### Exemplo: \n",
    "Ajuste uma reta aos valores de $x$ e $y$ nos dados abaixo\n",
    "\n",
    "\\begin{align*}\n",
    "x &= [1, 2, 3, 4, 5, 6, 7]\\\\\n",
    "y &= [0.5, 2.5, 2.0, 4.0, 3.5, 6.0, 5.5]\n",
    "\\end{align*}\n",
    "\n",
    "**Resposta:**"
   ]
  },
  {
   "cell_type": "code",
   "execution_count": 13,
   "metadata": {},
   "outputs": [],
   "source": [
    "x = np.array([1, 2, 3, 4, 5, 6, 7])\n",
    "y = np.array([0.5, 2.5, 2.0, 4.0, 3.5, 6.0, 5.5])\n"
   ]
  },
  {
   "cell_type": "code",
   "execution_count": 14,
   "metadata": {},
   "outputs": [],
   "source": [
    "n = len(x)\n",
    "xy = sum(x*y)\n",
    "x_2 = sum(x**2)\n",
    "x_bar = x.sum()/n\n",
    "y_bar = y.sum()/n"
   ]
  },
  {
   "cell_type": "code",
   "execution_count": 15,
   "metadata": {},
   "outputs": [
    {
     "name": "stdout",
     "output_type": "stream",
     "text": [
      "O valor de a_0 é 0.07142857142857117 e a_1 é 0.8392857142857143\n"
     ]
    }
   ],
   "source": [
    "a1 = (n*xy - x.sum()*y.sum())/(n*x_2 - x.sum()**2)\n",
    "\n",
    "a0 = y_bar - a1*x_bar\n",
    "\n",
    "print(f\"O valor de a_0 é {a0} e a_1 é {a1}\")"
   ]
  },
  {
   "cell_type": "markdown",
   "metadata": {},
   "source": [
    "Então a equação da reta é $y = 0.0714285 + 0.839285 x$. E pode ser construido uma função"
   ]
  },
  {
   "cell_type": "code",
   "execution_count": 16,
   "metadata": {},
   "outputs": [],
   "source": [
    "f_reta = lambda x: a0 + a1 * x"
   ]
  },
  {
   "cell_type": "markdown",
   "metadata": {},
   "source": [
    "### Quantificação do Erro da Regressão Linear\n",
    "\n",
    "A reta que foi calculada usando o metodo de minimos quadrdos é a reta é única e, em termos do critério escolhido por nós, é a \"melhor\" reta pelos pontos. Lembrando que o erro dessa aproximação é \n",
    "\n",
    "$$\n",
    "S_r = \\sum_{i=1}^n e_i^2 = \\sum_{i=1}^n (y_i - a_0 - a_1 x_i)^2\n",
    "$$\n",
    "\n",
    "Esse erro é muito parecido com $S_t$, o erro relacionado com a media dos dados. A analogia pode ser estendida ainda mais nos casos em que (1) a dispersão dos pontos em torno da reta tem valor absoluto parecido ao longo de todo o intervalo dos dados e (2) a distribuição desses pontos em torno da reta é normal. Pode ser demonstrado que, se esses critérios forem satisfeitos, a regressão por mínimos quadrados fornecerá as melhores estimativas (ou seja, as mais prováveis) de a 0 e a 1. Isso é chamado de *princípio da probabilidade máxima* em estatística. Além disso, se tais critérios forem satisfeitos, um “desvio padrão” para a reta de regressão pode ser determinado por\n",
    "\n",
    "$$\n",
    "s_{y/x} = \\sqrt{\\frac{S_r}{n-2}}\n",
    "$$\n",
    "\n",
    "onde $s_{y/x}$ é chamado *erro padrão da estimativa*. O subscrito \"y/x\" indica que o erro é para um valor previsto de $y$ correspondente a um valor particular de $x$.\n",
    "\n",
    "Esses conceitos podem ser usados para quantificar “quão bom” é o ajuste. Isso é particularmente útil para comparar diversas regressões. Para fazer isso, voltamos aos dados originais e determinamos a soma total dos quadrados em torno da média\n",
    "da variável dependente (no caso, y), $S_t$. Depois de fazer a regressão, pode-se calcular $S_r$ , a soma dos quadrados dos resíduos em torno da reta de regressão. Isso caracteriza o erro residual que permanece depois da regressão. A diferença entre as duas quantidades, $S_t - S_r$ , quantifica a melhora ou a redução de erro decorrente da descrição dos dados em termos de uma reta, em vez de um valor médio. Como o módulo dessa quantidade depende da escala, a diferença é normalizada por $S_t$ para fornecer\n",
    "\n",
    "$$\n",
    "r^2 = \\frac{S_t - S_r}{S_t}\n",
    "$$\n",
    "\n",
    "onde $r^2$ é chamado de *coeficiente de determinação* e $r$ é o *coeficiente de correlação* ($= \\sqrt{r^2}$ ). Para um ajuste perfeito, $S_r = 0$ e $r = r^2 = 1$,significando que a reta explica 100% da variação dos dados. Para $r = r^2 = 0$, $S_r = S_t$ e o ajuste não representa nenhuma melhora. Uma formulação alternativa para $r$ que é mais conveniente para implementação computacional é\n",
    "\n",
    "$$\n",
    "r = \\frac{n \\sum x_iy_i - (\\sum x_i \\sum y_i)}{\\sqrt{n\\sum x_i^2 - (\\sum x_i)^2} \\sqrt{n\\sum y_i^2 - (\\sum y_i)^2}}\n",
    "$$\n",
    "\n",
    "#### Exemplo:\n",
    "Calcule o desvio padrão total, o erro padrão da estimativa e o coeficiente de correlação para os dados do exemplo anterior\n",
    "\n",
    "**Resolução:**\n",
    "\n",
    "O desvio padrão é\n",
    "\n",
    "\\begin{align*}\n",
    "s_y &= \\sqrt{\\frac{22.7143}{7-1}} = 1.9457\\\\\n",
    "s_{y/x} &=\\sqrt{\\frac{2.9911}{7-2}} = 0.7735\n",
    "\\end{align*}\n",
    "\n",
    "Portanto, como $s_{y/x} < s_y$ , o modelo de regressão linear tem mérito. A extensão da melhora é quantificada por\n",
    "\n",
    "\\begin{align*}\n",
    "r^2 &= \\frac{22.7143 - 2.9911}{22.7143} = 0.868 \\\\\n",
    "\n",
    "\\text{ou} \\\\\n",
    "\n",
    "r &= \\sqrt{0.868} = 0.932\n",
    "\\end{align*}\n",
    "\n",
    "Esses resultados indicam que 86,8% da incerteza original foi explicada pelo modelo linear.\n"
   ]
  },
  {
   "cell_type": "code",
   "execution_count": 17,
   "metadata": {},
   "outputs": [],
   "source": [
    "x= np.array([1, 2, 3, 4, 5, 6, 7])\n",
    "y = np.array([0.5, 2.5, 2.0, 4.0, 3.5, 6.0, 5.5])"
   ]
  },
  {
   "cell_type": "code",
   "execution_count": 18,
   "metadata": {},
   "outputs": [
    {
     "data": {
      "text/plain": [
       "'r² é 0.8683176100628932'"
      ]
     },
     "metadata": {},
     "output_type": "display_data"
    }
   ],
   "source": [
    "n = len(y)\n",
    "\n",
    "#Calculando S_t e depois s_y\n",
    "S_t = sum((y - y.mean())**2)\n",
    "s_y = np.sqrt(S_t/(n-1))\n",
    "\n",
    "\n",
    "# Calculando S_r e depois s_y_x\n",
    "xy = sum(x*y)\n",
    "x_2 = sum(x**2)\n",
    "x_bar = x.sum()/n\n",
    "y_bar = y.sum()/n\n",
    "\n",
    "a1 = (n*xy - x.sum()*y.sum())/(n*x_2 - x.sum()**2)\n",
    "a0 = y_bar - a1*x_bar\n",
    "\n",
    "f_reta = lambda x: a0 + a1 * x\n",
    "\n",
    "S_r = sum((y - f_reta(x))**2)\n",
    "\n",
    "s_y_x = np.sqrt(S_r/(n-2))\n",
    "\n",
    "# Finalmente r²\n",
    "r_2 = (S_t - S_r)/S_t\n",
    "\n",
    "display(f\"r² é {r_2}\")\n"
   ]
  },
  {
   "cell_type": "markdown",
   "metadata": {},
   "source": [
    "Embora o coeficiente de correlação forneça uma medida cômoda de quão bom é o ajuste, você deveria tomar cuidado para não associar a ele mais significado do que o devido. Apenas o fato de $r$ estar \"próximo\" de 1 não significa que o ajuste seja necessariamente $bom$. Por exemplo, é possível obter um valor relativamente alto de $r$ quando a relação subjacente entre $y$ e $x$ não for nem mesmo linear."
   ]
  },
  {
   "cell_type": "code",
   "execution_count": 19,
   "metadata": {},
   "outputs": [
    {
     "data": {
      "text/plain": [
       "0.7734431367038469"
      ]
     },
     "execution_count": 19,
     "metadata": {},
     "output_type": "execute_result"
    }
   ],
   "source": [
    "s_y_x"
   ]
  },
  {
   "cell_type": "markdown",
   "metadata": {},
   "source": [
    "## Comparação de modelos\n",
    "\n",
    "No exemplo de paraquedista que foi descutido anteriormente, a gente tinha um modelo matematico teorico para a velocidade da paraquedista na seguinte forma\n",
    "\n",
    "$$\n",
    "v(t) = \\frac{gm}{c}(1- e^{(-c/m)t})\n",
    "$$\n",
    "onde $v$ é a velocidade $(m/s)$, g é a constante gravitacional $(9.8 m/s^2 )$, $m$ é a massa do páraquedista, igual a $68.1 kg$, e $c$ é o coeficiente de arrasto, de $12.5 kg/s$. O modelo prevê a velocidade do páraquedista como uma função do tempo.\n",
    "\n",
    "Um modelo empírico alternativo para a velocidade do páraquedista é dado por\n",
    "\n",
    "$$\n",
    "v(t)= \\frac{gm}{c}(\\frac{t}{3.75 + t})\n",
    "$$\n",
    "\n",
    "Suponha que você quisesse testar e comparar a adequação desses dois modelos matemáticos. Isso poderia ser conseguido medindo a velocidade real do páraquedista em valores conhecidos do tempo e comparando tais resultados com as velocidades previstas\n",
    "por cada modelo. Vamos fazer a medição da velocidade a cada segundo no intervalo entre 1s e 15s. Os valores obtidos são\n",
    "\n",
    "v = [10.00, 16.30, 23.00, 27.50, 31.00, 35.60, 39.00, 41.50, 42.90, 45.00, 46.00, 45.50, 46.00, 49.00, 50.00]"
   ]
  },
  {
   "cell_type": "code",
   "execution_count": 25,
   "metadata": {},
   "outputs": [
    {
     "name": "stdout",
     "output_type": "stream",
     "text": [
      "[ 1.  2.  3.  4.  5.  6.  7.  8.  9. 10. 11. 12. 13. 14. 15.]\n",
      "-------------\n",
      "[10.0, 16.3, 23.0, 27.5, 31.0, 35.6, 39.0, 41.5, 42.9, 45.0, 46.0, 45.5, 46.0, 49.0, 50.0]\n",
      "-------------\n",
      "[ 8.95 16.4  22.61 27.77 32.07 35.64 38.62 41.1  43.16 44.87 46.3  47.49\n",
      " 48.48 49.3  49.99]\n",
      "-------------\n",
      "[11.24 18.57 23.73 27.56 30.51 32.86 34.77 36.35 37.69 38.83 39.82 40.68\n",
      " 41.44 42.11 42.71]\n"
     ]
    }
   ],
   "source": [
    "g = 9.8\n",
    "c = 12.5\n",
    "m = 68.1\n",
    "\n",
    "v_medido = [10.00, 16.30, 23.00, 27.50, 31.00, 35.60, 39.00, 41.50, 42.90, 45.00, 46.00, 45.50, 46.00, 49.00, 50.00]\n",
    "\n",
    "t = np.linspace(1,15,15)\n",
    "\n",
    "f_teorico = lambda t: ((g*m)/c) * (1 - np.exp(-(c/m)*t))\n",
    "v_teorico = f_teorico(t) \n",
    "\n",
    "f_modelo = lambda t: ((g*m)/c) * (t/(3.75 + t))\n",
    "v_modelo = f_modelo(t)\n",
    "\n",
    "\n",
    "print(t)\n",
    "print(\"-------------\")\n",
    "print(v_medido)\n",
    "print(\"-------------\")\n",
    "print(np.round(v_teorico, 2))\n",
    "print(\"-------------\")\n",
    "print(np.round(v_modelo, 2))"
   ]
  },
  {
   "cell_type": "markdown",
   "metadata": {},
   "source": [
    "Agora para ver qual modelo (teorico ou aproximado) é melhor, podemos traçar a velocidade calculada pelo modelo em função da velocidade medida. A regressão linear pode ser usada para calcular a inclinação e a intersecção com o eixo $y$ do gráfico. Essa reta terá uma inclinação $1$, uma intersecção $0$ com o eixo $y$ e $r^2 = 1$ se o modelo se adequar perfeitamente aos dados. Um desvio significativo desses valores pode ser usado como uma indicação da inadequação do modelo.\n",
    "\n",
    "Vamos construir uma função para calcular a inclinação ($a_1$) e a interseção com o eixo ($a_0$)"
   ]
  },
  {
   "cell_type": "code",
   "execution_count": 21,
   "metadata": {},
   "outputs": [],
   "source": [
    "def linear_regression(x, y):\n",
    "    assert len(x) == len(y), \"x and y must have the same size\"\n",
    "\n",
    "    x = np.array(x, dtype=np.float64)\n",
    "    y = np.array(y, dtype=np.float64)\n",
    "\n",
    "    n = len(x)\n",
    "    xy = sum(x*y)\n",
    "    x_2 = sum(x**2)\n",
    "    x_bar = x.sum()/n\n",
    "    y_bar = y.sum()/n\n",
    "    \n",
    "    #a0: interseção, a1:inclinação\n",
    "    a1 = (n * xy - x.sum() * y.sum())/(n * x_2 - x.sum()**2)\n",
    "    a0 = y_bar - a1 * x_bar\n",
    "\n",
    "    return a0, a1\n",
    "    "
   ]
  },
  {
   "cell_type": "code",
   "execution_count": 22,
   "metadata": {},
   "outputs": [
    {
     "data": {
      "text/plain": [
       "(5.775930863896509, 0.7517971119298464)"
      ]
     },
     "execution_count": 22,
     "metadata": {},
     "output_type": "execute_result"
    }
   ],
   "source": [
    "linear_regression(v_medido, v_modelo)"
   ]
  },
  {
   "cell_type": "code",
   "execution_count": 23,
   "metadata": {},
   "outputs": [
    {
     "data": {
      "text/plain": [
       "(-0.8586556861746573, 1.0316038948102533)"
      ]
     },
     "execution_count": 23,
     "metadata": {},
     "output_type": "execute_result"
    }
   ],
   "source": [
    "linear_regression(v_medido, v_teorico)"
   ]
  },
  {
   "cell_type": "markdown",
   "metadata": {},
   "source": [
    "Olhando para os coeficientes podemos dizer que as respostas do modelo teorico são mais proximos dos dados medidos. O ideal neste caso é que a inclinação seja 1 e a interseção seja 0. Visualmente podemos ver isso plotando os pontos"
   ]
  },
  {
   "cell_type": "code",
   "execution_count": 34,
   "metadata": {},
   "outputs": [
    {
     "data": {
      "image/png": "[encoded data removed]",
      "text/plain": [
       "<Figure size 360x648 with 2 Axes>"
      ]
     },
     "metadata": {},
     "output_type": "display_data"
    }
   ],
   "source": [
    "\"\"\"\n",
    "from plotly.subplots import make_subplots\n",
    "import plotly.graph_objects as go\n",
    "\n",
    "fig = make_subplots(rows=2, cols=1)\n",
    "\n",
    "fig.add_trace(go.Scatter(x = v_medido, y=v_teorico, mode='markers', name='Terico'), row=1, col=1)\n",
    "fig.add_trace(go.Scatter(x = [1,50], y= [1,50], mode='lines', name=\"perfect line\"), row=1, col=1)\n",
    "fig.update_yaxes(\n",
    "    scaleanchor = \"x\",\n",
    "    scaleratio = 1,\n",
    "    range = [-1, 50], constrain=\"domain\",\n",
    "  )\n",
    "\n",
    "fig.add_trace(go.Scatter(x = v_medido, y=v_modelo, mode='markers', name='Aprox'), row=2, col=1)\n",
    "fig.add_trace(go.Scatter(x = [1,50], y= [1,50], mode='lines', name=\"perfect line\"), row=2, col=1)\n",
    "fig.update_xaxes(\n",
    "    scaleanchor = \"y\",\n",
    "    scaleratio = 1,\n",
    "    range = [-1, 50],\n",
    "    constrain=\"domain\",\n",
    "  )\n",
    "fig.update_layout(height=500, width=500)\n",
    "\n",
    "\"\"\"\n",
    "plt.figure(figsize=(5,9))\n",
    "plt.subplot(2,1,1)\n",
    "plt.scatter(v_medido, v_teorico)\n",
    "plt.plot([1,50], [1,50])\n",
    "plt.title('Dados medidos x modelo teoricos')\n",
    "\n",
    "plt.subplot(2,1,2)\n",
    "plt.scatter(v_medido, v_modelo)\n",
    "plt.plot([1,50], [1,50])\n",
    "plt.title('Dados medidos x modelo aproximado')\n",
    "\n",
    "plt.show()"
   ]
  },
  {
   "cell_type": "markdown",
   "metadata": {},
   "source": [
    "Para ter uma ideia quantativa de qual modelo é melhor podemos calcular a soma dos quadradod dos residos para os dois modelos. Quanto menor o modelo é melhor!"
   ]
  },
  {
   "cell_type": "code",
   "execution_count": 25,
   "metadata": {},
   "outputs": [
    {
     "name": "stdout",
     "output_type": "stream",
     "text": [
      "A soma dos quadrados dos residos entre o modelo teorico e os dados medidos é 13.155342122602429\n",
      "A soma dos quadrados dos residos entre o modelo empirico e os dados medidos é 307.56327317415276\n"
     ]
    }
   ],
   "source": [
    "S_t_modelo = sum((v_medido - v_modelo)**2)\n",
    "S_t_teorico = sum((v_medido - v_teorico)**2)\n",
    "\n",
    "print(f\"A soma dos quadrados dos residos entre o modelo teorico e os dados medidos é {S_t_teorico}\")\n",
    "print(f\"A soma dos quadrados dos residos entre o modelo empirico e os dados medidos é {S_t_modelo}\")\n"
   ]
  },
  {
   "cell_type": "markdown",
   "metadata": {},
   "source": [
    "### Linearização de Relações Não-lineares\n",
    "\n",
    "A regressão linear fornece uma técnica poderosa para ajustar a melhor reta aos dados. Entretanto, ela é baseada no fato de que a relação entre as variáveis dependentes e independentes é linear. Esse não é sempre o caso e o primeiro passo em qualquer análise de regressão deveria ser traçar e inspecionar visualmente os dados para verificar se um modelo linear se aplica. Por exemplo, na figura abaixo podemos ver que traçando uma linha não podemos capturar o comportamento dos dados.\n",
    "\n",
    "<img src=\"./images/ajuste_nao_linear.jpg\" style=\"width:250px;height:400px;\">\n",
    "\n",
    "Nestes casos podemos usar a regressão polinomial ou talvez seja possivel com uma transformação podemos expressar os dados na forma linear. \n",
    "\n",
    "Vamos ver alguns modelos que usando uma transformação podem ser expressos na forma linear. Um exemplo é o modelo exponencial\n",
    "\n",
    "$$\n",
    "y = \\alpha_1 e^{\\beta_1 x}\n",
    "$$\n",
    "\n",
    "onde $\\alpha_1$ e $\\beta_1$ são constantes. Outro exemplo é \n",
    "$$\n",
    "y= \\alpha_2 x^{\\beta_2}\n",
    "$$\n",
    "onde $\\alpha_2$ e $\\beta_2$ são constantes. Um terceiro exemplo de um modelo não-linear é a equação da taxa de crescimento da saturação\n",
    "\n",
    "$$\n",
    "y = \\alpha_3 \\frac{x}{\\beta_3 + x}\n",
    "$$\n",
    "\n",
    "Esses modelos tem bastante aplicação na engenharia. Agora, podemos transformar esses modelos a um modelo linear. Por exemplo para o modelo exponencial temos \n",
    "\n",
    "$$\n",
    "\\ln[y = \\alpha_1 e^{\\beta_1 x}] \\rightarrow \\ln y = \\ln \\alpha_1 + \\beta_1 x \\underbrace{\\ln e}_{=1}\n",
    "$$\n",
    "\n",
    "Logo, um gráfico de $\\ln y$ em função de $\\ln x$ irá fornecer uma reta com uma inclinação $\\beta_1$ e uma intersecção com o eixo $y$ em $\\ln \\alpha_1$. \n",
    "\n",
    "O segundo exemplo pode ser linearizado tomando-se seu logaritmo na base 10\n",
    "\n",
    "$$\n",
    "\\log\\{y= \\alpha_2 x^{\\beta_2}\\} \\rightarrow \\log y = \\beta_2 \\log x + \\log{\\alpha_2}\n",
    "$$\n",
    "\n",
    "Logo, um gráfico de $\\log y$ em função de $\\log x$ irá fornecer uma reta com uma inclinação\n",
    "$\\beta_2$ e uma intersecção com o eixo $y$ em $\\log{\\alpha_2}$.\n",
    "\n",
    "A terceira equação precisa ser invertida para vira linear\n",
    "\n",
    "$$\n",
    "(y = \\alpha_3 \\frac{x}{\\beta_3 + x})^{-1} \\rightarrow \\frac{1}{y} = \\frac{\\beta_3}{\\alpha_3} \\frac{1}{x} + \\frac{1}{\\alpha_3}\n",
    "$$\n",
    "\n",
    "Logo, um gráfico de $\\frac{1}{y}$ em função de $\\frac{1}{x}$ será linear, com uma inclinação $\\frac{\\beta_3}{\\alpha_3}$ e uma interseção com o eixo $y$ em $\\frac{1}{\\alpha_3}$.\n",
    "\n",
    "<img src=\"./images/nlin2lin.jpg\" style=\"width:800px;height:600px;\">\n",
    "\n",
    "Nas suas formas transformadas, esses modelos podem usar a regressão linear para calcular os coeficientes constantes. Eles poderiam, então, ser transformados de volta para seu estado original e usados para propósitos de previsão.\n",
    "\n",
    "#### **Exemplo:**\n",
    "Ajuste uma equação de potencia (segundo exemplo) aos dados abaixo\n",
    "\n",
    "\\begin{align*}\n",
    "x &= [1, 2, 3, 4, 5]\\\\\n",
    "y &= [0.5, 1.7, 3.4, 5.7, 8.4]\n",
    "\\end{align*}\n",
    "\n",
    "**Resolução:**\n",
    "\n",
    "Primeiro vamos plotar os dados no estado transformado e não transformado"
   ]
  },
  {
   "cell_type": "code",
   "execution_count": 37,
   "metadata": {},
   "outputs": [
    {
     "data": {
      "image/png": "[encoded data removed]",
      "text/plain": [
       "<Figure size 288x648 with 2 Axes>"
      ]
     },
     "metadata": {},
     "output_type": "display_data"
    }
   ],
   "source": [
    "\"\"\"\n",
    "from plotly.subplots import make_subplots\n",
    "import plotly.graph_objects as go\n",
    "#fig = make_subplots(rows=2, cols=1)\n",
    "#fig.add_scatter(x=x, y=y, name='dados originais', row=1, col=1)\n",
    "#fig = go.Figure()\n",
    "fig.add_scatter(x=x, y=y)\n",
    "fig.update_xaxes(\n",
    "    scaleanchor = \"y\",\n",
    "    range = [0, 8],constrain=\"domain\",\n",
    "    title = 'dados originais'\n",
    "    )\n",
    "\n",
    "fig.show()\n",
    "\n",
    "fig = go.Figure()\n",
    "fig.add_scatter(x=np.log10(x), \n",
    "                y=np.log10(y))\n",
    "fig.update_xaxes(\n",
    "    scaleanchor = \"y\",\n",
    "    range = [-0.1, 1],constrain=\"domain\",\n",
    "    title=\"dados transofrmados\"\n",
    "    )\n",
    "fig.show()\n",
    "\"\"\"\n",
    "x = [1, 2, 3, 4, 5]\n",
    "y = [0.5, 1.7, 3.4, 5.7, 8.4]\n",
    "\n",
    "plt.figure(figsize=(4, 9))\n",
    "\n",
    "plt.subplot(2,1,1)\n",
    "plt.scatter(x, y)\n",
    "plt.plot(x, y)\n",
    "plt.title('dados originais')\n",
    "\n",
    "plt.subplot(2,1,2)\n",
    "plt.scatter(np.log10(x), np.log10(y))\n",
    "plt.plot(np.log10(x), np.log10(y))\n",
    "plt.title(\"dados transofrmados\")\n",
    "\n",
    "plt.tight_layout()\n",
    "plt.show()\n"
   ]
  },
  {
   "cell_type": "markdown",
   "metadata": {},
   "source": [
    "Podemos usar a nossa função `linear_regression` e os dados transformados para achar os coeficientes de inclinação e interseção"
   ]
  },
  {
   "cell_type": "code",
   "execution_count": 27,
   "metadata": {},
   "outputs": [
    {
     "name": "stdout",
     "output_type": "stream",
     "text": [
      "interseção: -0.300219794569931, \n",
      "inclinação: 1.75172364807736\n"
     ]
    }
   ],
   "source": [
    "inter, incli = linear_regression(np.log10(x), np.log10(y))\n",
    "\n",
    "print(f\"interseção: {inter}, \\ninclinação: {incli}\")"
   ]
  },
  {
   "cell_type": "markdown",
   "metadata": {},
   "source": [
    "Aí, calculando a inversa da transformação podemos achar $\\alpha$ e $\\beta$"
   ]
  },
  {
   "cell_type": "code",
   "execution_count": 28,
   "metadata": {},
   "outputs": [
    {
     "name": "stdout",
     "output_type": "stream",
     "text": [
      "alpha: 0.500933649097749, \n",
      "beta: 1.75172364807736\n"
     ]
    }
   ],
   "source": [
    "alpha = 10**inter\n",
    "beta = incli\n",
    "\n",
    "print(f\"alpha: {alpha}, \\nbeta: {beta}\")"
   ]
  },
  {
   "cell_type": "markdown",
   "metadata": {},
   "source": [
    "Então a equação de potencia ajustado é \n",
    "\n",
    "$$\n",
    "y = 0.5 x^{1.75}\n",
    "$$"
   ]
  },
  {
   "cell_type": "markdown",
   "metadata": {},
   "source": [
    "## Regressão Polinomial\n",
    "\n",
    "Em muitos casos na engenharia, os dados não podem ser respresentados por uma reta. Um caminho é usando uma transformação mudamos os dados de tal forma que seguem uma reta. Uma alternativa é ajustar polinômios aos dados usando *regressão polinomial*.\n",
    "\n",
    "O procedimento dos mínimos quadrados pode ser prontamente estendido para ajustar dados por um polinômio de grau mais alto. Por exemplo, suponha que se queira ajustar um polinômio de segundo grau ou quadrático:\n",
    "\n",
    "$$\n",
    "y = a_0 + a_1 x + a_2 x^2 + e\n",
    "$$\n",
    "\n",
    "Nesse caso, a soma dos quadrados dos resíduos é\n",
    "\n",
    "$$\n",
    "S_r = \\sum_{i=1}^n (y_i - a_0 - a_1 x_i - a_2 x_i^2)^2\n",
    "$$\n",
    "\n",
    "Seguindo o procedimento da seção anterior, toma-se a derivada da equação acima com relação a cada um dos coeficientes desconhecidos do polinômio, como em\n",
    "\n",
    "\\begin{align*}\n",
    "\\frac{\\partial S_r}{\\partial a_0} &= -2 \\sum(y_i - a_0 - a_1 x_i - a_2 x_i^2)\\\\\n",
    "\\frac{\\partial S_r}{\\partial a_1} &= -2 \\sum x_i(y_i - a_0 - a_1 x_i - a_2 x_i^2)\\\\\n",
    "\\frac{\\partial S_r}{\\partial a_2} &= -2 \\sum x_i^2(y_i - a_0 - a_1 x_i - a_2 x_i^2)\n",
    "\\end{align*}\n",
    "\n",
    "Essas equações podem ser igualadas a zero e reorganizadas para determinar o seguinte\n",
    "conjunto de equações normais:\n",
    "\n",
    "\\begin{align*}\n",
    "(n)a_0 + (\\sum(x_i))a_1 + (\\sum x_i^2)a_2 &= \\sum y_i \\\\\n",
    "(\\sum x_i)a_0 + (\\sum(x_i^2))a_1 + (\\sum x_i^3)a_2 &= \\sum x_i y_i \\\\\n",
    "(\\sum x_i^2)a_0 + (\\sum(x_i^3))a_1 + (\\sum x_i^4)a_2 &= \\sum x_i^2 y_i\n",
    "\\end{align*}\n",
    "\n",
    "Nesse caso, vê-se que o problema de determinar o polinômio de segundo grau por\n",
    "mínimos quadrados é equivalente a resolver um sistema de três equações lineares simultâneas. Neste sistema a matrix $[A]$ é\n",
    "\n",
    "$$\n",
    "A = \\begin{bmatrix}\n",
    "n & \\sum x_i & \\sum x_i^2\\\\\n",
    "\\sum x_i & \\sum x_i^2 & \\sum x_i^3\\\\\n",
    "\\sum x_i^2 & \\sum x_i^3 & \\sum x_i^4\n",
    "\\end{bmatrix}\n",
    "$$\n",
    "\n",
    "e o vetor $\\{b\\}$ é \n",
    "\n",
    "$$\n",
    "\\begin{bmatrix}\n",
    "\\sum y_i\\\\\n",
    "\\sum x_i y_i \\\\\n",
    "\\sum x_i^2 y_i\n",
    "\\end{bmatrix}\n",
    "$$\n",
    "\n",
    "O caso bidimensional pode ser facilmente estendido para um polinômio de grau $m$ como\n",
    "\n",
    "$$\n",
    "y = a_0 + a_1 x + a_2 x^2 +... + a_m x^m+ e\n",
    "$$\n",
    "\n",
    "A análise anterior pode ser facilmente estendida para esse caso mais geral. Portanto,\n",
    "pode-se perceber que determinar os coeficientes de um polinômio de grau $m$ é equivalente\n",
    "a resolver um sistema de $m + 1$ equações lineares simultâneas. Nesse caso, o erro padrão\n",
    "é formulado como\n",
    "\n",
    "$$\n",
    "s_{y/x} = \\sqrt{\\frac{S_r}{n - (m+1)}}\n",
    "$$\n",
    "\n",
    "### **Exemplo:**\n",
    "Ajuste um polinômio do segundo grau aos dados abaixo\n",
    "\n",
    "\\begin{align*}\n",
    "x &= [0, 1, 2, 3, 4, 5]\\\\\n",
    "y &= [2.1, 7.7, 13.6, 27.2, 40.9, 61.1]\n",
    "\\end{align*}\n",
    "\n",
    "\n",
    "**Resolução:**\n",
    "\n",
    "Vamos resolver isso usando o Python "
   ]
  },
  {
   "cell_type": "code",
   "execution_count": 38,
   "metadata": {},
   "outputs": [],
   "source": [
    "x = np.array([0, 1, 2, 3, 4, 5])\n",
    "y = np.array([2.1, 7.7, 13.6, 27.2, 40.9, 61.1])\n",
    "\n",
    "m = 2\n",
    "n = len(x)\n",
    "\n",
    "#calculando os elementos do vetor b\n",
    "b1 = y.sum()\n",
    "b2 = sum(x*y)\n",
    "b3 = sum(x**2 * y)\n",
    "\n",
    "#calculando os elementos da matriz A\n",
    "a11 = n\n",
    "a12 = sum(x)\n",
    "a13 = sum(x**2)\n",
    "\n",
    "a21 = sum(x)\n",
    "a22 = sum(x**2)\n",
    "a23 = sum(x**3)\n",
    "\n",
    "a31 = sum(x**2)\n",
    "a32 = sum(x**3)\n",
    "a33 = sum(x**4)\n",
    "\n",
    "bb = np.array([b1, b2, b3])\n",
    "AA = np.array([[a11, a12, a13], [a21, a22, a23], [a31, a32, a33]])"
   ]
  },
  {
   "cell_type": "code",
   "execution_count": 39,
   "metadata": {},
   "outputs": [
    {
     "data": {
      "text/plain": [
       "(2.47857142857143, 2.359285714285706, 1.8607142857142878)"
      ]
     },
     "execution_count": 39,
     "metadata": {},
     "output_type": "execute_result"
    }
   ],
   "source": [
    "import cn_utils as cn\n",
    "\n",
    "a0, a1, a2 = cn.gauss_elimination_minimal(AA, bb)\n",
    "\n",
    "a0, a1, a2"
   ]
  },
  {
   "cell_type": "markdown",
   "metadata": {},
   "source": [
    "Então a equação ajustada é \n",
    "\n",
    "$$\n",
    "y = 2.478 + 2.359 x + 1.86307 x^2\n",
    "$$"
   ]
  },
  {
   "cell_type": "code",
   "execution_count": 40,
   "metadata": {},
   "outputs": [],
   "source": [
    " f = lambda x: a0 + a1 * x + a2 * x**2"
   ]
  },
  {
   "cell_type": "markdown",
   "metadata": {},
   "source": [
    "Tendo o modelo podemos calcular o erro padrão da estimativa\n",
    "\n"
   ]
  },
  {
   "cell_type": "code",
   "execution_count": 32,
   "metadata": {},
   "outputs": [
    {
     "name": "stdout",
     "output_type": "stream",
     "text": [
      "s_y/x é 1.1175227706213167\n"
     ]
    }
   ],
   "source": [
    "S_r = sum((y - f(x))**2)\n",
    "\n",
    "s_y_x = np.sqrt(S_r/(n-3))\n",
    "\n",
    "print(f\"s_y/x é {s_y_x}\")"
   ]
  },
  {
   "cell_type": "markdown",
   "metadata": {},
   "source": [
    "E o coeficiente de determinação $(r^2)$ é "
   ]
  },
  {
   "cell_type": "code",
   "execution_count": 33,
   "metadata": {},
   "outputs": [
    {
     "data": {
      "text/plain": [
       "0.9985093572984048"
      ]
     },
     "execution_count": 33,
     "metadata": {},
     "output_type": "execute_result"
    }
   ],
   "source": [
    "S_t = sum((y - y.mean())**2)\n",
    "\n",
    "r_2 = (S_t - S_r)/S_t\n",
    "r_2"
   ]
  },
  {
   "cell_type": "markdown",
   "metadata": {},
   "source": [
    "Os resultados indicam que 99,851% da incerteza original foi explicada por esse\n",
    "modelo. Esse resultado confirma a conclusão de que a equação quadrática representa um\n",
    "excelente ajuste, como também é evidente a partir do plot abaixo"
   ]
  },
  {
   "cell_type": "code",
   "execution_count": 41,
   "metadata": {},
   "outputs": [
    {
     "data": {
      "text/plain": [
       "[<matplotlib.lines.Line2D at 0x7fa8f49a9cd0>]"
      ]
     },
     "execution_count": 41,
     "metadata": {},
     "output_type": "execute_result"
    },
    {
     "data": {
      "image/png": "[encoded data removed]",
      "text/plain": [
       "<Figure size 432x288 with 1 Axes>"
      ]
     },
     "metadata": {},
     "output_type": "display_data"
    }
   ],
   "source": [
    "#fig = go.Figure()\n",
    "\n",
    "#fig.add_scatter(x=x, y=y, mode='markers', name='dados medidos')\n",
    "#fig.add_scatter(x=x, y=f(x), mode='lines', name='modelo ajustado')\n",
    "\n",
    "plt.scatter(x,y, label= 'dados medidos')\n",
    "plt.plot(x, f(x), label='modelo ajustado')"
   ]
  },
  {
   "cell_type": "markdown",
   "metadata": {},
   "source": [
    "## EXERCICIO: Implementar o algortimo para regressão polinomial para um caso geral no Python"
   ]
  },
  {
   "cell_type": "markdown",
   "metadata": {},
   "source": [
    "## Regressão Linear Multipla\n",
    "\n",
    "Uma extensão útil da regressão linear é o caso no qual $y$ é uma função linear de duas ou\n",
    "mais variáveis independentes. Por exemplo, $y$ poderia ser uma função linear de $x_1$ e $x_2$,\n",
    "como em\n",
    "\n",
    "$$\n",
    "y = a_0 + a_1 x_1 + a_2 x_2 + e\n",
    "$$\n",
    "\n",
    "Tal equação é particularmente útil para ajustar dados experimentais, para os quais as\n",
    "variáveis sendo estudadas são freqüentemente uma função de duas outras variáveis.\n",
    "Para esse caso bidimensional, a \"reta\" de regressão se torna o \"plano\" de regressão.\n",
    "\n",
    "<img src=\"./images/reg_mul.jpg\" style=\"width:450px;height:600px;\">\n",
    "\n",
    "\n",
    "Como nos casos anteriores, os \"melhores\" valores dos coeficientes são determinados\n",
    "escrevendo-se a soma dos quadrados dos resíduos\n",
    "\n",
    "$$\n",
    "S_r = \\sum_{i=1}^n (y_i - a_0 - a_1 x_{1i} - a_2 x_{2i})^2\n",
    "$$\n",
    "\n",
    "e derivando-a com relação a cada um dos coeficientes desconhecidos,\n",
    "\n",
    "\\begin{align*}\n",
    "\\frac{\\partial S_r}{\\partial a_0} &= -2 \\sum(y_i - a_0 - a_1 x_{1i} - a_2 x_{2i})\\\\\n",
    "\\frac{\\partial S_r}{\\partial a_1} &= -2 \\sum x_{1i}(y_i - a_0 - a_1 x_{1i} - a_2 x_{2i})\\\\\n",
    "\\frac{\\partial S_r}{\\partial a_2} &= -2 \\sum x_{2i}(y_i - a_0 - a_1 x_{1i} - a_2 x_{2i})\n",
    "\\end{align*}\n",
    "\n",
    "Os coeficientes fornecendo a soma mínima dos quadrados dos resíduos são obtidos\n",
    "igualando-se as derivadas parciais a zero e expressando o resultado na forma matricial como\n",
    "\n",
    "$$\n",
    "\\begin{bmatrix}\n",
    "n & \\sum x_{1i} & \\sum x_{2i}\\\\\n",
    "\\sum x_{1i} & \\sum x_{2i}^2 & \\sum x_{1i} x_{2i}\\\\\n",
    "\\sum x_{2i} & \\sum x_{1i} x_{2i} & \\sum x_{2i}^2\n",
    "\\end{bmatrix}\n",
    "\\begin{bmatrix}\n",
    "a_0 \\\\\n",
    "a_1 \\\\\n",
    "a_2 \n",
    "\\end{bmatrix}\n",
    " = \n",
    "\\begin{bmatrix}\n",
    "\\sum y_{i} \\\\\n",
    "\\sum x_{1i} y_i \\\\\n",
    "\\sum x_{2i} y_i \n",
    "\\end{bmatrix}\n",
    "$$ \n",
    "\n",
    "### **Exemplo:**\n",
    "Use regressão linear multipla para ajustar os dados\n",
    "\n",
    "| $x_1$  | $x_2$  | $y$  |   \n",
    "|--------|--------|------|\n",
    "| 0      | 0      | 5    |  \n",
    "| 2      | 1      | 10   | \n",
    "| 2.5    | 2      | 9    |\n",
    "| 1      | 3      | 0    |\n",
    "| 4      | 6      | 3    |\n",
    "| 7      | 2      | 27   |    \n",
    "\n",
    "**Resolução:**\n",
    "\n",
    "\n"
   ]
  },
  {
   "cell_type": "code",
   "execution_count": 35,
   "metadata": {},
   "outputs": [
    {
     "data": {
      "application/vnd.plotly.v1+json": {
       "config": {
        "plotlyServerURL": "https://plot.ly"
       },
       "data": [
        {
         "mode": "markers",
         "type": "scatter3d",
         "x": [
          0,
          2,
          2.5,
          1,
          4,
          7
         ],
         "y": [
          0,
          1,
          2,
          3,
          6,
          2
         ],
         "z": [
          5,
          10,
          9,
          0,
          3,
          27
         ]
        }
       ],
       "layout": {
        "template": {
         "data": {
          "bar": [
           {
            "error_x": {
             "color": "#2a3f5f"
            },
            "error_y": {
             "color": "#2a3f5f"
            },
            "marker": {
             "line": {
              "color": "#E5ECF6",
              "width": 0.5
             },
             "pattern": {
              "fillmode": "overlay",
              "size": 10,
              "solidity": 0.2
             }
            },
            "type": "bar"
           }
          ],
          "barpolar": [
           {
            "marker": {
             "line": {
              "color": "#E5ECF6",
              "width": 0.5
             },
             "pattern": {
              "fillmode": "overlay",
              "size": 10,
              "solidity": 0.2
             }
            },
            "type": "barpolar"
           }
          ],
          "carpet": [
           {
            "aaxis": {
             "endlinecolor": "#2a3f5f",
             "gridcolor": "white",
             "linecolor": "white",
             "minorgridcolor": "white",
             "startlinecolor": "#2a3f5f"
            },
            "baxis": {
             "endlinecolor": "#2a3f5f",
             "gridcolor": "white",
             "linecolor": "white",
             "minorgridcolor": "white",
             "startlinecolor": "#2a3f5f"
            },
            "type": "carpet"
           }
          ],
          "choropleth": [
           {
            "colorbar": {
             "outlinewidth": 0,
             "ticks": ""
            },
            "type": "choropleth"
           }
          ],
          "contour": [
           {
            "colorbar": {
             "outlinewidth": 0,
             "ticks": ""
            },
            "colorscale": [
             [
              0,
              "#0d0887"
             ],
             [
              0.1111111111111111,
              "#46039f"
             ],
             [
              0.2222222222222222,
              "#7201a8"
             ],
             [
              0.3333333333333333,
              "#9c179e"
             ],
             [
              0.4444444444444444,
              "#bd3786"
             ],
             [
              0.5555555555555556,
              "#d8576b"
             ],
             [
              0.6666666666666666,
              "#ed7953"
             ],
             [
              0.7777777777777778,
              "#fb9f3a"
             ],
             [
              0.8888888888888888,
              "#fdca26"
             ],
             [
              1,
              "#f0f921"
             ]
            ],
            "type": "contour"
           }
          ],
          "contourcarpet": [
           {
            "colorbar": {
             "outlinewidth": 0,
             "ticks": ""
            },
            "type": "contourcarpet"
           }
          ],
          "heatmap": [
           {
            "colorbar": {
             "outlinewidth": 0,
             "ticks": ""
            },
            "colorscale": [
             [
              0,
              "#0d0887"
             ],
             [
              0.1111111111111111,
              "#46039f"
             ],
             [
              0.2222222222222222,
              "#7201a8"
             ],
             [
              0.3333333333333333,
              "#9c179e"
             ],
             [
              0.4444444444444444,
              "#bd3786"
             ],
             [
              0.5555555555555556,
              "#d8576b"
             ],
             [
              0.6666666666666666,
              "#ed7953"
             ],
             [
              0.7777777777777778,
              "#fb9f3a"
             ],
             [
              0.8888888888888888,
              "#fdca26"
             ],
             [
              1,
              "#f0f921"
             ]
            ],
            "type": "heatmap"
           }
          ],
          "heatmapgl": [
           {
            "colorbar": {
             "outlinewidth": 0,
             "ticks": ""
            },
            "colorscale": [
             [
              0,
              "#0d0887"
             ],
             [
              0.1111111111111111,
              "#46039f"
             ],
             [
              0.2222222222222222,
              "#7201a8"
             ],
             [
              0.3333333333333333,
              "#9c179e"
             ],
             [
              0.4444444444444444,
              "#bd3786"
             ],
             [
              0.5555555555555556,
              "#d8576b"
             ],
             [
              0.6666666666666666,
              "#ed7953"
             ],
             [
              0.7777777777777778,
              "#fb9f3a"
             ],
             [
              0.8888888888888888,
              "#fdca26"
             ],
             [
              1,
              "#f0f921"
             ]
            ],
            "type": "heatmapgl"
           }
          ],
          "histogram": [
           {
            "marker": {
             "pattern": {
              "fillmode": "overlay",
              "size": 10,
              "solidity": 0.2
             }
            },
            "type": "histogram"
           }
          ],
          "histogram2d": [
           {
            "colorbar": {
             "outlinewidth": 0,
             "ticks": ""
            },
            "colorscale": [
             [
              0,
              "#0d0887"
             ],
             [
              0.1111111111111111,
              "#46039f"
             ],
             [
              0.2222222222222222,
              "#7201a8"
             ],
             [
              0.3333333333333333,
              "#9c179e"
             ],
             [
              0.4444444444444444,
              "#bd3786"
             ],
             [
              0.5555555555555556,
              "#d8576b"
             ],
             [
              0.6666666666666666,
              "#ed7953"
             ],
             [
              0.7777777777777778,
              "#fb9f3a"
             ],
             [
              0.8888888888888888,
              "#fdca26"
             ],
             [
              1,
              "#f0f921"
             ]
            ],
            "type": "histogram2d"
           }
          ],
          "histogram2dcontour": [
           {
            "colorbar": {
             "outlinewidth": 0,
             "ticks": ""
            },
            "colorscale": [
             [
              0,
              "#0d0887"
             ],
             [
              0.1111111111111111,
              "#46039f"
             ],
             [
              0.2222222222222222,
              "#7201a8"
             ],
             [
              0.3333333333333333,
              "#9c179e"
             ],
             [
              0.4444444444444444,
              "#bd3786"
             ],
             [
              0.5555555555555556,
              "#d8576b"
             ],
             [
              0.6666666666666666,
              "#ed7953"
             ],
             [
              0.7777777777777778,
              "#fb9f3a"
             ],
             [
              0.8888888888888888,
              "#fdca26"
             ],
             [
              1,
              "#f0f921"
             ]
            ],
            "type": "histogram2dcontour"
           }
          ],
          "mesh3d": [
           {
            "colorbar": {
             "outlinewidth": 0,
             "ticks": ""
            },
            "type": "mesh3d"
           }
          ],
          "parcoords": [
           {
            "line": {
             "colorbar": {
              "outlinewidth": 0,
              "ticks": ""
             }
            },
            "type": "parcoords"
           }
          ],
          "pie": [
           {
            "automargin": true,
            "type": "pie"
           }
          ],
          "scatter": [
           {
            "marker": {
             "colorbar": {
              "outlinewidth": 0,
              "ticks": ""
             }
            },
            "type": "scatter"
           }
          ],
          "scatter3d": [
           {
            "line": {
             "colorbar": {
              "outlinewidth": 0,
              "ticks": ""
             }
            },
            "marker": {
             "colorbar": {
              "outlinewidth": 0,
              "ticks": ""
             }
            },
            "type": "scatter3d"
           }
          ],
          "scattercarpet": [
           {
            "marker": {
             "colorbar": {
              "outlinewidth": 0,
              "ticks": ""
             }
            },
            "type": "scattercarpet"
           }
          ],
          "scattergeo": [
           {
            "marker": {
             "colorbar": {
              "outlinewidth": 0,
              "ticks": ""
             }
            },
            "type": "scattergeo"
           }
          ],
          "scattergl": [
           {
            "marker": {
             "colorbar": {
              "outlinewidth": 0,
              "ticks": ""
             }
            },
            "type": "scattergl"
           }
          ],
          "scattermapbox": [
           {
            "marker": {
             "colorbar": {
              "outlinewidth": 0,
              "ticks": ""
             }
            },
            "type": "scattermapbox"
           }
          ],
          "scatterpolar": [
           {
            "marker": {
             "colorbar": {
              "outlinewidth": 0,
              "ticks": ""
             }
            },
            "type": "scatterpolar"
           }
          ],
          "scatterpolargl": [
           {
            "marker": {
             "colorbar": {
              "outlinewidth": 0,
              "ticks": ""
             }
            },
            "type": "scatterpolargl"
           }
          ],
          "scatterternary": [
           {
            "marker": {
             "colorbar": {
              "outlinewidth": 0,
              "ticks": ""
             }
            },
            "type": "scatterternary"
           }
          ],
          "surface": [
           {
            "colorbar": {
             "outlinewidth": 0,
             "ticks": ""
            },
            "colorscale": [
             [
              0,
              "#0d0887"
             ],
             [
              0.1111111111111111,
              "#46039f"
             ],
             [
              0.2222222222222222,
              "#7201a8"
             ],
             [
              0.3333333333333333,
              "#9c179e"
             ],
             [
              0.4444444444444444,
              "#bd3786"
             ],
             [
              0.5555555555555556,
              "#d8576b"
             ],
             [
              0.6666666666666666,
              "#ed7953"
             ],
             [
              0.7777777777777778,
              "#fb9f3a"
             ],
             [
              0.8888888888888888,
              "#fdca26"
             ],
             [
              1,
              "#f0f921"
             ]
            ],
            "type": "surface"
           }
          ],
          "table": [
           {
            "cells": {
             "fill": {
              "color": "#EBF0F8"
             },
             "line": {
              "color": "white"
             }
            },
            "header": {
             "fill": {
              "color": "#C8D4E3"
             },
             "line": {
              "color": "white"
             }
            },
            "type": "table"
           }
          ]
         },
         "layout": {
          "annotationdefaults": {
           "arrowcolor": "#2a3f5f",
           "arrowhead": 0,
           "arrowwidth": 1
          },
          "autotypenumbers": "strict",
          "coloraxis": {
           "colorbar": {
            "outlinewidth": 0,
            "ticks": ""
           }
          },
          "colorscale": {
           "diverging": [
            [
             0,
             "#8e0152"
            ],
            [
             0.1,
             "#c51b7d"
            ],
            [
             0.2,
             "#de77ae"
            ],
            [
             0.3,
             "#f1b6da"
            ],
            [
             0.4,
             "#fde0ef"
            ],
            [
             0.5,
             "#f7f7f7"
            ],
            [
             0.6,
             "#e6f5d0"
            ],
            [
             0.7,
             "#b8e186"
            ],
            [
             0.8,
             "#7fbc41"
            ],
            [
             0.9,
             "#4d9221"
            ],
            [
             1,
             "#276419"
            ]
           ],
           "sequential": [
            [
             0,
             "#0d0887"
            ],
            [
             0.1111111111111111,
             "#46039f"
            ],
            [
             0.2222222222222222,
             "#7201a8"
            ],
            [
             0.3333333333333333,
             "#9c179e"
            ],
            [
             0.4444444444444444,
             "#bd3786"
            ],
            [
             0.5555555555555556,
             "#d8576b"
            ],
            [
             0.6666666666666666,
             "#ed7953"
            ],
            [
             0.7777777777777778,
             "#fb9f3a"
            ],
            [
             0.8888888888888888,
             "#fdca26"
            ],
            [
             1,
             "#f0f921"
            ]
           ],
           "sequentialminus": [
            [
             0,
             "#0d0887"
            ],
            [
             0.1111111111111111,
             "#46039f"
            ],
            [
             0.2222222222222222,
             "#7201a8"
            ],
            [
             0.3333333333333333,
             "#9c179e"
            ],
            [
             0.4444444444444444,
             "#bd3786"
            ],
            [
             0.5555555555555556,
             "#d8576b"
            ],
            [
             0.6666666666666666,
             "#ed7953"
            ],
            [
             0.7777777777777778,
             "#fb9f3a"
            ],
            [
             0.8888888888888888,
             "#fdca26"
            ],
            [
             1,
             "#f0f921"
            ]
           ]
          },
          "colorway": [
           "#636efa",
           "#EF553B",
           "#00cc96",
           "#ab63fa",
           "#FFA15A",
           "#19d3f3",
           "#FF6692",
           "#B6E880",
           "#FF97FF",
           "#FECB52"
          ],
          "font": {
           "color": "#2a3f5f"
          },
          "geo": {
           "bgcolor": "white",
           "lakecolor": "white",
           "landcolor": "#E5ECF6",
           "showlakes": true,
           "showland": true,
           "subunitcolor": "white"
          },
          "hoverlabel": {
           "align": "left"
          },
          "hovermode": "closest",
          "mapbox": {
           "style": "light"
          },
          "paper_bgcolor": "white",
          "plot_bgcolor": "#E5ECF6",
          "polar": {
           "angularaxis": {
            "gridcolor": "white",
            "linecolor": "white",
            "ticks": ""
           },
           "bgcolor": "#E5ECF6",
           "radialaxis": {
            "gridcolor": "white",
            "linecolor": "white",
            "ticks": ""
           }
          },
          "scene": {
           "xaxis": {
            "backgroundcolor": "#E5ECF6",
            "gridcolor": "white",
            "gridwidth": 2,
            "linecolor": "white",
            "showbackground": true,
            "ticks": "",
            "zerolinecolor": "white"
           },
           "yaxis": {
            "backgroundcolor": "#E5ECF6",
            "gridcolor": "white",
            "gridwidth": 2,
            "linecolor": "white",
            "showbackground": true,
            "ticks": "",
            "zerolinecolor": "white"
           },
           "zaxis": {
            "backgroundcolor": "#E5ECF6",
            "gridcolor": "white",
            "gridwidth": 2,
            "linecolor": "white",
            "showbackground": true,
            "ticks": "",
            "zerolinecolor": "white"
           }
          },
          "shapedefaults": {
           "line": {
            "color": "#2a3f5f"
           }
          },
          "ternary": {
           "aaxis": {
            "gridcolor": "white",
            "linecolor": "white",
            "ticks": ""
           },
           "baxis": {
            "gridcolor": "white",
            "linecolor": "white",
            "ticks": ""
           },
           "bgcolor": "#E5ECF6",
           "caxis": {
            "gridcolor": "white",
            "linecolor": "white",
            "ticks": ""
           }
          },
          "title": {
           "x": 0.05
          },
          "xaxis": {
           "automargin": true,
           "gridcolor": "white",
           "linecolor": "white",
           "ticks": "",
           "title": {
            "standoff": 15
           },
           "zerolinecolor": "white",
           "zerolinewidth": 2
          },
          "yaxis": {
           "automargin": true,
           "gridcolor": "white",
           "linecolor": "white",
           "ticks": "",
           "title": {
            "standoff": 15
           },
           "zerolinecolor": "white",
           "zerolinewidth": 2
          }
         }
        }
       }
      }
     },
     "metadata": {},
     "output_type": "display_data"
    }
   ],
   "source": [
    "x1 = np.array([0, 2, 2.5, 1, 4, 7])\n",
    "x2 = np.array([0, 1, 2, 3, 6, 2])\n",
    "y = np.array([5, 10, 9, 0, 3, 27])\n",
    "\n",
    "fig = go.Figure()\n",
    "fig.add_scatter3d(x=x1, y=x2, z=y, mode='markers')"
   ]
  },
  {
   "cell_type": "code",
   "execution_count": 36,
   "metadata": {},
   "outputs": [
    {
     "data": {
      "text/plain": [
       "array([ 5.,  4., -3.])"
      ]
     },
     "execution_count": 36,
     "metadata": {},
     "output_type": "execute_result"
    }
   ],
   "source": [
    "n = len(x1)\n",
    "a11 = n\n",
    "a12 = sum(x1)\n",
    "a13 = sum(x2)\n",
    "\n",
    "a21 = a12\n",
    "a22 = sum(x1**2)\n",
    "a23 = sum(x1*x2)\n",
    "\n",
    "a31 = a13\n",
    "a32 = a23\n",
    "a33 = sum(x2**2)\n",
    "\n",
    "b1 = sum(y)\n",
    "b2 = sum(x1*y)\n",
    "b3 = sum(x2*y)\n",
    "\n",
    "bb = np.array([b1, b2, b3])\n",
    "AA = np.array([[a11, a12, a13], [a21, a22, a23], [a31, a32, a33]])\n",
    "\n",
    "cn.gauss_elimination_minimal(AA, bb)"
   ]
  },
  {
   "cell_type": "markdown",
   "metadata": {},
   "source": [
    "Então o modelo é \n",
    "\n",
    "$$\n",
    "y = 5 + 4x_1 -3x_2\n",
    "$$"
   ]
  },
  {
   "cell_type": "markdown",
   "metadata": {},
   "source": [
    "## EXERCICIO: Implementar o algoritmo de regressão multipla para um caso geral no Python"
   ]
  },
  {
   "cell_type": "markdown",
   "metadata": {},
   "source": [
    "## Minimos Quadrados Linear Geral\n",
    "\n",
    "Até agora foram introduzidos três tipos de regressão: linear simples, polinomial e linear múltipla. Na realidade, todas as três pertencem ao seguinte modelo geral de mínimos quadrados linear:\n",
    "\n",
    "$$\n",
    "y = a_0 z_0 + a_1 z_1 + a_2 z_2 + ... + a_m z_m + e\n",
    "$$\n",
    "\n",
    "onde $z_0, z_1, ..., z_m$ são $m+1$ funções base. Pode ser visto facilmente como a regressão\n",
    "linear simples e a linear múltipla se encaixam nesse modelo — isto é, $z_0 = 1, z_1 = x_1,\n",
    "z_2 = x_2 , ..., z_m = x_m$ . Além disso, a regressão polinomial também é incluída se as funções base forem monômios simples como em $z_0 = x^0 = 1, z_1 = x, z_2 = x^2 , ..., z_m = x^m$.\n",
    "\n",
    "Observe que a terminologia \"linear\" se refere apenas a como o modelo depende de seus parâmetros — ou seja, os $a$’s. Como no caso da regressão polinomial, as próprias\n",
    "funções podem ser altamente não-lineares. Por exemplo, os $z$’s podem ser funções senoidais, como em\n",
    "\n",
    "$$\n",
    "y = a_0 + a_1 \\cos(\\omega t) + a_2 \\sin(\\omega t)\n",
    "$$\n",
    "\n",
    "Tal forma é a base da análise de Fourier. Por outro lado, um modelo aparentemente simples como\n",
    "\n",
    "$$\n",
    "f(x) = a_0(1-e^{-a_1 x})\n",
    "$$\n",
    "\n",
    "é verdadeiramente não-linear porque não pode ser manipulado na forma da equação geral.\n",
    "\n",
    "Por agora, a equação geral pode ser expressa na notação matricial como\n",
    "\n",
    "$$\n",
    "\\{Y\\} = [Z] \\{A\\} + \\{E\\}\n",
    "$$\n",
    "\n",
    "onde $[Z]$ é a matriz dos valores calculados das funções base nos valores medidos das variáveis independentes,\n",
    "\n",
    "$$\n",
    "[Z] = \\begin{bmatrix}\n",
    "z_{01} & z_{11} &... &z_{m1}\\\\\n",
    "z_{02} & z_{12} & ...&z_{m2}\\\\\n",
    ". & . & .& \\\\\n",
    ". & .& .& \\\\\n",
    ". & .& .& \\\\\n",
    "z_{0n} & z_{1n} &... &z_{mn} \n",
    "\\end{bmatrix}\n",
    "$$\n",
    "\n",
    "onde $m$ é o número de variáveis no modelo e $n$ é o número de pontos dados. Como $n \\geq m + 1$, você deve perceber que, na maioria das vezes, $[Z]$ não é uma matriz quadrada.\n",
    "\n",
    "O vetor coluna $\\{Y\\}$ contém os valores observados das variáveis dependentes\n",
    "\n",
    "$$\n",
    "\\{Y\\}^T = [y_1 \\, y_2 \\,...\\, y_n]\n",
    "$$\n",
    "\n",
    "O vetor coluna $\\{A\\}$ contém os coeficientes desconhecidos\n",
    "\n",
    "$$\n",
    "\\{A\\}^T = [a_1 \\, a_2 \\,...\\, a_m]\n",
    "$$\n",
    "\n",
    "e o vetor coluna $\\{E\\}$ contém os resíduos\n",
    "\n",
    "$$\n",
    "\\{E\\}^T = [e_1 \\, e_2 \\,...\\, e_n]\n",
    "$$\n",
    "\n",
    "Como foi feito por todo este capítulo, a soma dos quadrados dos resíduos para esse\n",
    "caso pode ser definida por\n",
    "\n",
    "$$\n",
    "S_r = \\sum^{n}_{i=1}\\big(y_i - \\sum_{j=0}^m a_j z_{ji}\\big)^2\n",
    "$$\n",
    "\n",
    "Essa quantidade pode ser minimizada tomando-se suas derivadas parciais em relação a cada um dos coeficientes e igualando-se a equação resultante a zero. O resultado desse processo são as equações normais que podem ser expressas concisamente na forma matricial como\n",
    "\n",
    "$$\n",
    "\\big[[Z]^T [Z]\\big] \\{A\\} = \\{[Z]^T \\{Y\\} \\}\n",
    "$$\n",
    "\n",
    "Pode ser mostrado que, de fato, essa equação é equivalente às equações normais desenvolvidas anteriormente para a regressão linear simples, polinomial e linear múltipla."
   ]
  },
  {
   "cell_type": "markdown",
   "metadata": {},
   "source": [
    "## Regressão Não-Linear\n",
    "\n",
    "Há muitos casos em engenharia nos quais modelos não-lineares devem ser ajustados aos\n",
    "dados. No presente contexto, esses modelos são definidos como aqueles que têm uma dependência não-linear com seus parâmetros. Por exemplo,\n",
    "\n",
    "$$\n",
    "f(x) = a_0 (1 - e^{-a_1 x}) + e\n",
    "$$\n",
    "\n",
    "Como nos casos dos mínimos quadrados linear, a regressão não-linear é baseada\n",
    "na determinação dos valores dos parâmetros que minimizem a soma dos quadrados\n",
    "dos resíduos. Entretanto, para o caso não-linear, a solução deve prosseguir de uma\n",
    "forma iterativa.\n",
    "\n",
    "O método de Gauss-Newton é um algoritmo para minimizar a soma dos quadrados\n",
    "dos resíduos entre os dados e as equações não-lineares. Os conceito chave subjacente a\n",
    "essa técnica é que uma expansão em série de Taylor é usada para expressar a equação não-\n",
    "linear original em uma forma aproximada linear. A seguir, a teoria dos mínimos quadrados pode ser usada para se obter novas estimativas dos parâmetros que se movam na direção de minimizar o resíduo.\n",
    "\n",
    "Para ilustrar como isso é feito, primeiro a relação entre a equação não-linear e os\n",
    "dados pode ser expressa genericamente como\n",
    "\n",
    "$$\n",
    "y_i = f(x_i, a_0, a_1, ...,a_m) + e_i \\rightarrow y_i = f(x_i) + e\n",
    "$$\n",
    "\n",
    "onde $y_i$ é um valor medido da variável dependente, $f (x_i ; a_0 , a_1 , ..., a_m )$ é a equação que é uma função da variável independente $x_i$ e uma função não-linear dos parâmetros $a_0 , a_1 , ..., a_m$ e $e_i$ é um erro aleatório.\n",
    "\n",
    "O modelo não-linear pode ser expandido por uma série de Taylor em torno dos valores dos parâmetros e truncada depois da primeira derivada. Por exemplo, para um caso\n",
    "com $2$ parâmetros,\n",
    "\n",
    "$$\n",
    "f(x_i)_{j+1} = f(x_i)_j + \\frac{\\partial f(x_i)_j}{\\partial a_0} \\Delta a_0  + \\frac{\\partial f(x_i)_j}{\\partial a_1}\\Delta a_1\n",
    "$$\n",
    "\n",
    "onde $j$ é a aproximação inicial, $j + 1$ é a previsão, $\\Delta a_0 = a_{0,j+1} − a_{0,j}$ e $\\Delta a_1 = a_{1,j+1} − a_{1,j}$ . Logo, linearizamos o modelo inicial com relação aos parâmetros.  Substituindo essa expansão na equação geral temos\n",
    "\n",
    "$$\n",
    "y_i - f(x_i)_j = + \\frac{\\partial f(x_i)_j}{\\partial a_0} \\Delta a_0  + \\frac{\\partial f(x_i)_j}{\\partial a_1} \\Delta a_1 + e_i\n",
    "$$\n",
    "\n",
    "\n",
    "ou, na forma matricial\n",
    "\n",
    "$$\n",
    "\\{D\\} = [Z_j]{\\Delta A} + \\{E\\}\n",
    "$$\n",
    "\n",
    "onde $[Z_j]$ é a matriz das derivadas parciais da função calculada na aproximação inicial $j$,\n",
    "\n",
    "$$\n",
    "[Z_j] = \\begin{bmatrix}\n",
    "\\frac{\\partial f_1}{\\partial a_0} & \\frac{\\partial f_1}{\\partial a_1}\\\\\n",
    "\\frac{\\partial f_2}{\\partial a_0} & \\frac{\\partial f_2}{\\partial a_1} \\\\\n",
    ". & . \\\\\n",
    ". & . \\\\\n",
    "\\frac{\\partial f_n}{\\partial a_0} & \\frac{\\partial f_n}{\\partial a_1} \n",
    "\\end{bmatrix}\n",
    "$$\n",
    "\n",
    "onde $n$ é o número de pontos dados e $\\frac{\\partial f_i}{\\partial a_k}$ é a derivada parcial da função com relação ao $k$-ésimo parâmetro calculada no $i$-ésimo ponto dado. O vetor $\\{D\\}$ contém as diferenças entre as medidas e os valores da função,\n",
    "\n",
    "$$\n",
    "\\{D\\} = \\begin{bmatrix}\n",
    "y_1 - f(x_1)\\\\\n",
    "y_2 - f(x_2)\\\\\n",
    ". \\\\\n",
    ". \\\\\n",
    ". \\\\\n",
    "y_n - f(x_n) \n",
    "\\end{bmatrix}\n",
    "$$\n",
    "\n",
    "e o vetor $\\{\\Delta A\\}$ contém a variação nos valores dos parâmetros,\n",
    "\n",
    "$$\n",
    "\\{\\Delta A\\} = \\begin{bmatrix}\n",
    "\\Delta a_0\\\\\n",
    "\\Delta a_1\\\\\n",
    ". \\\\\n",
    ". \\\\\n",
    ". \\\\\n",
    "\\Delta a_m \n",
    "\\end{bmatrix}\n",
    "$$\n",
    "\n",
    "A aplicação da teoria linear dos mínimos quadrados a equação matricial acima resulta nas\n",
    "seguintes equações normais\n",
    "\n",
    "$$\n",
    "\\big[[Z_j]^T [Z_j]\\big] \\{\\Delta A\\} = \\{[Z_j]^T \\{D\\} \\}\n",
    "$$\n",
    "\n",
    "Logo, a abordagem consiste em resolver essa equação, determinando $\\{\\Delta A\\}$, o qual\n",
    "pode ser usado para calcular valores melhorados para os parâmetros como em\n",
    "\n",
    "$$\n",
    "a_{0, j+1} = a_{0, j} + \\Delta a_0 \n",
    "$$\n",
    "e\n",
    "$$\n",
    "a_{1, j+1} = a_{1, j} + \\Delta a_1 \n",
    "$$\n",
    "\n",
    "Esse procedimento é repetido até que a solução convirja — ou seja, até que\n",
    "\n",
    "$$\n",
    "|\\varepsilon_a|_k = |\\frac{a_{k, j+1} - a_{k,j}}{a_{k, j+1}}| 100\\%\n",
    "$$\n",
    "\n",
    "fique abaixo de um critério de parada aceitável."
   ]
  },
  {
   "cell_type": "markdown",
   "metadata": {},
   "source": [
    "#### Exemplo:\n",
    "\n",
    "Ajuste a função $f(x; a_0, a_1) = a_0(1-e^{-a_1 x})$ aos dados\n",
    "\n",
    "\\begin{align*}\n",
    "x &= [0.25, 0.75, 1.25, 1.75, 2.25]\\\\\n",
    "y &= [0.28, 0.57, 0.68, 0.74, 0.79]\n",
    "\\end{align*}\n",
    "\n",
    "Use aproximações iniciais de $a_0 = 1.0 \\text { e } a_1 = 1.0$ para os parâmetros. Observe que, para\n",
    "essas aproximações, a soma inicial dos quadrados dos resíduos é $0.0248$.\n",
    "\n",
    "**Resolução:**\n",
    "\n",
    "Primeiro vamos plotar os dados"
   ]
  },
  {
   "cell_type": "code",
   "execution_count": 37,
   "metadata": {},
   "outputs": [
    {
     "data": {
      "application/vnd.plotly.v1+json": {
       "config": {
        "plotlyServerURL": "https://plot.ly"
       },
       "data": [
        {
         "mode": "markers",
         "type": "scatter",
         "x": [
          0.25,
          0.75,
          1.25,
          1.75,
          2.25
         ],
         "y": [
          0.28,
          0.57,
          0.68,
          0.74,
          0.79
         ]
        }
       ],
       "layout": {
        "template": {
         "data": {
          "bar": [
           {
            "error_x": {
             "color": "#2a3f5f"
            },
            "error_y": {
             "color": "#2a3f5f"
            },
            "marker": {
             "line": {
              "color": "#E5ECF6",
              "width": 0.5
             },
             "pattern": {
              "fillmode": "overlay",
              "size": 10,
              "solidity": 0.2
             }
            },
            "type": "bar"
           }
          ],
          "barpolar": [
           {
            "marker": {
             "line": {
              "color": "#E5ECF6",
              "width": 0.5
             },
             "pattern": {
              "fillmode": "overlay",
              "size": 10,
              "solidity": 0.2
             }
            },
            "type": "barpolar"
           }
          ],
          "carpet": [
           {
            "aaxis": {
             "endlinecolor": "#2a3f5f",
             "gridcolor": "white",
             "linecolor": "white",
             "minorgridcolor": "white",
             "startlinecolor": "#2a3f5f"
            },
            "baxis": {
             "endlinecolor": "#2a3f5f",
             "gridcolor": "white",
             "linecolor": "white",
             "minorgridcolor": "white",
             "startlinecolor": "#2a3f5f"
            },
            "type": "carpet"
           }
          ],
          "choropleth": [
           {
            "colorbar": {
             "outlinewidth": 0,
             "ticks": ""
            },
            "type": "choropleth"
           }
          ],
          "contour": [
           {
            "colorbar": {
             "outlinewidth": 0,
             "ticks": ""
            },
            "colorscale": [
             [
              0,
              "#0d0887"
             ],
             [
              0.1111111111111111,
              "#46039f"
             ],
             [
              0.2222222222222222,
              "#7201a8"
             ],
             [
              0.3333333333333333,
              "#9c179e"
             ],
             [
              0.4444444444444444,
              "#bd3786"
             ],
             [
              0.5555555555555556,
              "#d8576b"
             ],
             [
              0.6666666666666666,
              "#ed7953"
             ],
             [
              0.7777777777777778,
              "#fb9f3a"
             ],
             [
              0.8888888888888888,
              "#fdca26"
             ],
             [
              1,
              "#f0f921"
             ]
            ],
            "type": "contour"
           }
          ],
          "contourcarpet": [
           {
            "colorbar": {
             "outlinewidth": 0,
             "ticks": ""
            },
            "type": "contourcarpet"
           }
          ],
          "heatmap": [
           {
            "colorbar": {
             "outlinewidth": 0,
             "ticks": ""
            },
            "colorscale": [
             [
              0,
              "#0d0887"
             ],
             [
              0.1111111111111111,
              "#46039f"
             ],
             [
              0.2222222222222222,
              "#7201a8"
             ],
             [
              0.3333333333333333,
              "#9c179e"
             ],
             [
              0.4444444444444444,
              "#bd3786"
             ],
             [
              0.5555555555555556,
              "#d8576b"
             ],
             [
              0.6666666666666666,
              "#ed7953"
             ],
             [
              0.7777777777777778,
              "#fb9f3a"
             ],
             [
              0.8888888888888888,
              "#fdca26"
             ],
             [
              1,
              "#f0f921"
             ]
            ],
            "type": "heatmap"
           }
          ],
          "heatmapgl": [
           {
            "colorbar": {
             "outlinewidth": 0,
             "ticks": ""
            },
            "colorscale": [
             [
              0,
              "#0d0887"
             ],
             [
              0.1111111111111111,
              "#46039f"
             ],
             [
              0.2222222222222222,
              "#7201a8"
             ],
             [
              0.3333333333333333,
              "#9c179e"
             ],
             [
              0.4444444444444444,
              "#bd3786"
             ],
             [
              0.5555555555555556,
              "#d8576b"
             ],
             [
              0.6666666666666666,
              "#ed7953"
             ],
             [
              0.7777777777777778,
              "#fb9f3a"
             ],
             [
              0.8888888888888888,
              "#fdca26"
             ],
             [
              1,
              "#f0f921"
             ]
            ],
            "type": "heatmapgl"
           }
          ],
          "histogram": [
           {
            "marker": {
             "pattern": {
              "fillmode": "overlay",
              "size": 10,
              "solidity": 0.2
             }
            },
            "type": "histogram"
           }
          ],
          "histogram2d": [
           {
            "colorbar": {
             "outlinewidth": 0,
             "ticks": ""
            },
            "colorscale": [
             [
              0,
              "#0d0887"
             ],
             [
              0.1111111111111111,
              "#46039f"
             ],
             [
              0.2222222222222222,
              "#7201a8"
             ],
             [
              0.3333333333333333,
              "#9c179e"
             ],
             [
              0.4444444444444444,
              "#bd3786"
             ],
             [
              0.5555555555555556,
              "#d8576b"
             ],
             [
              0.6666666666666666,
              "#ed7953"
             ],
             [
              0.7777777777777778,
              "#fb9f3a"
             ],
             [
              0.8888888888888888,
              "#fdca26"
             ],
             [
              1,
              "#f0f921"
             ]
            ],
            "type": "histogram2d"
           }
          ],
          "histogram2dcontour": [
           {
            "colorbar": {
             "outlinewidth": 0,
             "ticks": ""
            },
            "colorscale": [
             [
              0,
              "#0d0887"
             ],
             [
              0.1111111111111111,
              "#46039f"
             ],
             [
              0.2222222222222222,
              "#7201a8"
             ],
             [
              0.3333333333333333,
              "#9c179e"
             ],
             [
              0.4444444444444444,
              "#bd3786"
             ],
             [
              0.5555555555555556,
              "#d8576b"
             ],
             [
              0.6666666666666666,
              "#ed7953"
             ],
             [
              0.7777777777777778,
              "#fb9f3a"
             ],
             [
              0.8888888888888888,
              "#fdca26"
             ],
             [
              1,
              "#f0f921"
             ]
            ],
            "type": "histogram2dcontour"
           }
          ],
          "mesh3d": [
           {
            "colorbar": {
             "outlinewidth": 0,
             "ticks": ""
            },
            "type": "mesh3d"
           }
          ],
          "parcoords": [
           {
            "line": {
             "colorbar": {
              "outlinewidth": 0,
              "ticks": ""
             }
            },
            "type": "parcoords"
           }
          ],
          "pie": [
           {
            "automargin": true,
            "type": "pie"
           }
          ],
          "scatter": [
           {
            "marker": {
             "colorbar": {
              "outlinewidth": 0,
              "ticks": ""
             }
            },
            "type": "scatter"
           }
          ],
          "scatter3d": [
           {
            "line": {
             "colorbar": {
              "outlinewidth": 0,
              "ticks": ""
             }
            },
            "marker": {
             "colorbar": {
              "outlinewidth": 0,
              "ticks": ""
             }
            },
            "type": "scatter3d"
           }
          ],
          "scattercarpet": [
           {
            "marker": {
             "colorbar": {
              "outlinewidth": 0,
              "ticks": ""
             }
            },
            "type": "scattercarpet"
           }
          ],
          "scattergeo": [
           {
            "marker": {
             "colorbar": {
              "outlinewidth": 0,
              "ticks": ""
             }
            },
            "type": "scattergeo"
           }
          ],
          "scattergl": [
           {
            "marker": {
             "colorbar": {
              "outlinewidth": 0,
              "ticks": ""
             }
            },
            "type": "scattergl"
           }
          ],
          "scattermapbox": [
           {
            "marker": {
             "colorbar": {
              "outlinewidth": 0,
              "ticks": ""
             }
            },
            "type": "scattermapbox"
           }
          ],
          "scatterpolar": [
           {
            "marker": {
             "colorbar": {
              "outlinewidth": 0,
              "ticks": ""
             }
            },
            "type": "scatterpolar"
           }
          ],
          "scatterpolargl": [
           {
            "marker": {
             "colorbar": {
              "outlinewidth": 0,
              "ticks": ""
             }
            },
            "type": "scatterpolargl"
           }
          ],
          "scatterternary": [
           {
            "marker": {
             "colorbar": {
              "outlinewidth": 0,
              "ticks": ""
             }
            },
            "type": "scatterternary"
           }
          ],
          "surface": [
           {
            "colorbar": {
             "outlinewidth": 0,
             "ticks": ""
            },
            "colorscale": [
             [
              0,
              "#0d0887"
             ],
             [
              0.1111111111111111,
              "#46039f"
             ],
             [
              0.2222222222222222,
              "#7201a8"
             ],
             [
              0.3333333333333333,
              "#9c179e"
             ],
             [
              0.4444444444444444,
              "#bd3786"
             ],
             [
              0.5555555555555556,
              "#d8576b"
             ],
             [
              0.6666666666666666,
              "#ed7953"
             ],
             [
              0.7777777777777778,
              "#fb9f3a"
             ],
             [
              0.8888888888888888,
              "#fdca26"
             ],
             [
              1,
              "#f0f921"
             ]
            ],
            "type": "surface"
           }
          ],
          "table": [
           {
            "cells": {
             "fill": {
              "color": "#EBF0F8"
             },
             "line": {
              "color": "white"
             }
            },
            "header": {
             "fill": {
              "color": "#C8D4E3"
             },
             "line": {
              "color": "white"
             }
            },
            "type": "table"
           }
          ]
         },
         "layout": {
          "annotationdefaults": {
           "arrowcolor": "#2a3f5f",
           "arrowhead": 0,
           "arrowwidth": 1
          },
          "autotypenumbers": "strict",
          "coloraxis": {
           "colorbar": {
            "outlinewidth": 0,
            "ticks": ""
           }
          },
          "colorscale": {
           "diverging": [
            [
             0,
             "#8e0152"
            ],
            [
             0.1,
             "#c51b7d"
            ],
            [
             0.2,
             "#de77ae"
            ],
            [
             0.3,
             "#f1b6da"
            ],
            [
             0.4,
             "#fde0ef"
            ],
            [
             0.5,
             "#f7f7f7"
            ],
            [
             0.6,
             "#e6f5d0"
            ],
            [
             0.7,
             "#b8e186"
            ],
            [
             0.8,
             "#7fbc41"
            ],
            [
             0.9,
             "#4d9221"
            ],
            [
             1,
             "#276419"
            ]
           ],
           "sequential": [
            [
             0,
             "#0d0887"
            ],
            [
             0.1111111111111111,
             "#46039f"
            ],
            [
             0.2222222222222222,
             "#7201a8"
            ],
            [
             0.3333333333333333,
             "#9c179e"
            ],
            [
             0.4444444444444444,
             "#bd3786"
            ],
            [
             0.5555555555555556,
             "#d8576b"
            ],
            [
             0.6666666666666666,
             "#ed7953"
            ],
            [
             0.7777777777777778,
             "#fb9f3a"
            ],
            [
             0.8888888888888888,
             "#fdca26"
            ],
            [
             1,
             "#f0f921"
            ]
           ],
           "sequentialminus": [
            [
             0,
             "#0d0887"
            ],
            [
             0.1111111111111111,
             "#46039f"
            ],
            [
             0.2222222222222222,
             "#7201a8"
            ],
            [
             0.3333333333333333,
             "#9c179e"
            ],
            [
             0.4444444444444444,
             "#bd3786"
            ],
            [
             0.5555555555555556,
             "#d8576b"
            ],
            [
             0.6666666666666666,
             "#ed7953"
            ],
            [
             0.7777777777777778,
             "#fb9f3a"
            ],
            [
             0.8888888888888888,
             "#fdca26"
            ],
            [
             1,
             "#f0f921"
            ]
           ]
          },
          "colorway": [
           "#636efa",
           "#EF553B",
           "#00cc96",
           "#ab63fa",
           "#FFA15A",
           "#19d3f3",
           "#FF6692",
           "#B6E880",
           "#FF97FF",
           "#FECB52"
          ],
          "font": {
           "color": "#2a3f5f"
          },
          "geo": {
           "bgcolor": "white",
           "lakecolor": "white",
           "landcolor": "#E5ECF6",
           "showlakes": true,
           "showland": true,
           "subunitcolor": "white"
          },
          "hoverlabel": {
           "align": "left"
          },
          "hovermode": "closest",
          "mapbox": {
           "style": "light"
          },
          "paper_bgcolor": "white",
          "plot_bgcolor": "#E5ECF6",
          "polar": {
           "angularaxis": {
            "gridcolor": "white",
            "linecolor": "white",
            "ticks": ""
           },
           "bgcolor": "#E5ECF6",
           "radialaxis": {
            "gridcolor": "white",
            "linecolor": "white",
            "ticks": ""
           }
          },
          "scene": {
           "xaxis": {
            "backgroundcolor": "#E5ECF6",
            "gridcolor": "white",
            "gridwidth": 2,
            "linecolor": "white",
            "showbackground": true,
            "ticks": "",
            "zerolinecolor": "white"
           },
           "yaxis": {
            "backgroundcolor": "#E5ECF6",
            "gridcolor": "white",
            "gridwidth": 2,
            "linecolor": "white",
            "showbackground": true,
            "ticks": "",
            "zerolinecolor": "white"
           },
           "zaxis": {
            "backgroundcolor": "#E5ECF6",
            "gridcolor": "white",
            "gridwidth": 2,
            "linecolor": "white",
            "showbackground": true,
            "ticks": "",
            "zerolinecolor": "white"
           }
          },
          "shapedefaults": {
           "line": {
            "color": "#2a3f5f"
           }
          },
          "ternary": {
           "aaxis": {
            "gridcolor": "white",
            "linecolor": "white",
            "ticks": ""
           },
           "baxis": {
            "gridcolor": "white",
            "linecolor": "white",
            "ticks": ""
           },
           "bgcolor": "#E5ECF6",
           "caxis": {
            "gridcolor": "white",
            "linecolor": "white",
            "ticks": ""
           }
          },
          "title": {
           "x": 0.05
          },
          "xaxis": {
           "automargin": true,
           "gridcolor": "white",
           "linecolor": "white",
           "ticks": "",
           "title": {
            "standoff": 15
           },
           "zerolinecolor": "white",
           "zerolinewidth": 2
          },
          "yaxis": {
           "automargin": true,
           "gridcolor": "white",
           "linecolor": "white",
           "ticks": "",
           "title": {
            "standoff": 15
           },
           "zerolinecolor": "white",
           "zerolinewidth": 2
          }
         }
        },
        "xaxis": {
         "constrain": "domain",
         "range": [
          0,
          3
         ],
         "scaleanchor": "y"
        }
       }
      }
     },
     "metadata": {},
     "output_type": "display_data"
    }
   ],
   "source": [
    "x = np.array([0.25, 0.75, 1.25, 1.75, 2.25])\n",
    "y = np.array([0.28, 0.57, 0.68, 0.74, 0.79])\n",
    "\n",
    "fig = go.Figure()\n",
    "\n",
    "fig.add_scatter(x=x, y=y, mode='markers')\n",
    "fig.update_xaxes(\n",
    "    scaleanchor = \"y\",\n",
    "    range = [0, 3],constrain=\"domain\",\n",
    "    )"
   ]
  },
  {
   "cell_type": "markdown",
   "metadata": {},
   "source": [
    "Vamos resolver esse exemplo usando a matriz inversa. Ou seja \n",
    "\n",
    "$$\n",
    "\\big[[Z_j]^T [Z_j]\\big] \\{\\Delta A\\} = \\{[Z_j]^T \\{D\\} \\} \\rightarrow \\{\\Delta A\\} = \\big[[Z_j]^T [Z_j]\\big]^{-1}  \\{[Z_j]^T \\{D\\} \\}\n",
    "$$\n",
    "\n",
    "Agora vamos ajustar o modelo\n",
    "\n",
    "$\\frac{\\partial f}{\\partial a_0} = 1-e^{-a_1 x}$ \n",
    "\n",
    "e \n",
    "\n",
    "$\\frac{\\partial f}{\\partial a_1} = a_0 x e^{-a_1 x}$"
   ]
  },
  {
   "cell_type": "code",
   "execution_count": 38,
   "metadata": {},
   "outputs": [
    {
     "data": {
      "text/plain": [
       "array([[0.22119922, 0.1947002 ],\n",
       "       [0.52763345, 0.35427491],\n",
       "       [0.7134952 , 0.358131  ],\n",
       "       [0.82622606, 0.3041044 ],\n",
       "       [0.89460078, 0.23714826]])"
      ]
     },
     "metadata": {},
     "output_type": "display_data"
    }
   ],
   "source": [
    "a0 = 1.\n",
    "a1 = 1.\n",
    "\n",
    "f = lambda x: a0*(1 - np.exp(-a1*x))\n",
    "f0 = lambda x: 1 - np.exp(-a1 * x)\n",
    "f1 = lambda x: a0 * x * np.exp(-a1 * x)\n",
    "\n",
    "z0 = np.array([[f0(item), f1(item)] for item in x])\n",
    "\n",
    "display(z0)"
   ]
  },
  {
   "cell_type": "markdown",
   "metadata": {},
   "source": [
    "Multiplicando a matriz `z0` pela sua transposta resulta em"
   ]
  },
  {
   "cell_type": "code",
   "execution_count": 39,
   "metadata": {},
   "outputs": [],
   "source": [
    "z_inv = np.linalg.inv((z0.T).dot(z0))"
   ]
  },
  {
   "cell_type": "markdown",
   "metadata": {},
   "source": [
    "A matriz D é calculada na seguinte forma"
   ]
  },
  {
   "cell_type": "code",
   "execution_count": 40,
   "metadata": {},
   "outputs": [
    {
     "data": {
      "text/plain": [
       "array([ 0.05880078,  0.04236655, -0.0334952 , -0.08622606, -0.10460078])"
      ]
     },
     "execution_count": 40,
     "metadata": {},
     "output_type": "execute_result"
    }
   ],
   "source": [
    "D = y - f(x)\n",
    "D"
   ]
  },
  {
   "cell_type": "markdown",
   "metadata": {},
   "source": [
    "Agora construimos $[Z_0]^T \\{D\\}$"
   ]
  },
  {
   "cell_type": "code",
   "execution_count": 41,
   "metadata": {},
   "outputs": [
    {
     "data": {
      "text/plain": [
       "array([-0.15335612, -0.03656535])"
      ]
     },
     "execution_count": 41,
     "metadata": {},
     "output_type": "execute_result"
    }
   ],
   "source": [
    "zD = (z0.T).dot(D)\n",
    "\n",
    "zD"
   ]
  },
  {
   "cell_type": "markdown",
   "metadata": {},
   "source": [
    "Então o vetor $\\{\\Delta A\\}$ é "
   ]
  },
  {
   "cell_type": "code",
   "execution_count": 42,
   "metadata": {},
   "outputs": [
    {
     "data": {
      "text/plain": [
       "array([-0.27147736,  0.50193087])"
      ]
     },
     "execution_count": 42,
     "metadata": {},
     "output_type": "execute_result"
    }
   ],
   "source": [
    "A0 = z_inv.dot(zD)\n",
    "A0"
   ]
  },
  {
   "cell_type": "markdown",
   "metadata": {},
   "source": [
    "Esses valores são correçoes da primeira iteração e devem ser somados aos valores inciais de `a0` e `a1` "
   ]
  },
  {
   "cell_type": "code",
   "execution_count": 43,
   "metadata": {},
   "outputs": [
    {
     "data": {
      "text/plain": [
       "(0.7285226400154179, 1.5019308677020646)"
      ]
     },
     "execution_count": 43,
     "metadata": {},
     "output_type": "execute_result"
    }
   ],
   "source": [
    "a0 += A0[0]\n",
    "a1 += A0[1]\n",
    "\n",
    "a0, a1"
   ]
  },
  {
   "cell_type": "markdown",
   "metadata": {},
   "source": [
    "Logo, as estimativas melhoradas dos parâmetros são $a_0 = 0.7286$ e $a_1 = 1.5019$. Os\n",
    "novos parâmetros resultam em uma soma dos quadrados dos resíduos igual a $0.0242$. Calculando os erros  resultam em $\\varepsilon_0$ e $\\varepsilon_1$ iguais a $37\\%$ e $33\\%$, respectivamente. O cálculo seria então repetido até que esses valores ficassem abaixo do critério de parada prescrito. O resultado final é $a_0 = 0.79186$ e $a_1 = 1.6751$. Esses coeficientes dão uma soma dos quadrados dos resíduos de $0.000662$."
   ]
  },
  {
   "cell_type": "code",
   "execution_count": null,
   "metadata": {},
   "outputs": [],
   "source": []
  }
 ],
 "metadata": {
  "interpreter": {
   "hash": "92b1d5f842d7c1e714e1ab666cefb8d1f75311aac337aae0336133957fcbf554"
  },
  "kernelspec": {
   "display_name": "Python 3.8.12 64-bit ('base': conda)",
   "name": "python3"
  },
  "language_info": {
   "codemirror_mode": {
    "name": "ipython",
    "version": 3
   },
   "file_extension": ".py",
   "mimetype": "text/x-python",
   "name": "python",
   "nbconvert_exporter": "python",
   "pygments_lexer": "ipython3",
   "version": "3.9.13"
  }
 },
 "nbformat": 4,
 "nbformat_minor": 4
}
