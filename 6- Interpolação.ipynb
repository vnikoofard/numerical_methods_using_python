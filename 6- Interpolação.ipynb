{
 "cells": [
  {
   "cell_type": "markdown",
   "metadata": {},
   "source": [
    "# Interpolação\n",
    "\n",
    "A gente frequentemente precisaremos fazer estimativa de valores intermediarios entre dados precisos. O método mais comum usado para esse propósito é a interpolação polinomial. A formula geral para um polinomio de grau $n$ é \n",
    "\n",
    "$$\n",
    "f(x) = a_0 + a_1 x + a_2 x^2 + ... + a_n x^n\n",
    "$$\n",
    "\n",
    "Para $n + 1$ pontos dados, existe um e somente um polinômio de grau $n$ que passa por todos os pontos. Por exemplo, existe uma única reta (isto é, um polinômio de primeiro grau) que liga dois pontos. Analogamente, existe uma única parábola ligando um conjunto de três pontos. A interpolação polinomial consiste em\n",
    "determinar o único polinômio de grau n que passa pelos $n + 1$ pontos dados. Esse polinômio, então, fornece uma fórmula para calcular valores intermediários.\n",
    "\n",
    "<img src=\"./images/inter.jpg\" style=\"width:450px;height:250px;\">\n",
    "\n",
    "Há diversas tecnicas para expressar esse polinomio. Neste capitulo vamos conhecer os polinomios de Newton e de Lagrange.\n",
    "\n",
    "## Polinomios interpoladores por diferenças divididas de Newton\n",
    "O polinômio interpolador por diferenças divididas de Newton está\n",
    "entre as fórmulas mais populares e úteis.\n",
    "\n",
    "### Interpolação Linear\n",
    "\n",
    "A forma mais simples de interpolação é ligar dois pontos dados com uma reta. A técnica,chamada de interpolação linear, é descrita graficamente na figura abaixo. Usando semelhança de triângulos,\n",
    "\n",
    "$$\n",
    "\\frac{f_1(x) - f(x_0)}{x - x_0} = \\frac{f(x_1) - f(x_0)}{x_1 - x_0}\n",
    "$$\n",
    "\n",
    "\n",
    "\n",
    "<img src=\"./images/inter_lin.jpg\" style=\"width:350px;height:300px;\">\n",
    "\n",
    "Essa expressão pode ser reorganizada na forma\n",
    "\n",
    "$$\n",
    "f_1(x) = f(x_0) + \\frac{f(x_1) - f(x_0)}{x_1 - x_0}(x - x_0)\n",
    "$$\n",
    "\n",
    "que é a *formula de interpolação linear*. A notação $f_1 (x)$ indica que esse é um polinômio interpolador de primeiro grau.\n",
    "\n",
    "#### **Exemplo:**\n",
    "\n",
    "Faça uma estimativa do logaritmo natural de 2 usando uma\n",
    "interpolação linear. Primeiro, faça o cálculo interpolando entre $\\ln 1 = 0$ e $\\ln 6 = 1.791759$. Então, repita o procedimento, mas use o intervalo menor de $\\ln 1$ a $\\ln 4$ $(1.386294)$. Observe que o valor verdadeiro de $\\ln 2$ é $0.6931472$.\n",
    "\n",
    "**Resolução:**\n",
    "\n",
    "Usanda a formula de interpolação linear temos para calcular $\\ln 2$ no intervalo de $[1, 6]$ temos\n",
    "\n",
    "$$\n",
    "f_1(2) = 0 + \\frac{1.791759 - 0}{6 -1}(2 - 1) = 0.3583519\n",
    "$$\n",
    "\n",
    "o que representa um erro de $\\varepsilon_t = 48.3 \\%$. No intervalo menor de $[1,4]$ o resultado fica um pouco melhor\n",
    "\n",
    "$$\n",
    "f_1(2) = 0 + \\frac{1.386294 - 0}{4 -1}(2 - 1) = 0.4620981\n",
    "$$\n",
    "\n",
    "Neste caso o erro relativo porcentual reduz para $\\varepsilon_t = 33.3\\%$. \n",
    "\n",
    "\n"
   ]
  },
  {
   "cell_type": "code",
   "execution_count": 7,
   "metadata": {},
   "outputs": [
    {
     "data": {
      "application/vnd.plotly.v1+json": {
       "config": {
        "plotlyServerURL": "https://plot.ly"
       },
       "data": [
        {
         "mode": "markers",
         "name": "dados",
         "type": "scatter",
         "x": [
          1,
          2,
          4,
          6
         ],
         "y": [
          0,
          0.6931471805599453,
          1.386294,
          1.791759
         ]
        },
        {
         "name": "f(x)=ln x",
         "type": "scatter",
         "x": [
          0.8,
          0.926530612244898,
          1.0530612244897959,
          1.1795918367346938,
          1.306122448979592,
          1.4326530612244897,
          1.5591836734693878,
          1.6857142857142857,
          1.8122448979591836,
          1.9387755102040816,
          2.0653061224489795,
          2.1918367346938776,
          2.3183673469387758,
          2.4448979591836735,
          2.571428571428571,
          2.6979591836734693,
          2.8244897959183675,
          2.9510204081632656,
          3.077551020408163,
          3.204081632653061,
          3.330612244897959,
          3.4571428571428573,
          3.5836734693877546,
          3.7102040816326527,
          3.836734693877551,
          3.963265306122449,
          4.089795918367347,
          4.216326530612244,
          4.3428571428571425,
          4.469387755102041,
          4.595918367346939,
          4.722448979591836,
          4.848979591836734,
          4.975510204081632,
          5.1020408163265305,
          5.228571428571428,
          5.355102040816326,
          5.481632653061224,
          5.608163265306122,
          5.7346938775510194,
          5.861224489795918,
          5.987755102040816,
          6.114285714285714,
          6.240816326530612,
          6.367346938775509,
          6.493877551020407,
          6.620408163265306,
          6.746938775510204,
          6.873469387755102,
          7
         ],
         "y": [
          -0.2231435513142097,
          -0.0763081930633243,
          0.05170137437689041,
          0.1651684775677051,
          0.2670627852490453,
          0.35952801292113873,
          0.4441623980618482,
          0.5221893824163057,
          0.5945663518874977,
          0.6620565934899142,
          0.7252784587427386,
          0.7847398839641377,
          0.8408632081764245,
          0.8940033875707224,
          0.9444616088408513,
          0.9924956293069592,
          1.0383277450729427,
          1.0821510116140378,
          1.1241341574632289,
          1.1644255072376815,
          1.2031561444193801,
          1.2404424841073274,
          1.2763883830903895,
          1.3110868836327518,
          1.3446216647193225,
          1.377068257746598,
          1.4084950711000832,
          1.4389642585749114,
          1.4685324593568627,
          1.4972514317058743,
          1.5251685981549088,
          1.5523275166489494,
          1.5787682893778632,
          1.6045279189365445,
          1.6296406197516198,
          1.6541380913520072,
          1.6780497589593073,
          1.7014029859785105,
          1.7242232622375677,
          1.746534371223119,
          1.7683585390634424,
          1.7897165675982547,
          1.8106279535324377,
          1.8311109953843352,
          1.8511828896988556,
          1.8708598177930598,
          1.8901570241306311,
          1.9090888872762972,
          1.927668984257545,
          1.9459101490553132
         ]
        },
        {
         "name": "intervalo menor",
         "type": "scatter",
         "x": [
          1,
          4
         ],
         "y": [
          0,
          1.386294
         ]
        },
        {
         "name": "intervalo maior",
         "type": "scatter",
         "x": [
          1,
          6
         ],
         "y": [
          0,
          1.791759
         ]
        },
        {
         "line": {
          "color": "black",
          "dash": "dot",
          "width": 1
         },
         "mode": "lines",
         "type": "scatter",
         "x": [
          2,
          2
         ],
         "y": [
          -0.5,
          2
         ]
        }
       ],
       "layout": {
        "template": {
         "data": {
          "bar": [
           {
            "error_x": {
             "color": "#2a3f5f"
            },
            "error_y": {
             "color": "#2a3f5f"
            },
            "marker": {
             "line": {
              "color": "#E5ECF6",
              "width": 0.5
             },
             "pattern": {
              "fillmode": "overlay",
              "size": 10,
              "solidity": 0.2
             }
            },
            "type": "bar"
           }
          ],
          "barpolar": [
           {
            "marker": {
             "line": {
              "color": "#E5ECF6",
              "width": 0.5
             },
             "pattern": {
              "fillmode": "overlay",
              "size": 10,
              "solidity": 0.2
             }
            },
            "type": "barpolar"
           }
          ],
          "carpet": [
           {
            "aaxis": {
             "endlinecolor": "#2a3f5f",
             "gridcolor": "white",
             "linecolor": "white",
             "minorgridcolor": "white",
             "startlinecolor": "#2a3f5f"
            },
            "baxis": {
             "endlinecolor": "#2a3f5f",
             "gridcolor": "white",
             "linecolor": "white",
             "minorgridcolor": "white",
             "startlinecolor": "#2a3f5f"
            },
            "type": "carpet"
           }
          ],
          "choropleth": [
           {
            "colorbar": {
             "outlinewidth": 0,
             "ticks": ""
            },
            "type": "choropleth"
           }
          ],
          "contour": [
           {
            "colorbar": {
             "outlinewidth": 0,
             "ticks": ""
            },
            "colorscale": [
             [
              0,
              "#0d0887"
             ],
             [
              0.1111111111111111,
              "#46039f"
             ],
             [
              0.2222222222222222,
              "#7201a8"
             ],
             [
              0.3333333333333333,
              "#9c179e"
             ],
             [
              0.4444444444444444,
              "#bd3786"
             ],
             [
              0.5555555555555556,
              "#d8576b"
             ],
             [
              0.6666666666666666,
              "#ed7953"
             ],
             [
              0.7777777777777778,
              "#fb9f3a"
             ],
             [
              0.8888888888888888,
              "#fdca26"
             ],
             [
              1,
              "#f0f921"
             ]
            ],
            "type": "contour"
           }
          ],
          "contourcarpet": [
           {
            "colorbar": {
             "outlinewidth": 0,
             "ticks": ""
            },
            "type": "contourcarpet"
           }
          ],
          "heatmap": [
           {
            "colorbar": {
             "outlinewidth": 0,
             "ticks": ""
            },
            "colorscale": [
             [
              0,
              "#0d0887"
             ],
             [
              0.1111111111111111,
              "#46039f"
             ],
             [
              0.2222222222222222,
              "#7201a8"
             ],
             [
              0.3333333333333333,
              "#9c179e"
             ],
             [
              0.4444444444444444,
              "#bd3786"
             ],
             [
              0.5555555555555556,
              "#d8576b"
             ],
             [
              0.6666666666666666,
              "#ed7953"
             ],
             [
              0.7777777777777778,
              "#fb9f3a"
             ],
             [
              0.8888888888888888,
              "#fdca26"
             ],
             [
              1,
              "#f0f921"
             ]
            ],
            "type": "heatmap"
           }
          ],
          "heatmapgl": [
           {
            "colorbar": {
             "outlinewidth": 0,
             "ticks": ""
            },
            "colorscale": [
             [
              0,
              "#0d0887"
             ],
             [
              0.1111111111111111,
              "#46039f"
             ],
             [
              0.2222222222222222,
              "#7201a8"
             ],
             [
              0.3333333333333333,
              "#9c179e"
             ],
             [
              0.4444444444444444,
              "#bd3786"
             ],
             [
              0.5555555555555556,
              "#d8576b"
             ],
             [
              0.6666666666666666,
              "#ed7953"
             ],
             [
              0.7777777777777778,
              "#fb9f3a"
             ],
             [
              0.8888888888888888,
              "#fdca26"
             ],
             [
              1,
              "#f0f921"
             ]
            ],
            "type": "heatmapgl"
           }
          ],
          "histogram": [
           {
            "marker": {
             "pattern": {
              "fillmode": "overlay",
              "size": 10,
              "solidity": 0.2
             }
            },
            "type": "histogram"
           }
          ],
          "histogram2d": [
           {
            "colorbar": {
             "outlinewidth": 0,
             "ticks": ""
            },
            "colorscale": [
             [
              0,
              "#0d0887"
             ],
             [
              0.1111111111111111,
              "#46039f"
             ],
             [
              0.2222222222222222,
              "#7201a8"
             ],
             [
              0.3333333333333333,
              "#9c179e"
             ],
             [
              0.4444444444444444,
              "#bd3786"
             ],
             [
              0.5555555555555556,
              "#d8576b"
             ],
             [
              0.6666666666666666,
              "#ed7953"
             ],
             [
              0.7777777777777778,
              "#fb9f3a"
             ],
             [
              0.8888888888888888,
              "#fdca26"
             ],
             [
              1,
              "#f0f921"
             ]
            ],
            "type": "histogram2d"
           }
          ],
          "histogram2dcontour": [
           {
            "colorbar": {
             "outlinewidth": 0,
             "ticks": ""
            },
            "colorscale": [
             [
              0,
              "#0d0887"
             ],
             [
              0.1111111111111111,
              "#46039f"
             ],
             [
              0.2222222222222222,
              "#7201a8"
             ],
             [
              0.3333333333333333,
              "#9c179e"
             ],
             [
              0.4444444444444444,
              "#bd3786"
             ],
             [
              0.5555555555555556,
              "#d8576b"
             ],
             [
              0.6666666666666666,
              "#ed7953"
             ],
             [
              0.7777777777777778,
              "#fb9f3a"
             ],
             [
              0.8888888888888888,
              "#fdca26"
             ],
             [
              1,
              "#f0f921"
             ]
            ],
            "type": "histogram2dcontour"
           }
          ],
          "mesh3d": [
           {
            "colorbar": {
             "outlinewidth": 0,
             "ticks": ""
            },
            "type": "mesh3d"
           }
          ],
          "parcoords": [
           {
            "line": {
             "colorbar": {
              "outlinewidth": 0,
              "ticks": ""
             }
            },
            "type": "parcoords"
           }
          ],
          "pie": [
           {
            "automargin": true,
            "type": "pie"
           }
          ],
          "scatter": [
           {
            "marker": {
             "colorbar": {
              "outlinewidth": 0,
              "ticks": ""
             }
            },
            "type": "scatter"
           }
          ],
          "scatter3d": [
           {
            "line": {
             "colorbar": {
              "outlinewidth": 0,
              "ticks": ""
             }
            },
            "marker": {
             "colorbar": {
              "outlinewidth": 0,
              "ticks": ""
             }
            },
            "type": "scatter3d"
           }
          ],
          "scattercarpet": [
           {
            "marker": {
             "colorbar": {
              "outlinewidth": 0,
              "ticks": ""
             }
            },
            "type": "scattercarpet"
           }
          ],
          "scattergeo": [
           {
            "marker": {
             "colorbar": {
              "outlinewidth": 0,
              "ticks": ""
             }
            },
            "type": "scattergeo"
           }
          ],
          "scattergl": [
           {
            "marker": {
             "colorbar": {
              "outlinewidth": 0,
              "ticks": ""
             }
            },
            "type": "scattergl"
           }
          ],
          "scattermapbox": [
           {
            "marker": {
             "colorbar": {
              "outlinewidth": 0,
              "ticks": ""
             }
            },
            "type": "scattermapbox"
           }
          ],
          "scatterpolar": [
           {
            "marker": {
             "colorbar": {
              "outlinewidth": 0,
              "ticks": ""
             }
            },
            "type": "scatterpolar"
           }
          ],
          "scatterpolargl": [
           {
            "marker": {
             "colorbar": {
              "outlinewidth": 0,
              "ticks": ""
             }
            },
            "type": "scatterpolargl"
           }
          ],
          "scatterternary": [
           {
            "marker": {
             "colorbar": {
              "outlinewidth": 0,
              "ticks": ""
             }
            },
            "type": "scatterternary"
           }
          ],
          "surface": [
           {
            "colorbar": {
             "outlinewidth": 0,
             "ticks": ""
            },
            "colorscale": [
             [
              0,
              "#0d0887"
             ],
             [
              0.1111111111111111,
              "#46039f"
             ],
             [
              0.2222222222222222,
              "#7201a8"
             ],
             [
              0.3333333333333333,
              "#9c179e"
             ],
             [
              0.4444444444444444,
              "#bd3786"
             ],
             [
              0.5555555555555556,
              "#d8576b"
             ],
             [
              0.6666666666666666,
              "#ed7953"
             ],
             [
              0.7777777777777778,
              "#fb9f3a"
             ],
             [
              0.8888888888888888,
              "#fdca26"
             ],
             [
              1,
              "#f0f921"
             ]
            ],
            "type": "surface"
           }
          ],
          "table": [
           {
            "cells": {
             "fill": {
              "color": "#EBF0F8"
             },
             "line": {
              "color": "white"
             }
            },
            "header": {
             "fill": {
              "color": "#C8D4E3"
             },
             "line": {
              "color": "white"
             }
            },
            "type": "table"
           }
          ]
         },
         "layout": {
          "annotationdefaults": {
           "arrowcolor": "#2a3f5f",
           "arrowhead": 0,
           "arrowwidth": 1
          },
          "autotypenumbers": "strict",
          "coloraxis": {
           "colorbar": {
            "outlinewidth": 0,
            "ticks": ""
           }
          },
          "colorscale": {
           "diverging": [
            [
             0,
             "#8e0152"
            ],
            [
             0.1,
             "#c51b7d"
            ],
            [
             0.2,
             "#de77ae"
            ],
            [
             0.3,
             "#f1b6da"
            ],
            [
             0.4,
             "#fde0ef"
            ],
            [
             0.5,
             "#f7f7f7"
            ],
            [
             0.6,
             "#e6f5d0"
            ],
            [
             0.7,
             "#b8e186"
            ],
            [
             0.8,
             "#7fbc41"
            ],
            [
             0.9,
             "#4d9221"
            ],
            [
             1,
             "#276419"
            ]
           ],
           "sequential": [
            [
             0,
             "#0d0887"
            ],
            [
             0.1111111111111111,
             "#46039f"
            ],
            [
             0.2222222222222222,
             "#7201a8"
            ],
            [
             0.3333333333333333,
             "#9c179e"
            ],
            [
             0.4444444444444444,
             "#bd3786"
            ],
            [
             0.5555555555555556,
             "#d8576b"
            ],
            [
             0.6666666666666666,
             "#ed7953"
            ],
            [
             0.7777777777777778,
             "#fb9f3a"
            ],
            [
             0.8888888888888888,
             "#fdca26"
            ],
            [
             1,
             "#f0f921"
            ]
           ],
           "sequentialminus": [
            [
             0,
             "#0d0887"
            ],
            [
             0.1111111111111111,
             "#46039f"
            ],
            [
             0.2222222222222222,
             "#7201a8"
            ],
            [
             0.3333333333333333,
             "#9c179e"
            ],
            [
             0.4444444444444444,
             "#bd3786"
            ],
            [
             0.5555555555555556,
             "#d8576b"
            ],
            [
             0.6666666666666666,
             "#ed7953"
            ],
            [
             0.7777777777777778,
             "#fb9f3a"
            ],
            [
             0.8888888888888888,
             "#fdca26"
            ],
            [
             1,
             "#f0f921"
            ]
           ]
          },
          "colorway": [
           "#636efa",
           "#EF553B",
           "#00cc96",
           "#ab63fa",
           "#FFA15A",
           "#19d3f3",
           "#FF6692",
           "#B6E880",
           "#FF97FF",
           "#FECB52"
          ],
          "font": {
           "color": "#2a3f5f"
          },
          "geo": {
           "bgcolor": "white",
           "lakecolor": "white",
           "landcolor": "#E5ECF6",
           "showlakes": true,
           "showland": true,
           "subunitcolor": "white"
          },
          "hoverlabel": {
           "align": "left"
          },
          "hovermode": "closest",
          "mapbox": {
           "style": "light"
          },
          "paper_bgcolor": "white",
          "plot_bgcolor": "#E5ECF6",
          "polar": {
           "angularaxis": {
            "gridcolor": "white",
            "linecolor": "white",
            "ticks": ""
           },
           "bgcolor": "#E5ECF6",
           "radialaxis": {
            "gridcolor": "white",
            "linecolor": "white",
            "ticks": ""
           }
          },
          "scene": {
           "xaxis": {
            "backgroundcolor": "#E5ECF6",
            "gridcolor": "white",
            "gridwidth": 2,
            "linecolor": "white",
            "showbackground": true,
            "ticks": "",
            "zerolinecolor": "white"
           },
           "yaxis": {
            "backgroundcolor": "#E5ECF6",
            "gridcolor": "white",
            "gridwidth": 2,
            "linecolor": "white",
            "showbackground": true,
            "ticks": "",
            "zerolinecolor": "white"
           },
           "zaxis": {
            "backgroundcolor": "#E5ECF6",
            "gridcolor": "white",
            "gridwidth": 2,
            "linecolor": "white",
            "showbackground": true,
            "ticks": "",
            "zerolinecolor": "white"
           }
          },
          "shapedefaults": {
           "line": {
            "color": "#2a3f5f"
           }
          },
          "ternary": {
           "aaxis": {
            "gridcolor": "white",
            "linecolor": "white",
            "ticks": ""
           },
           "baxis": {
            "gridcolor": "white",
            "linecolor": "white",
            "ticks": ""
           },
           "bgcolor": "#E5ECF6",
           "caxis": {
            "gridcolor": "white",
            "linecolor": "white",
            "ticks": ""
           }
          },
          "title": {
           "x": 0.05
          },
          "xaxis": {
           "automargin": true,
           "gridcolor": "white",
           "linecolor": "white",
           "ticks": "",
           "title": {
            "standoff": 15
           },
           "zerolinecolor": "white",
           "zerolinewidth": 2
          },
          "yaxis": {
           "automargin": true,
           "gridcolor": "white",
           "linecolor": "white",
           "ticks": "",
           "title": {
            "standoff": 15
           },
           "zerolinecolor": "white",
           "zerolinewidth": 2
          }
         }
        }
       }
      }
     },
     "metadata": {},
     "output_type": "display_data"
    }
   ],
   "source": [
    "import numpy as np\n",
    "import plotly.graph_objects as go\n",
    "\n",
    "x = [1, 2, 4, 6]\n",
    "y = [0, np.log(2), 1.386294, 1.791759]\n",
    "t = np.linspace(0.8, 7, 50)\n",
    "\n",
    "fig = go.Figure()\n",
    "fig.add_scatter(x=x, y=y, mode='markers', name='dados')\n",
    "fig.add_scatter(x=t, y=np.log(t), name='f(x)=ln x')\n",
    "fig.add_scatter(x=x[0:3:2], y=y[0:3:2], name='intervalo menor')\n",
    "fig.add_scatter(x=x[0:4:3], y=y[0:4:3], name='intervalo maior')\n",
    "fig.add_scatter(x=[2,2], y=[-0.5, 2], \n",
    "                line_width=1,line_color = 'black', line_dash='dot', mode='lines')"
   ]
  },
  {
   "cell_type": "markdown",
   "metadata": {},
   "source": [
    "### Interpolação Quadrática\n",
    "\n",
    "Na seção anterior aproximamos uma curva usando uma reta. O que podemos para melhorar essa aproximação é usar um polinomio de segundo grau no lugar de reta, ou seja, um objeto geometrico que tem curvatura. Um polinomio de segundo grau pode ser escrito na seguinte maneira\n",
    "\n",
    "$$\n",
    "f_2(x) = b_0 + b_1(x - x_0) + b_2(x - x_0)(x - x_1)\n",
    "$$\n",
    "\n",
    "Essa expressão é equivalente a exprssão padrão de uma polinomio de segundo grau. Basta abrir os termos e reorganizar eles para obter\n",
    "\n",
    "$$\n",
    "f_2(x) = a_0 + a_1x + a_2 x^2\n",
    "$$\n",
    "\n",
    "onde\n",
    "\n",
    "\\begin{align}\n",
    "a_0 &= b_0 - b_1 x_0 + b_2 x_0 x_1 \\\\\n",
    "a_1 &= b_1 - b_2 x_0 - b_2 x_1 \\\\\n",
    "a_2 &= b_2\n",
    "\\end{align}\n",
    "\n",
    "Um procedimento simples pode ser usado para determinar os valores dos coeficientes. Para $b_0$, inserimos $x = x_0$ na equação acima e obtemos\n",
    "\n",
    "$$\n",
    "b_0 = f(x_0)\n",
    "$$\n",
    "\n",
    "E se inserimos $x = x_1$ na equação ganhamos\n",
    "\n",
    "$$\n",
    "b_1 = \\frac{f(x_1) - f(x_0)}{x_1 - x_0}\n",
    "$$\n",
    "\n",
    "Finalmente, substituimos essas equação na equação geral de um polinomio de segundo grau e inserimos $x = x_2$\n",
    "\n",
    "$$\n",
    "b_2 = \\frac{\\frac{f(x_2) - f(x_1)}{x_2 - x_1} - \\frac{f(x_1) - f(x_0)}{x_1 - x_0}}{x_2 - x_0}\n",
    "$$\n",
    "\n",
    "Observe que, como foi o caso com a interpolação linear, $b_1$ ainda representa a inclinação da reta ligando os pontos $x_0$ e $x_1$ . Logo, os dois primeiros termos da equação geral são equivalentes à interpolação linear de $x_0$ a $x_1$. O último termo, $b_2 (x - x_0 )(x - x_1 )$, introduz a curvatura de segundo grau na fórmula.\n",
    "\n",
    "#### **Exemplo:**\n",
    "\n",
    "Ajuste um polinômio de segundo grau aos três pontos usados no exemplo anterior. Use o polinomio para calcular o valor de $\\ln 2$\n",
    "\n",
    "**Resolução:**\n",
    "\n",
    "\n"
   ]
  },
  {
   "cell_type": "code",
   "execution_count": 8,
   "metadata": {},
   "outputs": [
    {
     "name": "stdout",
     "output_type": "stream",
     "text": [
      "b0 é 0, b1 é 0.46209799999999995 e b2 é -0.05187309999999997\n"
     ]
    }
   ],
   "source": [
    "x = [1, 4, 6]\n",
    "y = [0, 1.386294, 1.791759]\n",
    "\n",
    "b0 = y[0]\n",
    "b1 = (y[1] - y[0])/ (x[1] - x[0])\n",
    "b2 = ((y[2]-y[1])/(x[2] - x[1]) - b1)/(x[2] - x[0])\n",
    "\n",
    "print(f\"b0 é {b0}, b1 é {b1} e b2 é {b2}\")"
   ]
  },
  {
   "cell_type": "markdown",
   "metadata": {},
   "source": [
    "Então o polinomio é \n",
    "$$\n",
    "f_2(x) = 0 + 0.462097 (x - 1) - 0.051873 (x - 1)(x - 4)\n",
    "$$\n",
    "\n",
    "O valor de $\\ln 2$ é "
   ]
  },
  {
   "cell_type": "code",
   "execution_count": 9,
   "metadata": {},
   "outputs": [
    {
     "data": {
      "text/plain": [
       "0.5658441999999999"
      ]
     },
     "execution_count": 9,
     "metadata": {},
     "output_type": "execute_result"
    }
   ],
   "source": [
    "f2 = lambda x: b0 + b1*(x - 1) + b2*(x-1)*(x-4)\n",
    "f2(2)"
   ]
  },
  {
   "cell_type": "markdown",
   "metadata": {},
   "source": [
    "## Forma Geral dos Polinômios Interpoladores de Newton\n",
    "\n",
    "A análise anterior pode ser generalizada para ajustar um polinômio de grau $n$ a $n + 1$ pontos dados. O polinômio de grau $n$ é\n",
    "\n",
    "$$\n",
    "f_n(x) = b_0 + b_1(x - x_0) + ... + b_n(x - x_0)(x - x_1)...(x - x_{n-1})\n",
    "$$\n",
    "\n",
    "Agora, os pontos dados podem ser usados para calcular os coeficientes $b_0, b_1, ..., b_n$ . Para um polinômio de grau\n",
    "$n$, $n + 1$ pontos dados são necessários: $(x_0, f(x_0)), (x_1, f(x_1)),..., (x_n , f(x_n))$. Usamos esses pontos dados e as seguintes equações para calcular os coeficientes:\n",
    "\n",
    "$$\n",
    "\\begin{align*}\n",
    "b_0 &= f(x_0)\\\\\n",
    "b_1 &= f[x_1, x_0]\\\\\n",
    "&.\\\\\n",
    "&.\\\\\n",
    "&.\\\\\n",
    "b_n &= f[x_n, x_{n-1}, ..., x_1, x_0]\n",
    "\\end{align*}\n",
    "$$\n",
    "\n",
    "onde a função com colchetes corresponde a diferenças divididas finitas. Por exemplo, a primeira diferença dividida finita é representada em geral por\n",
    "\n",
    "$$\n",
    "f[x_i, x_j] = \\frac{f(x_i) - f(x_j)}{x_i - x_j}\n",
    "$$\n",
    "\n",
    "A segunda *diferença dividida finita*, que representa a diferença das duas primeiras diferenças divididas, é expressa em geral por\n",
    "\n",
    "$$\n",
    "f[x_i, x_j, x_k] = \\frac{f[x_i, x_j] - f[x_j, x_k]}{x_i - x_k}\n",
    "$$\n",
    "\n",
    "Analogamente, a *n-ésima diferença dividida finita* é\n",
    "\n",
    "$$\n",
    "f[x_n, x_{n-1}, ..., x_1, x_0] = \\frac{f[x_n, x_{n-1}, ..., x_1] - f[x_{n-1}, x_{n-2}, ..., x_1, x_0]}{x_n - x_0}\n",
    "$$\n",
    "\n",
    "<img src=\"./images/int_new.jpg\" style=\"width:600px;height:150px;\">\n",
    "\n",
    "Substituindo esses termos na equação geral chegamos no polinomio interpolador\n",
    "\n",
    "$$\n",
    "f_n(x) = f(x_0) + (x - x_0)f[x_1, x_0] + (x - x_0)(x - x_1)f[x_2, x_1, x_0]\\\\ + ... + (x - x_0)(x - x_1)...(x - x_{n-1})f[x_n, x_{n-1}, ..., x_0]\n",
    "$$\n",
    "\n",
    "que é chamado *polinômio interpolador por diferenças divididas de Newton*."
   ]
  },
  {
   "cell_type": "markdown",
   "metadata": {},
   "source": [
    "### **Exemplo:**\n",
    "No exemplo anterior, dados em $x_0 = 1, x_1 = 4$ e $x_2 = 6$ foram\n",
    "usados para fazer uma estimativa de $\\ln 2$ com uma parábola. Agora, adicionando um quarto ponto $[x_3 = 5; f(x_3 ) = 1,609438]$, faça uma estimativa de $\\ln 2$ com um polinômio interpolador de Newton de terceiro grau.\n",
    "\n",
    "**Resolução:**\n",
    "\n",
    "Os dados são \n",
    "\n",
    "|$x$|$y$|\n",
    "|--|--|\n",
    "|1|0|\n",
    "| 4|1.386294 |\n",
    "|6|1.791759 |\n",
    "|5| 1.609438|\n",
    "\n",
    "Um polinomio de tericeiro grau pode ser escrito como\n",
    "\n",
    "\n",
    "\\begin{align*}\n",
    "f_3(x) &= b_0 + b_1(x - x_0) + b_2(x - x_0)(x - x_1) + b_3(x - x_0)(x - x_1)\n",
    "(x - x_2)\\\\\n",
    "&= f(x_0) + f[x_1, x_0](x - x_0) + f[x_2, x_1, x_0](x - x_0)(x - x_1)\\\\ \n",
    "&+  f[x_3, x_2, x_1, x_0](x - x_0)(x - x_1)(x - x_2)\n",
    "\\end{align*}\n",
    "\n",
    "As primeiras diferenças divididas para o problema são\n",
    "\n",
    "\\begin{align*}\n",
    "f[x_1, x_0] &= \\frac{1.386294 - 0}{4 - 1} = 0.460981\\\\\n",
    "f[x_2, x_1] &= \\frac{1.791759 - 1.386294}{6 - 4} = 0.2027326\\\\\n",
    "f[x_3, x_2] &= \\frac{1.609438 - 1.791759}{5 - 6} = 0.1823216\n",
    "\\end{align*}\n",
    "\n",
    "As segundas diferenças divididas são\n",
    "\n",
    "\\begin{align*}\n",
    "f[x_2,x_1, x_0] &= \\frac{0.2027326 - 0.4620981}{6 - 1} = -0.05187311\\\\\n",
    "f[x_3, x_2, x_1] &= \\frac{0.1823216 - 0.2027326}{5 - 4} = -0.02041100  \n",
    "\\end{align*}\n",
    "\n",
    "E a terceira diferença dividida é \n",
    "\n",
    "$$\n",
    "f[x_3, x_2, x_1, x_0] = \\frac{-0.02041100 - (-0.05187311)}{5 - 1} = 0.007865529\n",
    "$$\n",
    "\n",
    "Os resultados para $f[x_1 , x_0], f[x_2, x_1 , x_0]$ e $f[x_3, x_2, x_1, x_0]$ representam os coeficientes $b_1, b_2$ e $b_3$, respectivamente. Junto com $b_0 = f(x_0) = 0$ temos\n",
    "\n",
    "$$\n",
    "f_3(x) = 0 + 0.4620981(x − 1) − 0.05187311(x − 1)(x − 4)+ 0.007865529(x − 1)(x − 4)(x − 6)\n",
    "$$"
   ]
  },
  {
   "cell_type": "markdown",
   "metadata": {},
   "source": [
    "## Erros nos Polinômios Interpoladores de Newton\n",
    "\n",
    "A estrutura da interpolação de Newton é muito parecido com a serie de Taylor. No sentido que os termos são adicionados seqüencialmente para capturar o comportamento de ordem superior da função subjacente. Esses termos são diferenças divididas finitas e, portanto, representam aproximações de derivadas de ordem superior.\n",
    "\n",
    "Para um polinômio interpolador de grau $n$, uma relação análoga para o erro é\n",
    "\n",
    "$$\n",
    "R_n = \\frac{f^{n+1}(\\xi)}{(n+1)!} (x - x_0)(x - x_1)...(x - x_n)\n",
    "$$\n",
    "\n",
    "onde $\\xi$ é algum ponto no intervalo contendo a variável e os dados. Para essa fórmula ser útil, a função em questão deve ser conhecida e $(n + 1)$ vezes diferenciável. Em geral, esse não é o caso. Felizmente, está disponível uma formulação alternativa que não requer conhecimento anterior da função. Em vez disso, ela usa diferenças divididas finitas para aproximar a $(n + 1)$-ésima derivada. Entretanto, se estiver disponível um ponto dado adicional $f (x_{n+1})$, o erro pode ser estimado usando a seguinte relação\n",
    "\n",
    "$$\n",
    "R_n \\approx f[x_{n+1}, x_n, x_{n-1},...,x_0](x - x_0)(x - x_1)...(x - x_n)\n",
    "$$\n",
    "\n",
    "A validade dessa aproximação se baseia no fato de que a série é fortemente convergente. Para tal situação, a previsão de ordem $(n + 1)$ deveria estar muito mais próxima do valor verdadeiro do que a previsão de ordem $n$\n",
    "\n",
    "\n",
    "### **Exemplo:**\n",
    "\n",
    "No exemplo anterior, use o ponto adicional para calcular o erro do polinomio interpolador de segundo grau\n",
    "\n",
    "**Resolução:**\n",
    "\n",
    "$$\n",
    "R_2 = f[x_3, x_2, x_1, x_0](x − x_0)(x − x_1)(x − x_2)\n",
    "$$\n",
    "\n",
    "ou\n",
    "\n",
    "$$R_2 = 0.007865529(x − 1)(x − 4)(x − 6)$$\n",
    "\n",
    "onde o valor da diferença dividida finita de terceira ordem é como calculado anteriormente. Essa relação pode ser calculada em $x = 2$ por\n",
    "\n",
    "$$R_2 = 0.007865529(2 − 1)(2 − 4)(2 − 6) = 0.0629242$$\n",
    "\n",
    "que é da mesma ordem de grandeza que o erro verdadeiro, $0.6931472 − 0.5658444 = 0.1273028$.\n",
    "\n",
    "\n",
    "### Implementação do Polinômio Interpolador de Newton\n",
    "\n",
    "<img src=\"./images/inter_newton_alg.jpg\" style=\"width:300px;height:400px;\">\n",
    "\n"
   ]
  },
  {
   "cell_type": "code",
   "execution_count": 10,
   "metadata": {},
   "outputs": [],
   "source": [
    "def newton_interpolation(x, y, n, xi, return_fdd=False, return_last=True):\n",
    "\n",
    "    assert len(x) == len(y), 'the same size'\n",
    "    assert len(x) > n, 'there is no sufficient point'\n",
    "    n += 1\n",
    "    \n",
    "    fdd = np.zeros((len(y), len(y)))\n",
    "    fdd[:, 0] = y\n",
    "\n",
    "    for j in range(1, n):\n",
    "        for i in range(0, n-j):\n",
    "            fdd[i, j] = (fdd[i+1, j-1] - fdd[i, j-1])/(x[i+j] - x[i])\n",
    "\n",
    "    \n",
    "    \n",
    "    errors = np.zeros(n-1)\n",
    "    ys = np.zeros(n)\n",
    "    ys[0] = y[0]\n",
    "    xterm = 1\n",
    "    for i in range(1, n):\n",
    "        xterm *= xi - x[i-1]\n",
    "        ys[i] = (ys[i-1] + xterm * fdd[0, i])\n",
    "        errors[i-1] = fdd[0, i] * xterm\n",
    "    \n",
    "    if return_last:\n",
    "        return ys[-1], errors[-1]\n",
    "\n",
    "    elif return_fdd:\n",
    "        return ys, errors, fdd\n",
    "    else:\n",
    "        return ys, errors"
   ]
  },
  {
   "cell_type": "markdown",
   "metadata": {},
   "source": [
    "Agora vamos aplicar esse algoritmo nos exemplos que resolvemos"
   ]
  },
  {
   "cell_type": "code",
   "execution_count": 11,
   "metadata": {},
   "outputs": [],
   "source": [
    "x = [1, 4, 6, 5]\n",
    "y = [0, 1.386294, 1.791759, 1.609438]"
   ]
  },
  {
   "cell_type": "code",
   "execution_count": 12,
   "metadata": {},
   "outputs": [
    {
     "data": {
      "text/plain": [
       "(0.6287674, 0.06292320000000011)"
      ]
     },
     "execution_count": 12,
     "metadata": {},
     "output_type": "execute_result"
    }
   ],
   "source": [
    "newton_interpolation(x, y, 3, 2)"
   ]
  },
  {
   "cell_type": "markdown",
   "metadata": {},
   "source": [
    "## Polinômios Interpoladores de Lagrange\n",
    "\n",
    "O polinômio interpolador de Lagrange é simplesmente uma reformulação do polinômio de Newton que evita o cálculo de diferenças divididas. Ele pode ser representado concisamente por:\n",
    "\n",
    "$$f_n(x) = \\sum_{i=0}^n L_i (x)f(x_i)$$\n",
    "\n",
    "onde\n",
    "\n",
    "$$L_i(x) = \\prod_{\\substack{j=0\\\\ j\\neq i}}^n \\frac{x-x_j}{x_i - x_j}$$\n",
    "\n",
    "onde $\\prod$ indica o \"produto de\". Por exemplo, a versão linear $(n = 1)$ seria \n",
    "\n",
    "$$\n",
    "f_1(x) = \\frac{x-x_1}{x_0 - x_1}f(x_0) + \\frac{x-x_0}{x_1 - x_0}f(x_1)\n",
    "$$\n",
    "\n",
    "e a versão de segundo grau seria\n",
    "\n",
    "$$\n",
    "\\begin{align*}\n",
    "f_2(x) &= \\frac{(x - x_1)(x - x_2)}{(x_0 - x_1)(x_0 - x_2)}f(x_0) + \\frac{(x - x_0)(x - x_2)}{(x_1 - x_0)(x_1 - x_2)}f(x_1) \\\\\n",
    "&+ \\frac{(x - x_0)(x - x_1)}{(x_2 - x_0)(x_2 - x_1)}f(x_2)\n",
    "\\end{align*}\n",
    "$$\n",
    "\n",
    "O raciocínio por trás da formulação de Lagrange pode ser entendido diretamente percebendo-se que cada termo $L_i (x)$ será 1 em $x = x_i$ e $0$ em todos os outros pontos da amostra. Logo, cada produto $L_i (x) f(x_i)$ assume o valor $f (x_i)$ no ponto x i da amostra. Conseqüentemente, a somatória de todos os produtos indicados na equação geral é o único polinômio de grau $n$ que passa exatamente por todos os $n + 1$ pontos dados.\n",
    "\n",
    "### **Exemplo:**\n",
    "Use um polinômio interpolador de Lagrange de primeiro e de\n",
    "segundo graus para calcular $\\ln 2$ com base nos dados abaixo\n",
    "\n",
    "|$x$|$y$|\n",
    "|--|--|\n",
    "|1|0|\n",
    "| 4|1.386294 |\n",
    "|6|1.791759 |\n",
    "\n",
    "**Resolução:**\n",
    "\n",
    "O polinômio de primeiro grau pode ser usado para se obter a estimativa em $x = 2$,\n",
    "\n",
    "$$\n",
    "f_1(2) = \\frac{2-4}{1-4}0 + \\frac{2-1}{4-1}1.386294 = 0.4620981\n",
    "$$\n",
    "\n",
    "De modo semelhante, o polinômio de segundo grau é desenvolvido como\n",
    "\n",
    "$$\n",
    "f_2(2) = \\frac{(2-4)(2-6)}{(1-4)(1-6)}0 + \\frac{(2-1)(2-6)}{(4-1)(4-6)}1.386294 + \\frac{(2-1)(2-4)}{(6-1)(6-4)}1.791760 = 0.5658444\n",
    "$$\n",
    "\n",
    "Como esperado, ambos os resultados coincidem com os obtidos anteriormente usando-se o polinômio interpolador de Newton.\n",
    "\n",
    "### Implementação do Polinômio Interpolador de Lagrange\n",
    "\n",
    "<img src=\"./images/inter_lag_alg.jpg\" style=\"width:300px;height:400px;\">\n"
   ]
  },
  {
   "cell_type": "code",
   "execution_count": 13,
   "metadata": {},
   "outputs": [],
   "source": [
    "def lagrange_interpolation(x, y, n, xi):\n",
    "\n",
    "    assert len(x) == len(y), 'The same size'\n",
    "    assert len(x) > n, 'for the n-degree interpolation n+1 points are needed'\n",
    "\n",
    "    sum = 0\n",
    "    for i in range(n+1):\n",
    "        product = y[i]\n",
    "        for j in range(n+1):\n",
    "            if i != j:\n",
    "                product *= (xi - x[j])/(x[i] - x[j])\n",
    "        sum += product\n",
    "    \n",
    "    return sum\n"
   ]
  },
  {
   "cell_type": "markdown",
   "metadata": {},
   "source": [
    "### **Exemplo:**\n",
    "\n",
    "Pode-se usar o algoritmo para estudar o problema de análise de tendência associado com o agora familiar páraquedista em queda livre. Suponha que tenhamos\n",
    "\n",
    "|Tempo(s)|Velocidade medida (cm/s)|\n",
    "|--|--|\n",
    "|1|800|\n",
    "|3|2310 |\n",
    "|5|3090 |\n",
    "|7|3940|\n",
    "|13|4755|\n",
    "\n",
    "Nosso problema é fazer uma estimativa da velocidade do páraquedista em $t = 10 s$ para preencher o grande salto nas medidas entre $t = 7$ e $t = 13s$. Estamos cientes de que o comportamento dos polinômios interpoladores pode ser inesperado. Logo, construiremos polinômios de quarto, terceiro, segundo e primeiro graus e compararemos os resultados.\n",
    "\n",
    "**Resolução:**"
   ]
  },
  {
   "cell_type": "code",
   "execution_count": 14,
   "metadata": {},
   "outputs": [],
   "source": [
    "x = [1, 3, 5, 7, 13]\n",
    "y = [800, 2310, 3090, 3940, 4755]"
   ]
  },
  {
   "cell_type": "code",
   "execution_count": 15,
   "metadata": {},
   "outputs": [
    {
     "data": {
      "application/vnd.plotly.v1+json": {
       "config": {
        "plotlyServerURL": "https://plot.ly"
       },
       "data": [
        {
         "name": "order 2",
         "type": "scatter",
         "x": [
          0,
          0.16161616161616163,
          0.32323232323232326,
          0.48484848484848486,
          0.6464646464646465,
          0.8080808080808082,
          0.9696969696969697,
          1.1313131313131315,
          1.292929292929293,
          1.4545454545454546,
          1.6161616161616164,
          1.777777777777778,
          1.9393939393939394,
          2.101010101010101,
          2.262626262626263,
          2.4242424242424243,
          2.585858585858586,
          2.747474747474748,
          2.909090909090909,
          3.070707070707071,
          3.2323232323232327,
          3.393939393939394,
          3.555555555555556,
          3.7171717171717176,
          3.878787878787879,
          4.040404040404041,
          4.202020202020202,
          4.363636363636364,
          4.525252525252526,
          4.686868686868687,
          4.848484848484849,
          5.01010101010101,
          5.171717171717172,
          5.333333333333334,
          5.494949494949496,
          5.6565656565656575,
          5.818181818181818,
          5.97979797979798,
          6.141414141414142,
          6.303030303030304,
          6.464646464646465,
          6.626262626262627,
          6.787878787878788,
          6.94949494949495,
          7.111111111111112,
          7.272727272727273,
          7.434343434343435,
          7.595959595959597,
          7.757575757575758,
          7.91919191919192,
          8.080808080808081,
          8.242424242424244,
          8.404040404040405,
          8.565656565656566,
          8.727272727272728,
          8.88888888888889,
          9.050505050505052,
          9.212121212121213,
          9.373737373737374,
          9.535353535353536,
          9.696969696969697,
          9.85858585858586,
          10.02020202020202,
          10.181818181818183,
          10.343434343434344,
          10.505050505050505,
          10.666666666666668,
          10.828282828282829,
          10.989898989898991,
          11.151515151515152,
          11.313131313131315,
          11.474747474747476,
          11.636363636363637,
          11.7979797979798,
          11.95959595959596,
          12.121212121212123,
          12.282828282828284,
          12.444444444444445,
          12.606060606060607,
          12.767676767676768,
          12.92929292929293,
          13.090909090909092,
          13.252525252525254,
          13.414141414141415,
          13.575757575757576,
          13.737373737373739,
          13.8989898989899,
          14.060606060606062,
          14.222222222222223,
          14.383838383838386,
          14.545454545454547,
          14.707070707070708,
          14.86868686868687,
          15.030303030303031,
          15.191919191919194,
          15.353535353535355,
          15.515151515151516,
          15.676767676767678,
          15.83838383838384,
          16
         ],
         "y": [
          -228.75,
          -50.12332925211672,
          123.7364809713298,
          292.82943067033943,
          457.1555198449138,
          616.7147484950517,
          771.507116620753,
          921.5326242220183,
          1066.7912712988473,
          1207.2830578512396,
          1343.0079838791962,
          1473.966049382716,
          1600.1572543618,
          1721.5815988164475,
          1838.2390827466586,
          1950.1297061524335,
          2057.253469033772,
          2159.6103713906746,
          2257.2004132231405,
          2350.0235945311706,
          2438.079915314764,
          2521.3693755739205,
          2599.891975308642,
          2673.647714518927,
          2742.6365932047747,
          2806.8586113661872,
          2866.313769003163,
          2921.0020661157023,
          2970.923502703806,
          3016.078078767472,
          3056.4657943067036,
          3092.0866493214976,
          3122.940643811856,
          3149.027777777778,
          3170.3480512192637,
          3186.901464136313,
          3198.6880165289253,
          3205.7077083971026,
          3207.960539740843,
          3205.446510560147,
          3198.165620855015,
          3186.117870625447,
          3169.3032598714417,
          3147.7217885930013,
          3121.373456790124,
          3090.258264462809,
          3054.37621161106,
          3013.727298234875,
          2968.3115243342527,
          2918.1288899091924,
          2863.1793949596977,
          2803.463039485767,
          2738.979823487398,
          2669.7297469645946,
          2595.7128099173533,
          2516.929012345674,
          2433.378354249562,
          2345.0608356290177,
          2251.9764564840334,
          2154.1252168146093,
          2051.5071166207563,
          1944.1221559024598,
          1831.970334659727,
          1715.0516528925618,
          1593.3661106009567,
          1466.913707784919,
          1335.6944444444416,
          1199.708320579528,
          1058.955336190178,
          913.4354912763993,
          763.1487858381806,
          608.0952198755185,
          448.27479338843114,
          283.6875063769039,
          114.33335884094413,
          -59.787649219462764,
          -238.67551780430222,
          -422.3302469135815,
          -610.7518365472934,
          -803.940286705445,
          -1001.8955973880293,
          -1204.617768595046,
          -1412.1068003264954,
          -1624.3626925823846,
          -1841.385445362721,
          -2063.1750586674752,
          -2289.731532496691,
          -2521.0548668503106,
          -2757.145061728399,
          -2998.002117130898,
          -3243.6260330578516,
          -3494.016809509223,
          -3749.1744464850563,
          -4009.0989439853147,
          -4273.790302009991,
          -4543.248520559122,
          -4817.473599632693,
          -5096.465539230689,
          -5380.224339353139,
          -5668.75
         ]
        },
        {
         "name": "order 3",
         "type": "scatter",
         "x": [
          0,
          0.16161616161616163,
          0.32323232323232326,
          0.48484848484848486,
          0.6464646464646465,
          0.8080808080808082,
          0.9696969696969697,
          1.1313131313131315,
          1.292929292929293,
          1.4545454545454546,
          1.6161616161616164,
          1.777777777777778,
          1.9393939393939394,
          2.101010101010101,
          2.262626262626263,
          2.4242424242424243,
          2.585858585858586,
          2.747474747474748,
          2.909090909090909,
          3.070707070707071,
          3.2323232323232327,
          3.393939393939394,
          3.555555555555556,
          3.7171717171717176,
          3.878787878787879,
          4.040404040404041,
          4.202020202020202,
          4.363636363636364,
          4.525252525252526,
          4.686868686868687,
          4.848484848484849,
          5.01010101010101,
          5.171717171717172,
          5.333333333333334,
          5.494949494949496,
          5.6565656565656575,
          5.818181818181818,
          5.97979797979798,
          6.141414141414142,
          6.303030303030304,
          6.464646464646465,
          6.626262626262627,
          6.787878787878788,
          6.94949494949495,
          7.111111111111112,
          7.272727272727273,
          7.434343434343435,
          7.595959595959597,
          7.757575757575758,
          7.91919191919192,
          8.080808080808081,
          8.242424242424244,
          8.404040404040405,
          8.565656565656566,
          8.727272727272728,
          8.88888888888889,
          9.050505050505052,
          9.212121212121213,
          9.373737373737374,
          9.535353535353536,
          9.696969696969697,
          9.85858585858586,
          10.02020202020202,
          10.181818181818183,
          10.343434343434344,
          10.505050505050505,
          10.666666666666668,
          10.828282828282829,
          10.989898989898991,
          11.151515151515152,
          11.313131313131315,
          11.474747474747476,
          11.636363636363637,
          11.7979797979798,
          11.95959595959596,
          12.121212121212123,
          12.282828282828284,
          12.444444444444445,
          12.606060606060607,
          12.767676767676768,
          12.92929292929293,
          13.090909090909092,
          13.252525252525254,
          13.414141414141415,
          13.575757575757576,
          13.737373737373739,
          13.8989898989899,
          14.060606060606062,
          14.222222222222223,
          14.383838383838386,
          14.545454545454547,
          14.707070707070708,
          14.86868686868687,
          15.030303030303031,
          15.191919191919194,
          15.353535353535355,
          15.515151515151516,
          15.676767676767678,
          15.83838383838384,
          16
         ],
         "y": [
          -478.75,
          -242.01807853386674,
          -17.46681478252185,
          195.3259291723473,
          396.7822912490549,
          587.3244093659106,
          767.3744214412259,
          937.3544653933136,
          1097.6866791404848,
          1248.7932006010517,
          1391.0961676933264,
          1525.0177183356197,
          1650.9799904462438,
          1769.4051219435112,
          1880.7152507457324,
          1985.3325147712198,
          2083.679051938286,
          2176.1770001652417,
          2263.248497370398,
          2345.3156814720687,
          2422.8006903885644,
          2496.1256620381964,
          2565.7127343392776,
          2631.9840452101193,
          2695.3617325690325,
          2756.2679343343307,
          2815.124788424324,
          2872.354432757326,
          2928.379005251646,
          2983.620643825597,
          3038.501486397492,
          3093.443670885641,
          3148.8693352083565,
          3205.200617283951,
          3262.859655030735,
          3322.2685863670213,
          3383.8495492111197,
          3448.0246814813445,
          3515.2161210960057,
          3585.846005973417,
          3660.336474031888,
          3739.109663189732,
          3822.5877113652596,
          3911.192756476784,
          4005.3469364426155,
          4105.472389181068,
          4211.99125261045,
          4325.325664649076,
          4445.8977632152555,
          4574.129686227305,
          4710.44357160353,
          4855.261557262249,
          5009.0057811217675,
          5172.098381100396,
          5344.961495116453,
          5528.017261088253,
          5721.687816934094,
          5926.395300572292,
          6142.561849921176,
          6370.609602899043,
          6610.960697424196,
          6864.037271414967,
          7130.261462789647,
          7410.055409466571,
          7703.841249364032,
          8012.041120400347,
          8335.07716049383,
          8673.371507562795,
          9027.346299525543,
          9397.4236743004,
          9784.02576980566,
          10187.574723959653,
          10608.492674680681,
          11047.201759887066,
          11504.124117497107,
          11979.681885429127,
          12474.29720160144,
          12988.392203932322,
          13522.389030340135,
          14076.709818743155,
          14651.776707059718,
          15248.011833208118,
          15865.837335106684,
          16505.675350673686,
          17167.948017827526,
          17853.077474486374,
          18561.485858568703,
          19293.59530799267,
          20049.827960676732,
          20830.605954539045,
          21636.3514274981,
          22467.486517472047,
          23324.43336237938,
          24207.61410013825,
          25117.45086866693,
          26054.36580588395,
          27018.78104970735,
          28011.118738055637,
          29031.801008847164,
          30081.25
         ]
        },
        {
         "name": "order 4",
         "type": "scatter",
         "x": [
          0,
          0.16161616161616163,
          0.32323232323232326,
          0.48484848484848486,
          0.6464646464646465,
          0.8080808080808082,
          0.9696969696969697,
          1.1313131313131315,
          1.292929292929293,
          1.4545454545454546,
          1.6161616161616164,
          1.777777777777778,
          1.9393939393939394,
          2.101010101010101,
          2.262626262626263,
          2.4242424242424243,
          2.585858585858586,
          2.747474747474748,
          2.909090909090909,
          3.070707070707071,
          3.2323232323232327,
          3.393939393939394,
          3.555555555555556,
          3.7171717171717176,
          3.878787878787879,
          4.040404040404041,
          4.202020202020202,
          4.363636363636364,
          4.525252525252526,
          4.686868686868687,
          4.848484848484849,
          5.01010101010101,
          5.171717171717172,
          5.333333333333334,
          5.494949494949496,
          5.6565656565656575,
          5.818181818181818,
          5.97979797979798,
          6.141414141414142,
          6.303030303030304,
          6.464646464646465,
          6.626262626262627,
          6.787878787878788,
          6.94949494949495,
          7.111111111111112,
          7.272727272727273,
          7.434343434343435,
          7.595959595959597,
          7.757575757575758,
          7.91919191919192,
          8.080808080808081,
          8.242424242424244,
          8.404040404040405,
          8.565656565656566,
          8.727272727272728,
          8.88888888888889,
          9.050505050505052,
          9.212121212121213,
          9.373737373737374,
          9.535353535353536,
          9.696969696969697,
          9.85858585858586,
          10.02020202020202,
          10.181818181818183,
          10.343434343434344,
          10.505050505050505,
          10.666666666666668,
          10.828282828282829,
          10.989898989898991,
          11.151515151515152,
          11.313131313131315,
          11.474747474747476,
          11.636363636363637,
          11.7979797979798,
          11.95959595959596,
          12.121212121212123,
          12.282828282828284,
          12.444444444444445,
          12.606060606060607,
          12.767676767676768,
          12.92929292929293,
          13.090909090909092,
          13.252525252525254,
          13.414141414141415,
          13.575757575757576,
          13.737373737373739,
          13.8989898989899,
          14.060606060606062,
          14.222222222222223,
          14.383838383838386,
          14.545454545454547,
          14.707070707070708,
          14.86868686868687,
          15.030303030303031,
          15.191919191919194,
          15.353535353535355,
          15.515151515151516,
          15.676767676767678,
          15.83838383838384,
          16
         ],
         "y": [
          -663.8671875,
          -380.82951878569065,
          -117.19543100720827,
          128.12838106372885,
          356.2063552442247,
          568.0740619401961,
          764.7382041463801,
          947.1766174463343,
          1116.3382700124318,
          1273.143262605867,
          1418.482828576651,
          1553.2193338636139,
          1678.1862769944023,
          1794.1882890854865,
          1902.0011338421496,
          2002.3717075584966,
          2096.0180391174486,
          2183.6292899907485,
          2265.865754238952,
          2343.3588585114408,
          2416.7111620464107,
          2486.496356670873,
          2553.2592668006655,
          2617.5158494404373,
          2679.753194183659,
          2740.4295232126196,
          2799.974191298426,
          2858.7876858010045,
          2917.2416266690984,
          2975.678766440269,
          3034.412990240901,
          3093.729315786191,
          3153.883893380157,
          3215.104005915638,
          3277.588068874287,
          3341.505630326578,
          3406.9973709318006,
          3474.1751039380697,
          3543.121775182311,
          3613.891463090273,
          3686.5093786765206,
          3760.9718655444394,
          3837.246399886231,
          3915.2715904829183,
          3994.9571787043387,
          4076.1840385091537,
          4158.804176444835,
          4242.640731647683,
          4327.487975842808,
          4413.111313344145,
          4499.2472810544405,
          4585.60354846527,
          4671.858917657015,
          4757.663323298881,
          4842.637832648896,
          4926.374645553908,
          5008.437094449564,
          5088.359644360352,
          5165.64789289958,
          5239.778570269356,
          5310.199539260607,
          5376.329795253103,
          5437.5594662154,
          5493.249812704903,
          5542.733227867817,
          5585.313237439166,
          5620.2644997428,
          5646.83280569138,
          5664.235078786393,
          5671.65937511814,
          5668.264883365738,
          5653.181924797128,
          5625.51195326907,
          5584.327555227138,
          5528.672449705724,
          5457.5614883280405,
          5369.980655306121,
          5264.887067440812,
          5141.208974121782,
          4997.84575732752,
          4833.6679316253285,
          4647.517144171333,
          4438.206174710473,
          4204.5189355765115,
          3945.210471692023,
          3659.006960568415,
          3344.6057123058863,
          3000.675169593487,
          2625.8549077090584,
          2218.7556345192934,
          1777.9591904796525,
          1302.0185486344635,
          789.457814616826,
          238.77222664871624,
          -351.57184445911116,
          -983.1368953070887,
          -1657.5142899067723,
          -2376.324259680985,
          -3141.215903463699,
          -3953.8671875
         ]
        },
        {
         "mode": "markers",
         "type": "scatter",
         "x": [
          1,
          3,
          5,
          7,
          13
         ],
         "y": [
          800,
          2310,
          3090,
          3940,
          4755
         ]
        }
       ],
       "layout": {
        "template": {
         "data": {
          "bar": [
           {
            "error_x": {
             "color": "#2a3f5f"
            },
            "error_y": {
             "color": "#2a3f5f"
            },
            "marker": {
             "line": {
              "color": "#E5ECF6",
              "width": 0.5
             },
             "pattern": {
              "fillmode": "overlay",
              "size": 10,
              "solidity": 0.2
             }
            },
            "type": "bar"
           }
          ],
          "barpolar": [
           {
            "marker": {
             "line": {
              "color": "#E5ECF6",
              "width": 0.5
             },
             "pattern": {
              "fillmode": "overlay",
              "size": 10,
              "solidity": 0.2
             }
            },
            "type": "barpolar"
           }
          ],
          "carpet": [
           {
            "aaxis": {
             "endlinecolor": "#2a3f5f",
             "gridcolor": "white",
             "linecolor": "white",
             "minorgridcolor": "white",
             "startlinecolor": "#2a3f5f"
            },
            "baxis": {
             "endlinecolor": "#2a3f5f",
             "gridcolor": "white",
             "linecolor": "white",
             "minorgridcolor": "white",
             "startlinecolor": "#2a3f5f"
            },
            "type": "carpet"
           }
          ],
          "choropleth": [
           {
            "colorbar": {
             "outlinewidth": 0,
             "ticks": ""
            },
            "type": "choropleth"
           }
          ],
          "contour": [
           {
            "colorbar": {
             "outlinewidth": 0,
             "ticks": ""
            },
            "colorscale": [
             [
              0,
              "#0d0887"
             ],
             [
              0.1111111111111111,
              "#46039f"
             ],
             [
              0.2222222222222222,
              "#7201a8"
             ],
             [
              0.3333333333333333,
              "#9c179e"
             ],
             [
              0.4444444444444444,
              "#bd3786"
             ],
             [
              0.5555555555555556,
              "#d8576b"
             ],
             [
              0.6666666666666666,
              "#ed7953"
             ],
             [
              0.7777777777777778,
              "#fb9f3a"
             ],
             [
              0.8888888888888888,
              "#fdca26"
             ],
             [
              1,
              "#f0f921"
             ]
            ],
            "type": "contour"
           }
          ],
          "contourcarpet": [
           {
            "colorbar": {
             "outlinewidth": 0,
             "ticks": ""
            },
            "type": "contourcarpet"
           }
          ],
          "heatmap": [
           {
            "colorbar": {
             "outlinewidth": 0,
             "ticks": ""
            },
            "colorscale": [
             [
              0,
              "#0d0887"
             ],
             [
              0.1111111111111111,
              "#46039f"
             ],
             [
              0.2222222222222222,
              "#7201a8"
             ],
             [
              0.3333333333333333,
              "#9c179e"
             ],
             [
              0.4444444444444444,
              "#bd3786"
             ],
             [
              0.5555555555555556,
              "#d8576b"
             ],
             [
              0.6666666666666666,
              "#ed7953"
             ],
             [
              0.7777777777777778,
              "#fb9f3a"
             ],
             [
              0.8888888888888888,
              "#fdca26"
             ],
             [
              1,
              "#f0f921"
             ]
            ],
            "type": "heatmap"
           }
          ],
          "heatmapgl": [
           {
            "colorbar": {
             "outlinewidth": 0,
             "ticks": ""
            },
            "colorscale": [
             [
              0,
              "#0d0887"
             ],
             [
              0.1111111111111111,
              "#46039f"
             ],
             [
              0.2222222222222222,
              "#7201a8"
             ],
             [
              0.3333333333333333,
              "#9c179e"
             ],
             [
              0.4444444444444444,
              "#bd3786"
             ],
             [
              0.5555555555555556,
              "#d8576b"
             ],
             [
              0.6666666666666666,
              "#ed7953"
             ],
             [
              0.7777777777777778,
              "#fb9f3a"
             ],
             [
              0.8888888888888888,
              "#fdca26"
             ],
             [
              1,
              "#f0f921"
             ]
            ],
            "type": "heatmapgl"
           }
          ],
          "histogram": [
           {
            "marker": {
             "pattern": {
              "fillmode": "overlay",
              "size": 10,
              "solidity": 0.2
             }
            },
            "type": "histogram"
           }
          ],
          "histogram2d": [
           {
            "colorbar": {
             "outlinewidth": 0,
             "ticks": ""
            },
            "colorscale": [
             [
              0,
              "#0d0887"
             ],
             [
              0.1111111111111111,
              "#46039f"
             ],
             [
              0.2222222222222222,
              "#7201a8"
             ],
             [
              0.3333333333333333,
              "#9c179e"
             ],
             [
              0.4444444444444444,
              "#bd3786"
             ],
             [
              0.5555555555555556,
              "#d8576b"
             ],
             [
              0.6666666666666666,
              "#ed7953"
             ],
             [
              0.7777777777777778,
              "#fb9f3a"
             ],
             [
              0.8888888888888888,
              "#fdca26"
             ],
             [
              1,
              "#f0f921"
             ]
            ],
            "type": "histogram2d"
           }
          ],
          "histogram2dcontour": [
           {
            "colorbar": {
             "outlinewidth": 0,
             "ticks": ""
            },
            "colorscale": [
             [
              0,
              "#0d0887"
             ],
             [
              0.1111111111111111,
              "#46039f"
             ],
             [
              0.2222222222222222,
              "#7201a8"
             ],
             [
              0.3333333333333333,
              "#9c179e"
             ],
             [
              0.4444444444444444,
              "#bd3786"
             ],
             [
              0.5555555555555556,
              "#d8576b"
             ],
             [
              0.6666666666666666,
              "#ed7953"
             ],
             [
              0.7777777777777778,
              "#fb9f3a"
             ],
             [
              0.8888888888888888,
              "#fdca26"
             ],
             [
              1,
              "#f0f921"
             ]
            ],
            "type": "histogram2dcontour"
           }
          ],
          "mesh3d": [
           {
            "colorbar": {
             "outlinewidth": 0,
             "ticks": ""
            },
            "type": "mesh3d"
           }
          ],
          "parcoords": [
           {
            "line": {
             "colorbar": {
              "outlinewidth": 0,
              "ticks": ""
             }
            },
            "type": "parcoords"
           }
          ],
          "pie": [
           {
            "automargin": true,
            "type": "pie"
           }
          ],
          "scatter": [
           {
            "marker": {
             "colorbar": {
              "outlinewidth": 0,
              "ticks": ""
             }
            },
            "type": "scatter"
           }
          ],
          "scatter3d": [
           {
            "line": {
             "colorbar": {
              "outlinewidth": 0,
              "ticks": ""
             }
            },
            "marker": {
             "colorbar": {
              "outlinewidth": 0,
              "ticks": ""
             }
            },
            "type": "scatter3d"
           }
          ],
          "scattercarpet": [
           {
            "marker": {
             "colorbar": {
              "outlinewidth": 0,
              "ticks": ""
             }
            },
            "type": "scattercarpet"
           }
          ],
          "scattergeo": [
           {
            "marker": {
             "colorbar": {
              "outlinewidth": 0,
              "ticks": ""
             }
            },
            "type": "scattergeo"
           }
          ],
          "scattergl": [
           {
            "marker": {
             "colorbar": {
              "outlinewidth": 0,
              "ticks": ""
             }
            },
            "type": "scattergl"
           }
          ],
          "scattermapbox": [
           {
            "marker": {
             "colorbar": {
              "outlinewidth": 0,
              "ticks": ""
             }
            },
            "type": "scattermapbox"
           }
          ],
          "scatterpolar": [
           {
            "marker": {
             "colorbar": {
              "outlinewidth": 0,
              "ticks": ""
             }
            },
            "type": "scatterpolar"
           }
          ],
          "scatterpolargl": [
           {
            "marker": {
             "colorbar": {
              "outlinewidth": 0,
              "ticks": ""
             }
            },
            "type": "scatterpolargl"
           }
          ],
          "scatterternary": [
           {
            "marker": {
             "colorbar": {
              "outlinewidth": 0,
              "ticks": ""
             }
            },
            "type": "scatterternary"
           }
          ],
          "surface": [
           {
            "colorbar": {
             "outlinewidth": 0,
             "ticks": ""
            },
            "colorscale": [
             [
              0,
              "#0d0887"
             ],
             [
              0.1111111111111111,
              "#46039f"
             ],
             [
              0.2222222222222222,
              "#7201a8"
             ],
             [
              0.3333333333333333,
              "#9c179e"
             ],
             [
              0.4444444444444444,
              "#bd3786"
             ],
             [
              0.5555555555555556,
              "#d8576b"
             ],
             [
              0.6666666666666666,
              "#ed7953"
             ],
             [
              0.7777777777777778,
              "#fb9f3a"
             ],
             [
              0.8888888888888888,
              "#fdca26"
             ],
             [
              1,
              "#f0f921"
             ]
            ],
            "type": "surface"
           }
          ],
          "table": [
           {
            "cells": {
             "fill": {
              "color": "#EBF0F8"
             },
             "line": {
              "color": "white"
             }
            },
            "header": {
             "fill": {
              "color": "#C8D4E3"
             },
             "line": {
              "color": "white"
             }
            },
            "type": "table"
           }
          ]
         },
         "layout": {
          "annotationdefaults": {
           "arrowcolor": "#2a3f5f",
           "arrowhead": 0,
           "arrowwidth": 1
          },
          "autotypenumbers": "strict",
          "coloraxis": {
           "colorbar": {
            "outlinewidth": 0,
            "ticks": ""
           }
          },
          "colorscale": {
           "diverging": [
            [
             0,
             "#8e0152"
            ],
            [
             0.1,
             "#c51b7d"
            ],
            [
             0.2,
             "#de77ae"
            ],
            [
             0.3,
             "#f1b6da"
            ],
            [
             0.4,
             "#fde0ef"
            ],
            [
             0.5,
             "#f7f7f7"
            ],
            [
             0.6,
             "#e6f5d0"
            ],
            [
             0.7,
             "#b8e186"
            ],
            [
             0.8,
             "#7fbc41"
            ],
            [
             0.9,
             "#4d9221"
            ],
            [
             1,
             "#276419"
            ]
           ],
           "sequential": [
            [
             0,
             "#0d0887"
            ],
            [
             0.1111111111111111,
             "#46039f"
            ],
            [
             0.2222222222222222,
             "#7201a8"
            ],
            [
             0.3333333333333333,
             "#9c179e"
            ],
            [
             0.4444444444444444,
             "#bd3786"
            ],
            [
             0.5555555555555556,
             "#d8576b"
            ],
            [
             0.6666666666666666,
             "#ed7953"
            ],
            [
             0.7777777777777778,
             "#fb9f3a"
            ],
            [
             0.8888888888888888,
             "#fdca26"
            ],
            [
             1,
             "#f0f921"
            ]
           ],
           "sequentialminus": [
            [
             0,
             "#0d0887"
            ],
            [
             0.1111111111111111,
             "#46039f"
            ],
            [
             0.2222222222222222,
             "#7201a8"
            ],
            [
             0.3333333333333333,
             "#9c179e"
            ],
            [
             0.4444444444444444,
             "#bd3786"
            ],
            [
             0.5555555555555556,
             "#d8576b"
            ],
            [
             0.6666666666666666,
             "#ed7953"
            ],
            [
             0.7777777777777778,
             "#fb9f3a"
            ],
            [
             0.8888888888888888,
             "#fdca26"
            ],
            [
             1,
             "#f0f921"
            ]
           ]
          },
          "colorway": [
           "#636efa",
           "#EF553B",
           "#00cc96",
           "#ab63fa",
           "#FFA15A",
           "#19d3f3",
           "#FF6692",
           "#B6E880",
           "#FF97FF",
           "#FECB52"
          ],
          "font": {
           "color": "#2a3f5f"
          },
          "geo": {
           "bgcolor": "white",
           "lakecolor": "white",
           "landcolor": "#E5ECF6",
           "showlakes": true,
           "showland": true,
           "subunitcolor": "white"
          },
          "hoverlabel": {
           "align": "left"
          },
          "hovermode": "closest",
          "mapbox": {
           "style": "light"
          },
          "paper_bgcolor": "white",
          "plot_bgcolor": "#E5ECF6",
          "polar": {
           "angularaxis": {
            "gridcolor": "white",
            "linecolor": "white",
            "ticks": ""
           },
           "bgcolor": "#E5ECF6",
           "radialaxis": {
            "gridcolor": "white",
            "linecolor": "white",
            "ticks": ""
           }
          },
          "scene": {
           "xaxis": {
            "backgroundcolor": "#E5ECF6",
            "gridcolor": "white",
            "gridwidth": 2,
            "linecolor": "white",
            "showbackground": true,
            "ticks": "",
            "zerolinecolor": "white"
           },
           "yaxis": {
            "backgroundcolor": "#E5ECF6",
            "gridcolor": "white",
            "gridwidth": 2,
            "linecolor": "white",
            "showbackground": true,
            "ticks": "",
            "zerolinecolor": "white"
           },
           "zaxis": {
            "backgroundcolor": "#E5ECF6",
            "gridcolor": "white",
            "gridwidth": 2,
            "linecolor": "white",
            "showbackground": true,
            "ticks": "",
            "zerolinecolor": "white"
           }
          },
          "shapedefaults": {
           "line": {
            "color": "#2a3f5f"
           }
          },
          "ternary": {
           "aaxis": {
            "gridcolor": "white",
            "linecolor": "white",
            "ticks": ""
           },
           "baxis": {
            "gridcolor": "white",
            "linecolor": "white",
            "ticks": ""
           },
           "bgcolor": "#E5ECF6",
           "caxis": {
            "gridcolor": "white",
            "linecolor": "white",
            "ticks": ""
           }
          },
          "title": {
           "x": 0.05
          },
          "xaxis": {
           "automargin": true,
           "gridcolor": "white",
           "linecolor": "white",
           "ticks": "",
           "title": {
            "standoff": 15
           },
           "zerolinecolor": "white",
           "zerolinewidth": 2
          },
          "yaxis": {
           "automargin": true,
           "gridcolor": "white",
           "linecolor": "white",
           "ticks": "",
           "title": {
            "standoff": 15
           },
           "zerolinecolor": "white",
           "zerolinewidth": 2
          }
         }
        },
        "yaxis": {
         "range": [
          0,
          7000
         ]
        }
       }
      }
     },
     "metadata": {},
     "output_type": "display_data"
    }
   ],
   "source": [
    "xx = np.linspace(0, 16, 100)\n",
    "f2 = [lagrange_interpolation(x, y, 2, i) for i in xx]\n",
    "f3 = [lagrange_interpolation(x, y, 3, i) for i in xx]\n",
    "f4 = [lagrange_interpolation(x, y, 4, i) for i in xx]\n",
    "\n",
    "import plotly.graph_objects as go\n",
    "\n",
    "fig = go.Figure()\n",
    "fig.add_scatter(x=xx, y=f2, name='order 2')\n",
    "fig.add_scatter(x=xx, y=f3, name='order 3')\n",
    "fig.add_scatter(x=xx, y=f4, name='order 4')\n",
    "fig.add_scatter(x=x, y=y, mode='markers')\n",
    "fig.update_layout(yaxis_range=(0, 7000))"
   ]
  },
  {
   "cell_type": "markdown",
   "metadata": {},
   "source": [
    "Em geral, para construir um polinomio de primeiro grau usamos os dois primeiros pontos, para segundo grau, os primeiros tres pontos e assim adinate. No livro, na figura 18.12, foram usados os ultimos pontos para calcular os polinomios interpoladores. Algo que não está no pseudocodigo. Mas podemos generalizar o nosso algoritmo para fazer interpolação nas duas formas"
   ]
  },
  {
   "cell_type": "code",
   "execution_count": 16,
   "metadata": {},
   "outputs": [],
   "source": [
    "def lagrange_interpolation(x, y, n, xi, reverse=False):\n",
    "\n",
    "    assert len(x) == len(y), 'The same size'\n",
    "    assert len(x) > n, 'for the n-degree interpolation n+1 points are needed'\n",
    "\n",
    "    \n",
    "    if reverse:    \n",
    "        sum = 0\n",
    "        for i in range(len(x)-1, len(x)-n, -1):\n",
    "            product = y[i]\n",
    "            for j in range(len(x)-1, len(x)-n, -1):\n",
    "                if i != j:\n",
    "                    product *= (xi - x[j])/(x[i] - x[j])\n",
    "            sum += product\n",
    "        \n",
    "        return sum\n",
    "    else:\n",
    "        sum = 0\n",
    "        for i in range(n+1):\n",
    "            product = y[i]\n",
    "            for j in range(n+1):\n",
    "                if i != j:\n",
    "                    product *= (xi - x[j])/(x[i] - x[j])\n",
    "            sum += product\n",
    "        return sum\n"
   ]
  },
  {
   "cell_type": "code",
   "execution_count": 17,
   "metadata": {},
   "outputs": [
    {
     "data": {
      "application/vnd.plotly.v1+json": {
       "config": {
        "plotlyServerURL": "https://plot.ly"
       },
       "data": [
        {
         "name": "order 2",
         "type": "scatter",
         "x": [
          0,
          0.16161616161616163,
          0.32323232323232326,
          0.48484848484848486,
          0.6464646464646465,
          0.8080808080808082,
          0.9696969696969697,
          1.1313131313131315,
          1.292929292929293,
          1.4545454545454546,
          1.6161616161616164,
          1.777777777777778,
          1.9393939393939394,
          2.101010101010101,
          2.262626262626263,
          2.4242424242424243,
          2.585858585858586,
          2.747474747474748,
          2.909090909090909,
          3.070707070707071,
          3.2323232323232327,
          3.393939393939394,
          3.555555555555556,
          3.7171717171717176,
          3.878787878787879,
          4.040404040404041,
          4.202020202020202,
          4.363636363636364,
          4.525252525252526,
          4.686868686868687,
          4.848484848484849,
          5.01010101010101,
          5.171717171717172,
          5.333333333333334,
          5.494949494949496,
          5.6565656565656575,
          5.818181818181818,
          5.97979797979798,
          6.141414141414142,
          6.303030303030304,
          6.464646464646465,
          6.626262626262627,
          6.787878787878788,
          6.94949494949495,
          7.111111111111112,
          7.272727272727273,
          7.434343434343435,
          7.595959595959597,
          7.757575757575758,
          7.91919191919192,
          8.080808080808081,
          8.242424242424244,
          8.404040404040405,
          8.565656565656566,
          8.727272727272728,
          8.88888888888889,
          9.050505050505052,
          9.212121212121213,
          9.373737373737374,
          9.535353535353536,
          9.696969696969697,
          9.85858585858586,
          10.02020202020202,
          10.181818181818183,
          10.343434343434344,
          10.505050505050505,
          10.666666666666668,
          10.828282828282829,
          10.989898989898991,
          11.151515151515152,
          11.313131313131315,
          11.474747474747476,
          11.636363636363637,
          11.7979797979798,
          11.95959595959596,
          12.121212121212123,
          12.282828282828284,
          12.444444444444445,
          12.606060606060607,
          12.767676767676768,
          12.92929292929293,
          13.090909090909092,
          13.252525252525254,
          13.414141414141415,
          13.575757575757576,
          13.737373737373739,
          13.8989898989899,
          14.060606060606062,
          14.222222222222223,
          14.383838383838386,
          14.545454545454547,
          14.707070707070708,
          14.86868686868687,
          15.030303030303031,
          15.191919191919194,
          15.353535353535355,
          15.515151515151516,
          15.676767676767678,
          15.83838383838384,
          16
         ],
         "y": [
          4755,
          4755,
          4755,
          4755,
          4755,
          4755,
          4755,
          4755,
          4755,
          4755,
          4755,
          4755,
          4755,
          4755,
          4755,
          4755,
          4755,
          4755,
          4755,
          4755,
          4755,
          4755,
          4755,
          4755,
          4755,
          4755,
          4755,
          4755,
          4755,
          4755,
          4755,
          4755,
          4755,
          4755,
          4755,
          4755,
          4755,
          4755,
          4755,
          4755,
          4755,
          4755,
          4755,
          4755,
          4755,
          4755,
          4755,
          4755,
          4755,
          4755,
          4755,
          4755,
          4755,
          4755,
          4755,
          4755,
          4755,
          4755,
          4755,
          4755,
          4755,
          4755,
          4755,
          4755,
          4755,
          4755,
          4755,
          4755,
          4755,
          4755,
          4755,
          4755,
          4755,
          4755,
          4755,
          4755,
          4755,
          4755,
          4755,
          4755,
          4755,
          4755,
          4755,
          4755,
          4755,
          4755,
          4755,
          4755,
          4755,
          4755,
          4755,
          4755,
          4755,
          4755,
          4755,
          4755,
          4755,
          4755,
          4755,
          4755
         ]
        },
        {
         "name": "order 3",
         "type": "scatter",
         "x": [
          0,
          0.16161616161616163,
          0.32323232323232326,
          0.48484848484848486,
          0.6464646464646465,
          0.8080808080808082,
          0.9696969696969697,
          1.1313131313131315,
          1.292929292929293,
          1.4545454545454546,
          1.6161616161616164,
          1.777777777777778,
          1.9393939393939394,
          2.101010101010101,
          2.262626262626263,
          2.4242424242424243,
          2.585858585858586,
          2.747474747474748,
          2.909090909090909,
          3.070707070707071,
          3.2323232323232327,
          3.393939393939394,
          3.555555555555556,
          3.7171717171717176,
          3.878787878787879,
          4.040404040404041,
          4.202020202020202,
          4.363636363636364,
          4.525252525252526,
          4.686868686868687,
          4.848484848484849,
          5.01010101010101,
          5.171717171717172,
          5.333333333333334,
          5.494949494949496,
          5.6565656565656575,
          5.818181818181818,
          5.97979797979798,
          6.141414141414142,
          6.303030303030304,
          6.464646464646465,
          6.626262626262627,
          6.787878787878788,
          6.94949494949495,
          7.111111111111112,
          7.272727272727273,
          7.434343434343435,
          7.595959595959597,
          7.757575757575758,
          7.91919191919192,
          8.080808080808081,
          8.242424242424244,
          8.404040404040405,
          8.565656565656566,
          8.727272727272728,
          8.88888888888889,
          9.050505050505052,
          9.212121212121213,
          9.373737373737374,
          9.535353535353536,
          9.696969696969697,
          9.85858585858586,
          10.02020202020202,
          10.181818181818183,
          10.343434343434344,
          10.505050505050505,
          10.666666666666668,
          10.828282828282829,
          10.989898989898991,
          11.151515151515152,
          11.313131313131315,
          11.474747474747476,
          11.636363636363637,
          11.7979797979798,
          11.95959595959596,
          12.121212121212123,
          12.282828282828284,
          12.444444444444445,
          12.606060606060607,
          12.767676767676768,
          12.92929292929293,
          13.090909090909092,
          13.252525252525254,
          13.414141414141415,
          13.575757575757576,
          13.737373737373739,
          13.8989898989899,
          14.060606060606062,
          14.222222222222223,
          14.383838383838386,
          14.545454545454547,
          14.707070707070708,
          14.86868686868687,
          15.030303030303031,
          15.191919191919194,
          15.353535353535355,
          15.515151515151516,
          15.676767676767678,
          15.83838383838384,
          16
         ],
         "y": [
          2989.166666666666,
          3011.119528619528,
          3033.0723905723917,
          3055.0252525252527,
          3076.9781144781127,
          3098.9309764309764,
          3120.8838383838392,
          3142.836700336701,
          3164.789562289563,
          3186.742424242424,
          3208.695286195286,
          3230.648148148148,
          3252.6010101010097,
          3274.553872053872,
          3296.5067340067344,
          3318.4595959595963,
          3340.4124579124577,
          3362.3653198653196,
          3384.3181818181815,
          3406.2710437710443,
          3428.223905723906,
          3450.1767676767677,
          3472.12962962963,
          3494.082491582491,
          3516.0353535353534,
          3537.9882154882152,
          3559.941077441078,
          3581.89393939394,
          3603.8468013468014,
          3625.7996632996633,
          3647.752525252526,
          3669.705387205387,
          3691.6582491582494,
          3713.6111111111113,
          3735.563973063973,
          3757.516835016835,
          3779.469696969697,
          3801.422558922559,
          3823.375420875421,
          3845.328282828283,
          3867.281144781145,
          3889.234006734007,
          3911.1868686868684,
          3933.139730639731,
          3955.0925925925926,
          3977.0454545454545,
          3998.9983164983164,
          4020.9511784511787,
          4042.90404040404,
          4064.8569023569025,
          4086.8097643097644,
          4108.762626262626,
          4130.715488215488,
          4152.66835016835,
          4174.621212121212,
          4196.574074074075,
          4218.526936026936,
          4240.479797979798,
          4262.43265993266,
          4284.385521885522,
          4306.338383838383,
          4328.291245791246,
          4350.244107744108,
          4372.19696969697,
          4394.149831649832,
          4416.102693602694,
          4438.055555555555,
          4460.008417508418,
          4481.961279461279,
          4503.914141414141,
          4525.867003367004,
          4547.819865319865,
          4569.772727272728,
          4591.725589225589,
          4613.678451178451,
          4635.631313131314,
          4657.5841750841755,
          4679.537037037037,
          4701.489898989899,
          4723.442760942761,
          4745.395622895623,
          4767.348484848486,
          4789.301346801347,
          4811.254208754209,
          4833.207070707071,
          4855.159932659933,
          4877.112794612794,
          4899.065656565657,
          4921.018518518519,
          4942.97138047138,
          4964.924242424242,
          4986.877104377105,
          5008.829966329967,
          5030.782828282829,
          5052.7356902356905,
          5074.688552188552,
          5096.641414141415,
          5118.594276094276,
          5140.547138047138,
          5162.5
         ]
        },
        {
         "name": "order 4",
         "type": "scatter",
         "x": [
          0,
          0.16161616161616163,
          0.32323232323232326,
          0.48484848484848486,
          0.6464646464646465,
          0.8080808080808082,
          0.9696969696969697,
          1.1313131313131315,
          1.292929292929293,
          1.4545454545454546,
          1.6161616161616164,
          1.777777777777778,
          1.9393939393939394,
          2.101010101010101,
          2.262626262626263,
          2.4242424242424243,
          2.585858585858586,
          2.747474747474748,
          2.909090909090909,
          3.070707070707071,
          3.2323232323232327,
          3.393939393939394,
          3.555555555555556,
          3.7171717171717176,
          3.878787878787879,
          4.040404040404041,
          4.202020202020202,
          4.363636363636364,
          4.525252525252526,
          4.686868686868687,
          4.848484848484849,
          5.01010101010101,
          5.171717171717172,
          5.333333333333334,
          5.494949494949496,
          5.6565656565656575,
          5.818181818181818,
          5.97979797979798,
          6.141414141414142,
          6.303030303030304,
          6.464646464646465,
          6.626262626262627,
          6.787878787878788,
          6.94949494949495,
          7.111111111111112,
          7.272727272727273,
          7.434343434343435,
          7.595959595959597,
          7.757575757575758,
          7.91919191919192,
          8.080808080808081,
          8.242424242424244,
          8.404040404040405,
          8.565656565656566,
          8.727272727272728,
          8.88888888888889,
          9.050505050505052,
          9.212121212121213,
          9.373737373737374,
          9.535353535353536,
          9.696969696969697,
          9.85858585858586,
          10.02020202020202,
          10.181818181818183,
          10.343434343434344,
          10.505050505050505,
          10.666666666666668,
          10.828282828282829,
          10.989898989898991,
          11.151515151515152,
          11.313131313131315,
          11.474747474747476,
          11.636363636363637,
          11.7979797979798,
          11.95959595959596,
          12.121212121212123,
          12.282828282828284,
          12.444444444444445,
          12.606060606060607,
          12.767676767676768,
          12.92929292929293,
          13.090909090909092,
          13.252525252525254,
          13.414141414141415,
          13.575757575757576,
          13.737373737373739,
          13.8989898989899,
          14.060606060606062,
          14.222222222222223,
          14.383838383838386,
          14.545454545454547,
          14.707070707070708,
          14.86868686868687,
          15.030303030303031,
          15.191919191919194,
          15.353535353535355,
          15.515151515151516,
          15.676767676767678,
          15.83838383838384,
          16
         ],
         "y": [
          -300.10416666666424,
          -162.26040922694665,
          -26.30489448355729,
          107.76237756351657,
          239.941406914264,
          370.23219356868503,
          498.6347375267833,
          625.1490387885588,
          749.7750973540096,
          872.5129132231414,
          993.3624863959467,
          1112.3238168724256,
          1229.3969046525854,
          1344.5817497364242,
          1457.878352123933,
          1569.2867118151225,
          1678.8068288099848,
          1786.438703108529,
          1892.182334710743,
          1996.0377236166378,
          2098.004869826209,
          2198.0837733394546,
          2296.274434156379,
          2392.5768522769795,
          2486.9910277012555,
          2579.5169604292078,
          2670.154650460837,
          2758.904097796144,
          2845.7653024351257,
          2930.7382643777846,
          3013.82298362412,
          3095.019460174132,
          3174.32769402782,
          3251.747685185185,
          3327.2794336462266,
          3400.922939410945,
          3472.6782024793392,
          3542.5452228514096,
          3610.524000527157,
          3676.614535506582,
          3740.8168277896816,
          3803.130877376458,
          3863.5566842669114,
          3922.094248461042,
          3978.743569958848,
          4033.5046487603313,
          4086.3774848654903,
          4137.3620782743255,
          4186.458428986838,
          4233.666537003027,
          4278.986402322893,
          4322.418024946435,
          4363.961404873652,
          4403.616542104548,
          4441.383436639118,
          4477.262088477367,
          4511.25249761929,
          4543.354664064891,
          4573.5685878141685,
          4601.894268867123,
          4628.331707223752,
          4652.88090288406,
          4675.541855848043,
          4696.314566115703,
          4715.1990336870385,
          4732.195258562052,
          4747.303240740741,
          4760.522980223107,
          4771.8544770091485,
          4781.297731098868,
          4788.852742492262,
          4794.519511189335,
          4798.298037190082,
          4800.188320494508,
          4800.190361102608,
          4798.304159014387,
          4794.529714229841,
          4788.8670267489715,
          4781.316096571779,
          4771.8769236982625,
          4760.549508128422,
          4747.333849862259,
          4732.229948899771,
          4715.237805240961,
          4696.357418885828,
          4675.588789834371,
          4652.931918086589,
          4628.3868036424865,
          4601.953446502059,
          4573.6318466653065,
          4543.4220041322305,
          4511.323918902834,
          4477.337590977112,
          4441.463020355066,
          4403.700207036696,
          4364.049151022004,
          4322.509852310989,
          4279.082310903649,
          4233.7665267999855,
          4186.5625
         ]
        },
        {
         "mode": "markers",
         "type": "scatter",
         "x": [
          1,
          3,
          5,
          7,
          13
         ],
         "y": [
          800,
          2310,
          3090,
          3940,
          4755
         ]
        }
       ],
       "layout": {
        "template": {
         "data": {
          "bar": [
           {
            "error_x": {
             "color": "#2a3f5f"
            },
            "error_y": {
             "color": "#2a3f5f"
            },
            "marker": {
             "line": {
              "color": "#E5ECF6",
              "width": 0.5
             },
             "pattern": {
              "fillmode": "overlay",
              "size": 10,
              "solidity": 0.2
             }
            },
            "type": "bar"
           }
          ],
          "barpolar": [
           {
            "marker": {
             "line": {
              "color": "#E5ECF6",
              "width": 0.5
             },
             "pattern": {
              "fillmode": "overlay",
              "size": 10,
              "solidity": 0.2
             }
            },
            "type": "barpolar"
           }
          ],
          "carpet": [
           {
            "aaxis": {
             "endlinecolor": "#2a3f5f",
             "gridcolor": "white",
             "linecolor": "white",
             "minorgridcolor": "white",
             "startlinecolor": "#2a3f5f"
            },
            "baxis": {
             "endlinecolor": "#2a3f5f",
             "gridcolor": "white",
             "linecolor": "white",
             "minorgridcolor": "white",
             "startlinecolor": "#2a3f5f"
            },
            "type": "carpet"
           }
          ],
          "choropleth": [
           {
            "colorbar": {
             "outlinewidth": 0,
             "ticks": ""
            },
            "type": "choropleth"
           }
          ],
          "contour": [
           {
            "colorbar": {
             "outlinewidth": 0,
             "ticks": ""
            },
            "colorscale": [
             [
              0,
              "#0d0887"
             ],
             [
              0.1111111111111111,
              "#46039f"
             ],
             [
              0.2222222222222222,
              "#7201a8"
             ],
             [
              0.3333333333333333,
              "#9c179e"
             ],
             [
              0.4444444444444444,
              "#bd3786"
             ],
             [
              0.5555555555555556,
              "#d8576b"
             ],
             [
              0.6666666666666666,
              "#ed7953"
             ],
             [
              0.7777777777777778,
              "#fb9f3a"
             ],
             [
              0.8888888888888888,
              "#fdca26"
             ],
             [
              1,
              "#f0f921"
             ]
            ],
            "type": "contour"
           }
          ],
          "contourcarpet": [
           {
            "colorbar": {
             "outlinewidth": 0,
             "ticks": ""
            },
            "type": "contourcarpet"
           }
          ],
          "heatmap": [
           {
            "colorbar": {
             "outlinewidth": 0,
             "ticks": ""
            },
            "colorscale": [
             [
              0,
              "#0d0887"
             ],
             [
              0.1111111111111111,
              "#46039f"
             ],
             [
              0.2222222222222222,
              "#7201a8"
             ],
             [
              0.3333333333333333,
              "#9c179e"
             ],
             [
              0.4444444444444444,
              "#bd3786"
             ],
             [
              0.5555555555555556,
              "#d8576b"
             ],
             [
              0.6666666666666666,
              "#ed7953"
             ],
             [
              0.7777777777777778,
              "#fb9f3a"
             ],
             [
              0.8888888888888888,
              "#fdca26"
             ],
             [
              1,
              "#f0f921"
             ]
            ],
            "type": "heatmap"
           }
          ],
          "heatmapgl": [
           {
            "colorbar": {
             "outlinewidth": 0,
             "ticks": ""
            },
            "colorscale": [
             [
              0,
              "#0d0887"
             ],
             [
              0.1111111111111111,
              "#46039f"
             ],
             [
              0.2222222222222222,
              "#7201a8"
             ],
             [
              0.3333333333333333,
              "#9c179e"
             ],
             [
              0.4444444444444444,
              "#bd3786"
             ],
             [
              0.5555555555555556,
              "#d8576b"
             ],
             [
              0.6666666666666666,
              "#ed7953"
             ],
             [
              0.7777777777777778,
              "#fb9f3a"
             ],
             [
              0.8888888888888888,
              "#fdca26"
             ],
             [
              1,
              "#f0f921"
             ]
            ],
            "type": "heatmapgl"
           }
          ],
          "histogram": [
           {
            "marker": {
             "pattern": {
              "fillmode": "overlay",
              "size": 10,
              "solidity": 0.2
             }
            },
            "type": "histogram"
           }
          ],
          "histogram2d": [
           {
            "colorbar": {
             "outlinewidth": 0,
             "ticks": ""
            },
            "colorscale": [
             [
              0,
              "#0d0887"
             ],
             [
              0.1111111111111111,
              "#46039f"
             ],
             [
              0.2222222222222222,
              "#7201a8"
             ],
             [
              0.3333333333333333,
              "#9c179e"
             ],
             [
              0.4444444444444444,
              "#bd3786"
             ],
             [
              0.5555555555555556,
              "#d8576b"
             ],
             [
              0.6666666666666666,
              "#ed7953"
             ],
             [
              0.7777777777777778,
              "#fb9f3a"
             ],
             [
              0.8888888888888888,
              "#fdca26"
             ],
             [
              1,
              "#f0f921"
             ]
            ],
            "type": "histogram2d"
           }
          ],
          "histogram2dcontour": [
           {
            "colorbar": {
             "outlinewidth": 0,
             "ticks": ""
            },
            "colorscale": [
             [
              0,
              "#0d0887"
             ],
             [
              0.1111111111111111,
              "#46039f"
             ],
             [
              0.2222222222222222,
              "#7201a8"
             ],
             [
              0.3333333333333333,
              "#9c179e"
             ],
             [
              0.4444444444444444,
              "#bd3786"
             ],
             [
              0.5555555555555556,
              "#d8576b"
             ],
             [
              0.6666666666666666,
              "#ed7953"
             ],
             [
              0.7777777777777778,
              "#fb9f3a"
             ],
             [
              0.8888888888888888,
              "#fdca26"
             ],
             [
              1,
              "#f0f921"
             ]
            ],
            "type": "histogram2dcontour"
           }
          ],
          "mesh3d": [
           {
            "colorbar": {
             "outlinewidth": 0,
             "ticks": ""
            },
            "type": "mesh3d"
           }
          ],
          "parcoords": [
           {
            "line": {
             "colorbar": {
              "outlinewidth": 0,
              "ticks": ""
             }
            },
            "type": "parcoords"
           }
          ],
          "pie": [
           {
            "automargin": true,
            "type": "pie"
           }
          ],
          "scatter": [
           {
            "marker": {
             "colorbar": {
              "outlinewidth": 0,
              "ticks": ""
             }
            },
            "type": "scatter"
           }
          ],
          "scatter3d": [
           {
            "line": {
             "colorbar": {
              "outlinewidth": 0,
              "ticks": ""
             }
            },
            "marker": {
             "colorbar": {
              "outlinewidth": 0,
              "ticks": ""
             }
            },
            "type": "scatter3d"
           }
          ],
          "scattercarpet": [
           {
            "marker": {
             "colorbar": {
              "outlinewidth": 0,
              "ticks": ""
             }
            },
            "type": "scattercarpet"
           }
          ],
          "scattergeo": [
           {
            "marker": {
             "colorbar": {
              "outlinewidth": 0,
              "ticks": ""
             }
            },
            "type": "scattergeo"
           }
          ],
          "scattergl": [
           {
            "marker": {
             "colorbar": {
              "outlinewidth": 0,
              "ticks": ""
             }
            },
            "type": "scattergl"
           }
          ],
          "scattermapbox": [
           {
            "marker": {
             "colorbar": {
              "outlinewidth": 0,
              "ticks": ""
             }
            },
            "type": "scattermapbox"
           }
          ],
          "scatterpolar": [
           {
            "marker": {
             "colorbar": {
              "outlinewidth": 0,
              "ticks": ""
             }
            },
            "type": "scatterpolar"
           }
          ],
          "scatterpolargl": [
           {
            "marker": {
             "colorbar": {
              "outlinewidth": 0,
              "ticks": ""
             }
            },
            "type": "scatterpolargl"
           }
          ],
          "scatterternary": [
           {
            "marker": {
             "colorbar": {
              "outlinewidth": 0,
              "ticks": ""
             }
            },
            "type": "scatterternary"
           }
          ],
          "surface": [
           {
            "colorbar": {
             "outlinewidth": 0,
             "ticks": ""
            },
            "colorscale": [
             [
              0,
              "#0d0887"
             ],
             [
              0.1111111111111111,
              "#46039f"
             ],
             [
              0.2222222222222222,
              "#7201a8"
             ],
             [
              0.3333333333333333,
              "#9c179e"
             ],
             [
              0.4444444444444444,
              "#bd3786"
             ],
             [
              0.5555555555555556,
              "#d8576b"
             ],
             [
              0.6666666666666666,
              "#ed7953"
             ],
             [
              0.7777777777777778,
              "#fb9f3a"
             ],
             [
              0.8888888888888888,
              "#fdca26"
             ],
             [
              1,
              "#f0f921"
             ]
            ],
            "type": "surface"
           }
          ],
          "table": [
           {
            "cells": {
             "fill": {
              "color": "#EBF0F8"
             },
             "line": {
              "color": "white"
             }
            },
            "header": {
             "fill": {
              "color": "#C8D4E3"
             },
             "line": {
              "color": "white"
             }
            },
            "type": "table"
           }
          ]
         },
         "layout": {
          "annotationdefaults": {
           "arrowcolor": "#2a3f5f",
           "arrowhead": 0,
           "arrowwidth": 1
          },
          "autotypenumbers": "strict",
          "coloraxis": {
           "colorbar": {
            "outlinewidth": 0,
            "ticks": ""
           }
          },
          "colorscale": {
           "diverging": [
            [
             0,
             "#8e0152"
            ],
            [
             0.1,
             "#c51b7d"
            ],
            [
             0.2,
             "#de77ae"
            ],
            [
             0.3,
             "#f1b6da"
            ],
            [
             0.4,
             "#fde0ef"
            ],
            [
             0.5,
             "#f7f7f7"
            ],
            [
             0.6,
             "#e6f5d0"
            ],
            [
             0.7,
             "#b8e186"
            ],
            [
             0.8,
             "#7fbc41"
            ],
            [
             0.9,
             "#4d9221"
            ],
            [
             1,
             "#276419"
            ]
           ],
           "sequential": [
            [
             0,
             "#0d0887"
            ],
            [
             0.1111111111111111,
             "#46039f"
            ],
            [
             0.2222222222222222,
             "#7201a8"
            ],
            [
             0.3333333333333333,
             "#9c179e"
            ],
            [
             0.4444444444444444,
             "#bd3786"
            ],
            [
             0.5555555555555556,
             "#d8576b"
            ],
            [
             0.6666666666666666,
             "#ed7953"
            ],
            [
             0.7777777777777778,
             "#fb9f3a"
            ],
            [
             0.8888888888888888,
             "#fdca26"
            ],
            [
             1,
             "#f0f921"
            ]
           ],
           "sequentialminus": [
            [
             0,
             "#0d0887"
            ],
            [
             0.1111111111111111,
             "#46039f"
            ],
            [
             0.2222222222222222,
             "#7201a8"
            ],
            [
             0.3333333333333333,
             "#9c179e"
            ],
            [
             0.4444444444444444,
             "#bd3786"
            ],
            [
             0.5555555555555556,
             "#d8576b"
            ],
            [
             0.6666666666666666,
             "#ed7953"
            ],
            [
             0.7777777777777778,
             "#fb9f3a"
            ],
            [
             0.8888888888888888,
             "#fdca26"
            ],
            [
             1,
             "#f0f921"
            ]
           ]
          },
          "colorway": [
           "#636efa",
           "#EF553B",
           "#00cc96",
           "#ab63fa",
           "#FFA15A",
           "#19d3f3",
           "#FF6692",
           "#B6E880",
           "#FF97FF",
           "#FECB52"
          ],
          "font": {
           "color": "#2a3f5f"
          },
          "geo": {
           "bgcolor": "white",
           "lakecolor": "white",
           "landcolor": "#E5ECF6",
           "showlakes": true,
           "showland": true,
           "subunitcolor": "white"
          },
          "hoverlabel": {
           "align": "left"
          },
          "hovermode": "closest",
          "mapbox": {
           "style": "light"
          },
          "paper_bgcolor": "white",
          "plot_bgcolor": "#E5ECF6",
          "polar": {
           "angularaxis": {
            "gridcolor": "white",
            "linecolor": "white",
            "ticks": ""
           },
           "bgcolor": "#E5ECF6",
           "radialaxis": {
            "gridcolor": "white",
            "linecolor": "white",
            "ticks": ""
           }
          },
          "scene": {
           "xaxis": {
            "backgroundcolor": "#E5ECF6",
            "gridcolor": "white",
            "gridwidth": 2,
            "linecolor": "white",
            "showbackground": true,
            "ticks": "",
            "zerolinecolor": "white"
           },
           "yaxis": {
            "backgroundcolor": "#E5ECF6",
            "gridcolor": "white",
            "gridwidth": 2,
            "linecolor": "white",
            "showbackground": true,
            "ticks": "",
            "zerolinecolor": "white"
           },
           "zaxis": {
            "backgroundcolor": "#E5ECF6",
            "gridcolor": "white",
            "gridwidth": 2,
            "linecolor": "white",
            "showbackground": true,
            "ticks": "",
            "zerolinecolor": "white"
           }
          },
          "shapedefaults": {
           "line": {
            "color": "#2a3f5f"
           }
          },
          "ternary": {
           "aaxis": {
            "gridcolor": "white",
            "linecolor": "white",
            "ticks": ""
           },
           "baxis": {
            "gridcolor": "white",
            "linecolor": "white",
            "ticks": ""
           },
           "bgcolor": "#E5ECF6",
           "caxis": {
            "gridcolor": "white",
            "linecolor": "white",
            "ticks": ""
           }
          },
          "title": {
           "x": 0.05
          },
          "xaxis": {
           "automargin": true,
           "gridcolor": "white",
           "linecolor": "white",
           "ticks": "",
           "title": {
            "standoff": 15
           },
           "zerolinecolor": "white",
           "zerolinewidth": 2
          },
          "yaxis": {
           "automargin": true,
           "gridcolor": "white",
           "linecolor": "white",
           "ticks": "",
           "title": {
            "standoff": 15
           },
           "zerolinecolor": "white",
           "zerolinewidth": 2
          }
         }
        },
        "yaxis": {
         "range": [
          0,
          6000
         ]
        }
       }
      }
     },
     "metadata": {},
     "output_type": "display_data"
    }
   ],
   "source": [
    "xx = np.linspace(0, 16, 100)\n",
    "f2 = [lagrange_interpolation(x, y, 2, i, reverse=True) for i in xx]\n",
    "f3 = [lagrange_interpolation(x, y, 3, i, reverse=True) for i in xx]\n",
    "f4 = [lagrange_interpolation(x, y, 4, i, reverse=True) for i in xx]\n",
    "\n",
    "import plotly.graph_objects as go\n",
    "\n",
    "fig = go.Figure()\n",
    "fig.add_scatter(x=xx, y=f2, name='order 2')\n",
    "fig.add_scatter(x=xx, y=f3, name='order 3')\n",
    "fig.add_scatter(x=xx, y=f4, name='order 4')\n",
    "fig.add_scatter(x=x, y=y, mode='markers')\n",
    "fig.update_layout(yaxis_range=(0, 6000))"
   ]
  },
  {
   "cell_type": "markdown",
   "metadata": {},
   "source": [
    "Neste caso podemos ver que polinômios de grau mais alto tendem a ser mal condicionados, isto é, tendem a ser altamente sensíveis a erros de arredondamento. O mesmo problema se aplica à regressão polinomial de grau mais alto. A aritmética de dupla precisão às vezes ajuda a aliviar o problema. Entretanto, conforme o grau aumenta, existirá um ponto no qual os erros de arredondamento interferirão com a habilidade de interpolar usando as abordagens simples descritas até aqui.\n",
    "\n",
    "## Coeficientes de um Polinômio Interpolador\n",
    "\n",
    "Embora ambos os polinômios, de Newton e de Lagrange, sejam adequados para a determinação de valores intermediários entre pontos, não fornecem um polinômio conveniente na forma convencional\n",
    "\n",
    "$$\n",
    "f(x) = a_0 + a_1 x + a_2 x^2 + ··· + a_n x^n\n",
    "$$\n",
    "\n",
    "Um método direto para calcular os coeficientes desses polinômios é baseado no fato de que são necessários $n + 1$ pontos dados para determinar os $n + 1$ coeficientes. Logo, equações algébricas lineares simultâneas podem ser usadas para calcular os $a$’s. Por exemplo, suponha que você queira calcular os coeficientes da parábola\n",
    "\n",
    "$$f(x) = a_0 + a_1 x + a_2 x^2$$\n",
    "\n",
    "São necessários os três pontos dados: $(x_0 , f(x_0)), (x_1 , f(x_1))$ e $(x_2 , f(x_2))$. Cada um pode ser\n",
    "substituído na equação para fornecer\n",
    "\n",
    "$$\n",
    "\\begin{align*}\n",
    "f(x_0) &= a_0 + a_1 x_0 + a_2 x_0^2\\\\\n",
    "f(x_1) &= a_0 + a_1 x_1 + a_2 x_1^2\\\\\n",
    "f(x_2) &= a_0 + a_1 x_2 + a_2 x_2^2\n",
    "\\end{align*}\n",
    "$$\n",
    "\n",
    "Logo, nesse caso, os $x$’s são conhecidos e os $a$’s são as incógnitas. Como há o mesmo número de equações e de incógnitas, a aquação acima poderia ser resolvida por um método de eliminação que foi estudado anteriormente.\n",
    "\n",
    "Deve ser observado que a abordagem anterior não é o método mais eficiente disponível para determinar os coeficientes de um polinômio interpolador. Press et al. (1992) fornecem uma discussão e códigos computacionais para abordagens mais eficientes. Qualquer que seja a tecnologia usada, deve-se tomar cuidado. Os sistemas como a aquação acima são notoriamente mal condicionados. Tanto se forem resolvidos por um método de eliminação quanto\n",
    "se forem resolvidos com um algoritmo mais eficiente, os coeficientes resultantes podem ser altamente não-acurados, particularmente para valores altos de n. Quando usados em uma interpolação subseqüente, em geral eles fornecem resultados errados."
   ]
  },
  {
   "cell_type": "code",
   "execution_count": null,
   "metadata": {},
   "outputs": [],
   "source": []
  }
 ],
 "metadata": {
  "interpreter": {
   "hash": "6b999023d3c78d31a29340b60dffb0231e86afde0b96b9a787fbee7e3f5558ae"
  },
  "kernelspec": {
   "display_name": "Python 3.8.12 64-bit ('base': conda)",
   "name": "python3"
  },
  "language_info": {
   "codemirror_mode": {
    "name": "ipython",
    "version": 3
   },
   "file_extension": ".py",
   "mimetype": "text/x-python",
   "name": "python",
   "nbconvert_exporter": "python",
   "pygments_lexer": "ipython3",
   "version": "3.8.12"
  },
  "orig_nbformat": 4
 },
 "nbformat": 4,
 "nbformat_minor": 2
}
