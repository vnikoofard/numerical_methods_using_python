{
 "cells": [
  {
   "cell_type": "markdown",
   "source": [
    "# Interpolação\n",
    "\n",
    "A gente frequentemente precisaremos fazer estimativa de valores intermediarios entre dados precisos. O método mais comum usado para esse propósito é a interpolação polinomial. A formula geral para um polinomio de grau $n$ é \n",
    "\n",
    "$$\n",
    "f(x) = a_0 + a_1 x + a_2 x^2 + ... + a_n x^n\n",
    "$$\n",
    "\n",
    "Para $n + 1$ pontos dados, existe um e somente um polinômio de grau $n$ que passa por todos os pontos. Por exemplo, existe uma única reta (isto é, um polinômio de primeiro grau) que liga dois pontos. Analogamente, existe uma única parábola ligando um conjunto de três pontos. A interpolação polinomial consiste em\n",
    "determinar o único polinômio de grau n que passa pelos $n + 1$ pontos dados. Esse polinômio, então, fornece uma fórmula para calcular valores intermediários.\n",
    "\n",
    "<img src=\"./images/inter.jpg\" style=\"width:450px;height:300px;\">\n",
    "\n",
    "Há diversas tecnicas para expressar esse polinomio. Neste capitulo vamos conhecer os polinomios de Newton e de Lagrange.\n",
    "\n",
    "## Polinomios interpoladores por diferenças divididas de Newton\n",
    "O polinômio interpolador por diferenças divididas de Newton está\n",
    "entre as fórmulas mais populares e úteis.\n",
    "\n",
    "### Interpolação Linear\n",
    "\n",
    "A forma mais simples de interpolação é ligar dois pontos dados com uma reta. A técnica,chamada de interpolação linear, é descrita graficamente na figura abaixo. Usando semelhança de triângulos,\n",
    "\n",
    "$$\n",
    "\\frac{f_(x) - f(x_0)}{x - x_0} = \\frac{f(x_1) - f(x_0)}{x_1 - x_0}\n",
    "$$\n",
    "\n",
    "\n",
    "\n",
    "<img src=\"./images/inter_lin.jpg\" style=\"width:350px;height:300px;\">\n",
    "\n",
    "Essa expressão pode ser reorganizada na forma\n",
    "\n",
    "$$\n",
    "f_1(x) = f(x_0) + \\frac{f(x_1) - f(x_0)}{x_1 - x_0}(x - x_0)\n",
    "$$\n",
    "\n",
    "que é a *formula de interpolação linear*. A notação $f_1 (x)$ indica que esse é um polinômio interpolador de primeiro grau.\n",
    "\n",
    "#### **Exemplo:**\n",
    "\n",
    "Faça uma estimativa do logaritmo natural de 2 usando uma\n",
    "interpolação linear. Primeiro, faça o cálculo interpolando entre $\\ln 1 = 0$ e $\\ln 6 = 1.791759$. Então, repita o procedimento, mas use o intervalo menor de $\\ln 1$ a $\\ln 4$ $(1.386294)$. Observe que o valor verdadeiro de $\\ln 2$ é $0.6931472$.\n",
    "\n",
    "**Resolução:**\n",
    "\n",
    "Usanda a formula de interpolação linear temos para calcular $\\ln 2$ no intervalo de $[1, 6]$ temos\n",
    "\n",
    "$$\n",
    "f_1(2) = 0 + \\frac{1.791759 - 0}{6 -1}(2 - 1) = 0.3583519\n",
    "$$\n",
    "\n",
    "o que representa um erro de $\\varepsilon_t = 48.3 \\%$. No intervalo menor de $[1,4]$ o resultado fica um pouco melhor\n",
    "\n",
    "$$\n",
    "f_1(2) = 0 + \\frac{1.386294 - 0}{4 -1}(2 - 1) = 0.4620981\n",
    "$$\n",
    "\n",
    "Neste caso o erro relativo porcentual reduz para $\\varepsilon_t = 33.3\\%$. \n",
    "\n",
    "\n"
   ],
   "metadata": {}
  },
  {
   "cell_type": "code",
   "execution_count": 13,
   "source": [
    "import numpy as np\n",
    "import plotly.graph_objects as go\n",
    "\n",
    "x = [1, 2, 4, 6]\n",
    "y = [0, np.log(2), 1.386294, 1.791759]\n",
    "t = np.linspace(0.8, 7, 50)\n",
    "\n",
    "fig = go.Figure()\n",
    "fig.add_scatter(x=x, y=y, mode='markers', name='dados')\n",
    "fig.add_scatter(x=t, y=np.log(t), name='f(x)=ln x')\n",
    "fig.add_scatter(x=x[0:3:2], y=y[0:3:2], name='intervalo menor')\n",
    "fig.add_scatter(x=x[0:4:3], y=y[0:4:3], name='intervalo maior')\n",
    "fig.add_scatter(x=[2,2], y=[-0.5, 2], \n",
    "                line_width=1,line_color = 'black', line_dash='dot', mode='lines')"
   ],
   "outputs": [
    {
     "output_type": "display_data",
     "data": {
      "application/vnd.plotly.v1+json": {
       "config": {
        "plotlyServerURL": "https://plot.ly"
       },
       "data": [
        {
         "mode": "markers",
         "name": "dados",
         "type": "scatter",
         "x": [
          1,
          2,
          4,
          6
         ],
         "y": [
          0,
          0.6931471805599453,
          1.386294,
          1.791759
         ]
        },
        {
         "name": "f(x)=ln x",
         "type": "scatter",
         "x": [
          0.8,
          0.926530612244898,
          1.0530612244897959,
          1.1795918367346938,
          1.306122448979592,
          1.4326530612244897,
          1.5591836734693878,
          1.6857142857142857,
          1.8122448979591836,
          1.9387755102040816,
          2.0653061224489795,
          2.1918367346938776,
          2.3183673469387758,
          2.4448979591836735,
          2.571428571428571,
          2.6979591836734693,
          2.8244897959183675,
          2.9510204081632656,
          3.077551020408163,
          3.204081632653061,
          3.330612244897959,
          3.4571428571428573,
          3.5836734693877546,
          3.7102040816326527,
          3.836734693877551,
          3.963265306122449,
          4.089795918367347,
          4.216326530612244,
          4.3428571428571425,
          4.469387755102041,
          4.595918367346939,
          4.722448979591836,
          4.848979591836734,
          4.975510204081632,
          5.1020408163265305,
          5.228571428571428,
          5.355102040816326,
          5.481632653061224,
          5.608163265306122,
          5.7346938775510194,
          5.861224489795918,
          5.987755102040816,
          6.114285714285714,
          6.240816326530612,
          6.367346938775509,
          6.493877551020407,
          6.620408163265306,
          6.746938775510204,
          6.873469387755102,
          7
         ],
         "y": [
          -0.2231435513142097,
          -0.0763081930633243,
          0.05170137437689041,
          0.1651684775677051,
          0.2670627852490453,
          0.35952801292113873,
          0.4441623980618482,
          0.5221893824163057,
          0.5945663518874977,
          0.6620565934899142,
          0.7252784587427386,
          0.7847398839641377,
          0.8408632081764245,
          0.8940033875707224,
          0.9444616088408513,
          0.9924956293069592,
          1.0383277450729427,
          1.0821510116140378,
          1.1241341574632289,
          1.1644255072376815,
          1.2031561444193801,
          1.2404424841073274,
          1.2763883830903895,
          1.3110868836327518,
          1.3446216647193225,
          1.377068257746598,
          1.4084950711000832,
          1.4389642585749114,
          1.4685324593568627,
          1.4972514317058743,
          1.5251685981549088,
          1.5523275166489494,
          1.5787682893778632,
          1.6045279189365445,
          1.6296406197516198,
          1.6541380913520072,
          1.6780497589593073,
          1.7014029859785105,
          1.7242232622375677,
          1.746534371223119,
          1.7683585390634424,
          1.7897165675982547,
          1.8106279535324377,
          1.8311109953843352,
          1.8511828896988556,
          1.8708598177930598,
          1.8901570241306311,
          1.9090888872762972,
          1.927668984257545,
          1.9459101490553132
         ]
        },
        {
         "name": "intervalo menor",
         "type": "scatter",
         "x": [
          1,
          4
         ],
         "y": [
          0,
          1.386294
         ]
        },
        {
         "name": "intervalo maior",
         "type": "scatter",
         "x": [
          1,
          6
         ],
         "y": [
          0,
          1.791759
         ]
        },
        {
         "line": {
          "color": "black",
          "dash": "dot",
          "width": 1
         },
         "mode": "lines",
         "type": "scatter",
         "x": [
          2,
          2
         ],
         "y": [
          -0.5,
          2
         ]
        }
       ],
       "layout": {
        "template": {
         "data": {
          "bar": [
           {
            "error_x": {
             "color": "#2a3f5f"
            },
            "error_y": {
             "color": "#2a3f5f"
            },
            "marker": {
             "line": {
              "color": "#E5ECF6",
              "width": 0.5
             },
             "pattern": {
              "fillmode": "overlay",
              "size": 10,
              "solidity": 0.2
             }
            },
            "type": "bar"
           }
          ],
          "barpolar": [
           {
            "marker": {
             "line": {
              "color": "#E5ECF6",
              "width": 0.5
             },
             "pattern": {
              "fillmode": "overlay",
              "size": 10,
              "solidity": 0.2
             }
            },
            "type": "barpolar"
           }
          ],
          "carpet": [
           {
            "aaxis": {
             "endlinecolor": "#2a3f5f",
             "gridcolor": "white",
             "linecolor": "white",
             "minorgridcolor": "white",
             "startlinecolor": "#2a3f5f"
            },
            "baxis": {
             "endlinecolor": "#2a3f5f",
             "gridcolor": "white",
             "linecolor": "white",
             "minorgridcolor": "white",
             "startlinecolor": "#2a3f5f"
            },
            "type": "carpet"
           }
          ],
          "choropleth": [
           {
            "colorbar": {
             "outlinewidth": 0,
             "ticks": ""
            },
            "type": "choropleth"
           }
          ],
          "contour": [
           {
            "colorbar": {
             "outlinewidth": 0,
             "ticks": ""
            },
            "colorscale": [
             [
              0,
              "#0d0887"
             ],
             [
              0.1111111111111111,
              "#46039f"
             ],
             [
              0.2222222222222222,
              "#7201a8"
             ],
             [
              0.3333333333333333,
              "#9c179e"
             ],
             [
              0.4444444444444444,
              "#bd3786"
             ],
             [
              0.5555555555555556,
              "#d8576b"
             ],
             [
              0.6666666666666666,
              "#ed7953"
             ],
             [
              0.7777777777777778,
              "#fb9f3a"
             ],
             [
              0.8888888888888888,
              "#fdca26"
             ],
             [
              1,
              "#f0f921"
             ]
            ],
            "type": "contour"
           }
          ],
          "contourcarpet": [
           {
            "colorbar": {
             "outlinewidth": 0,
             "ticks": ""
            },
            "type": "contourcarpet"
           }
          ],
          "heatmap": [
           {
            "colorbar": {
             "outlinewidth": 0,
             "ticks": ""
            },
            "colorscale": [
             [
              0,
              "#0d0887"
             ],
             [
              0.1111111111111111,
              "#46039f"
             ],
             [
              0.2222222222222222,
              "#7201a8"
             ],
             [
              0.3333333333333333,
              "#9c179e"
             ],
             [
              0.4444444444444444,
              "#bd3786"
             ],
             [
              0.5555555555555556,
              "#d8576b"
             ],
             [
              0.6666666666666666,
              "#ed7953"
             ],
             [
              0.7777777777777778,
              "#fb9f3a"
             ],
             [
              0.8888888888888888,
              "#fdca26"
             ],
             [
              1,
              "#f0f921"
             ]
            ],
            "type": "heatmap"
           }
          ],
          "heatmapgl": [
           {
            "colorbar": {
             "outlinewidth": 0,
             "ticks": ""
            },
            "colorscale": [
             [
              0,
              "#0d0887"
             ],
             [
              0.1111111111111111,
              "#46039f"
             ],
             [
              0.2222222222222222,
              "#7201a8"
             ],
             [
              0.3333333333333333,
              "#9c179e"
             ],
             [
              0.4444444444444444,
              "#bd3786"
             ],
             [
              0.5555555555555556,
              "#d8576b"
             ],
             [
              0.6666666666666666,
              "#ed7953"
             ],
             [
              0.7777777777777778,
              "#fb9f3a"
             ],
             [
              0.8888888888888888,
              "#fdca26"
             ],
             [
              1,
              "#f0f921"
             ]
            ],
            "type": "heatmapgl"
           }
          ],
          "histogram": [
           {
            "marker": {
             "pattern": {
              "fillmode": "overlay",
              "size": 10,
              "solidity": 0.2
             }
            },
            "type": "histogram"
           }
          ],
          "histogram2d": [
           {
            "colorbar": {
             "outlinewidth": 0,
             "ticks": ""
            },
            "colorscale": [
             [
              0,
              "#0d0887"
             ],
             [
              0.1111111111111111,
              "#46039f"
             ],
             [
              0.2222222222222222,
              "#7201a8"
             ],
             [
              0.3333333333333333,
              "#9c179e"
             ],
             [
              0.4444444444444444,
              "#bd3786"
             ],
             [
              0.5555555555555556,
              "#d8576b"
             ],
             [
              0.6666666666666666,
              "#ed7953"
             ],
             [
              0.7777777777777778,
              "#fb9f3a"
             ],
             [
              0.8888888888888888,
              "#fdca26"
             ],
             [
              1,
              "#f0f921"
             ]
            ],
            "type": "histogram2d"
           }
          ],
          "histogram2dcontour": [
           {
            "colorbar": {
             "outlinewidth": 0,
             "ticks": ""
            },
            "colorscale": [
             [
              0,
              "#0d0887"
             ],
             [
              0.1111111111111111,
              "#46039f"
             ],
             [
              0.2222222222222222,
              "#7201a8"
             ],
             [
              0.3333333333333333,
              "#9c179e"
             ],
             [
              0.4444444444444444,
              "#bd3786"
             ],
             [
              0.5555555555555556,
              "#d8576b"
             ],
             [
              0.6666666666666666,
              "#ed7953"
             ],
             [
              0.7777777777777778,
              "#fb9f3a"
             ],
             [
              0.8888888888888888,
              "#fdca26"
             ],
             [
              1,
              "#f0f921"
             ]
            ],
            "type": "histogram2dcontour"
           }
          ],
          "mesh3d": [
           {
            "colorbar": {
             "outlinewidth": 0,
             "ticks": ""
            },
            "type": "mesh3d"
           }
          ],
          "parcoords": [
           {
            "line": {
             "colorbar": {
              "outlinewidth": 0,
              "ticks": ""
             }
            },
            "type": "parcoords"
           }
          ],
          "pie": [
           {
            "automargin": true,
            "type": "pie"
           }
          ],
          "scatter": [
           {
            "marker": {
             "colorbar": {
              "outlinewidth": 0,
              "ticks": ""
             }
            },
            "type": "scatter"
           }
          ],
          "scatter3d": [
           {
            "line": {
             "colorbar": {
              "outlinewidth": 0,
              "ticks": ""
             }
            },
            "marker": {
             "colorbar": {
              "outlinewidth": 0,
              "ticks": ""
             }
            },
            "type": "scatter3d"
           }
          ],
          "scattercarpet": [
           {
            "marker": {
             "colorbar": {
              "outlinewidth": 0,
              "ticks": ""
             }
            },
            "type": "scattercarpet"
           }
          ],
          "scattergeo": [
           {
            "marker": {
             "colorbar": {
              "outlinewidth": 0,
              "ticks": ""
             }
            },
            "type": "scattergeo"
           }
          ],
          "scattergl": [
           {
            "marker": {
             "colorbar": {
              "outlinewidth": 0,
              "ticks": ""
             }
            },
            "type": "scattergl"
           }
          ],
          "scattermapbox": [
           {
            "marker": {
             "colorbar": {
              "outlinewidth": 0,
              "ticks": ""
             }
            },
            "type": "scattermapbox"
           }
          ],
          "scatterpolar": [
           {
            "marker": {
             "colorbar": {
              "outlinewidth": 0,
              "ticks": ""
             }
            },
            "type": "scatterpolar"
           }
          ],
          "scatterpolargl": [
           {
            "marker": {
             "colorbar": {
              "outlinewidth": 0,
              "ticks": ""
             }
            },
            "type": "scatterpolargl"
           }
          ],
          "scatterternary": [
           {
            "marker": {
             "colorbar": {
              "outlinewidth": 0,
              "ticks": ""
             }
            },
            "type": "scatterternary"
           }
          ],
          "surface": [
           {
            "colorbar": {
             "outlinewidth": 0,
             "ticks": ""
            },
            "colorscale": [
             [
              0,
              "#0d0887"
             ],
             [
              0.1111111111111111,
              "#46039f"
             ],
             [
              0.2222222222222222,
              "#7201a8"
             ],
             [
              0.3333333333333333,
              "#9c179e"
             ],
             [
              0.4444444444444444,
              "#bd3786"
             ],
             [
              0.5555555555555556,
              "#d8576b"
             ],
             [
              0.6666666666666666,
              "#ed7953"
             ],
             [
              0.7777777777777778,
              "#fb9f3a"
             ],
             [
              0.8888888888888888,
              "#fdca26"
             ],
             [
              1,
              "#f0f921"
             ]
            ],
            "type": "surface"
           }
          ],
          "table": [
           {
            "cells": {
             "fill": {
              "color": "#EBF0F8"
             },
             "line": {
              "color": "white"
             }
            },
            "header": {
             "fill": {
              "color": "#C8D4E3"
             },
             "line": {
              "color": "white"
             }
            },
            "type": "table"
           }
          ]
         },
         "layout": {
          "annotationdefaults": {
           "arrowcolor": "#2a3f5f",
           "arrowhead": 0,
           "arrowwidth": 1
          },
          "autotypenumbers": "strict",
          "coloraxis": {
           "colorbar": {
            "outlinewidth": 0,
            "ticks": ""
           }
          },
          "colorscale": {
           "diverging": [
            [
             0,
             "#8e0152"
            ],
            [
             0.1,
             "#c51b7d"
            ],
            [
             0.2,
             "#de77ae"
            ],
            [
             0.3,
             "#f1b6da"
            ],
            [
             0.4,
             "#fde0ef"
            ],
            [
             0.5,
             "#f7f7f7"
            ],
            [
             0.6,
             "#e6f5d0"
            ],
            [
             0.7,
             "#b8e186"
            ],
            [
             0.8,
             "#7fbc41"
            ],
            [
             0.9,
             "#4d9221"
            ],
            [
             1,
             "#276419"
            ]
           ],
           "sequential": [
            [
             0,
             "#0d0887"
            ],
            [
             0.1111111111111111,
             "#46039f"
            ],
            [
             0.2222222222222222,
             "#7201a8"
            ],
            [
             0.3333333333333333,
             "#9c179e"
            ],
            [
             0.4444444444444444,
             "#bd3786"
            ],
            [
             0.5555555555555556,
             "#d8576b"
            ],
            [
             0.6666666666666666,
             "#ed7953"
            ],
            [
             0.7777777777777778,
             "#fb9f3a"
            ],
            [
             0.8888888888888888,
             "#fdca26"
            ],
            [
             1,
             "#f0f921"
            ]
           ],
           "sequentialminus": [
            [
             0,
             "#0d0887"
            ],
            [
             0.1111111111111111,
             "#46039f"
            ],
            [
             0.2222222222222222,
             "#7201a8"
            ],
            [
             0.3333333333333333,
             "#9c179e"
            ],
            [
             0.4444444444444444,
             "#bd3786"
            ],
            [
             0.5555555555555556,
             "#d8576b"
            ],
            [
             0.6666666666666666,
             "#ed7953"
            ],
            [
             0.7777777777777778,
             "#fb9f3a"
            ],
            [
             0.8888888888888888,
             "#fdca26"
            ],
            [
             1,
             "#f0f921"
            ]
           ]
          },
          "colorway": [
           "#636efa",
           "#EF553B",
           "#00cc96",
           "#ab63fa",
           "#FFA15A",
           "#19d3f3",
           "#FF6692",
           "#B6E880",
           "#FF97FF",
           "#FECB52"
          ],
          "font": {
           "color": "#2a3f5f"
          },
          "geo": {
           "bgcolor": "white",
           "lakecolor": "white",
           "landcolor": "#E5ECF6",
           "showlakes": true,
           "showland": true,
           "subunitcolor": "white"
          },
          "hoverlabel": {
           "align": "left"
          },
          "hovermode": "closest",
          "mapbox": {
           "style": "light"
          },
          "paper_bgcolor": "white",
          "plot_bgcolor": "#E5ECF6",
          "polar": {
           "angularaxis": {
            "gridcolor": "white",
            "linecolor": "white",
            "ticks": ""
           },
           "bgcolor": "#E5ECF6",
           "radialaxis": {
            "gridcolor": "white",
            "linecolor": "white",
            "ticks": ""
           }
          },
          "scene": {
           "xaxis": {
            "backgroundcolor": "#E5ECF6",
            "gridcolor": "white",
            "gridwidth": 2,
            "linecolor": "white",
            "showbackground": true,
            "ticks": "",
            "zerolinecolor": "white"
           },
           "yaxis": {
            "backgroundcolor": "#E5ECF6",
            "gridcolor": "white",
            "gridwidth": 2,
            "linecolor": "white",
            "showbackground": true,
            "ticks": "",
            "zerolinecolor": "white"
           },
           "zaxis": {
            "backgroundcolor": "#E5ECF6",
            "gridcolor": "white",
            "gridwidth": 2,
            "linecolor": "white",
            "showbackground": true,
            "ticks": "",
            "zerolinecolor": "white"
           }
          },
          "shapedefaults": {
           "line": {
            "color": "#2a3f5f"
           }
          },
          "ternary": {
           "aaxis": {
            "gridcolor": "white",
            "linecolor": "white",
            "ticks": ""
           },
           "baxis": {
            "gridcolor": "white",
            "linecolor": "white",
            "ticks": ""
           },
           "bgcolor": "#E5ECF6",
           "caxis": {
            "gridcolor": "white",
            "linecolor": "white",
            "ticks": ""
           }
          },
          "title": {
           "x": 0.05
          },
          "xaxis": {
           "automargin": true,
           "gridcolor": "white",
           "linecolor": "white",
           "ticks": "",
           "title": {
            "standoff": 15
           },
           "zerolinecolor": "white",
           "zerolinewidth": 2
          },
          "yaxis": {
           "automargin": true,
           "gridcolor": "white",
           "linecolor": "white",
           "ticks": "",
           "title": {
            "standoff": 15
           },
           "zerolinecolor": "white",
           "zerolinewidth": 2
          }
         }
        }
       }
      }
     },
     "metadata": {}
    }
   ],
   "metadata": {}
  },
  {
   "cell_type": "markdown",
   "source": [
    "### Interpolação Quadrática\n",
    "\n",
    "Na seção anterior aproximamos uma curva usando uma reta. O que podemos para melhorar essa aproximação é usar um polinomio de segundo grau no lugar de reta, ou seja, um objeto geometrico que tem curvatura. Um polinomio de segundo grau pode ser escrito na seguinte maneira\n",
    "\n",
    "$$\n",
    "f_2(x) = b_0 + b_1(x - x_0) + b_2(x - x_0)(x - x_1)\n",
    "$$\n",
    "\n",
    "Essa expressão é equivalente a exprssão padrão de uma polinomio de segundo grau. Basta abrir os termos e reorganizar eles para obter\n",
    "\n",
    "$$\n",
    "f_2(x) = a_0 + a_1x + a_2 x^2\n",
    "$$\n",
    "\n",
    "onde\n",
    "\n",
    "$$\n",
    "a_0 = b_0 - b_1 x_0 + b_2 x_0 x_1 \\\\\n",
    "a_1 = b_1 - b_2 x_0 - b_2 x_1 \\\\\n",
    "a_2 = b_2\n",
    "$$\n",
    "\n",
    "Um procedimento simples pode ser usado para determinar os valores dos coeficientes. Para $b_0$, inserimos $x = x_0$ na equação acima e obtemos\n",
    "\n",
    "$$\n",
    "b_0 = f(x_0)\n",
    "$$\n",
    "\n",
    "E se inserimos $x = x_1$ na equação ganhamos\n",
    "\n",
    "$$\n",
    "b_1 = \\frac{f(x_1) - f(x_0)}{x_1 - x_0}\n",
    "$$\n",
    "\n",
    "Finalmente, substituimos essas equação na equação geral de um polinomio de segundo grau e inserimos $x = x_2$\n",
    "\n",
    "$$\n",
    "b_2 = \\frac{\\frac{f(x_2) - f(x_1)}{x_2 - x_1} - \\frac{f(x_1) - f(x_0)}{x_1 - x_0}}{x_2 - x_1}\n",
    "$$\n",
    "\n",
    "Observe que, como foi o caso com a interpolação linear, $b_1$ ainda representa a inclinação da reta ligando os pontos $x_0$ e $x_1$ . Logo, os dois primeiros termos da equação geral são equivalentes à interpolação linear de $x_0$ a $x_1$. O último termo, $b_2 (x - x_0 )(x - x_1 )$, introduz a curvatura de segundo grau na fórmula.\n",
    "\n",
    "#### **Exemplo:**\n",
    "Ajuste um polinômio de segundo grau aos três pontos usados no exemplo anterior\n"
   ],
   "metadata": {}
  },
  {
   "cell_type": "code",
   "execution_count": null,
   "source": [],
   "outputs": [],
   "metadata": {}
  }
 ],
 "metadata": {
  "orig_nbformat": 4,
  "language_info": {
   "name": "python",
   "version": "3.8.12",
   "mimetype": "text/x-python",
   "codemirror_mode": {
    "name": "ipython",
    "version": 3
   },
   "pygments_lexer": "ipython3",
   "nbconvert_exporter": "python",
   "file_extension": ".py"
  },
  "kernelspec": {
   "name": "python3",
   "display_name": "Python 3.8.12 64-bit ('base': conda)"
  },
  "interpreter": {
   "hash": "6b999023d3c78d31a29340b60dffb0231e86afde0b96b9a787fbee7e3f5558ae"
  }
 },
 "nbformat": 4,
 "nbformat_minor": 2
}