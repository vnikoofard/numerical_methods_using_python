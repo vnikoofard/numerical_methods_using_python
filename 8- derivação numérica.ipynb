{
 "cells": [
  {
   "cell_type": "markdown",
   "metadata": {},
   "source": [
    "# Derivada de Primeira Ordem"
   ]
  },
  {
   "cell_type": "markdown",
   "metadata": {},
   "source": [
    "A derivada numérica de uma função, na sua forma mais simples, pode ser calculada usando *diferença dividida finita* na seguinte forma\n",
    "\n",
    "$$\n",
    "f'(x_i) = \\frac{f(x_{i+1}) - f(x_i)}{x_{i+1} - x_i} + \\mathcal{O}(x_{i+1} - x_i)\n",
    "$$\n",
    "\n",
    "ou \n",
    "\n",
    "$$f'(x_i) = \\frac{\\Delta f_i}{h} + \\mathcal{O}(h)$$\n",
    "\n",
    "onde $\\Delta f_i$ é conhecida como *primeira diferença progressiva* e *h* é chamado de tamanho do passo, isto é, o comprimento do intervalo no qual a aproximação é feita. Ela é chamada diferença \"progressiva\" porque utiliza os dados em $i$ e $i + 1$ para estimar a derivada. O termo $ \\Delta fi/n$ todo é chamado de *primeira diferença dividida finita*.\n",
    "\n",
    "Essa diferença dividida progressiva é apenas uma das muitas que podem ser deduzidas a partir da série de Taylor para aproximar derivadas numericamente. Aproximações mais acuradas da primeira derivada podem ser deduzidas incluindo-se termos de ordem mais alta na série de Taylor. Finalmente, todas essas versões também podem ser deduzidas para derivadas de segunda e terceira ordem ou superiores.\n",
    "\n",
    "A série de Taylor pode ser expandida regressivamente para calcular um valor anterior com base no valor atual, como em \n",
    "\n",
    "$$\n",
    "f(x_{i-1}) = f(x_i) - f'(x_i)h + \\frac{f''(x_i)}{2!}h^2 - ...\n",
    "$$\n",
    "\n",
    "Truncando essa equação depois da primeira derivada e reorganizando, obtém-se\n",
    "\n",
    "$$f(x_{i-1}) \\approx \\frac{f(x_i) - f(x_{i-1})}{h} = \\frac{\\nabla f_1}{h}$$\n",
    "\n",
    "onde o erro é $\\mathcal O(h)$ e $ \\nabla f_i$ é conhecido como *primeira diferença regressiva*.\n",
    "\n",
    "Uma terceira forma de aproximar a primeira derivada é subtrair a a serie de Taylor regressiva a da progressiva. Lembrando que a serie progressiva de Taylor é \n",
    "\n",
    "$$\n",
    "f(x_{i-1}) = f(x_i) + f'(x_i)h + \\frac{f''(x_i)}{2!}h^2 + ...\n",
    "$$\n",
    "\n",
    "Assim obtemos\n",
    "\n",
    "$$\n",
    "f(x_{i+1}) = f(x_{i-1}) + 2f'(x_i) h +  \\frac{2 f^{(3)}(x_i)}{3!}h^3 + ...\n",
    "$$\n",
    "\n",
    "que pode ser reescrita como \n",
    "\n",
    "$$\n",
    "f'(x_i) = \\frac{f(x_{i+1}) - f(x_{i-1})}{2h} - \\frac{2 f^{(3)}(x_i)}{6}h^2 - ...\n",
    "$$\n",
    "\n",
    "ou\n",
    "\n",
    "$$\n",
    "f'(x_i) = \\frac{f(x_{i+1}) - f(x_{i-1})}{2h} - \\mathcal O(h^2)\n",
    "$$\n",
    "\n",
    "Essa equação é uma representação da primeira derivada como *diferença centrada*. Observe que o erro de truncamento é da ordem de $h^2$ , em contraste com as aproximações progressiva e regressiva, em que era da ordem de $h$.\n",
    "\n",
    "<img src=\"./images/deriv.jpg\" style=\"width:400px;height:800px;\">\n",
    "\n",
    "Na figura acima, a parte (a) é uma representação gráfica da diferença progressiva, parte (b) é regressiva e na parte (c) temos a diferença centrada\n"
   ]
  },
  {
   "cell_type": "markdown",
   "metadata": {},
   "source": [
    "## **Exemplo:**\n",
    "\n",
    "Use aproximações por diferenças progressiva e regressiva de $O(h)$ e uma aproximação por diferença centrada de $O(h^2)$ para fazer uma estimativa da primeira derivada de\n",
    "\n",
    "$$\n",
    "f(x) = - 0.1 x^4 - 0.15 x^3 - 0.5 x^2 - 0.25 x + 1.2\n",
    "$$\n",
    "\n",
    "em $x = 0.5$ usando um tamanho de passo $h = 0.5$. Repita os cálculos usando $h = 0.25$.\n",
    "Observe que a derivada pode ser calculada diretamente por\n",
    "\n",
    "$$\n",
    "f'(x) = −0.4 x^3 − 0.45 x^2 − 1.0 x − 0.25\n",
    "$$\n",
    "\n",
    "e pode ser usada para calcular o valor verdadeiro como sendo $f'(0.5) = -0.9125$.\n",
    "\n",
    "**Resolução:**\n",
    "\n",
    "Para $h= 0.5$ temos\n",
    "\n",
    "| $x$ | $f(x)$ |\n",
    "| --| -----|\n",
    "| $x_{i-1} = 0$  | $f(x_{i-1}) = 1.2$   |\n",
    "| $x_i = 0.5$    | $f(x_i) = 0.925$     |\n",
    "| $x_{i+1} = 1.0$| $f(x_{i+1}) = 0.2$   |     \n",
    "\n",
    "Esses valores podem ser usados para calcular a diferença dividida progressiva\n",
    "\n",
    "$$f'(0.5) \\approx \\frac{0.2 - 0.925}{0.5} = -1.45 \\;\\;\\;\\; |\\varepsilon_t| = 58.9\\%$$\n",
    "\n",
    "a diferença dividida regressiva\n",
    "\n",
    "$$f'(0.5) \\approx \\frac{0.925 - 1.2}{0.5} = -0.55 \\;\\;\\;\\; |\\varepsilon_t| = 39.7\\%$$\n",
    "\n",
    "e a diferença dividida centrada\n",
    "\n",
    "$$f'(0.5) \\approx \\frac{0.2 - 1.2}{1} = -1.0 \\;\\;\\;\\; |\\varepsilon_t| = 9.6\\%$$\n",
    "\n",
    "Para $h= 0.25$ temos\n",
    "\n",
    "| $x$ | $f(x)$ |\n",
    "| --| -----|\n",
    "| $x_{i-1} = 0.25$  | $f(x_{i-1}) = 1.1035$   |\n",
    "| $x_i = 0.5$       | $f(x_i) = 0.925$        |\n",
    "| $x_{i+1} = 0.75$  | $f(x_{i+1}) = 0.6363$   |     \n",
    "\n",
    "que podem ser usadas para se calcular a diferença dividida progressiva,\n",
    "\n",
    "$$f'(0.5) \\approx \\frac{0.6363 - 0.925}{0.25} = -1.155 \\;\\;\\;\\; |\\varepsilon_t| = 26.5\\%$$\n",
    "\n",
    "a diferença dividida regressiva,\n",
    "\n",
    "$$f'(0.5) \\approx \\frac{0.925 - 1.1035}{0.25} = -0.714 \\;\\;\\;\\; |\\varepsilon_t| = 21.7\\%$$\n",
    "\n",
    "e a diferença dividida centrada,\n",
    "\n",
    "$$f'(0.5) \\approx \\frac{0.6363 - 1.1035}{0.5} = -0.934 \\;\\;\\;\\; |\\varepsilon_t| = 2.4\\%$$\n",
    "\n",
    "Para ambos os tamanhos do passo, a aproximação por diferença centrada é mais acurada que as aproximações progressiva e regressiva. Além disso, como previsto pelo teorema de Taylor, dividir o tamanho do passo por dois aproximadamente divide o erro por dois nas diferenças progressiva e regressiva e divide o erro por quatro na diferença centrada.\n"
   ]
  },
  {
   "cell_type": "code",
   "execution_count": 1,
   "metadata": {},
   "outputs": [],
   "source": [
    "import numpy as np"
   ]
  },
  {
   "cell_type": "code",
   "execution_count": 2,
   "metadata": {},
   "outputs": [],
   "source": [
    "def derivative(func, xi, h, method='center'):\n",
    "    if method == 'center':\n",
    "        return (f(xi + h) - f(xi-h))/(2*h)\n",
    "    elif method == 'prog':\n",
    "        return  (f(xi + h) - f(xi))/(h)\n",
    "    elif method == 'reg':\n",
    "        return (f(xi) - f(xi-h))/(h)\n",
    "    else:\n",
    "        print(\"Please choose one of the following methods: 'center', 'prog', 'reg'\")"
   ]
  },
  {
   "cell_type": "code",
   "execution_count": 4,
   "metadata": {},
   "outputs": [
    {
     "data": {
      "text/plain": [
       "-1.0"
      ]
     },
     "execution_count": 4,
     "metadata": {},
     "output_type": "execute_result"
    }
   ],
   "source": [
    "f = lambda x: -0.1* x**4 - 0.15 * x**3 - 0.5 * x**2 - 0.25 * x + 1.2\n",
    "derivative(f, 0.5, 0.5)"
   ]
  },
  {
   "cell_type": "markdown",
   "metadata": {},
   "source": [
    "# Derivadas Superiores\n",
    "\n",
    "Além das primeiras derivadas, a expansão em série de Taylor pode ser usada para deduzir estimativas numéricas das derivadas mais altas. Para fazer isso, escreve-se uma expansão em\n",
    "série de Taylor progressiva para $f(x_{i+2}) em termos de $f(x_i)$:\n",
    "\n",
    "$$\n",
    "f(x_{i+2}) = f(x_i) + f'(x_i) (2h) + \\dfrac{f''(x_i)}{2!}(2h)^2 + ...\n",
    "$$\n",
    "\n",
    "Se multiplicarmos a forma regressiva de serie de Taylor por 2 e subtraímos da equação acima chegamos na *segunda diferença dividida finita progressiva*:\n",
    "\n",
    "$$\n",
    "f''(x_i) = \\dfrac{f(x_{i+2}) - 2f(x_{i+1}) + f(x_i)}{h^2} + \\mathcal O(h)\n",
    "$$\n",
    "\n",
    "Manipulações similares podem ser usadas para deduzir uma versão regressiva\n",
    "\n",
    "$$\n",
    "f''(x_i) = \\dfrac{f(x_{i}) - 2f(x_{i-1}) + f(x_{i-2})}{h^2} + \\mathcal O(h)\n",
    "$$\n",
    "\n",
    "e uma versão centrada,\n",
    "\n",
    "$$\n",
    "f''(x_i) = \\frac{f(x_{i+1}) - 2f(x_{i}) + f(x_{i-1})}{h^2} + \\mathcal O(h)\n",
    "$$"
   ]
  },
  {
   "cell_type": "code",
   "execution_count": null,
   "metadata": {},
   "outputs": [],
   "source": [
    "def derivative(func, xi, n=1, h=0.001, method='center'):\n",
    "  if n == 1:\n",
    "    if method == 'center':\n",
    "      return (func(xi + h) - func(xi - h))/(2*h)\n",
    "    elif method == 'prog':\n",
    "      return (func(xi + h) - func(xi))/(h)\n",
    "    elif method == 'reg':\n",
    "      return (func(xi) - func(xi - h))/(h)\n",
    "    else:\n",
    "      print('Please choose one of the following methods: center, prog, reg')\n",
    "  \n",
    "  elif n == 2:\n",
    "    if method == 'center':\n",
    "      return (func(xi + h) - 2*func(xi) + f(xi - h))/(h**2)\n",
    "    elif method == 'prog':\n",
    "      return (func(xi + 2*h) - 2 * func(xi + h) - f(xi))/(h)\n",
    "    elif method == 'reg':\n",
    "      return (func(xi) - 2*func(xi - h) + f(xi - 2*h))/(h)\n",
    "    else:\n",
    "      print('Please choose one of the following methods: center, prog, reg')"
   ]
  }
 ],
 "metadata": {
  "interpreter": {
   "hash": "92b1d5f842d7c1e714e1ab666cefb8d1f75311aac337aae0336133957fcbf554"
  },
  "kernelspec": {
   "display_name": "Python 3.8.12 64-bit ('base': conda)",
   "name": "python3"
  },
  "language_info": {
   "codemirror_mode": {
    "name": "ipython",
    "version": 3
   },
   "file_extension": ".py",
   "mimetype": "text/x-python",
   "name": "python",
   "nbconvert_exporter": "python",
   "pygments_lexer": "ipython3",
   "version": "3.8.12"
  },
  "orig_nbformat": 4
 },
 "nbformat": 4,
 "nbformat_minor": 2
}
