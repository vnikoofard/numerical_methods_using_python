{
 "cells": [
  {
   "cell_type": "markdown",
   "metadata": {},
   "source": [
    "# Soma de Riemann\n",
    "\n",
    "A forma mais facil para integrar uma função é calcular a soma de Riemann. Aprendemos sobre essa soma no calculo II para definir uma integral definida. \n",
    "\n",
    "$$\\int_a^b f(x)dx$$\n",
    "\n",
    "Nessa tecnica, dividimos o intervalo $[a,b]$ em $n$ intervalo pequeno, aí a largura de cada intervalo pequeno é \n",
    "\n",
    "$$\\Delta x = \\dfrac{b - a}{n}$$\n",
    "\n",
    "Para cada intervalo pequeno calculamos o valor da função em um ponto do intervalo. Depois, para cada intervalo, temos $\\Delta x \\times f(x_i)$, ou seja, area de um retangulo. Somando a area de todos os retangulos pequeno obtemos o valor aproximado da integral. No limite de $\\Delta x \\rightarrow 0$, a aproximação tende ao valor real. \n",
    "\n",
    "<img src=\"./images/soma.jpg\" style=\"width:300px;height:350px;\">\n",
    "\n",
    "Agora temos uma questão em aberta. Qual ponto do intervalo deve ser usando para calcular $f(x_i)$? Aqui tem tres opções comuns: 1) usar o ponto inicial do intervalo, 2) ponto do meio, 3) ponto final. \n"
   ]
  },
  {
   "cell_type": "code",
   "execution_count": 2,
   "metadata": {},
   "outputs": [],
   "source": [
    "import numpy as np\n",
    "def riemann_sum(func,a,b,N,method='midpoint'):\n",
    "    '''Compute the Riemann sum of f(x) over the interval [a,b].\n",
    "    \n",
    "    Credit to: https://www.math.ubc.ca/~pwalls/math-python/integration/riemann-sums/\n",
    "    \n",
    "    Parameters\n",
    "    ----------\n",
    "    `func` : function\n",
    "        Vectorized function of one variable\n",
    "    `a` , `b` : numbers\n",
    "        Endpoints of the interval [a,b]\n",
    "    `N` : integer\n",
    "        Number of subintervals of equal length in the partition of [a,b]\n",
    "    `method` : string\n",
    "        Determines the kind of Riemann sum:\n",
    "        `right` : Riemann sum using right endpoints\n",
    "        `left` : Riemann sum using left endpoints\n",
    "        `midpoint` (default) : Riemann sum using midpoints\n",
    "\n",
    "    Returns\n",
    "    -------\n",
    "    float\n",
    "        Approximation of the integral given by the Riemann sum.\n",
    "    '''\n",
    "    a, b = float(a), float(b)\n",
    "    dx = (b - a)/N\n",
    "    x = np.linspace(a,b,N+1)\n",
    "    \n",
    "    var = list(func.free_symbols)[0]\n",
    "    f_np = sp.lambdify(var, func)\n",
    "\n",
    "    if method == 'left':\n",
    "        x_left = x[:-1]\n",
    "        return np.sum(f_np(x_left)*dx)\n",
    "    elif method == 'right':\n",
    "        x_right = x[1:]\n",
    "        return np.sum(f_np(x_right)*dx)\n",
    "    elif method == 'midpoint':\n",
    "        x_mid = (x[:-1] + x[1:])/2\n",
    "        return np.sum(f_np(x_mid)*dx)\n",
    "    else:\n",
    "        raise ValueError(\"Method must be 'left', 'right' or 'midpoint'.\")"
   ]
  },
  {
   "cell_type": "markdown",
   "metadata": {},
   "source": [
    "## **Exemplo:** \n",
    "Calcular o valor da integral \n",
    "\n",
    "$$\\int_0^2 \\cos(x) + 2 $$\n",
    "\n",
    "usando a soma de Riemann e comprar com o valor real\n",
    "\n",
    "**Resolução:**"
   ]
  },
  {
   "cell_type": "code",
   "execution_count": 10,
   "metadata": {},
   "outputs": [],
   "source": [
    "import sympy as sp\n",
    "x = sp.symbols('x')"
   ]
  },
  {
   "cell_type": "code",
   "execution_count": 20,
   "metadata": {},
   "outputs": [],
   "source": [
    "func = lambda x: sp.cos(x) + 2"
   ]
  },
  {
   "cell_type": "code",
   "execution_count": 21,
   "metadata": {},
   "outputs": [
    {
     "data": {
      "text/latex": [
       "$\\displaystyle \\cos{\\left(x \\right)} + 2$"
      ],
      "text/plain": [
       "cos(x) + 2"
      ]
     },
     "execution_count": 21,
     "metadata": {},
     "output_type": "execute_result"
    }
   ],
   "source": [
    "func(x)"
   ]
  },
  {
   "cell_type": "code",
   "execution_count": 27,
   "metadata": {},
   "outputs": [
    {
     "data": {
      "text/latex": [
       "$\\displaystyle 4.9108146924816$"
      ],
      "text/plain": [
       "4.91081469248160"
      ]
     },
     "execution_count": 27,
     "metadata": {},
     "output_type": "execute_result"
    }
   ],
   "source": [
    "sp.integrate(func(x),( x, 0, 2))\n",
    "sp.N(_)"
   ]
  },
  {
   "cell_type": "code",
   "execution_count": 26,
   "metadata": {},
   "outputs": [
    {
     "data": {
      "text/plain": [
       "4.910814692481599"
      ]
     },
     "execution_count": 26,
     "metadata": {},
     "output_type": "execute_result"
    }
   ],
   "source": [
    "riemann_sum(func(x), 0,2, 10)"
   ]
  },
  {
   "cell_type": "code",
   "execution_count": 28,
   "metadata": {},
   "outputs": [
    {
     "data": {
      "text/plain": [
       "4.764649729160901"
      ]
     },
     "execution_count": 28,
     "metadata": {},
     "output_type": "execute_result"
    }
   ],
   "source": [
    "riemann_sum(func(x), 0,2, 10, method='right')"
   ]
  },
  {
   "cell_type": "code",
   "execution_count": 29,
   "metadata": {},
   "outputs": [
    {
     "data": {
      "text/plain": [
       "5.04787909647033"
      ]
     },
     "execution_count": 29,
     "metadata": {},
     "output_type": "execute_result"
    }
   ],
   "source": [
    "riemann_sum(func(x), 0,2, 10, method='left')"
   ]
  },
  {
   "cell_type": "markdown",
   "metadata": {},
   "source": [
    "# Valor medio de uma função continua\n",
    "\n",
    "A média de $n$ pontos discretos pode ser calculada usando a seguinte formula\n",
    "\n",
    "$$\\text{Media} = \\dfrac{\\sum_{i=1}^n y_i}{n} $$\n",
    "\n",
    "em que $y_i$ são medidas individuais. \n",
    "\n",
    "Em contraste, suponha que y seja uma função no contínuo de uma variável independente $x$. Nesse caso, existe um número infinito de valores entre $a$ e $b$. Do mesmo modo que a equação acima pode ser aplicada para determinar a média de leituras discretas, você poderia também estar interessado em calcular a média de uma função no contínuo $y = f(x)$ no intervalo de $a$ até $b$. A integração é usada para esse propósito, como especificado pela fórmula\n",
    "\n",
    "$$\\text{Media} = \\dfrac{\\int_a^b f(x)dx}{b - a} $$\n",
    "\n",
    "Essa fórmula tem centenas de aplicações em engenharia. Por exemplo, é usada para calcular o centro de gravidade de objetos irregulares na mecânica e na engenharia civil e para determinar a corrente eficaz na engenharia elétrica. Até a densidade pode ser considerado um caso dessa média. "
   ]
  },
  {
   "cell_type": "markdown",
   "metadata": {},
   "source": [
    "# Fórmulas de Integração de Newton-Cotes\n",
    "\n",
    "As fórmulas de Newton-Cotes são os esquemas mais comuns de integração numérica.\n",
    "Elas são baseadas na estratégia de substituir uma função complicada ou dados tabulados\n",
    "por uma função aproximadora simples que seja fácil de integrar:\n",
    "\n",
    "$$I = \\int_a^b f(x)dx \\approx \\int_a^b f_n(x)dx $$\n",
    "\n",
    "em que $f_n(x)$ é um polinômio da forma\n",
    "\n",
    "$$f_n(x) = a_0 + a_1 x + ...+ a_{n-1}x^{n-1} + a_n x^n $$\n",
    "\n",
    "em que $n$ é o grau do polinômio.\n",
    "\n",
    "Por exemplo, na figura abaixo (a), um polinômio de primeiro grau, $n = 1$, (uma reta) é usado como uma aproximação. Na (b), é usada uma parábola, $n = 2$, para o mesmo propósito.\n",
    "\n",
    "<img src=\"./images/cotes.jpg\" style=\"width:600px;height:350px;\">\n",
    "\n",
    "A soma de Riemann pode ser considerado um caso especifico da formula de Newton-Cotes com $n = 0$, uma linha constante. \n",
    "\n",
    "\n",
    "## A Regra do Trapézio\n",
    "\n",
    "A regra do trapézio é a primeira fórmula de integração fechada de Newton-Cotes. Ela\n",
    "corresponde ao caso no qual o polinômio na equação geral é de primeiro grau:\n",
    "\n",
    "$$I = \\int_a^b f(x)dx \\approx \\int_a^b f_1(x)dx $$\n",
    "\n",
    "Lembre-se que a equação de uma reta que passa pelos pontos $(a, f(a))$ e $(b, f(b))$ é \n",
    "\n",
    "$$f_1(x) = f(a) + \\dfrac{f(b) - f(a)}{b - a} (x - a)$$\n",
    "\n",
    "Inserindo essa equação na integral chegamos na formula de *regra do trapézio*:\n",
    "\n",
    "$$I = (b -a) \\frac{f(b) + f(a)}{2} $$\n",
    "\n",
    "Geometricamente, a regra dos trapézios é equivalente a aproximar a integral pela\n",
    "área do trapézio sob a reta ligando $f(a)$ e $f(b)$\n",
    "\n",
    "<img src=\"./images/trapezio.jpg\" style=\"width:400px;height:350px;\">\n",
    "\n",
    "## Erro na Regra do Trapézio\n",
    "\n",
    "Quando empregamos a integral sob um segmento de reta para aproximar a integral sob a\n",
    "curva, obviamente incorremos em um erro que pode ser substancial. Uma estimativa para o erro de truncamento local de uma única aplicação da regra do trapézio é \n",
    "\n",
    "$$E_t = - \\dfrac{1}{12} f''(\\xi)(b - a)^3 $$\n",
    "\n",
    "em que $\\xi$ está em algum ponto do intervalo entre $a$ e $b$.\n",
    "\n",
    "## **Exemplo:**\n",
    "\n",
    "Use a regra do trapézio para calcular a integral numericamente \n",
    "\n",
    "$$\n",
    "f(x) = 0.2 + 25 x - 200 x^2 + 675 x^3 - 900 x^4 + 400 x^5\n",
    "$$\n",
    "\n",
    "de $a = 0$ a $b = 0.8$.\n",
    "\n",
    "**Resolução:**\n",
    "\n",
    "Antes de resolver essa integral numericamente vamos resolver-la analiticamente"
   ]
  },
  {
   "cell_type": "code",
   "execution_count": 30,
   "metadata": {},
   "outputs": [
    {
     "data": {
      "text/latex": [
       "$\\displaystyle 400 x^{5} - 900 x^{4} + 675 x^{3} - 200 x^{2} + 25 x + 0.2$"
      ],
      "text/plain": [
       "400*x**5 - 900*x**4 + 675*x**3 - 200*x**2 + 25*x + 0.2"
      ]
     },
     "execution_count": 30,
     "metadata": {},
     "output_type": "execute_result"
    }
   ],
   "source": [
    "f = lambda x: 0.2 + 25*x - 200 * x**2 + 675 * x**3 - 900 * x**4 + 400 * x**5\n",
    "f(x)"
   ]
  },
  {
   "cell_type": "code",
   "execution_count": 32,
   "metadata": {},
   "outputs": [
    {
     "data": {
      "text/latex": [
       "$\\displaystyle 1.64053333333333$"
      ],
      "text/plain": [
       "1.64053333333333"
      ]
     },
     "execution_count": 32,
     "metadata": {},
     "output_type": "execute_result"
    }
   ],
   "source": [
    "sp.integrate(f(x), (x, 0, 0.8))"
   ]
  },
  {
   "cell_type": "markdown",
   "metadata": {},
   "source": [
    "A solução numerica usando a regra do trapézio é "
   ]
  },
  {
   "cell_type": "code",
   "execution_count": 35,
   "metadata": {},
   "outputs": [
    {
     "data": {
      "text/latex": [
       "$\\displaystyle 0.172800000000011$"
      ],
      "text/plain": [
       "0.172800000000011"
      ]
     },
     "execution_count": 35,
     "metadata": {},
     "output_type": "execute_result"
    }
   ],
   "source": [
    "a = 0\n",
    "b = 0.8\n",
    "\n",
    "I = (b - a)*(f(x).subs(x,a) + f(x).subs(x,b))/(2)\n",
    "I"
   ]
  },
  {
   "cell_type": "markdown",
   "metadata": {},
   "source": [
    "Para calcular o erro podemos usar a media da $f''(x)$ no intervalo em vez de $f''(\\xi)$"
   ]
  },
  {
   "cell_type": "code",
   "execution_count": 37,
   "metadata": {},
   "outputs": [
    {
     "data": {
      "text/latex": [
       "$\\displaystyle -60.0000000000003$"
      ],
      "text/plain": [
       "-60.0000000000003"
      ]
     },
     "execution_count": 37,
     "metadata": {},
     "output_type": "execute_result"
    }
   ],
   "source": [
    "f2 = sp.integrate(f(x).diff(x,2), (x, 0, 0.8))/(b - a)\n",
    "f2"
   ]
  },
  {
   "cell_type": "code",
   "execution_count": 38,
   "metadata": {},
   "outputs": [
    {
     "data": {
      "text/latex": [
       "$\\displaystyle 2.56000000000001$"
      ],
      "text/plain": [
       "2.56000000000001"
      ]
     },
     "execution_count": 38,
     "metadata": {},
     "output_type": "execute_result"
    }
   ],
   "source": [
    "E_a = -1/12 * (f2)*(b - a)**3\n",
    "\n",
    "E_a"
   ]
  },
  {
   "cell_type": "markdown",
   "metadata": {},
   "source": [
    "### Aplicação Múltipla da Regra de Trapézio\n",
    "\n",
    "Uma maneira de melhorar a acurácia da regra do trapézio é dividir o intervalo de integração de a a b em diversos segmentos e aplicar o método a cada segmento\n",
    "\n",
    "<img src=\"./images/trapezio2.jpg\" style=\"width:250px;height:800px;\">\n",
    "\n",
    "As áreas correspondentes aos segmentos individuais podem então ser somadas para fornecer a integral para o intervalo inteiro. As equações resultantes são chamadas *fórmulas de integração por aplicações múltiplas* ou *compostas*.\n",
    "\n",
    "imagine que existem $n + 1$ pontos base igualmente espaçados $(x_0, x_1, x_2, ..., x_n)$. Conseqüentemente, existem $n$ segmentos de largura igual:\n",
    "\n",
    "$$h = \\frac{b - a}{n} $$\n",
    "\n",
    "Se $a$ e $b$ forem designados por $x_0$ e $x_n$, respectivamente, a integral total pode ser representada como\n",
    "\n",
    "$$\n",
    "I = \\int_{x_0}^{x_1} f(x) dx + \\int_{x_1}^{x_2} f(x) dx + ... +\\int_{x_{n-1}}^{x_n} f(x) dx\n",
    "$$\n",
    "\n",
    "Substituindo cada integral pela regra do trapézio, obtém-se\n",
    "\n",
    "$$\n",
    "I = h \\frac{f(x_0) + f(x_1)}{2} + h \\frac{f(x_1) + f(x_2)}{2} + ... + h \\frac{f(x_{n-1}) + f(x_n)}{2}\n",
    "$$\n",
    "\n",
    "ou, agrupando termos,\n",
    "\n",
    "$$I = \\frac{h}{2} \\big[f(x_0) + 2 \\sum_{i=1}^{n-1} f(x_i) + f(x_n) \\big]$$\n",
    "\n",
    "Um erro para a aplicação múltipla da regra do trapézio pode ser obtido pela soma dos\n",
    "erros individuais em cada segmento, o que dá\n",
    "\n",
    "$$E_t = - \\dfrac{(b-a)^3}{12 n^3} \\sum_{i=1}^n f''(\\xi) $$\n",
    "\n",
    "em que $f''(\\xi_i)$ é a segunda derivada em um ponto $\\xi_i$ localizado no segmento $i$. Esse resultado pode ser simplificado por uma estimativa do valor médio da segunda derivada no intervalo todo como\n",
    "\n",
    "$$\\bar{f''} \\approx \\dfrac{\\sum_{i=1}^n f''(\\xi_i)}{n} $$\n",
    "\n",
    "Usando essa aproximação, $\\sum f''(\\xi_i) \\approx n \\bar{f''}$ , a formula de erro fica\n",
    "\n",
    "$$E_t = - \\dfrac{(b-a)^3}{12 n^2} \\bar{f''}$$\n",
    "\n",
    "Logo, se o número de segmentos for dobrado, o erro de truncamento será dividido por\n",
    "quatro."
   ]
  },
  {
   "cell_type": "markdown",
   "metadata": {},
   "source": [
    "### **Exemplo:**\n",
    " Use a regra do trapézio com dois e quatro segmentos para obter uma estimativa da integral de\n",
    "\n",
    "$$\n",
    "f(x) = 0.2 + 25 x - 200 x^2 + 675 x^3 - 900 x^4 + 400 x^5\n",
    "$$\n",
    "\n",
    "de $a = 0$ a $b = 0.8$.\n",
    "\n",
    "**Resolução:**\n",
    "\n",
    "Para $n=2 (h = 0.4) $ temos"
   ]
  },
  {
   "cell_type": "code",
   "execution_count": 58,
   "metadata": {},
   "outputs": [],
   "source": [
    "def trapezoidal(func, a, b, n=1):\n",
    "    assert a < b, 'the inferior limit must be less than superior one'\n",
    "    h = (b - a)/n\n",
    "    xi = np.linspace(a, b, n+1)\n",
    "    return h/2*(func(xi[0]) + 2 * sum(map(func, xi[1:-1])) + func(xi[-1]))"
   ]
  },
  {
   "cell_type": "code",
   "execution_count": 47,
   "metadata": {},
   "outputs": [
    {
     "data": {
      "text/plain": [
       "[1, 4, 9]"
      ]
     },
     "execution_count": 47,
     "metadata": {},
     "output_type": "execute_result"
    }
   ],
   "source": [
    "list(map(lambda x: x**2, [ 1,2,3]))"
   ]
  },
  {
   "cell_type": "code",
   "execution_count": 48,
   "metadata": {},
   "outputs": [
    {
     "data": {
      "text/plain": [
       "14"
      ]
     },
     "execution_count": 48,
     "metadata": {},
     "output_type": "execute_result"
    }
   ],
   "source": [
    "sum(map(lambda x: x**2, [ 1,2,3]))"
   ]
  },
  {
   "cell_type": "code",
   "execution_count": 65,
   "metadata": {},
   "outputs": [
    {
     "name": "stdout",
     "output_type": "stream",
     "text": [
      "n = 1: 0.1728\n",
      "n = 2: 1.0688\n",
      "n = 3: 1.3696\n",
      "n = 4: 1.4848\n",
      "n = 5: 1.5399\n",
      "n = 6: 1.5703\n",
      "n = 7: 1.5887\n",
      "n = 8: 1.6008\n",
      "n = 9: 1.6091\n"
     ]
    }
   ],
   "source": [
    "f = lambda x: 0.2 + 25*x - 200 * x**2 + 675 * x**3 - 900 * x**4 + 400 * x**5\n",
    "\n",
    "for i in range(1, 10):\n",
    "    print(f\"n = {i}: {trapezoidal(f, 0, 0.8, i):.4f}\")\n"
   ]
  },
  {
   "cell_type": "markdown",
   "metadata": {},
   "source": [
    "Tres observações sobre a regra do trapézio\n",
    "\n",
    "- Para aplicações individuais em funções bem comportadas, a aplicação múltipla da regra do trapézio é decididamente boa para obter o tipo de acurácia necessária em muitas aplicações de engenharia.\n",
    "- Se for necessária uma alta acurácia, a regra do trapézio com segmentos múltiplos exige um grande esforço computacional. Embora esse esforço possa ser desprezível para uma única aplicação, pode ser muito importante quando (a) muitas integrais estão sendo calculadas ou (b) a própria função leva muito tempo para ser calculada. Para tais casos, abordagens mais eficientes (como aquelas no restante deste capítulo e no próximo) podem ser necessárias.\n",
    "- Finalmente, os erros de arredondamento podem limitar nossa habilidade de determinar integrais. Isso decorre tanto da precisão da máquina quanto da grande quantidade de cálculos envolvida em técnicas simples como a regra do trapézio com segmentos múltiplos."
   ]
  },
  {
   "cell_type": "markdown",
   "metadata": {},
   "source": [
    "## Regreas de Simpson\n",
    "\n",
    "Além de aplicar a regra do trapézio com segmentos menores, outra forma de obter uma estimativa mais acurada de uma integral é usar polinômios de grau mais alto para ligar os pontos. Por exemplo, se existir um ponto extra no ponto médio entre $f(a)$ e $f(b)$, os três pontos\n",
    "podem ser ligados por uma parábola.  Se existirem dois pontos igualmente espaçados entre $f(a)$ e $f(b)$, os quatro pontos podem ser ligados por um polinômio de $3º$ grau. As fórmulas que resultam de tomar as integrais desses polinômios são chamadas de *regras de Simpson*.\n",
    "\n",
    "### A Regra $1/3$ de Simpson\n",
    "\n",
    "A regra $1/3$ de Simpson é obtida quando um polinômio interpolador de segundo grau\n",
    "\n",
    "$$I = \\int_a^b f(x)dx \\approx \\int_a^b f_2(x)dx $$\n",
    "\n",
    "Se $a$ e $b$ forem designados por $x_0$ e $x_2$ e se $f_2(x)$ for representado por um polinômio de Lagrange (lembre-se do capitulo sobre interpolação) de segundo grau, a integral se torna\n",
    "\n",
    "$$\n",
    "I = \\int_{x_0}^{x_2} \\big[\\dfrac{(x - x_1)(x - x_2)}{(x_0 - x_1)(x_0 - x_2)}f(x_0) + \\dfrac{(x - x_0)(x - x_2)}{(x_1 - x_0)(x_1 - x_2)}f(x_1) + \\dfrac{(x - x_0)(x - x_1)}{(x_2 - x_0)(x_2 - x_1)}f(x_2) \\big] dx\n",
    "$$\n",
    "\n",
    "Depois da integração e de manipulações algébricas, obtém-se a seguinte fórmula:\n",
    "\n",
    "$$I \\approx \\dfrac{h}{3} \\big[f(x_0) + 4f(x_1) + f(x_2) \\big] $$\n",
    "\n",
    "em que, para esse caso, $h = (b − a)/2$. Essa equação é conhecida como a *regra $1/3$ de\n",
    "Simpson*. Ela é a segunda fórmula de integração fechada de Newton-Cotes. A designação\n",
    "\"1/3\" vem do fato que $h$ está dividido por $3$ na equação.\n",
    "\n",
    "É possível mostrar que a aplicação da regra $1/3$ de Simpson para um único segmento\n",
    "tem um erro de truncamento de\n",
    "\n",
    "$$E_t = - \\frac{1}{90} h^5 f^{(4)}(\\xi) $$\n",
    "\n",
    "ou, como $h = (b − a)/2$,\n",
    "\n",
    "$$E_t = - \\frac{(b - a)^5}{2880} f^{(4)}(\\xi) $$\n",
    "\n",
    "em que $\\xi$ é algum ponto no intervalo entre $a$ e $b$. Logo, a regra $1/3$ de Simpson é mais acurada do que a regra do trapézio. A comparação com a equação do erro da regra do trapézio indica que ela é mais acurada do que o esperado. Em vez de ser proporcional à terceira derivada, o erro é proporcional à quarta derivada."
   ]
  },
  {
   "cell_type": "markdown",
   "metadata": {},
   "source": [
    "## **Exemplo:**\n",
    "\n",
    "Use a regra $1/3$ de Simpson para calcular a integral numericamente \n",
    "\n",
    "$$\n",
    "f(x) = 0.2 + 25 x - 200 x^2 + 675 x^3 - 900 x^4 + 400 x^5\n",
    "$$\n",
    "\n",
    "de $a = 0$ a $b = 0.8$. Lembrando que o valor real é 1.640533"
   ]
  },
  {
   "cell_type": "code",
   "execution_count": 66,
   "metadata": {},
   "outputs": [],
   "source": [
    "f = lambda x: 0.2 + 25*x - 200 * x**2 + 675 * x**3 - 900 * x**4 + 400 * x**5"
   ]
  },
  {
   "cell_type": "code",
   "execution_count": 68,
   "metadata": {},
   "outputs": [
    {
     "name": "stdout",
     "output_type": "stream",
     "text": [
      "1.3674666666666742\n"
     ]
    }
   ],
   "source": [
    "a = 0\n",
    "b = 0.8\n",
    "h = (b - a)/2\n",
    "\n",
    "I = h/3*(f(0) + 4*f(0.4) + f(0.8))\n",
    "print(I)"
   ]
  },
  {
   "cell_type": "markdown",
   "metadata": {},
   "source": [
    "### Aplicações Múltiplas da Regra $1/3$ de Simpson\n",
    "\n",
    "Do mesmo modo como no caso da regra do trapézio, a regra de Simpson pode ser melhorada dividindo-se o intervalo de integração em diversos segmentos de mesmo comprimento\n",
    "\n",
    "$$h = \\dfrac{b - a}{2} $$\n",
    "\n",
    "A integral total pode ser representada como\n",
    "\n",
    "$$\n",
    "I = \\int_{x_0}^{x_2} f(x) dx + \\int_{x_2}^{x_4} f(x) dx + ... +\\int_{x_{n-2}}^{x_n} f(x) dx\n",
    "$$\n",
    "\n",
    "Substituindo cada integral individual pela regra $1/3$ de Simpson, obtemos\n",
    "\n",
    "$$\n",
    "I = 2h \\frac{f(x_0) + 4f(x_1) + f(x_2)}{6} + 2h \\frac{f(x_2) + 4f(x_3) + f(x_4)}{6} + ... + 2h \\frac{f(x_{n-2}) + 4f(x_{n-1}) +f(x_n)}{6}\n",
    "$$\n",
    "\n",
    "ou, combinando os termos\n",
    "\n",
    "$$\n",
    "I \\approx \\frac{b - a}{3n}\\big[f(x_0) + 4\\sum_{i=1,3,5,...}^{n-1}f(x_i) + 2\\sum_{i=2,4,6,...}^{n-2}f(x_i) + f(x_n) \\big]\n",
    "$$\n",
    "\n",
    "Uma estimativa de erro para a aplicação múltipla da regra de Simpson é obtida da mesma maneira que para a regra trapezoidal, somando-se os erros individuais para os segmentos e fazendo a média da derivada, resultando em\n",
    "\n",
    "$$E_t = - \\frac{(b-a)^5}{180 n^4} \\bar{f}^{(4)} $$\n",
    "\n",
    "em que $\\bar{f}^{(4)} $ é o valor médio da quarta derivada no intervalo."
   ]
  },
  {
   "cell_type": "markdown",
   "metadata": {},
   "source": [
    "### **Exemplo:**\n",
    " Use a regra $1/3$ do Simpson com $n=4$ para obter uma estimativa da integral de\n",
    "\n",
    "$$\n",
    "f(x) = 0.2 + 25 x - 200 x^2 + 675 x^3 - 900 x^4 + 400 x^5\n",
    "$$\n",
    "\n",
    "de $a = 0$ a $b = 0.8$.\n",
    "\n",
    "**Resolução:**\n",
    "\n"
   ]
  },
  {
   "cell_type": "code",
   "execution_count": 82,
   "metadata": {},
   "outputs": [],
   "source": [
    "def simpson13(func, a, b, n=2):\n",
    "    assert a < b, \"The inferior limit must be less than the superior one\"\n",
    "    assert n > 1, \"The simpson 1/3 needs at least 3 points, n = points - 1\"\n",
    "    assert n % 2 == 0, \"The simpson 1/3 works only for par number of segments \"\n",
    "\n",
    "    xi = np.linspace(a, b, n+1)\n",
    "    return ((b - a)/(3*n))*(func(xi[0]) + 4 * sum(map(func, xi[1:-1:2])) \\\n",
    "           + 2 * sum(map(func, xi[2:-2:2])) + func(xi[-1]))\n",
    "    "
   ]
  },
  {
   "cell_type": "code",
   "execution_count": 83,
   "metadata": {},
   "outputs": [
    {
     "data": {
      "text/plain": [
       "1.6234666666666717"
      ]
     },
     "execution_count": 83,
     "metadata": {},
     "output_type": "execute_result"
    }
   ],
   "source": [
    "simpson13(f, 0, 0.8, 4)"
   ]
  },
  {
   "cell_type": "markdown",
   "metadata": {},
   "source": [
    "O exemplo anterior ilustra que a versão com aplicações múltiplas da regra $1/3$ de\n",
    "Simpson fornece resultados muito acurados. Por essa razão, ela é considerada superior à\n",
    "regra do trapézio na maioria das aplicações. Entretanto, como mencionado anteriormente,\n",
    "ela é limitada aos casos nos quais os valores estão igualmente espaçados. Além disso, é limitada a situações nas quais haja um número par de segmentos e um número ímpar de pontos. Conseqüentemente, como discutido na próxima seção, uma fórmula para um número ímpar de segmentos e par de pontos, conhecida como regra $3/8$ de Simpson, é usada em conjunto com a regra $1/3$ para permitir o cálculo tanto para um número par quanto para um número ímpar de segmentos.\n",
    "\n",
    "## Regra $3/8$ de Simpson\n",
    "De uma maneira parecida com a dedução da regra do trapézio e da regra $1/3$ de Simpson,\n",
    "um polinômio de Lagrange de ordem tres pode ser ajustado a quatro pontos e integrado:\n",
    "\n",
    "$$I = \\int_a^b f(x)dx \\approx \\int_a^b f_3(x)dx $$\n",
    " \n",
    "para fornecer\n",
    "\n",
    "$$I \\approx \\frac{3h}{8} \\big[f(x_0) + 3f(x_1) + 3f(x_2) + f(x_3)  \\big] $$\n",
    "\n",
    "em que $h = (b − a)/3$. Essa equação é chamada regra $3/8$ de Simpson porque $h$ é ultiplicada por $3/8$. Ela é a terceira fórmula de integração fechada de Newton-Cotes. A regra $3/8$ pode também ser expressa na forma\n",
    "\n",
    "$$\n",
    "I \\approx \\frac{b - a}{8}\\big[f(x_0) + 3f(x_1) + 3f(x_2) + f(x_3) \\big]\n",
    "$$\n",
    "\n",
    "\n",
    "Assim, os dois pontos interiores têm pesos de três oitavos, enquanto as extremidades têm\n",
    "peso de um oitavo. A regra $3/8$ de Simpson tem um erro de\n",
    "\n",
    "$$E_t = -\\frac{3}{80} h^5 f^{(4)}(\\xi) $$\n",
    "\n",
    "ou, como $h = (b − a)/3$,\n",
    "\n",
    "$$E_t = -\\frac{(b-a)^5}{6480} f^{(4)}(\\xi) $$\n",
    "\n",
    "a regra $3/8$ é um pouco mais acurada do que a regra $1/3$.\n",
    "\n",
    "A regra $1/3$ de Simpson é usualmente o método preferido, pois alcança uma acurácia de terceira ordem com três pontos em vez dos quatro pontos necessários para a versão $3/8$.\n",
    "Entretanto, a regra $3/8$ tem utilidade quando o número de segmentos é ímpar. No caso do\n",
    "ultimo exemplo, usamos a regra de Simpson para integrar a função com quatro segmentos.\n",
    "Suponha que você quisesse uma estimativa usando cinco segmentos. Uma opção seria usar\n",
    "a versão com aplicação múltipla da regra do trapézio. Entretanto, isso pode não ser aconselhável por causa do grande erro de truncamento associado com esse método. Uma alternativa seria aplicar a regra $1/3$ de Simpson aos primeiros dois segmentos e a regra $3/8$ de Simpson aos últimos três (figura abaixo). Dessa maneira, você poderia obter uma estimativa acurada até ordem três em todo o intervalo\n",
    "\n",
    "<img src=\"./images/simpson.jpg\" style=\"width:300px;height:400px;\">\n"
   ]
  },
  {
   "cell_type": "markdown",
   "metadata": {},
   "source": [
    "### **Exemplo:**\n",
    "\n",
    "- (a) Use a regra 3/8 de Simpson para integrar\n",
    "\n",
    "$$\n",
    "f(x) = 0.2 + 25 x - 200 x^2 + 675 x^3 - 900 x^4 + 400 x^5\n",
    "$$\n",
    "\n",
    "de $a = 0$ a $b = 0.8$.\n",
    "\n",
    "- (b) Use-a em conjunto com a regra 1/3 de Simpson para integrar a mesma função\n",
    "usando cinco segmentos.\n",
    "\n",
    "**Resolução:**\n",
    "\n",
    "(a)"
   ]
  },
  {
   "cell_type": "code",
   "execution_count": 87,
   "metadata": {},
   "outputs": [],
   "source": [
    "f = lambda x: 0.2 + 25*x - 200 * x**2 + 675 * x**3 - 900 * x**4 + 400 * x**5\n",
    "\n",
    "a = 0\n",
    "b = 0.8"
   ]
  },
  {
   "cell_type": "code",
   "execution_count": 86,
   "metadata": {},
   "outputs": [
    {
     "data": {
      "text/plain": [
       "array([0.        , 0.26666667, 0.53333333, 0.8       ])"
      ]
     },
     "execution_count": 86,
     "metadata": {},
     "output_type": "execute_result"
    }
   ],
   "source": [
    "xi = np.linspace(0, 0.8, 4)\n",
    "xi"
   ]
  },
  {
   "cell_type": "code",
   "execution_count": 88,
   "metadata": {},
   "outputs": [
    {
     "data": {
      "text/plain": [
       "1.5191703703703778"
      ]
     },
     "execution_count": 88,
     "metadata": {},
     "output_type": "execute_result"
    }
   ],
   "source": [
    "I1 = (b - a)/8 * (f(xi[0]) + 3 * (f(xi[1]) + f(xi[2])) + f(xi[-1]))\n",
    "I1"
   ]
  },
  {
   "cell_type": "markdown",
   "metadata": {},
   "source": [
    "(b)"
   ]
  },
  {
   "cell_type": "code",
   "execution_count": 94,
   "metadata": {},
   "outputs": [],
   "source": [
    "def simpson38(func, xi):\n",
    "    assert len(xi) == 4,  \"This version is designed only for 4 points integration\"\n",
    "\n",
    "    h = xi[1] - xi[0]\n",
    "    return 3*h/8 *(f(xi[0]) + 3 * (f(xi[1]) + f(xi[2])) + f(xi[-1]))\n",
    "    "
   ]
  },
  {
   "cell_type": "code",
   "execution_count": 102,
   "metadata": {},
   "outputs": [
    {
     "data": {
      "text/plain": [
       "array([0.        , 0.26666667, 0.53333333, 0.8       ])"
      ]
     },
     "execution_count": 102,
     "metadata": {},
     "output_type": "execute_result"
    }
   ],
   "source": [
    "xi = np.linspace(0, 0.8, 3+1)\n",
    "xi"
   ]
  },
  {
   "cell_type": "code",
   "execution_count": 103,
   "metadata": {},
   "outputs": [
    {
     "data": {
      "text/plain": [
       "1.5191703703703778"
      ]
     },
     "execution_count": 103,
     "metadata": {},
     "output_type": "execute_result"
    }
   ],
   "source": [
    "simpson38(f, xi)"
   ]
  },
  {
   "cell_type": "code",
   "execution_count": 113,
   "metadata": {},
   "outputs": [],
   "source": [
    "def integrate(func, a, b, n=2):\n",
    "  assert a < b, 'the inferior limit must be less than the superior'\n",
    "  \n",
    "  xi = np.linspace(a, b, n+1)\n",
    "  if n == 1:\n",
    "    return trapezoidal(func, a, b)\n",
    "  elif n % 2 == 0:\n",
    "    return simpson13(func, a, b, n)\n",
    "  elif n == 3:\n",
    "    return simpson38(func, xi)\n",
    "  else:\n",
    "    h = (b - a)/n\n",
    "    return simpson38(func, xi[-4:]) + simpson13(func, a, b-3*h, n-3 )\n"
   ]
  },
  {
   "cell_type": "code",
   "execution_count": 114,
   "metadata": {},
   "outputs": [
    {
     "data": {
      "text/plain": [
       "1.6450771626666787"
      ]
     },
     "execution_count": 114,
     "metadata": {},
     "output_type": "execute_result"
    }
   ],
   "source": [
    "integrate(f, 0, 0.8, 5)"
   ]
  },
  {
   "cell_type": "markdown",
   "metadata": {},
   "source": [
    "## Integração com Segmentos Desiguais\n",
    "\n",
    "Até esse ponto, todas as fórmulas para integração numérica foram baseadas em dados igualmente espaçados. Na prática, existem muitas situações nas quais essa hipótese não é válida e precisamos lidar com segmentos de tamanhos distintos. Por exemplo, dados obtidos experimentalmente, muitas vezes, são desse tipo. Para tais casos, um método é aplicar\n",
    "a regra do trapézio para cada segmento e somar os resultados:\n",
    "\n",
    "$$\n",
    "I = h_1 \\frac{f(x_0) + f(x_1)}{2} + h_2 \\frac{f(x_1) + f(x_2)}{2} + ... + h_n \\frac{f(x_{n-1}) + f(x_n)}{2}\n",
    "$$\n",
    "\n",
    "em que $h_i$ é a largura do segmento $i$. Observe que essa foi a mesma abordagem usada na\n",
    "aplicação múltipla da regra do trapézio. A unica diferença é que nesse caso o valor do intervalo, $h_i$ não é igual para todos os intervalos. Portanto, não podemos simplificar essa equação como o caso de igualmente espaçado mas para o camputador é facil fazer esse calculo\n",
    "\n",
    "### **Exemplo:**\n",
    "A informação na tabela abaixo foi gerada usando o mesmo polinômio utilizado nos exemplos anteriores ($f(x) = 0,2 + 25x − 200x^2 + 675x^3 − 900x^4 + 400x^5$). Use a equação acima para determinar a integral a partir desses dados. Lembre que a resposta correta é 1,640533.\n",
    "\n",
    "|$x$ | $f(x)$ |\n",
    "|----|-------|\n",
    "| 0  | 0.200   |\n",
    "|  0.12 | 1.309729   |\n",
    "| 0.22  | 1.305241   |\n",
    "| 0.32  | 1.743393   |\n",
    "|  0.36 | 2.074903   |\n",
    "| 0.40  | 2.456000   |\n",
    "| 0.44  | 2.842985   |\n",
    "|  0.54 | 3.507297   |\n",
    "|  0.64  |3.181929    |\n",
    "|  0.70  |2.363000    |\n",
    "|  0.80  |0.232000    |\n",
    "\n",
    "**Resolução:**\n",
    "\n",
    "$$\n",
    "I = 0.12 \\dfrac{1,309729 + 0,2}{2} + 0.10 \\frac{1,305241 + 1,309729}{2} + ...+ 0.10 \\frac{0,232 + 2,363}{2}\\\\\n",
    "=  0,090584 + 0,130749 + · · · + 0,12975 = 1,594801\n",
    "$$\n",
    "\n",
    "o que representa um erro relativo porcentual absoluto de $\\varepsilon_t = 2.8\\%$.\n",
    "\n",
    "Os dados do exemplo anterior estão mostrados na figura abaixo. Observe que alguns\n",
    "segmentos adjacentes têm largura igual e, conseqüentemente, poderiam ter sido calculados usando as regras de Simpson. Isso usualmente leva a resultados mais precisos, como\n",
    "ilustrado no exemplo a seguir.\n",
    "\n",
    "<img src=\"./images/desigual.jpg\" style=\"width:400px;height:350px;\">\n",
    "\n",
    "Neste caso, para melhorar a precisão, é melhor o algoritmo verifique se dois segmentos consecutivos tiverem comprimentos iguais, a regra 1/3 de Simpson é aplicada. Se três forem\n",
    "iguais, a regra 3/8 é usada. Quando os segmentos adjacentes forem de comprimentos diferentes, a regra do trapézio é implementada."
   ]
  },
  {
   "cell_type": "code",
   "execution_count": null,
   "metadata": {},
   "outputs": [],
   "source": []
  }
 ],
 "metadata": {
  "interpreter": {
   "hash": "92b1d5f842d7c1e714e1ab666cefb8d1f75311aac337aae0336133957fcbf554"
  },
  "kernelspec": {
   "display_name": "Python 3.8.12 64-bit ('base': conda)",
   "name": "python3"
  },
  "language_info": {
   "codemirror_mode": {
    "name": "ipython",
    "version": 3
   },
   "file_extension": ".py",
   "mimetype": "text/x-python",
   "name": "python",
   "nbconvert_exporter": "python",
   "pygments_lexer": "ipython3",
   "version": "3.9.13"
  },
  "orig_nbformat": 4
 },
 "nbformat": 4,
 "nbformat_minor": 2
}
