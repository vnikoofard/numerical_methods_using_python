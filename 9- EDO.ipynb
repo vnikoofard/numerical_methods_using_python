{
 "cells": [
  {
   "cell_type": "code",
   "execution_count": 16,
   "metadata": {},
   "outputs": [],
   "source": [
    "import numpy as np\n",
    "import plotly.graph_objects as go\n",
    "import matplotlib.pyplot as plt\n",
    "import sys\n",
    "from scipy.integrate import solve_ivp\n",
    "import cn_utils as cn"
   ]
  },
  {
   "cell_type": "markdown",
   "metadata": {},
   "source": [
    "# Metodos de Runge-Kutta\n",
    "\n",
    "Nesse capitulo vamos estudar as equações diferenciais ordinarias na seguinte forma\n",
    "\n",
    "$$\\frac{dy}{dx} = f(x,y)$$\n",
    "\n",
    "Só para relmenbrar, nos capitulos anteriores, na hora de estudar o caso de paraquedista, se familiarizamos com o metodo de Euler. O metodo de Euler, era de seguinte forma geral\n",
    "<p align=\"center\">\n",
    "Valor novo = valor anterio + inclinação x tamanho de passo.\n",
    "</p>\n",
    "\n",
    "ou em termos matematicos\n",
    "\n",
    "$$y_{i+1} = y_i + \\phi h$$\n",
    "\n",
    "De acordo com essa equação, a estimativa da inclinação $\\phi$ é usada para extrapolar de um\n",
    "valor antigo $y_i$ para um valor novo $y_{i+1}$ em uma distância $h$. Essa fórmula pode ser aplicada passo a passo para cálculos no futuro e, portanto, para percorrer a trajetória da solução.\n",
    "\n",
    "<p align=\"center\">\n",
    "<img src=\"./images/9-euler.jpg\" width=350 height=350 />\n",
    "</p>"
   ]
  },
  {
   "cell_type": "markdown",
   "metadata": {},
   "source": [
    "## Metodo de Euler\n",
    "\n",
    "No calculo um estudamos que a primeira derivada forcene uma estimativa direta da inclinação em $x_i$\n",
    "\n",
    "$$\\phi = f(x_i, y_i)$$\n",
    "\n",
    "em que $f(x_i, y_i)$ é a equação diferencial calculada em $x_i$ e $y_i$. Essa estimativa pode ser substituída na equação geral\n",
    "\n",
    "$$y_{i+1} = y_i + f(x_i, y_i)h$$\n",
    "\n",
    "Essa fórmula é conhecida como método de Euler (ou Euler-Cauchy ou ponto-inclinação). Um novo valor de $y$ é previsto usando a inclinação (igual à primeira derivada no valor original de $x$) para extrapolar linearmente sobre um tamanho de passo $h$."
   ]
  },
  {
   "cell_type": "code",
   "execution_count": 6,
   "metadata": {},
   "outputs": [],
   "source": [
    "def euler(func, xi, yi, h=1):\n",
    "    return yi + func(xi, yi) * h"
   ]
  },
  {
   "cell_type": "markdown",
   "metadata": {},
   "source": [
    "**Exemplo:**"
   ]
  },
  {
   "cell_type": "markdown",
   "metadata": {},
   "source": [
    "### Analise de Erro para o Metodo de Euler"
   ]
  },
  {
   "cell_type": "markdown",
   "metadata": {},
   "source": [
    "## Melhorias para o Metodo de Euler\n",
    "\n",
    "Uma fonte fundamental de erro no método de Euler é que supomos que a derivada no iní-\n",
    "cio do intervalo pode ser usada no intervalo todo. Estão disponíveis duas modificações\n",
    "simples para contornar essas deficiências. Ambas as modificações na verdade pertencem a uma classe maior de técnicas de solução chamadas métodos de Runge-Kutta. Entretanto, como elas têm uma interpretação gráfica muito simples, nós as apresentaremos antes de sua dedução formal como métodos de Runge-Kutta.\n",
    "\n",
    "### Método de Heun\n",
    "\n",
    "Um método de melhorar a estimativa da inclinação envolve a determinação de duas derivadas para o intervalo — uma no ponto inicial e outra no ponto final. Então, é feita a média das duas derivadas para obter uma estimativa melhorada da inclinação no intervalo todo. Essa abordagem, chamada de método de Heun, é descrita graficamente na figura abaixo\n",
    "\n",
    "<p align=\"center\">\n",
    "<img src=\"./images/9-heun.jpg\" width=350 height=600 />\n",
    "</p>\n",
    "\n",
    "Lembre-se de que, no método de Euler, a inclinação no início de um intervalo\n",
    "\n",
    "$$y'_i = f(x_i, y_i)$$\n",
    "\n",
    "é usada para extrapolar linearmente para $y_{i+1}$:\n",
    "\n",
    "$$y^0_{i+1} = y_i + f(x_i, y_i)$$\n",
    "\n",
    "No método de Euler padrão, pararíamos nesse ponto. No entanto, no método de Heun, o $y^0_{i+1}$\n",
    "calculado na equação acima não é a resposta final, mas uma previsão intermediária. É por isso que o distinguimos com o sobrescrito `0`. A equação acima é chamada `equação preditora`. Ela fornece uma estimativa de $^0_{yi+1}$ que permite o cálculo de uma estimativa da\n",
    "inclinação na extremidade final do intervalo:\n",
    "\n",
    "$$y'_{i+1} = f(x_{i+1}, y^0_{i+1})$$\n",
    "\n",
    "Assim, as duas inclinações, as ultimas duas equações acima, podem ser combinadas para\n",
    "obter uma inclinação média no intervalo:\n",
    "\n",
    "$$\\bar{y}' = \\frac{y'_i + y'_{i+1}}{2} = \\frac{f(x_i, y_i) + f(x_{i+1}, y^0_{i+1})}{2}$$\n",
    "\n",
    "Essa inclinação média é então usada para extrapolar linearmente de $y_i$ a $y_{i+l}$ usando o\n",
    "método de Euler:\n",
    "\n",
    "$$y'_{i+1} = y_i + \\frac{f(x_i, y_i) + f(x_{i+1}, y^0_{i+1})}{2}$$\n",
    "\n",
    "que é chamada de `equação corretora`.\n",
    "\n",
    "O método de Heun é uma abordagem do tipo `preditor-corretor`. Todos os métodos de\n",
    "passo múltiplo que serão discutidos posteriormente são desse tipo.\n",
    "\n",
    "<p align=\"center\">\n",
    "<img src=\"./images/9-heun2.png\" width=350 height=350 />\n",
    "</p>\n",
    "\n",
    "Como no caso dos métodos iterativos parecidos discutidos nos capitulos anteriores, um critério de parada para a convergência do corretor é fornecido por\n",
    "\n",
    "$$|\\varepsilon_a| = |\\frac{y^j_{i+1} - y^{j-1}_{i+1}}{y^j_{i+1}}|$$"
   ]
  },
  {
   "cell_type": "markdown",
   "metadata": {},
   "source": [
    "#### Exemplo:\n",
    "Use o método de Heun para integrar $y' = 4e^{0.8x} − 0.5y$ de\n",
    "$x = 0$ a $x = 4$ com tamanho do passo $h=1$. A condição inicial em $x = 0$ é $y = 2$.\n",
    "\n",
    "\n",
    "**Resposta:**\n",
    "A solução analitica é \n",
    "\n",
    "$$\n",
    "y = \\frac{4}{1.3} (e^{0.8x} - e^{-0.5x}) + 2e^{-0.5x}\n",
    "$$"
   ]
  },
  {
   "cell_type": "code",
   "execution_count": 70,
   "metadata": {},
   "outputs": [],
   "source": [
    "def heun(func, xi, yi, h, n=1):\n",
    "    y1 = euler(func, xi, yi, h)\n",
    "    for j in range(n):\n",
    "        y_prime = func(xi+h, y1)\n",
    "        y_mid = (y_prime + func(xi, yi))/2\n",
    "        y_new = yi + y_mid * h\n",
    "        y1 = y_new\n",
    "    return y_new"
   ]
  },
  {
   "cell_type": "code",
   "execution_count": 102,
   "metadata": {},
   "outputs": [],
   "source": [
    "func = lambda x, y: 4*np.exp(0.8 * x) - 0.5 * y"
   ]
  },
  {
   "cell_type": "code",
   "execution_count": 73,
   "metadata": {},
   "outputs": [
    {
     "name": "stdout",
     "output_type": "stream",
     "text": [
      "6.701081856984936\n",
      "6.275811392738702\n",
      "6.38212900880026\n",
      "6.355549604784871\n",
      "6.362194455788718\n",
      "6.360533243037756\n",
      "6.360948546225496\n",
      "6.360844720428561\n",
      "6.360870676877795\n"
     ]
    }
   ],
   "source": [
    "for n in range(1,10):\n",
    "    print(heun(func, 0, 2, 1, n=n))"
   ]
  },
  {
   "cell_type": "markdown",
   "metadata": {},
   "source": [
    "### O Método do Ponto Médio (ou do Poligono Melhorado)\n",
    "\n",
    "Como dá para ver na figura abaixo, ilustra uma outra modificação simples no método de Euler. Chamada de método do ponto médio (ou do polígono melhorado ou de Euler modificado), essa técnica usa o método de Euler para prever um valor de $y$ no ponto médio do intervalo\n",
    "\n",
    "<p align=\"center\">\n",
    "<img src=\"./images/9-mid.png\" width=350 height=550 />\n",
    "</p>\n",
    "\n",
    "$$y_{i+1/2} = y_i + f(x_i, y_i)\\frac{h}{2}$$\n",
    "\n",
    "Então, esse valor previsto é usado para calcular uma inclinação no ponto médio:\n",
    "\n",
    "$$y_{i+1} = y_i + f(x_{i+1/2}, y_{i+1/2})h$$\n",
    "\n",
    "Observe que, como $y_{i+1}$ não aparece em ambos os lados, o corretor, equação acima, não\n",
    "pode ser aplicado iterativamente para melhorar a solução.\n",
    "\n",
    "Esse metodo, pode ser ligado com as formulas de integração de Newton-Cotes, a versão mais simples, a qual é chamada de método do ponto médio.\n",
    "\n",
    "O método do ponto médio é superior ao método de Euler porque utiliza uma estimativa da inclinação no ponto médio do intervalo de previsão. Lembre-se, de nossa discussão de derivação numérica, de que diferenças divididas finitas centradas são aproximações melhores das derivadas do que as versões tanto progressiva quanto regressiva. No mesmo sentido, uma aproximação centrada tem um erro de truncamento local de $\\mathcal{O}(h^2)$ em comparação com a aproximação progressiva do método de Euler, o qual tem um erro de $\\mathcal{O}(h)$. Conseqüentemente, os erros local e global do método do ponto médio são $\\mathcal{O}(h^3)$ e $\\mathcal{O}(h^2)$, respectivamente."
   ]
  },
  {
   "cell_type": "code",
   "execution_count": 101,
   "metadata": {},
   "outputs": [],
   "source": [
    "def mid_point(func, xi, yi, h):\n",
    "    yi12 = yi + func(xi, yi)*(h/2)\n",
    "    return yi + func(xi + (h/2), yi12) * h"
   ]
  },
  {
   "cell_type": "code",
   "execution_count": 4,
   "metadata": {},
   "outputs": [
    {
     "data": {
      "text/plain": [
       "6.217298790565081"
      ]
     },
     "execution_count": 4,
     "metadata": {},
     "output_type": "execute_result"
    }
   ],
   "source": [
    "mid_point(func, 0, 2, 1)"
   ]
  },
  {
   "cell_type": "markdown",
   "metadata": {},
   "source": [
    "**Comparar os três metodos**"
   ]
  },
  {
   "cell_type": "code",
   "execution_count": 103,
   "metadata": {},
   "outputs": [],
   "source": [
    "def compare(func, x0, y0, xf, h, methods= 'all', n=1):\n",
    "    num_steps = int((xf - x0)/h)\n",
    "    xs = [x0 + n*h for n in range(num_steps+1)]\n",
    "\n",
    "    if methods == 'all':\n",
    "        ys = [[y0]*3]\n",
    "        for i in range(1, num_steps+1):\n",
    "            y_new = []\n",
    "            y_new.append(euler(func, xs[i-1], ys[-1][-1], h))\n",
    "            y_new.append(mid_point(func, xs[i-1], ys[-1][-1], h))\n",
    "            y_new.append(heun(func, xs[i-1], ys[-1][-1], h, n))\n",
    "            ys.append(y_new)\n",
    "        \n",
    "        ys_final = []\n",
    "        methods = ['euler', 'mid_point', 'heun']\n",
    "        for i in range(len(ys[0])):\n",
    "            y_new = []\n",
    "            for item in ys:\n",
    "                y_new.append(item[i])\n",
    "            y_new.append(methods[i])\n",
    "            ys_final.append(y_new)\n",
    "\n",
    "\n",
    "        return xs, ys_final\n",
    "\n",
    "\n"
   ]
  },
  {
   "cell_type": "code",
   "execution_count": 104,
   "metadata": {},
   "outputs": [],
   "source": [
    "res = compare(func, 0, 2, 4, 1)"
   ]
  },
  {
   "cell_type": "code",
   "execution_count": 105,
   "metadata": {},
   "outputs": [
    {
     "data": {
      "text/plain": [
       "[[2, 5.0, 12.25270464246234, 27.972020666529602, 62.69232997099879, 'euler'],\n",
       " [2,\n",
       "  6.217298790565081,\n",
       "  15.243102923069308,\n",
       "  34.803055682513914,\n",
       "  78.00494126428708,\n",
       "  'mid_point'],\n",
       " [2,\n",
       "  6.701081856984936,\n",
       "  16.31978193789828,\n",
       "  37.199248896864745,\n",
       "  83.33776733540077,\n",
       "  'heun']]"
      ]
     },
     "execution_count": 105,
     "metadata": {},
     "output_type": "execute_result"
    }
   ],
   "source": [
    "res[1]"
   ]
  },
  {
   "cell_type": "markdown",
   "metadata": {},
   "source": [
    "O resultado analitico da EDO é o seguinte"
   ]
  },
  {
   "cell_type": "code",
   "execution_count": 106,
   "metadata": {},
   "outputs": [],
   "source": [
    "y_analitic = lambda x: (4/1.3) * (np.exp(0.8*x) - np.exp(-0.5*x)) + 2 * np.exp(-0.5*x)"
   ]
  },
  {
   "cell_type": "code",
   "execution_count": 107,
   "metadata": {},
   "outputs": [
    {
     "data": {
      "application/vnd.plotly.v1+json": {
       "config": {
        "plotlyServerURL": "https://plot.ly"
       },
       "data": [
        {
         "name": "euler",
         "type": "scatter",
         "x": [
          0,
          1,
          2,
          3,
          4
         ],
         "y": [
          2,
          5,
          12.25270464246234,
          27.972020666529602,
          62.69232997099879
         ]
        },
        {
         "name": "mid_point",
         "type": "scatter",
         "x": [
          0,
          1,
          2,
          3,
          4
         ],
         "y": [
          2,
          6.217298790565081,
          15.243102923069308,
          34.803055682513914,
          78.00494126428708
         ]
        },
        {
         "name": "heun",
         "type": "scatter",
         "x": [
          0,
          1,
          2,
          3,
          4
         ],
         "y": [
          2,
          6.701081856984936,
          16.31978193789828,
          37.199248896864745,
          83.33776733540077
         ]
        },
        {
         "name": "analitic",
         "type": "scatter",
         "x": [
          0,
          1,
          2,
          3,
          4
         ],
         "y": [
          2,
          6.194631377209372,
          14.84392190764649,
          33.67717176796817,
          75.33896260915857
         ]
        }
       ],
       "layout": {
        "template": {
         "data": {
          "bar": [
           {
            "error_x": {
             "color": "#2a3f5f"
            },
            "error_y": {
             "color": "#2a3f5f"
            },
            "marker": {
             "line": {
              "color": "#E5ECF6",
              "width": 0.5
             },
             "pattern": {
              "fillmode": "overlay",
              "size": 10,
              "solidity": 0.2
             }
            },
            "type": "bar"
           }
          ],
          "barpolar": [
           {
            "marker": {
             "line": {
              "color": "#E5ECF6",
              "width": 0.5
             },
             "pattern": {
              "fillmode": "overlay",
              "size": 10,
              "solidity": 0.2
             }
            },
            "type": "barpolar"
           }
          ],
          "carpet": [
           {
            "aaxis": {
             "endlinecolor": "#2a3f5f",
             "gridcolor": "white",
             "linecolor": "white",
             "minorgridcolor": "white",
             "startlinecolor": "#2a3f5f"
            },
            "baxis": {
             "endlinecolor": "#2a3f5f",
             "gridcolor": "white",
             "linecolor": "white",
             "minorgridcolor": "white",
             "startlinecolor": "#2a3f5f"
            },
            "type": "carpet"
           }
          ],
          "choropleth": [
           {
            "colorbar": {
             "outlinewidth": 0,
             "ticks": ""
            },
            "type": "choropleth"
           }
          ],
          "contour": [
           {
            "colorbar": {
             "outlinewidth": 0,
             "ticks": ""
            },
            "colorscale": [
             [
              0,
              "#0d0887"
             ],
             [
              0.1111111111111111,
              "#46039f"
             ],
             [
              0.2222222222222222,
              "#7201a8"
             ],
             [
              0.3333333333333333,
              "#9c179e"
             ],
             [
              0.4444444444444444,
              "#bd3786"
             ],
             [
              0.5555555555555556,
              "#d8576b"
             ],
             [
              0.6666666666666666,
              "#ed7953"
             ],
             [
              0.7777777777777778,
              "#fb9f3a"
             ],
             [
              0.8888888888888888,
              "#fdca26"
             ],
             [
              1,
              "#f0f921"
             ]
            ],
            "type": "contour"
           }
          ],
          "contourcarpet": [
           {
            "colorbar": {
             "outlinewidth": 0,
             "ticks": ""
            },
            "type": "contourcarpet"
           }
          ],
          "heatmap": [
           {
            "colorbar": {
             "outlinewidth": 0,
             "ticks": ""
            },
            "colorscale": [
             [
              0,
              "#0d0887"
             ],
             [
              0.1111111111111111,
              "#46039f"
             ],
             [
              0.2222222222222222,
              "#7201a8"
             ],
             [
              0.3333333333333333,
              "#9c179e"
             ],
             [
              0.4444444444444444,
              "#bd3786"
             ],
             [
              0.5555555555555556,
              "#d8576b"
             ],
             [
              0.6666666666666666,
              "#ed7953"
             ],
             [
              0.7777777777777778,
              "#fb9f3a"
             ],
             [
              0.8888888888888888,
              "#fdca26"
             ],
             [
              1,
              "#f0f921"
             ]
            ],
            "type": "heatmap"
           }
          ],
          "heatmapgl": [
           {
            "colorbar": {
             "outlinewidth": 0,
             "ticks": ""
            },
            "colorscale": [
             [
              0,
              "#0d0887"
             ],
             [
              0.1111111111111111,
              "#46039f"
             ],
             [
              0.2222222222222222,
              "#7201a8"
             ],
             [
              0.3333333333333333,
              "#9c179e"
             ],
             [
              0.4444444444444444,
              "#bd3786"
             ],
             [
              0.5555555555555556,
              "#d8576b"
             ],
             [
              0.6666666666666666,
              "#ed7953"
             ],
             [
              0.7777777777777778,
              "#fb9f3a"
             ],
             [
              0.8888888888888888,
              "#fdca26"
             ],
             [
              1,
              "#f0f921"
             ]
            ],
            "type": "heatmapgl"
           }
          ],
          "histogram": [
           {
            "marker": {
             "pattern": {
              "fillmode": "overlay",
              "size": 10,
              "solidity": 0.2
             }
            },
            "type": "histogram"
           }
          ],
          "histogram2d": [
           {
            "colorbar": {
             "outlinewidth": 0,
             "ticks": ""
            },
            "colorscale": [
             [
              0,
              "#0d0887"
             ],
             [
              0.1111111111111111,
              "#46039f"
             ],
             [
              0.2222222222222222,
              "#7201a8"
             ],
             [
              0.3333333333333333,
              "#9c179e"
             ],
             [
              0.4444444444444444,
              "#bd3786"
             ],
             [
              0.5555555555555556,
              "#d8576b"
             ],
             [
              0.6666666666666666,
              "#ed7953"
             ],
             [
              0.7777777777777778,
              "#fb9f3a"
             ],
             [
              0.8888888888888888,
              "#fdca26"
             ],
             [
              1,
              "#f0f921"
             ]
            ],
            "type": "histogram2d"
           }
          ],
          "histogram2dcontour": [
           {
            "colorbar": {
             "outlinewidth": 0,
             "ticks": ""
            },
            "colorscale": [
             [
              0,
              "#0d0887"
             ],
             [
              0.1111111111111111,
              "#46039f"
             ],
             [
              0.2222222222222222,
              "#7201a8"
             ],
             [
              0.3333333333333333,
              "#9c179e"
             ],
             [
              0.4444444444444444,
              "#bd3786"
             ],
             [
              0.5555555555555556,
              "#d8576b"
             ],
             [
              0.6666666666666666,
              "#ed7953"
             ],
             [
              0.7777777777777778,
              "#fb9f3a"
             ],
             [
              0.8888888888888888,
              "#fdca26"
             ],
             [
              1,
              "#f0f921"
             ]
            ],
            "type": "histogram2dcontour"
           }
          ],
          "mesh3d": [
           {
            "colorbar": {
             "outlinewidth": 0,
             "ticks": ""
            },
            "type": "mesh3d"
           }
          ],
          "parcoords": [
           {
            "line": {
             "colorbar": {
              "outlinewidth": 0,
              "ticks": ""
             }
            },
            "type": "parcoords"
           }
          ],
          "pie": [
           {
            "automargin": true,
            "type": "pie"
           }
          ],
          "scatter": [
           {
            "fillpattern": {
             "fillmode": "overlay",
             "size": 10,
             "solidity": 0.2
            },
            "type": "scatter"
           }
          ],
          "scatter3d": [
           {
            "line": {
             "colorbar": {
              "outlinewidth": 0,
              "ticks": ""
             }
            },
            "marker": {
             "colorbar": {
              "outlinewidth": 0,
              "ticks": ""
             }
            },
            "type": "scatter3d"
           }
          ],
          "scattercarpet": [
           {
            "marker": {
             "colorbar": {
              "outlinewidth": 0,
              "ticks": ""
             }
            },
            "type": "scattercarpet"
           }
          ],
          "scattergeo": [
           {
            "marker": {
             "colorbar": {
              "outlinewidth": 0,
              "ticks": ""
             }
            },
            "type": "scattergeo"
           }
          ],
          "scattergl": [
           {
            "marker": {
             "colorbar": {
              "outlinewidth": 0,
              "ticks": ""
             }
            },
            "type": "scattergl"
           }
          ],
          "scattermapbox": [
           {
            "marker": {
             "colorbar": {
              "outlinewidth": 0,
              "ticks": ""
             }
            },
            "type": "scattermapbox"
           }
          ],
          "scatterpolar": [
           {
            "marker": {
             "colorbar": {
              "outlinewidth": 0,
              "ticks": ""
             }
            },
            "type": "scatterpolar"
           }
          ],
          "scatterpolargl": [
           {
            "marker": {
             "colorbar": {
              "outlinewidth": 0,
              "ticks": ""
             }
            },
            "type": "scatterpolargl"
           }
          ],
          "scatterternary": [
           {
            "marker": {
             "colorbar": {
              "outlinewidth": 0,
              "ticks": ""
             }
            },
            "type": "scatterternary"
           }
          ],
          "surface": [
           {
            "colorbar": {
             "outlinewidth": 0,
             "ticks": ""
            },
            "colorscale": [
             [
              0,
              "#0d0887"
             ],
             [
              0.1111111111111111,
              "#46039f"
             ],
             [
              0.2222222222222222,
              "#7201a8"
             ],
             [
              0.3333333333333333,
              "#9c179e"
             ],
             [
              0.4444444444444444,
              "#bd3786"
             ],
             [
              0.5555555555555556,
              "#d8576b"
             ],
             [
              0.6666666666666666,
              "#ed7953"
             ],
             [
              0.7777777777777778,
              "#fb9f3a"
             ],
             [
              0.8888888888888888,
              "#fdca26"
             ],
             [
              1,
              "#f0f921"
             ]
            ],
            "type": "surface"
           }
          ],
          "table": [
           {
            "cells": {
             "fill": {
              "color": "#EBF0F8"
             },
             "line": {
              "color": "white"
             }
            },
            "header": {
             "fill": {
              "color": "#C8D4E3"
             },
             "line": {
              "color": "white"
             }
            },
            "type": "table"
           }
          ]
         },
         "layout": {
          "annotationdefaults": {
           "arrowcolor": "#2a3f5f",
           "arrowhead": 0,
           "arrowwidth": 1
          },
          "autotypenumbers": "strict",
          "coloraxis": {
           "colorbar": {
            "outlinewidth": 0,
            "ticks": ""
           }
          },
          "colorscale": {
           "diverging": [
            [
             0,
             "#8e0152"
            ],
            [
             0.1,
             "#c51b7d"
            ],
            [
             0.2,
             "#de77ae"
            ],
            [
             0.3,
             "#f1b6da"
            ],
            [
             0.4,
             "#fde0ef"
            ],
            [
             0.5,
             "#f7f7f7"
            ],
            [
             0.6,
             "#e6f5d0"
            ],
            [
             0.7,
             "#b8e186"
            ],
            [
             0.8,
             "#7fbc41"
            ],
            [
             0.9,
             "#4d9221"
            ],
            [
             1,
             "#276419"
            ]
           ],
           "sequential": [
            [
             0,
             "#0d0887"
            ],
            [
             0.1111111111111111,
             "#46039f"
            ],
            [
             0.2222222222222222,
             "#7201a8"
            ],
            [
             0.3333333333333333,
             "#9c179e"
            ],
            [
             0.4444444444444444,
             "#bd3786"
            ],
            [
             0.5555555555555556,
             "#d8576b"
            ],
            [
             0.6666666666666666,
             "#ed7953"
            ],
            [
             0.7777777777777778,
             "#fb9f3a"
            ],
            [
             0.8888888888888888,
             "#fdca26"
            ],
            [
             1,
             "#f0f921"
            ]
           ],
           "sequentialminus": [
            [
             0,
             "#0d0887"
            ],
            [
             0.1111111111111111,
             "#46039f"
            ],
            [
             0.2222222222222222,
             "#7201a8"
            ],
            [
             0.3333333333333333,
             "#9c179e"
            ],
            [
             0.4444444444444444,
             "#bd3786"
            ],
            [
             0.5555555555555556,
             "#d8576b"
            ],
            [
             0.6666666666666666,
             "#ed7953"
            ],
            [
             0.7777777777777778,
             "#fb9f3a"
            ],
            [
             0.8888888888888888,
             "#fdca26"
            ],
            [
             1,
             "#f0f921"
            ]
           ]
          },
          "colorway": [
           "#636efa",
           "#EF553B",
           "#00cc96",
           "#ab63fa",
           "#FFA15A",
           "#19d3f3",
           "#FF6692",
           "#B6E880",
           "#FF97FF",
           "#FECB52"
          ],
          "font": {
           "color": "#2a3f5f"
          },
          "geo": {
           "bgcolor": "white",
           "lakecolor": "white",
           "landcolor": "#E5ECF6",
           "showlakes": true,
           "showland": true,
           "subunitcolor": "white"
          },
          "hoverlabel": {
           "align": "left"
          },
          "hovermode": "closest",
          "mapbox": {
           "style": "light"
          },
          "paper_bgcolor": "white",
          "plot_bgcolor": "#E5ECF6",
          "polar": {
           "angularaxis": {
            "gridcolor": "white",
            "linecolor": "white",
            "ticks": ""
           },
           "bgcolor": "#E5ECF6",
           "radialaxis": {
            "gridcolor": "white",
            "linecolor": "white",
            "ticks": ""
           }
          },
          "scene": {
           "xaxis": {
            "backgroundcolor": "#E5ECF6",
            "gridcolor": "white",
            "gridwidth": 2,
            "linecolor": "white",
            "showbackground": true,
            "ticks": "",
            "zerolinecolor": "white"
           },
           "yaxis": {
            "backgroundcolor": "#E5ECF6",
            "gridcolor": "white",
            "gridwidth": 2,
            "linecolor": "white",
            "showbackground": true,
            "ticks": "",
            "zerolinecolor": "white"
           },
           "zaxis": {
            "backgroundcolor": "#E5ECF6",
            "gridcolor": "white",
            "gridwidth": 2,
            "linecolor": "white",
            "showbackground": true,
            "ticks": "",
            "zerolinecolor": "white"
           }
          },
          "shapedefaults": {
           "line": {
            "color": "#2a3f5f"
           }
          },
          "ternary": {
           "aaxis": {
            "gridcolor": "white",
            "linecolor": "white",
            "ticks": ""
           },
           "baxis": {
            "gridcolor": "white",
            "linecolor": "white",
            "ticks": ""
           },
           "bgcolor": "#E5ECF6",
           "caxis": {
            "gridcolor": "white",
            "linecolor": "white",
            "ticks": ""
           }
          },
          "title": {
           "x": 0.05
          },
          "xaxis": {
           "automargin": true,
           "gridcolor": "white",
           "linecolor": "white",
           "ticks": "",
           "title": {
            "standoff": 15
           },
           "zerolinecolor": "white",
           "zerolinewidth": 2
          },
          "yaxis": {
           "automargin": true,
           "gridcolor": "white",
           "linecolor": "white",
           "ticks": "",
           "title": {
            "standoff": 15
           },
           "zerolinecolor": "white",
           "zerolinewidth": 2
          }
         }
        }
       }
      }
     },
     "metadata": {},
     "output_type": "display_data"
    }
   ],
   "source": [
    "fig = go.Figure()\n",
    "\n",
    "for y in res[1]:\n",
    "    fig.add_scatter(x=res[0], y=y[:-1], name=y[-1] )\n",
    "y_exact = list(map(y_analitic, res[0]))\n",
    "fig.add_scatter(x=res[0], y=y_exact, name='analitic')\n",
    "fig.show()"
   ]
  },
  {
   "cell_type": "code",
   "execution_count": 108,
   "metadata": {},
   "outputs": [
    {
     "data": {
      "image/png": "[encoded data removed]",
      "text/plain": [
       "<Figure size 864x648 with 1 Axes>"
      ]
     },
     "metadata": {
      "needs_background": "light"
     },
     "output_type": "display_data"
    }
   ],
   "source": [
    "plt.figure(figsize=(12,9))\n",
    "\n",
    "for y in res[1]:\n",
    "    plt.plot(res[0], y[:-1], label=y[-1] )\n",
    "\n",
    "y_exact = list(map(y_analitic, res[0]))\n",
    "plt.plot(res[0], y_exact, label='analitic')\n",
    "plt.legend()\n",
    "plt.show()"
   ]
  },
  {
   "cell_type": "markdown",
   "metadata": {},
   "source": [
    "Reduzindo o tamanho dos passos"
   ]
  },
  {
   "cell_type": "code",
   "execution_count": 109,
   "metadata": {},
   "outputs": [],
   "source": [
    "res = compare(func, 0, 2, 4, 0.5)"
   ]
  },
  {
   "cell_type": "code",
   "execution_count": 110,
   "metadata": {},
   "outputs": [
    {
     "data": {
      "image/png": "[encoded data removed]",
      "text/plain": [
       "<Figure size 864x648 with 1 Axes>"
      ]
     },
     "metadata": {
      "needs_background": "light"
     },
     "output_type": "display_data"
    }
   ],
   "source": [
    "plt.figure(figsize=(12,9))\n",
    "\n",
    "for y in res[1]:\n",
    "    plt.plot(res[0], y[:-1], label=y[-1] )\n",
    "\n",
    "y_exact = list(map(y_analitic, res[0]))\n",
    "plt.plot(res[0], y_exact, label='analitic')\n",
    "plt.legend()\n",
    "plt.show()"
   ]
  },
  {
   "cell_type": "markdown",
   "metadata": {},
   "source": [
    "## Métodos de Runge-Kutta\n",
    "\n",
    "Os métodos de `Runge-Kutta (RK)` alcançam a acurácia de uma abordagem por série de Taylor sem exigir cálculos de derivadas de ordem superior. Há muitas variações, mas todas podem ser postas na forma geral\n",
    "\n",
    "$$y_{i+1} = y_i + \\phi(x_i, y_i)h$$\n",
    "\n",
    "em que $\\phi(x_i, y_i, h)$ é chamada função incremento, a qual pode ser interpretada como representativa da inclinação em um intervalo. A função incremento pode ser escrita na\n",
    "forma geral\n",
    "\n",
    "$$\\phi = a_1k_1 + a_2 k_2 +...+ a_n k_n $$\n",
    "\n",
    "em que os $a$’s são constantes e os $k$’s são\n",
    "\n",
    "\\begin{align}\n",
    "k_1 &= f(x_i, y_i)\\\\\n",
    "k_2 &= (x_i + p_1 h, y_i + q_{11}k_1 h)\\\\\n",
    "k_3 &= (x_i + p_2 h, y_i + q_{21}k_1 h + q_{22}k_2 h)\\\\\n",
    ".\\\\\n",
    ".\\\\\n",
    ".\\\\\n",
    "k_n &= (x_i + p_{n-1} h, y_i + q_{n-1,1}k_1 h + q_{n-1,2}k_2 h + ... + q_{n-1,n-1}k_{n-1} h)\n",
    "\\end{align}\n",
    "\n",
    "em que os $p$’s e os $q$’s são constantes. Observe que os $k$’s são relações de recorrência. Isto é, k1 aparece na equação para $k_2$, o qual aparece na equação para $k_3$, e assim por diante. Como cada $k$ é um cálculo da função, essa recorrência torna os métodos RK eficientes\n",
    "para cálculos computacionais.\n",
    "\n",
    "Vários tipos de métodos de Runge-Kutta podem ser deduzidos usando-se um número diferente de termos na função incremento, conforme especificado por $n$. Observe que o método RK de primeira ordem com $n = 1$ é, na realidade, o método de Euler. Uma vez que n seja escolhido, os valores para os $a$’s, os $p$’s e os $q$’s são calculados igualando-se a equação principal a termos da expansão em série de Taylor. Logo, pelo menos para as versões de ordem mais baixa, o número de termos, $n$, usualmente representa a ordem da abordagem. Por exemplo, na próxima seção, os métodos RK de segunda ordem usam uma função incremento com dois termos $(n = 2)$. Tais métodos de segunda ordem serão exatos se a solução da equação diferencial for quadrática. Além disso, como os termos com $h^3$ e com grau mais alto foram desprezados durante a dedução,\n",
    "o erro de truncamento local é $\\mathcal{O}(h^3)$ e o erro global é $\\mathcal{O}(h^2)$. Nas seções subsequentes, serão desenvolvidos os métodos RK de terceira e quarta ordens ($n = 3$ e $4$, respectivamente), casos nos quais os erros de truncamento globais são $\\mathcal{O}(h^3)$ e $\\mathcal{O}(h^4)$, respectivamente."
   ]
  },
  {
   "cell_type": "markdown",
   "metadata": {},
   "source": [
    "### Métodos de Runge-Kutta de Segunda Ordem\n",
    "\n",
    "A versão de segunda ordem da equação geral do método de RK é\n",
    "\n",
    "$$y_{i+1} = y_i + (a_1k_1 + a_2k_2)h$$\n",
    "\n",
    "em que\n",
    "\n",
    "\\begin{align}\n",
    "k1 &= f(x_i, y_i)\\\\\n",
    "k_2 &= (x_i + p_1 h, y_i + q_{11}k_1 h) \n",
    "\\end{align}\n",
    "\n",
    "Os valores $a_1$, $a_2$, $p_1$ e $q_{11}$ são calculados igualando-se a equação acima à expansão em série de Taylor até os termos de $2^o$ grau.\n",
    "\n",
    "<p align=\"center\">\n",
    "<img src=\"./images/9-rk2.png\" width=850 height=800 />\n",
    "</p>\n",
    "\n",
    "Fazendo isso, deduzimos três equações para calcular as quatro constantes desconhecidas. As três equações são\n",
    "\n",
    "\\begin{align}\n",
    "a_1 + a_2 &= 1\\\\\n",
    "a_2 p_1 &= \\frac{1}{2}\\\\\n",
    "a_2 q_{11} &= \\frac{1}{2}\n",
    "\\end{align}\n",
    "\n",
    "Como temos três equações com quatro incógnitas, devemos escolher um valor para\n",
    "uma das incógnitas para determinar as outras três. Suponha que especifiquemos um valor\n",
    "para $a_2$. Então, as equações acima podem ser resolvidas simultaneamente por\n",
    "\n",
    "\\begin{align}\n",
    "a_1 &= 1- a_2 \\\\\n",
    "p_1 &= q_{11} = \\frac{1}{2a_2}\n",
    "\\end{align}\n",
    "\n",
    "Como podemos escolher um número infinito de valores para $a_2$, existe um número\n",
    "infinito de métodos RK de segunda ordem. Cada versão forneceria exatamente o mesmo\n",
    "resultado se a solução da EDO fosse quadrática, linear ou constante. Entretanto, elas\n",
    "fornecem resultados diferentes quando (como é o caso típico) a solução é mais complicada. Apresentamos três das versões usadas mais freqüentemente e preferidas:"
   ]
  },
  {
   "cell_type": "markdown",
   "metadata": {},
   "source": [
    "#### Método de Heun com um Único Corretor $(a_2 = \\frac{1}{2})$\n",
    "\n",
    "Se for suposto que $a_2 = \\frac{1}{2}$, as equações podem ser resolvidas por $a_1 = 1/2$ e $p1 = q_{11} = 1$. Esses parâmetros, quando substituídos na equação principal, fornecem\n",
    "\n",
    "$$y_{i+1} = y_i + (\\frac{1}{2}k_1 + \\frac{1}{2}k_2)h$$\n",
    "\n",
    "em que\n",
    "\n",
    "\\begin{align}\n",
    "k1 &= f(x_i, y_i)\\\\\n",
    "k_2 &= (x_i + h, y_i + k_1 h) \n",
    "\\end{align}\n",
    "\n",
    "Observe que $k_1$ é a inclinação no início do intervalo e $k_2$ é a inclinação no final do intervalo. Consequentemente, esse método de segunda ordem de Runge-Kutta é, na realidade,\n",
    "a técnica de Heun sem iteração!\n",
    "\n",
    "#### O Método do Ponto Médio $(a_2 = 1)$\n",
    "\n",
    "Se for suposto que $a_2$ é 1, então $a_1 = 0, p_1 =\n",
    "q_{11} = \\frac{1}{2}$, e a equação principal se torna\n",
    "\n",
    "$$y_{i+1} = y_i + k_2 h$$\n",
    "\n",
    "em que \n",
    "\\begin{align}\n",
    "k_1 &= f(x_i, y_i)\\\\\n",
    "k_2 &= (x_i + \\frac{1}{2} h, y_i + \\frac{1}{2} k_1 h) \n",
    "\\end{align}\n",
    "\n",
    "Esse é o método do ponto médio.\n",
    "\n",
    "#### Método de Ralston ($a_2 = \\frac{2}{3}$)\n",
    "\n",
    "Ralston (1962) e Ralston e Rabinowitz (1978) determinaram que a escolha $a_2 = \\frac{2}{3}$ fornece um limitante mínimo para o erro de truncamento para os algoritmos RK de segunda ordem. Para essa versão, $a_1 = \\frac{1}{3}$ e $p_1 = q_{11} = \\frac{3}{4}$, e obtém-se\n",
    "\n",
    "$$y_{i+1} = y_i + (\\frac{1}{3} k_1 + \\frac{2}{3} k_2)h$$\n",
    "\n",
    "em que \n",
    "\\begin{align}\n",
    "k_1 &= f(x_i, y_i)\\\\\n",
    "k_2 &= (x_i + \\frac{3}{4} h, y_i + \\frac{3}{4} k_1 h) \n",
    "\\end{align}"
   ]
  },
  {
   "cell_type": "markdown",
   "metadata": {},
   "source": [
    "#### **Exemplo:**\n",
    "Use o método do ponto médio e o método\n",
    "de Ralston para integrar numericamente a equação\n",
    "\n",
    "$$f(x,y) = -2x^3 + 12 x^2 - 20x + 8.5$$\n",
    "\n",
    "de $x = 0$ a $x = 4$ usando um tamanho de passo de $0.5$. A condição inicial em $x = 0$ é\n",
    "$y = 1$. Compare os resultados com os valores obtidos usando um outro algoritmo RK de\n",
    "segunda ordem, isto é, o método de Heun sem iteração do corretor. Tambem com o resultado analitico e o metodo de Euler."
   ]
  },
  {
   "cell_type": "markdown",
   "metadata": {},
   "source": [
    "### Métodos de Runge-Kutta de Terceira Ordem\n",
    "\n",
    "Para $n = 3$, a dedução é parecida com a dos métodos de segunda ordem. O resultado dessa\n",
    "dedução é um conjunto de seis equações com oito incógnitas. Portanto, devem ser especificados valores *a priori* para duas das incógnitas para determinar os parâmetros restantes. Uma versão comum que resulta é\n",
    "\n",
    "$$\n",
    "y_{i+1} = y_i + \\frac{1}{6}(k_1 + 4k_2 + k3)h\n",
    "$$\n",
    "\n",
    "em que\n",
    "\n",
    "\\begin{align}\n",
    "k_1 &= f(x_i, y_i)\\\\\n",
    "k_2 &= f(x_i + \\frac{1}{2} h, y_i + \\frac{1}{2}k_1 h)\\\\\n",
    "k_3 &= f(x_i, y_i - k_1h + 2k_2 h)\n",
    "\\end{align}\n",
    "\n",
    "Observe que, se a derivada for uma função apenas de $x$, o método de terceira ordem\n",
    "se reduz à regra `1/3 de Simpson`. Ralston (1962) e Ralston e Rabinowitz (1978) desenvolveram uma versão alternativa que fornece um limitante mínimo para o erro de truncamento. De qualquer modo, os métodos RK de terceira ordem têm erros local e global de $\\mathcal{O}(h^4)$ e $\\mathcal{O}(h^3)$, respectivamente, e fornecem resultados exatos se a solução for uma função\n",
    "cúbica. Tratando-se de polinômios, a equação acima também será exata quando a equação diferencial for uma função cúbica e a solução for de quarto grau, porque a regra 1/3 de Simpson fornece estimativas exatas da integral para funções cúbicas."
   ]
  },
  {
   "cell_type": "markdown",
   "metadata": {},
   "source": [
    "### Métodos de Runge-Kutta de Quarta Ordem\n",
    "\n",
    "Os métodos RK mais populares são os de quarta ordem. Como no caso das abordagens de\n",
    "segunda ordem, existe um número infinito de versões. A seguinte é a forma mais comumente usada e, assim, a chamamos `método RK de quarta ordem clássico`:\n",
    "\n",
    "$$\n",
    "y_{i+1} = y_i + \\frac{1}{6}(k_1 + 2k_2 + 2k_3 + k_4)h\n",
    "$$\n",
    "\n",
    "em que\n",
    "\n",
    "\\begin{align*}\n",
    "k_1 &= f(x_i, y_i)\\\\\n",
    "k_2 &= f(x_i + \\frac{1}{2} h, y_i + \\frac{1}{2}k_1 h)\\\\\n",
    "k_3 &= f(x_i + \\frac{1}{2} h, y_i + \\frac{1}{2}k_2 h)\\\\\n",
    "k_4 &= f(x_i, y_i + k_3h)\n",
    "\\end{align*}\n",
    "\n",
    "Observe que para EDOs que são uma função apenas de $x$, o método RK de quarta\n",
    "ordem clássico é parecido com a `regra 1/3 de Simpson`. Além disso, o método RK de\n",
    "quarta ordem é parecido com a abordagem de Heun no fato que são desenvolvidas\n",
    "múltiplas estimativas da inclinação para se chegar a uma inclinação média melhorada\n",
    "no intervalo. Como descrito na figura abaixo, cada um dos $k$’s representa uma inclinação.\n",
    "Então, a equação acima representa uma média ponderada delas para chegar a uma\n",
    "inclinação melhorada.\n",
    "\n",
    "<p align=\"center\">\n",
    "<img src=\"./images/9-rk4.png\" width=450 height=400 />\n",
    "</p>\n",
    "\n",
    "\n",
    "#### Exemplo\n",
    "\n",
    "\n",
    "* (a) Use o método RK de quarta ordem clássico para integrar $$f(x, y) = −2x^3 + 12x^2 − 20x + 8.5$$ \n",
    "utilizando um tamanho de passo de $h = 0.5$ e uma condição inicial de $y = 1$ em $x = 0$.\n",
    "\n",
    "* (b) Analogamente, integre $$f(x, y) = 4e^{0.8x} − 0.5y$$\n",
    "usando $h = 0.5$ com $y(0) = 2$ de x = $0$ a $0.5$.\n",
    "\n"
   ]
  },
  {
   "cell_type": "code",
   "execution_count": 1,
   "metadata": {},
   "outputs": [],
   "source": [
    "def RK4(func, xi, yi, h):\n",
    "    k1 = func(xi, yi)\n",
    "    k2 = func(xi+0.5*h, yi+(k1*h)/2)\n",
    "    k3 = func(xi+0.5*h, yi+(k2*h)/2)\n",
    "    k4 = func(xi, yi+k3*h)\n",
    "\n",
    "    return yi + ((k1 + 2*k2 + 2*k3 + k4)*h)/6"
   ]
  },
  {
   "cell_type": "markdown",
   "metadata": {},
   "source": [
    "### Metodos de Runge-Kutta de ordem superiores\n",
    "\n",
    "Quando precisamos de resultados com mais acuracia podemos usar o metodo de RK de quinta ordem sugerido por Butcher (1964)\n",
    "\n",
    "$$\n",
    "y_{i+1} = y_i + \\frac{1}{90}(7 k_1 + 32k_3 + 12k_4 + 32k_5 + 7k_6)h\n",
    "$$\n",
    "\n",
    "em que\n",
    "\n",
    "\\begin{align*}\n",
    "k_1 &= f(x_i, y_i)\\\\\n",
    "k_2 &= f(x_i + \\frac{1}{4} h, y_i + \\frac{1}{4}k_1 h)\\\\\n",
    "k_3 &= f(x_i + \\frac{1}{4} h, y_i + \\frac{1}{8}k_1 h + \\frac{1}{8}k_2 h)\\\\\n",
    "k_4 &= f(x_i + \\frac{1}{2} h, y_i - \\frac{1}{2}k_2 h + k_3 h)\\\\\n",
    "k_5 &= f(x_i + \\frac{3}{4} h, y_i + \\frac{3}{16}k_1 h + \\frac{9}{16}k_4 h)\\\\\n",
    "k_6 &= f(x_i + h, y_i - \\frac{3}{7}k_1 h + \\frac{2}{7}k_2 h + \\frac{12}{7}k_3 h - \\frac{12}{7}k_4 h+ \\frac{8}{7}k_5 h)\\\\\n",
    "\\end{align*}\n",
    "\n",
    "Exitem formulas para RK de ordem superiores mas raramente estão sendo usado. Na pratica, a acuracia adicional das ordens acima de 4 não compensa a complexidade e custo computacional.\n",
    "\n",
    "<p align=\"center\">\n",
    "<img src=\"./images/9-rk5.png\" width=300 height=450 />\n",
    "</p>"
   ]
  },
  {
   "cell_type": "markdown",
   "metadata": {},
   "source": [
    "### Sistemas de equações \n",
    "\n",
    "Muitos problemas práticos em engenharia e em ciência exigem a solução de um sistema\n",
    "simultâneo de equações diferenciais ordinárias em vez de uma única equação. Tais sistemas podem ser representados de forma geral por\n",
    "\n",
    "\\begin{align*}\n",
    "\\frac{dy_1}{dx} &= f_1 (x,y_1, y_2, ..., y_n)\\\\\n",
    "\\frac{dy_2}{dx} &= f_2 (x,y_1, y_2, ..., y_n)\\\\\n",
    ".\\\\\n",
    ".\\\\\n",
    ".\\\\\n",
    "\\frac{dy_n}{dx} &= f_n (x,y_1, y_2, ..., y_n)\\\\\n",
    "\\end{align*}\n",
    "\n",
    "A solução de tal sistema exige que sejam conhecidas $n$ condições iniciais no valor inicial de $x$.\n",
    "\n",
    "#### O Método de Euler\n",
    "\n",
    "Todos os métodos discutidos nesta seção para uma única equação podem ser estendidos ao sistema que acabamos de mostrar. As aplicações em engenharia podem envolver milhares de equações simultâneas. Em cada caso, o procedimento para resolver um sistema de equações envolve simplesmente a aplicação da técnica de passo único em todas as equações para cada passo, antes de prosseguir para o próximo passo. Isso é mais bem ilustrado pelo próximo exemplo para o método de Euler, que é simples.\n",
    "\n",
    "\n",
    "##### **Exemplo:**\n",
    "Resolva o seguinte conjunto de equações diferenciais usando o método de Euler, supondo que, em $x = 0, y_1 = 4 \\text{ e }  y_2 = 6$. Integre até $x = 2$ com um tamanho de passo de $0.5$.\n",
    "\n",
    "**Resposta**\n",
    "\n",
    "\\begin{align*}\n",
    "y_1(0.5) &= 4 + [−0.5(4)]0.5 = 3 \\\\\n",
    "y_2(0.5) &= 6 + [4 − 0.3(6) − 0.1(4)]0.5 = 6.9\n",
    "\\end{align*}"
   ]
  },
  {
   "cell_type": "code",
   "execution_count": 5,
   "metadata": {},
   "outputs": [],
   "source": [
    "def _Euler(funcs, xi, yis, h):\n",
    "    n = len(funcs)\n",
    "    y = []\n",
    "    for i in range(n):\n",
    "        y.append(yis[i] + funcs[i](xi, *yis)*h)\n",
    "    return y\n",
    "        "
   ]
  },
  {
   "cell_type": "code",
   "execution_count": 12,
   "metadata": {},
   "outputs": [],
   "source": [
    "def EulerSys(funcs, interval, yis, h):\n",
    "    assert len(funcs) == len(yis), \"yis and funcs must have the same size\"\n",
    "    xi, xf = interval\n",
    "    X = [xi]\n",
    "    Y = [yis]\n",
    "    while xi <= xf:\n",
    "        y = _Euler(funcs, xi, Y[-1], h)\n",
    "        Y.append(y)\n",
    "        X.append(xi)\n",
    "        xi += h\n",
    "    return X, Y"
   ]
  },
  {
   "cell_type": "code",
   "execution_count": 56,
   "metadata": {},
   "outputs": [],
   "source": [
    "f1 = lambda x, y1, y2: -0.5 * y1\n",
    "f2 = lambda x, y1, y2: 4 - 0.3*y2 - 0.1 * y1\n",
    "x0 = 0\n",
    "xf = 2\n",
    "interval = (x0 ,xf)\n",
    "h = 0.1\n",
    "yis = [4, 6]"
   ]
  },
  {
   "cell_type": "code",
   "execution_count": 57,
   "metadata": {},
   "outputs": [],
   "source": [
    "X, Y = EulerSys((f1, f2), interval, yis, h)"
   ]
  },
  {
   "cell_type": "code",
   "execution_count": 58,
   "metadata": {
    "scrolled": true
   },
   "outputs": [
    {
     "data": {
      "image/png": "[encoded data removed]",
      "text/plain": [
       "<Figure size 432x288 with 1 Axes>"
      ]
     },
     "metadata": {
      "needs_background": "light"
     },
     "output_type": "display_data"
    }
   ],
   "source": [
    "plt.plot(X, Y)\n",
    "plt.show()"
   ]
  },
  {
   "cell_type": "markdown",
   "metadata": {},
   "source": [
    "Agora vamos resolver usando `Scipy`"
   ]
  },
  {
   "cell_type": "code",
   "execution_count": 59,
   "metadata": {},
   "outputs": [],
   "source": [
    "def Eq(x, arg):\n",
    "    y1 = f1(x, *arg)\n",
    "    y2 = f2(x, *arg)\n",
    "    return y1, y2"
   ]
  },
  {
   "cell_type": "code",
   "execution_count": 60,
   "metadata": {},
   "outputs": [],
   "source": [
    "t = np.linspace(x0, xf, 100)\n",
    "res = solve_ivp(Eq, (x0,xf), [4, 6], t_eval=t)"
   ]
  },
  {
   "cell_type": "code",
   "execution_count": 61,
   "metadata": {},
   "outputs": [
    {
     "data": {
      "image/png": "[encoded data removed]",
      "text/plain": [
       "<Figure size 432x288 with 1 Axes>"
      ]
     },
     "metadata": {
      "needs_background": "light"
     },
     "output_type": "display_data"
    }
   ],
   "source": [
    "plt.plot(res.t, res.y[0])\n",
    "plt.plot(res.t, res.y[1])\n",
    "plt.show()"
   ]
  },
  {
   "cell_type": "code",
   "execution_count": 65,
   "metadata": {},
   "outputs": [
    {
     "name": "stdout",
     "output_type": "stream",
     "text": [
      "4.05 ms ± 65.7 µs per loop (mean ± std. dev. of 7 runs, 100 loops each)\n"
     ]
    }
   ],
   "source": [
    "%timeit solve_ivp(Eq, (0,100), [4, 6], t_eval=t)"
   ]
  },
  {
   "cell_type": "code",
   "execution_count": 66,
   "metadata": {},
   "outputs": [
    {
     "name": "stdout",
     "output_type": "stream",
     "text": [
      "12.6 ms ± 348 µs per loop (mean ± std. dev. of 7 runs, 100 loops each)\n"
     ]
    }
   ],
   "source": [
    "%timeit EulerSys((f1, f2), (0, 100), yis, h=0.01)"
   ]
  },
  {
   "cell_type": "markdown",
   "metadata": {},
   "source": [
    "#### Métodos de Runge-Kutta\n",
    "\n",
    "Observe que qualquer um dos métodos RK de ordem superior deste capítulo pode ser\n",
    "aplicado para sistemas de equações — mas é preciso tomar cuidado na determinação das\n",
    "inclinações. Olhem para a figura das inclinações de RK4. As inclinações estão sendo calculadas nos **pontos diferentes**. Ou seja, primeiro desenvolvemos inclinações para todas as variáveis no valor inicial. Essas inclinações (um conjunto de $k_1$’s) são então usadas para. fazer previsões da variável independente no ponto médio do intervalo. Os valores no\n",
    "ponto médio são, por sua vez, usados para calcular um conjunto de inclinações nos pontos médios (os $k_2$’s). Essas novas inclinações são então levadas de volta para o ponto inicial para fazer um outro conjunto de previsões no ponto médio que leva a novas previsões\n",
    "de inclinações nos pontos médios (os $k_3$’s). Estes então são usados para fazer previsões no\n",
    "ponto final do intervalo, que são utilizadas para desenvolver inclinações no final do intervalo (os $k_4$’s). Finalmente, os $k$’s são combinados em um conjunto de funções incremento e trazidos de volta para o ponto inicial para fazer a previsão final. O exemplo a seguir ilustra a abordagem.\n",
    "\n",
    "##### **Exemplo:**\n",
    "Use os métodos RK de quarta ordem para resolver as EDOs do exemplo anterior.\n",
    "\n",
    "**Resposta**\n",
    "\n",
    "Primeiro, precisamos determinar todas as inclinações no início do intervalo:\n",
    "\n",
    "\\begin{align*}\n",
    "k_{1,1} &= f_1(0, 4, 6) = −0,5(4) = −2\\\\\n",
    "k_{1,2} &= f_2(0, 4, 6) = 4 − 0.3(6) − 0.1(4) = 1.8\n",
    "\\end{align*}\n",
    "\n",
    "em que $k_{i, j}$ é o $i$-ésimo valor de $k$ para a $j$-ésima variável dependente. A seguir, devemos calcular os primeiros valores de $y_1$ e $y_2$ no ponto médio:\n",
    "\n",
    "\\begin{align*}\n",
    "y_1 + k_{1,1} \\frac{h}{2} &= 4 + (-2)\\frac{0.5}{2} = 3.5 \\\\\n",
    "y_2 + k_{1,2} \\frac{h}{2} &= 6 + (1.8)\\frac{0.5}{2} = 6.45\n",
    "\\end{align*}\n",
    "\n",
    "o que pode ser usado para calcular o primeiro conjunto de inclinações no ponto médio,\n",
    "\n",
    "\\begin{align*}\n",
    "k_{2,1} &= f_1(0.25, 3.5, 6.45) = −1.75\\\\\n",
    "k_{2,2} &= f_2(0.25, 3.5, 6.45) = 1.715\n",
    "\\end{align*}\n",
    "\n",
    "Esses são usados para determinar o segundo conjunto de previsões para o ponto médio,\n",
    "\n",
    "\\begin{align*}\n",
    "y_1 + k_{2,1} \\frac{h}{2} &= 4 + (-1.75)\\frac{0.5}{2} = 3.5625 \\\\\n",
    "y_2 + k_{2,2} \\frac{h}{2} &= 6 + (1.715)\\frac{0.5}{2} = 6.42875\n",
    "\\end{align*}\n",
    "\n",
    "que podem ser utilizados para calcular o segundo conjunto de inclinações no ponto médio,\n",
    "\n",
    "\\begin{align*}\n",
    "k_{3,1} &= f_1(0.25, 3.5625, 6.42875) = −1.78125\\\\\n",
    "k_{3,2} &= f_2(0.25, 3.5625, 6.42875) = 1.715125\n",
    "\\end{align*}\n",
    "\n",
    "Esses são usados para determinar as previsões no final do intervalo\n",
    "\n",
    "\\begin{align*}\n",
    "y_1 + k_{3,1} h &= 4 + (-1.78125)(0.5) = 3.109375 \\\\\n",
    "y_2 + k_{3,2} h &= 6 + (1.715125)(0.5) = 6.857563\n",
    "\\end{align*}\n",
    "\n",
    "que podem ser utilizados para calcular as inclinações na extremidade final,\n",
    "\n",
    "\\begin{align*}\n",
    "k_{4,1} &= f_1(0.5, 3.109375, 6.857563) = −1.554688\\\\\n",
    "k_{4,2} &= f_2(0.5, 3.109375, 6.857563) = 1.631794\n",
    "\\end{align*}\n",
    "\n",
    "Os valores de $k$ podem então ser usados para calcular\n",
    "\n",
    "\\begin{align*}\n",
    "y_1(0.5) &= 4 + \\frac{1}{6}[−2 + 2(−1.75 − 1.78125) − 1.554688]0.5 = 3.115234\\\\\n",
    "y_2(0.5) &= 6 + \\frac{1}{6}[1.8 + 2(1.715 + 1.715125) + 1.631794]0.5 = 6.857670\n",
    "\\end{align*}"
   ]
  },
  {
   "cell_type": "markdown",
   "metadata": {},
   "source": [
    "### Algoritmos Computacionais para a Resolução de Sistemas de EDOs\n",
    "\n",
    "O código computacional para resolver uma única EDO pelo método de Euler pode ser facilmente estendido para sistemas de equações. As modificações incluem:\n",
    "\n",
    "1. Entrar o número de equações, n.\n",
    "2. Entrar os valores iniciais de cada uma das n variáveis dependentes.\n",
    "3. Modificar o algoritmo de modo que ele calcule inclinações para cada uma das\n",
    "variáveis dependentes.\n",
    "4. Incluir equações adicionais para calcular os valores da derivada para cada uma\n",
    "das EDOs.\n",
    "4. Incluir laços para calcular um novo valor para cada variável dependente.\n",
    "\n",
    "Tal algoritmo está delineado na figura abaixo para o método RK de quarta ordem.\n",
    "\n",
    "\n",
    "<p align=\"center\">\n",
    "<img src=\"./images/9-rk4-sys.png\" width=600 height=900 />\n",
    "</p>"
   ]
  },
  {
   "cell_type": "markdown",
   "metadata": {},
   "source": [
    "#### **Example:**\n",
    "Um programa de computador para implementar o método RK de quarta ordem para sistemas pode ser desenvolvido facilmente com base na figura acima. Tal software torna conveniente a comparação de diferentes modelos para um sistema físico. Por exemplo, um modelo linear para o pêndulo oscilante é dado por \n",
    "\n",
    "\\begin{align*}\n",
    "\\frac{dy_1}{dx} &= y_2\\\\\n",
    "\\frac{dy_2}{dx} &= -16.1 y_1\n",
    "\\end{align*}\n",
    "\n",
    "em que $y_1$ e $y_2$ são o deslocamento angular e a velocidade, respectivamente. Um modelo\n",
    "não-linear para o mesmo sistema é\n",
    "\n",
    "\\begin{align*}\n",
    "\\frac{dy_3}{dx} &= y_4\\\\\n",
    "\\frac{dy_4}{dx} &= -16.1 \\sin(y_3)\n",
    "\\end{align*}\n",
    "\n",
    "em que $y_3$ e $y_4$ são o deslocamento angular e a velocidade para o caso não-linear. Resolva\n",
    "esses sistemas para dois casos: (a) um pequeno deslocamento inicial ($y_1 = y_3 = 0.1$\n",
    "radianos; $y_2 = y_4 = 0$) e (b) um grande deslocamento ($y_1 = y_3 = \\pi /4 = 0.785398$ ra\n",
    "dianos; $y_2 = y_4 = 0$).\n",
    "\n",
    "**Resposta**\n",
    "\n"
   ]
  },
  {
   "cell_type": "code",
   "execution_count": 51,
   "metadata": {},
   "outputs": [],
   "source": [
    "f1 = lambda x,y1, y2, y3, y4: y2\n",
    "f2 = lambda x, y1, y2, y3, y4: -16.1 * y1 \n",
    "f3 = lambda x, y1, y2, y3, y4: y4\n",
    "f4 = lambda x, y1, y2, y3, y4: -16.1 * np.sin(y3)\n",
    "\n",
    "funcs = [f1, f2, f3, f4]\n",
    "\n",
    "x0 = 0\n",
    "xf = 4\n",
    "\n",
    "y0s = [0.1, 0, 0.1, 0]\n"
   ]
  },
  {
   "cell_type": "code",
   "execution_count": 52,
   "metadata": {},
   "outputs": [
    {
     "data": {
      "image/png": "[encoded data removed]",
      "text/plain": [
       "<Figure size 576x432 with 1 Axes>"
      ]
     },
     "metadata": {
      "needs_background": "light"
     },
     "output_type": "display_data"
    }
   ],
   "source": [
    "X, Y = cn.RK4sys(funcs, (x0, xf), y0s)\n",
    "plt.figure(figsize=(8,6))\n",
    "plt.plot(X, Y)\n",
    "plt.legend(('y1', 'y2', 'y3', 'y4'))\n",
    "plt.show()"
   ]
  },
  {
   "cell_type": "code",
   "execution_count": 53,
   "metadata": {
    "scrolled": true
   },
   "outputs": [
    {
     "data": {
      "image/png": "[encoded data removed]",
      "text/plain": [
       "<Figure size 576x432 with 1 Axes>"
      ]
     },
     "metadata": {
      "needs_background": "light"
     },
     "output_type": "display_data"
    }
   ],
   "source": [
    "y0s = [0.785398, 0, 0.785398, 0]\n",
    "\n",
    "X, Y = cn.RK4sys(funcs, (x0, xf), y0s)\n",
    "\n",
    "plt.figure(figsize=(8,6))\n",
    "plt.plot(X, Y)\n",
    "plt.legend(('y1', 'y2', 'y3', 'y4'))\n",
    "plt.show()"
   ]
  },
  {
   "cell_type": "code",
   "execution_count": null,
   "metadata": {},
   "outputs": [],
   "source": []
  },
  {
   "cell_type": "markdown",
   "metadata": {},
   "source": [
    "## Métodos de Runge-Kutta Adaptativos\n",
    "\n",
    "Até este ponto, apresentamos métodos para resolver EDOs que empregam um\n",
    "tamanho de passo constante. Para um número significativo de problemas, isso pode\n",
    "representar uma limitação séria. Por exemplo, suponha que estejamos integrando uma\n",
    "EDO com uma solução do tipo descrito na figura abaixo. Para a maior parte do intervalo, a solução varia gradualmente. Tal comportamento sugere que um tamanho de\n",
    "passo razoavelmente grande poderia ser utilizado para obter resultados adequados.\n",
    "Entretanto, para uma região localizada de $x = 1.75$ a $x = 2.25$, a solução passa por\n",
    "uma variação abrupta. A conseqüência prática de lidar com tais funções é que seria\n",
    "necessário um tamanho de passo muito pequeno para capturar adequadamente o comportamento impulsivo. Se fosse utilizado um algoritmo com tamanho de passo constante, o pequeno tamanho de passo necessário para a região de variação abrupta teria de ser aplicado em todo o cálculo. Como conseqüência, um tamanho de passo muito menor do que o necessário — e, portanto, muito mais cálculos — seria desperdiçado na região de variação gradual.\n",
    "Os algoritmos que ajustam automaticamente o tamanho do passo podem evitar tais\n",
    "exageros e, portanto, apresentam grande vantagem. Como eles se “adaptam” à trajetória\n",
    "da solução, dizemos que têm controle adaptativo do tamanho do passo. A implementação\n",
    "dessas abordagens exige que uma estimativa do erro de truncamento local seja obtida em\n",
    "cada passo. Então, essa estimativa de erro pode servir de base ou para aumentar ou para\n",
    "diminuir o tamanho do passo.\n",
    "\n",
    "<p align=\"center\">\n",
    "<img src=\"./images/9-adap.png\" width=300 height=400 />\n",
    "</p>\n",
    "\n",
    "### Método RK Adaptativo ou de Divisão do Passo na Metade\n",
    "\n",
    "A *divisão do passo na metade* (também chamado *RK adaptativo*) envolve fazer cada\n",
    "passo duas vezes, uma como um passo completo, e independentemente, como dois meio\n",
    "passos. A diferença nos dois resultados representa uma estimativa do erro de truncamento\n",
    "local. Se $y_1$ designar a previsão por um único passo e $y_2$ designar a previsão usando dois\n",
    "meio passos, o erro $\\Delta$ pode ser representado por\n",
    "\n",
    "$$\\Delta = y_2 - y_1$$\n",
    "\n",
    "Além de fornecer um critério para o controle do tamanho do passo, a equação acima\n",
    "também pode ser usada para corrigir a previsão $y_2$. Para a versão RK de quarta ordem, a\n",
    "correção é\n",
    "\n",
    "$$y_2 \\leftarrow y_2 + \\frac{\\Delta}{15}$$\n",
    "\n",
    "Essa estimativa é acurada até a quinta ordem.\n",
    "\n",
    "#### **Exemplo:**\n",
    "\n",
    "Use o método RK de quarta ordem adaptativo para integrar $y' = 4e^{0.8x} − 0.5y$ de $x = 0 \\text{ a } 2$ usando $h = 2$ e uma condição inicial $y(0) = 2$. Esta é a mesma equação diferencial que foi resolvida anteriormente no Exemplo 25.5. Lembre-se\n",
    "de que a solução verdadeira é $y(2) = 14.84392$.\n",
    "\n",
    "**Resposta**\n",
    "\n",
    "A previsão única com um passo h é calculada como\n",
    "\n",
    "$$y(2) = 2 + [3 + 2(6.40216 + 4.70108) + 14.11105]2 = 15.10584 $$\n",
    "\n",
    "\n",
    "As duas previsões de meio passo são\n",
    "\n",
    "$$y(1) = 2 + \\frac{1}{6}[3 + 2(4.21730 + 3.91297) + 5.945681]1 = 6.20104 $$\n",
    "\n",
    "e\n",
    "\n",
    "$$y(2) = 6.20104 + \\frac{1}{6}[5.80164 + 2(8.72954 + 7.99756) + 12.71283]1 = 14.86249$$\n",
    "\n",
    "Portanto, o erro aproximado é\n",
    "\n",
    "$$\n",
    "E_a = \\frac{14.86249 − 15.10584}{15} = -0.01622\n",
    "$$\n",
    "\n",
    "que se compara favoravelmente com o erro verdadeiro de\n",
    "\n",
    "$$E_t = 14.84392 − 14.86249 = −0.01857$$\n",
    "\n",
    "A estimativa de erro também pode ser usada para corrigir a previsão\n",
    "\n",
    "$$y(2) = 14.86249 − 0.01622 = 14.84627$$\n",
    "\n",
    "a qual tem um $E_t = −0.00235$."
   ]
  },
  {
   "cell_type": "markdown",
   "metadata": {},
   "source": [
    "### Runge-Kutta Fehlberg\n",
    "\n",
    "Além de dividir o passo na metade como estratégia para ajustar o tamanho do passo, uma\n",
    "abordagem alternativa para obter uma estimativa do erro envolve o cálculo de duas previsões RK de ordens diferentes. Os resultados podem então ser subtraídos para se obter uma estimativa do erro de truncamento local. Uma desvantagem dessa abordagem é que ela aumenta muito o gasto computacional. Por exemplo, previsões de quarta e quinta ordens equivalem a um cálculo de dez valores de função no total por passo. O método de *Runge-Kutta Fehlberg* ou *RK embutido* contorna esse problema de forma inteligente pelo uso de um método RK de quinta ordem que utiliza os cálculos de função do método RK de quarta ordem que o acompanha. Assim, a abordagem fornece uma estimativa de erro com base em apenas seis cálculos de função!\n",
    "\n",
    "No caso presente, usamos a seguinte estimativa de quarta ordem\n",
    "\n",
    "$$\n",
    "y_{i+1} = y_i + (\\frac{37}{378}k_1 + \\frac{250}{621}k_3 + \\frac{125}{594}k_4 + \\frac{512}{1771}k_6)h \n",
    "$$\n",
    "\n",
    "junto com a fórmula de quinta ordem:\n",
    "\n",
    "$$\n",
    "y_{i+1} = y_i + (\\frac{2825}{27648}k_1 + \\frac{18575}{48384}k_3 + \\frac{13525}{55296}k_4 + \\frac{277}{14336}k_5 + \\frac{1}{4}k_6)h \n",
    "$$\n",
    "\n",
    "em que\n",
    "\n",
    "\\begin{align*}\n",
    "k_1 &= f(x_i, y_i)\\\\\n",
    "k_2 &= f(x_i+ \\frac{1}{5}h, y_i+ \\frac{1}{5}k_1 h)\\\\\n",
    "k_3 &= f(x_i+ \\frac{3}{10}h, y_i+ \\frac{3}{40}k_1 h + \\frac{9}{40}k_2h)\\\\\n",
    "k_4 &= f(x_i+ \\frac{3}{5}h, y_i+ \\frac{3}{10}k_1 h - \\frac{9}{10}k_2h + \\frac{6}{5}k_3h)\\\\\n",
    "k_5 &= f(x_i+ h, y_i - \\frac{11}{54}k_1 h + \\frac{5}{2}k_2h - \\frac{70}{27}k_3h + \\frac{35}{27}k_4h)\\\\\n",
    "k_6 &= f(x_i+ \\frac{7}{8}h, y_i + \\frac{1631}{55296}k_1 h + \\frac{175}{512}k_2h + \\frac{575}{13824}k_3h + \\frac{44275}{110592}k_4h + \\frac{253}{4096}k_5 h)\\\\\n",
    "\\end{align*}\n",
    "\n",
    "Assim, a EDO pode ser resolvida com a equação da quinta ordem e a estimativa de erro obtida,\n",
    "como a diferença das estimativas de quinta e quarta ordens. Deve ser observado que os\n",
    "coeficientes particulares usados foram desenvolvidos por Cash e Karp (1990). Portanto,\n",
    "esse método é algumas vezes chamado de *RK de Cash-Karp*."
   ]
  },
  {
   "cell_type": "markdown",
   "metadata": {},
   "source": [
    "### Controle do Tamanho do Passo\n",
    "\n",
    "Agora que desenvolvemos maneiras de obter estimativas do erro de truncamento local,\n",
    "elas podem ser usadas para ajustar o tamanho do passo. Em geral, a estratégia é aumentar\n",
    "o tamanho do passo se o erro for muito pequeno e diminuir se o erro for muito grande.\n",
    "Press et al. (1992) sugeriram o seguinte critério para conseguir isso:\n",
    "\n",
    "$$\n",
    "h_{novo} = h_{atual} |\\frac{\\Delta_{novo}}{\\Delta_{atual}}|^\\alpha\n",
    "$$\n",
    "\n",
    "em que hatual e hnovo são os tamanhos de passo atual e novo, respectivamente, $\\Delta_{atual}$ é a acurácia atual calculada, $\\Delta_{novo}$ é a acurácia desejada e α é uma potência constante que é igual a $0.2$ quando o tamanho do passo é aumentado (isto é, quando $\\Delta_{atual} \\le  \\Delta_{novo}$) e a $0.25$ quando o tamanho do passo é diminuído ($\\Delta_{atual} >  \\Delta_{novo}$).\n",
    "O parâmetro chave na equação acima é obviamente $\\Delta_{novo}$, pois é o seu veículo para\n",
    "especificar a acurácia desejada. Uma maneira de fazer isso seria relacionar $\\Delta_{novo}$ a um nível de erro relativo. Embora isso funcione bem quando ocorrem apenas valores positivos, pode causar problemas para soluções que passem pelo zero. Por exemplo, você poderia estar simulando uma função oscilante que passe repetidamente pelo zero, mas que seja limitada por valores absolutos máximos. Para tal caso, você poderia querer incluir esses valores máximos na acurácia desejada.\n",
    "\n",
    "Uma forma mais geral de lidar com tais casos é determinar $\\Delta_{novo}$ como\n",
    "\n",
    "$$\n",
    "\\Delta_{novo} = \\varepsilon y_{scale}\n",
    "$$\n",
    "\n",
    "em que $\\varepsilon$ é um nível de tolerância geral. Sua escolha de yescala determinará, então, como é a escala do erro. Por exemplo, se $y_{scale} = y$, a precisão será formulada em termos de erros relativos fracionários. Se você estiver tratando um caso no qual queira erros constantes em relação a um limitante máximo prescrito, iguale yescala a esse limitante. Um truque sugerido por Press et al. (1992) para obter erros relativos constantes, exceto muito próximo a cruzamentos com o zero, é\n",
    "\n",
    "$$\n",
    "y_{scale} = |y| + |h\\frac{dy}{dx}| = |y| + |hf(x,y)|\n",
    "$$\n",
    "\n",
    "Essa é a versão que usaremos em nosso algoritmo."
   ]
  },
  {
   "cell_type": "markdown",
   "metadata": {},
   "source": [
    "#### **Exemplo:**\n",
    "\n",
    "O método RK adaptativo é adequado para a seguinte equação\n",
    "diferencial ordinária\n",
    "\n",
    "$$\n",
    "\\frac{dy}{dx} + 0.6y = 10e^{-(x-2)^2/2(0.075)^2}\n",
    "$$\n",
    "\n",
    "Observe que, para a condição inicial $y(0) = 0.5$, a solução da equação homogênea associada é\n",
    "\n",
    "$$\n",
    "y = 0.5 e^{-0.6x}\n",
    "$$\n",
    "\n",
    "que é uma curva lisa que gradualmente se aproxima de zero conforme x aumenta. Em\n",
    "contraste, a solução da equação não-homogênea passa por uma transição abrupta na vizinhança de $x = 2$ por causa da natureza do termo forçante. \n",
    "Use um esquema RK de quarta ordem padrão para resolver a EDO de $x = 0 \\text{ a } 4$. A\n",
    "seguir, use o esquema adaptativo descrito nesta seção para fazer o mesmo cálculo.\n",
    "\n",
    "**Resposta**\n",
    "\n",
    "Primeiro vamos os recursos do `scipy` para resolver o problema. \n"
   ]
  },
  {
   "cell_type": "code",
   "execution_count": 10,
   "metadata": {},
   "outputs": [],
   "source": [
    "x0 = 0\n",
    "y0 = 0.5\n",
    "func = lambda x, y: 10*np.exp(-(x-2)**2/(2*0.075**2)) - 0.6*y"
   ]
  },
  {
   "cell_type": "code",
   "execution_count": 11,
   "metadata": {},
   "outputs": [],
   "source": [
    "from scipy.integrate import solve_ivp\n",
    "import matplotlib.pyplot as plt"
   ]
  },
  {
   "cell_type": "code",
   "execution_count": 12,
   "metadata": {},
   "outputs": [],
   "source": [
    "res = solve_ivp(func, (0,4), [0.5], t_eval=np.linspace(0,4, 200), method='RK45')"
   ]
  },
  {
   "cell_type": "code",
   "execution_count": 13,
   "metadata": {},
   "outputs": [
    {
     "data": {
      "image/png": "[encoded data removed]",
      "text/plain": [
       "<Figure size 576x432 with 1 Axes>"
      ]
     },
     "metadata": {
      "needs_background": "light"
     },
     "output_type": "display_data"
    }
   ],
   "source": [
    "plt.figure(figsize=(8,6))\n",
    "plt.plot(res.t, res.y[0])\n",
    "plt.show()"
   ]
  },
  {
   "cell_type": "markdown",
   "metadata": {},
   "source": [
    "Agora vamos um metodo adaptativo"
   ]
  },
  {
   "cell_type": "code",
   "execution_count": 14,
   "metadata": {},
   "outputs": [],
   "source": [
    "res = solve_ivp(func, (0,4), [0.5], t_eval=np.linspace(0,4, 200), method='LSODA')"
   ]
  },
  {
   "cell_type": "code",
   "execution_count": 15,
   "metadata": {},
   "outputs": [
    {
     "data": {
      "image/png": "[encoded data removed]",
      "text/plain": [
       "<Figure size 576x432 with 1 Axes>"
      ]
     },
     "metadata": {
      "needs_background": "light"
     },
     "output_type": "display_data"
    }
   ],
   "source": [
    "plt.figure(figsize=(8,6))\n",
    "plt.plot(res.t, res.y[0])\n",
    "plt.show()"
   ]
  },
  {
   "cell_type": "markdown",
   "metadata": {},
   "source": [
    "## Rigidez e Métodos de Passo Múltiplo\n",
    "\n",
    "A rigidez é um problema especial que pode aparecer na solução de equações diferenciais ordinárias. Um sistema rígido é aquele que envolve componentes variando rapidamente junto com componentes variando lentamente. Em muitos casos, as componentes que variam rapidamente são transientes efêmeros que desaparecem rapidamente, depois do que a solução passa a ser dominada pelas componentes que variam lentamente. Embora os fenômenos transientes existam apenas para uma pequena parte do intervalo de integração, podem determinar o passo no tempo para toda a solução.\n",
    "\n",
    "### Rigidez\n",
    "\n",
    "Tanto as EDOs individuais quanto os sistemas de EDO podem ser rígidos. Um\n",
    "exemplo de uma única EDO rígida é\n",
    "\n",
    "$$\n",
    "\\frac{dy}{dt} = -1000 y + 3000 - 2000 e^{-t}\n",
    "$$\n",
    "\n",
    "Se $y(0)$ = 0, a solução analítica pode ser escrita como\n",
    "\n",
    "$$\n",
    "y = 3 - 0.998 e^{-1000t} - 2.002 e^{-t}\n",
    "$$\n",
    "\n",
    "A solução é inicialmente dominada pelo termo exponencial rápido ($e^{−1000t}$ ). Depois de um curto período ($t < 0.005$), esse transiente desaparece e a solução passa a ser dominada pela exponencial lenta ($e^{−t}$ ).\n",
    "\n",
    "Podemos ganhar uma percepção do tamanho do passo necessário para a **estabilidade** de tal solução examinando a parte homogênea da equação\n",
    "\n",
    "$$\n",
    "\\frac{dy}{dt} = -a y\n",
    "$$\n",
    "\n",
    "Se $y(0) = y_0$, o cálculo pode ser usado para determinar a solução como\n",
    "\n",
    "$$\n",
    "y = y_0 e^{-a t}\n",
    "$$\n",
    "\n",
    "Logo, a solução começa em $y_0$ e se aproxima assintoticamente de zero.\n",
    "\n",
    "O método de Euler pode ser usado para resolver o mesmo problema numericamente:\n",
    "\n",
    "$$\n",
    "y_{i+1} = y_i + \\frac{dy_i}{dt} h\n",
    "$$\n",
    "\n",
    "Substituindo a equação principal obtemos\n",
    "\n",
    "$$\n",
    "y_{i+1} = y_i - a y_i h \\qquad\\text{  ou  } \\qquad y_{i+1} = y_i (1- a h) \n",
    "$$\n",
    "\n",
    "A estabilidade dessa fórmula depende claramente do tamanho do passo h. Isto é, $|1 − ah|$ deve ser menor do que 1. Logo, se $h > 2/a$, $|y_i| → \\infty$ quando $i \\rightarrow \\infty$ .\n",
    "\n",
    "Superficialmente, você poderia supor que as rotinas adaptativas do tamanho do passo descritas no final do último capítulo poderiam oferecer uma solução para esse dilema. Poderia pensar que elas usariam pequenos passos durante os transientes rápidos e passos grandes caso contrário. Entretanto, esse não é o caso, porque as exigências de estabilidade ainda fariam que fosse necessário usar tamanhos de passo muito pequenos ao longo de toda a solução.\n",
    "Em vez de usar abordagens explícitas, os métodos implícitos oferecem um recurso alternativo. Tais representações são chamadas implícitas porque a incógnita aparece em ambos os lados da equação. Uma forma implícita do método de Euler pode ser desenvolvida pelo cálculo da derivada em um instante futuro,\n",
    "\n",
    "$$\n",
    "y_{i+1} = y_i + \\frac{y_{i+1}}{dt}h \n",
    "$$\n",
    "Isso é chamado de método de **Euler regressivo** ou **implícito**. A substituição na equação principal fornece\n",
    "\n",
    "$$\n",
    "y_{i+1} = y_i - a y_{i+1} h\n",
    "$$\n",
    "\n",
    "que pode ser resolvida por\n",
    "\n",
    "$$\n",
    "y_{i+1} = \\frac{y_i}{1 + ah}\n",
    "$$\n",
    "\n",
    "Nesse caso, independentemente do tamanho do passo, $|y_i | \\rightarrow 0$ quando $i \\rightarrow \\infty$. Assim, a abordagem é chamada **incondicionalmente estável**."
   ]
  },
  {
   "cell_type": "markdown",
   "metadata": {},
   "source": [
    "#### **Exemplo:**\n",
    "\n",
    "Use os métodos de Euler implícito e explícito para resolver\n",
    "\n",
    "$$\n",
    "\\frac{dy}{dt} = -1000 y + 3000 - 2000 e^{-t}\n",
    "$$\n",
    "\n",
    "em que $y(0) = 0$. \n",
    "\n",
    "(a) Use Euler explícito com tamanhos de passo de $0.0005$ e $0.0015$ para\n",
    "determinar y entre $t = 0$ e $0,006$. \n",
    "\n",
    "(b) Use Euler implícito com tamanho de passo de $0.05$ para determinar $y$ entre $0$ e $0.4$.\n",
    "\n",
    "**Resposta**"
   ]
  },
  {
   "cell_type": "markdown",
   "metadata": {},
   "source": [
    "<p align=\"center\">\n",
    "<img src=\"./images/9-implicit.png\" width=300 height=400 />\n",
    "</p>"
   ]
  },
  {
   "cell_type": "code",
   "execution_count": null,
   "metadata": {},
   "outputs": [],
   "source": []
  },
  {
   "cell_type": "markdown",
   "metadata": {},
   "source": [
    "Os sistemas de EDOs também podem ser rígidos. Um exemplo é\n",
    "\n",
    "\\begin{align*}\n",
    "\\frac{dy_1}{dt} &= -5 y_1 + 3y_2 \\\\\n",
    "\\frac{dy_2}{dt} &= 100 y_1 -301 3y_2 \\\\\n",
    "\\end{align*}\n",
    "\n",
    "Para condições iniciais $y_1(0) = 52.29$ e $y_2(0) = 83.82$, a solução exata é\n",
    "\n",
    "\\begin{align*}\n",
    "y_1 &= 52.96e^{−3.9899t} − 0.67e^{−302.0101t}\\\\\n",
    "y_2 &= 17.83e^{−3.9899t} + 65.99e^{−302.0101t}\n",
    "\\end{align*}\n",
    "\n",
    "Observe que os expoentes são negativos e diferem em cerca de duas ordens de grandeza. Como no caso de uma única equação, são os expoentes grandes que respondem rapidamente e são o cerne da rigidez do problema.\n",
    "\n",
    "Um método de Euler implícito para sistemas pode ser formulado para o caso presente como\n",
    "\n",
    "\\begin{align*}\n",
    "y_{1,i+1} &= y_{1,i} + (−5y_{1,i+1} + 3y_{2,i+1} )h \\\\\n",
    "y_{2,i+1} &= y_{2,i} + (100y_{1,i+1} − 301y_{2,i+1} )h\n",
    "\\end{align*}\n",
    "\n",
    "Agrupando os termos, obtemos\n",
    "\n",
    "\\begin{align*}\n",
    "(1 + 5h)y_{1,i+1} − 3hy_{2,i+1} &= y_{1,i} \\\\\n",
    "−100hy_{1,i+1} + (1 + 301h)y_{2,i+1} &= y_{2,i}\n",
    "\\end{align*}\n",
    "\n",
    "Logo, podemos ver que o problema consiste em resolver um conjunto de equações simultâneas para cada passo no tempo.\n",
    "\n",
    "Para EDOs não-lineares, a solução se torna ainda mais difícil, já que envolve a resolução de um sistema de equações simultâneas não-lineares \n",
    "Assim, embora se ganhe estabilidade com as abordagens implícitas, é pago um preço na forma de um aumento da complexidade da solução.\n",
    "\n",
    "O método de Euler implícito é incondicionalmente estável e acurado apenas em\n",
    "primeira ordem. Também é possível desenvolver de forma parecida um esquema de integração usando a regra do trapézio implícita, acurada até segunda ordem, para sistemas rígidos. Em geral é desejável obter métodos de ordem superior. As fórmulas de Adams-Moulton descritas depois neste capítulo também podem ser usadas para obter métodos implícitos de ordem superior. Entretanto, os limites de estabilidade de tais abordagens são muito severos quando aplicados a sistemas rígidos. Gear (1971) desenvolveu uma série\n",
    "especial de esquemas implícitos que têm limites de estabilidade muito maiores baseados em fórmulas de diferença regressiva. Esforços consideráveis têm sido feitos para desenvolver softwares que implementem eficientemente os métodos de Gear. Como resultado, esse provavelmente é o método mais amplamente usado para resolver sistemas rígidos.\n",
    "Além disso, Rosenbrock e outros (ver Press et al., 1992) propuseram algoritmos de Runge-Kutta implícitos em que k termos apareciam implicitamente. Esses métodos têm boas características de estabilidade e são bastante adequados para a solução de sistemas de equações diferenciais rígidos."
   ]
  },
  {
   "cell_type": "markdown",
   "metadata": {},
   "source": [
    "### Métodos de passo múltiplo\n",
    "\n",
    "Os métodos de passo único descritos nas seções anteriores utilizam informações em um único ponto xi para prever um valor da variável dependente yi+1 em um ponto futuro $x_{i+1}$. Abordagens alternativas chamadas métodos de passo múltiplo são baseadas na percepção de que, uma vez que o cálculo tenha começado, informação valiosa de pontos anteriores está a nossa disposição. A curvatura das linhas ligando esses valores anteriores fornece informação com relação à trajetória da solução. Os métodos de passo múltiplo explorados neste capítulo usam essa informação para resolver EDOs. Antes de descrever as versões de ordem superior, apresentaremos um método simples de segunda ordem que serve para ilustrar as características gerais das abordagens de passo múltiplo.\n",
    "\n",
    "<p align=\"center\">\n",
    "<img src=\"./images/9-multi.png\" width=500 height=300 />\n",
    "</p>\n",
    "\n",
    "### O Método de Heun de Início Não-automático\n",
    "\n",
    "Lembre-se de que a abordagem de Heun usa o método de Euler como um preditor\n",
    "\n",
    "$$\n",
    "y^0_{i+1} = y_i + f(x_i, y_i)h\n",
    "$$\n",
    "\n",
    "e a regra do trapézio como um corretor\n",
    "\n",
    "$$\n",
    "y_{i+1} = y_i + \\frac{f(x_i, y_i) + f(x_{i+1}, y^0_{i+1})}{2} h\n",
    "$$\n",
    "\n",
    "Logo, o preditor e o corretor têm erros de truncamento locais de $\\mathcal{O}(h^2)$ e $\\mathcal{O}(h^3)$, respectivamente. Isso sugere que o preditor é o elo fraco no método, já que tem o erro maior. Essa fraqueza é significativa, pois a eficiência do passo iterativo de correção depende da acurácia da previsão inicial. Conseqüentemente, uma forma de melhorar o método de Heun é desenvolver um preditor que tenha um erro local de $\\mathcal{O}(h^3)$. Pode-se conseguir isso usando o método de Euler e a inclinação em $y_i$ e informação extra de um ponto anterior $y_{i−1}$, como em\n",
    "\n",
    "$$\n",
    "y^0_{i+1} = y_{i-1} + f(x_i, y_i)2h\n",
    "$$\n",
    "\n",
    "Observe que a equação acima alcança $\\mathcal{O}(h^3)$ usando um tamanho de passo maior, $2h$. Além disso, observe que a equação acima não é de início automático, pois envolve um valor anterior da variável dependente $y_{i−1}$. Tal valor não estaria disponível em um problema de valor inicial típico. Por causa desse fato, as equações acima são chamadas de método de **Heun de início não-automático**.\n",
    "\n",
    "Resumindo o metodo do Heun temos\n",
    "\n",
    "\\begin{align*}\n",
    "\\text{Preditor: }\\qquad y^0_{i+1} &= y^m_{i-1} + f(x_i, y_i^m)2h \\\\\n",
    "\\text{Corretor: }\\qquad y^j_{i+1} &= y^m_i + \\frac{f(x_i,y^m_i) + f(x_{i+1},y^{j-1}_{i+1})}{2} h\n",
    "\\end{align*}\n",
    "\n",
    "(para $j = 1, 2, . . . , m$).\n",
    "\n",
    "em que os sobrescritos foram adicionados para denotar que o corretor é aplicado iterativamente de $j = 1$ a $m$ para obter soluções refinadas. Observe que $y_i^m$ e $y^m_{i−1} são o resultado final das iterações do corretor nos passos anteriores no tempo. Param-se as iterações\n",
    "em qualquer passo no tempo com base no seguinte critério de parada\n",
    "\n",
    "$$\n",
    "|\\varepsilon_a| = |\\frac{y_{i+1}^j - y_{i+1}^{j-1}}{y_{i+1}^j}| 100\\%\n",
    "$$\n",
    "\n",
    "Quando $\\varepsilon_a$ for menor do que uma tolerância de erro pré-especificada, param-se as iterações.\n",
    "\n",
    "#### **Exemplo:**\n",
    "\n",
    "Use o método de Heun de início não-automático para fazer os mesmos cálculos feitos anteriormente no com o método de Heun. Isto é, integre $y' = 4e^{0.8x} − 0.5y$ de $x = 0$ a $x = 4$ usando um tamanho de passo de $1.0$. A condição inicial em $x = 0$ é $y = 2$. Entretanto, como agora estamos lidando com um método de passo múltiplo, precisamos da informação adicional de que $y$ é igual a $−0.3929953$ em $x = −1$.\n",
    "\n",
    "**Resposta:**"
   ]
  },
  {
   "cell_type": "code",
   "execution_count": null,
   "metadata": {},
   "outputs": [],
   "source": []
  },
  {
   "cell_type": "code",
   "execution_count": null,
   "metadata": {},
   "outputs": [],
   "source": []
  }
 ],
 "metadata": {
  "kernelspec": {
   "display_name": "Python 3 (ipykernel)",
   "language": "python",
   "name": "python3"
  },
  "language_info": {
   "codemirror_mode": {
    "name": "ipython",
    "version": 3
   },
   "file_extension": ".py",
   "mimetype": "text/x-python",
   "name": "python",
   "nbconvert_exporter": "python",
   "pygments_lexer": "ipython3",
   "version": "3.9.13"
  },
  "vscode": {
   "interpreter": {
    "hash": "92b1d5f842d7c1e714e1ab666cefb8d1f75311aac337aae0336133957fcbf554"
   }
  }
 },
 "nbformat": 4,
 "nbformat_minor": 2
}
