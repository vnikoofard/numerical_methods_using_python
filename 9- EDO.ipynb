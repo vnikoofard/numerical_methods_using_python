{
 "cells": [
  {
   "cell_type": "code",
   "execution_count": 91,
   "metadata": {},
   "outputs": [],
   "source": [
    "import numpy as np\n",
    "import plotly.graph_objects as go\n",
    "import matplotlib.pyplot as plt"
   ]
  },
  {
   "cell_type": "markdown",
   "metadata": {},
   "source": [
    "# Metodos de Runge-Kutta\n",
    "\n",
    "Nesse capitulo vamos estudar as equações diferenciais ordinarias na seguinte forma\n",
    "\n",
    "$$\\frac{dy}{dx} = f(x,y)$$\n",
    "\n",
    "Só para relmenbrar, nos capitulos anteriores, na hora de estudar o caso de paraquedista, se familiarizamos com o metodo de Euler. O metodo de Euler, era de seguinte forma geral\n",
    "<p align=\"center\">\n",
    "Valor novo = valor anterio + inclinação x tamanho de passo.\n",
    "</p>\n",
    "\n",
    "ou em termos matematicos\n",
    "\n",
    "$$y_{i+1} = y_i + \\phi h$$\n",
    "\n",
    "De acordo com essa equação, a estimativa da inclinação $\\phi$ é usada para extrapolar de um\n",
    "valor antigo $y_i$ para um valor novo $y_{i+1}$ em uma distância $h$. Essa fórmula pode ser aplicada passo a passo para cálculos no futuro e, portanto, para percorrer a trajetória da solução.\n",
    "\n",
    "<p align=\"center\">\n",
    "<img src=\"./images/9-euler.jpg\" width=350 height=350 />\n",
    "</p>"
   ]
  },
  {
   "cell_type": "markdown",
   "metadata": {},
   "source": [
    "## Metodo de Euler\n",
    "\n",
    "No calculo um estudamos que a primeira derivada forcene uma estimativa direta da inclinação em $x_i$\n",
    "\n",
    "$$\\phi = f(x_i, y_i)$$\n",
    "\n",
    "em que $f(x_i, y_i)$ é a equação diferencial calculada em $x_i$ e $y_i$. Essa estimativa pode ser substituída na equação geral\n",
    "\n",
    "$$y_{i+1} = y_i + f(x_i, y_i)h$$\n",
    "\n",
    "Essa fórmula é conhecida como método de Euler (ou Euler-Cauchy ou ponto-inclinação). Um novo valor de $y$ é previsto usando a inclinação (igual à primeira derivada no valor original de $x$) para extrapolar linearmente sobre um tamanho de passo $h$."
   ]
  },
  {
   "cell_type": "code",
   "execution_count": 6,
   "metadata": {},
   "outputs": [],
   "source": [
    "def euler(func, xi, yi, h=1):\n",
    "    return yi + func(xi, yi) * h"
   ]
  },
  {
   "cell_type": "markdown",
   "metadata": {},
   "source": [
    "**Exemplo:**"
   ]
  },
  {
   "cell_type": "markdown",
   "metadata": {},
   "source": [
    "### Analise de Erro para o Metodo de Euler"
   ]
  },
  {
   "cell_type": "markdown",
   "metadata": {},
   "source": [
    "## Melhorias para o Metodo de Euler\n",
    "\n",
    "Uma fonte fundamental de erro no método de Euler é que supomos que a derivada no iní-\n",
    "cio do intervalo pode ser usada no intervalo todo. Estão disponíveis duas modificações\n",
    "simples para contornar essas deficiências. Ambas as modificações na verdade pertencem a uma classe maior de técnicas de solução chamadas métodos de Runge-Kutta. Entretanto, como elas têm uma interpretação gráfica muito simples, nós as apresentaremos antes de sua dedução formal como métodos de Runge-Kutta.\n",
    "\n",
    "### Método de Heun\n",
    "\n",
    "Um método de melhorar a estimativa da inclinação envolve a determinação de duas derivadas para o intervalo — uma no ponto inicial e outra no ponto final. Então, é feita a média das duas derivadas para obter uma estimativa melhorada da inclinação no intervalo todo. Essa abordagem, chamada de método de Heun, é descrita graficamente na figura abaixo\n",
    "\n",
    "<p align=\"center\">\n",
    "<img src=\"./images/9-heun.jpg\" width=350 height=600 />\n",
    "</p>\n",
    "\n",
    "Lembre-se de que, no método de Euler, a inclinação no início de um intervalo\n",
    "\n",
    "$$y'_i = f(x_i, y_i)$$\n",
    "\n",
    "é usada para extrapolar linearmente para $y_{i+1}$:\n",
    "\n",
    "$$y^0_{i+1} = y_i + f(x_i, y_i)$$\n",
    "\n",
    "No método de Euler padrão, pararíamos nesse ponto. No entanto, no método de Heun, o $y^0_{i+1}$\n",
    "calculado na equação acima não é a resposta final, mas uma previsão intermediária. É por isso que o distinguimos com o sobrescrito `0`. A equação acima é chamada `equação preditora`. Ela fornece uma estimativa de $^0_{yi+1}$ que permite o cálculo de uma estimativa da\n",
    "inclinação na extremidade final do intervalo:\n",
    "\n",
    "$$y'_{i+1} = f(x_{i+1}, y^0_{i+1})$$\n",
    "\n",
    "Assim, as duas inclinações, as ultimas duas equações acima, podem ser combinadas para\n",
    "obter uma inclinação média no intervalo:\n",
    "\n",
    "$$\\bar{y}' = \\frac{y'_i + y'_{i+1}}{2} = \\frac{f(x_i, y_i) + f(x_{i+1}, y^0_{i+1})}{2}$$\n",
    "\n",
    "Essa inclinação média é então usada para extrapolar linearmente de $y_i$ a $y_{i+l}$ usando o\n",
    "método de Euler:\n",
    "\n",
    "$$y'_{i+1} = y_i + \\frac{f(x_i, y_i) + f(x_{i+1}, y^0_{i+1})}{2}$$\n",
    "\n",
    "que é chamada de `equação corretora`.\n",
    "\n",
    "O método de Heun é uma abordagem do tipo `preditor-corretor`. Todos os métodos de\n",
    "passo múltiplo que serão discutidos posteriormente são desse tipo.\n",
    "\n",
    "<p align=\"center\">\n",
    "<img src=\"./images/9-heun2.png\" width=350 height=350 />\n",
    "</p>\n",
    "\n",
    "Como no caso dos métodos iterativos parecidos discutidos nos capitulos anteriores, um critério de parada para a convergência do corretor é fornecido por\n",
    "\n",
    "$$|\\varepsilon_a| = |\\frac{y^j_{i+1} - y^{j-1}_{i+1}}{y^j_{i+1}}|$$"
   ]
  },
  {
   "cell_type": "markdown",
   "metadata": {},
   "source": [
    "#### Exemplo:\n",
    "Use o método de Heun para integrar $y' = 4e^{0.8x} − 0.5y$ de\n",
    "$x = 0$ a $x = 4$ com tamanho do passo $h=1$. A condição inicial em $x = 0$ é $y = 2$.\n",
    "\n",
    "\n",
    "**Resposta:**\n",
    "A solução analitica é \n",
    "\n",
    "$$\n",
    "y = \\frac{4}{1.3} (e^{0.8x} - e^{-0.5x}) + 2e^{-0.5x}\n",
    "$$"
   ]
  },
  {
   "cell_type": "code",
   "execution_count": 70,
   "metadata": {},
   "outputs": [],
   "source": [
    "def heun(func, xi, yi, h, n=1):\n",
    "    y1 = euler(func, xi, yi, h)\n",
    "    for j in range(n):\n",
    "        y_prime = func(xi+h, y1)\n",
    "        y_mid = (y_prime + func(xi, yi))/2\n",
    "        y_new = yi + y_mid * h\n",
    "        y1 = y_new\n",
    "    return y_new"
   ]
  },
  {
   "cell_type": "code",
   "execution_count": 102,
   "metadata": {},
   "outputs": [],
   "source": [
    "func = lambda x, y: 4*np.exp(0.8 * x) - 0.5 * y"
   ]
  },
  {
   "cell_type": "code",
   "execution_count": 73,
   "metadata": {},
   "outputs": [
    {
     "name": "stdout",
     "output_type": "stream",
     "text": [
      "6.701081856984936\n",
      "6.275811392738702\n",
      "6.38212900880026\n",
      "6.355549604784871\n",
      "6.362194455788718\n",
      "6.360533243037756\n",
      "6.360948546225496\n",
      "6.360844720428561\n",
      "6.360870676877795\n"
     ]
    }
   ],
   "source": [
    "for n in range(1,10):\n",
    "    print(heun(func, 0, 2, 1, n=n))"
   ]
  },
  {
   "cell_type": "markdown",
   "metadata": {},
   "source": [
    "### O Método do Ponto Médio (ou do Poligono Melhorado)\n",
    "\n",
    "Como dá para ver na figura abaixo, ilustra uma outra modificação simples no método de Euler. Chamada de método do ponto médio (ou do polígono melhorado ou de Euler modificado), essa técnica usa o método de Euler para prever um valor de $y$ no ponto médio do intervalo\n",
    "\n",
    "<p align=\"center\">\n",
    "<img src=\"./images/9-mid.png\" width=350 height=550 />\n",
    "</p>\n",
    "\n",
    "$$y_{i+1/2} = y_i + f(x_i, y_i)\\frac{h}{2}$$\n",
    "\n",
    "Então, esse valor previsto é usado para calcular uma inclinação no ponto médio:\n",
    "\n",
    "$$y_{i+1} = y_i + f(x_{i+1/2}, y_{i+1/2})h$$\n",
    "\n",
    "Observe que, como $y_{i+1}$ não aparece em ambos os lados, o corretor, equação acima, não\n",
    "pode ser aplicado iterativamente para melhorar a solução.\n",
    "\n",
    "Esse metodo, pode ser ligado com as formulas de integração de Newton-Cotes, a versão mais simples, a qual é chamada de método do ponto médio.\n",
    "\n",
    "O método do ponto médio é superior ao método de Euler porque utiliza uma estimativa da inclinação no ponto médio do intervalo de previsão. Lembre-se, de nossa discussão de derivação numérica, de que diferenças divididas finitas centradas são aproximações melhores das derivadas do que as versões tanto progressiva quanto regressiva. No mesmo sentido, uma aproximação centrada tem um erro de truncamento local de $\\mathcal{O}(h^2)$ em comparação com a aproximação progressiva do método de Euler, o qual tem um erro de $\\mathcal{O}(h)$. Conseqüentemente, os erros local e global do método do ponto médio são $\\mathcal{O}(h^3)$ e $\\mathcal{O}(h^2)$, respectivamente."
   ]
  },
  {
   "cell_type": "code",
   "execution_count": 101,
   "metadata": {},
   "outputs": [],
   "source": [
    "def mid_point(func, xi, yi, h):\n",
    "    yi12 = yi + func(xi, yi)*(h/2)\n",
    "    return yi + func(xi + (h/2), yi12) * h"
   ]
  },
  {
   "cell_type": "code",
   "execution_count": 4,
   "metadata": {},
   "outputs": [
    {
     "data": {
      "text/plain": [
       "6.217298790565081"
      ]
     },
     "execution_count": 4,
     "metadata": {},
     "output_type": "execute_result"
    }
   ],
   "source": [
    "mid_point(func, 0, 2, 1)"
   ]
  },
  {
   "cell_type": "markdown",
   "metadata": {},
   "source": [
    "**Comparar os três metodos**"
   ]
  },
  {
   "cell_type": "code",
   "execution_count": 103,
   "metadata": {},
   "outputs": [],
   "source": [
    "def compare(func, x0, y0, xf, h, methods= 'all', n=1):\n",
    "    num_steps = int((xf - x0)/h)\n",
    "    xs = [x0 + n*h for n in range(num_steps+1)]\n",
    "\n",
    "    if methods == 'all':\n",
    "        ys = [[y0]*3]\n",
    "        for i in range(1, num_steps+1):\n",
    "            y_new = []\n",
    "            y_new.append(euler(func, xs[i-1], ys[-1][-1], h))\n",
    "            y_new.append(mid_point(func, xs[i-1], ys[-1][-1], h))\n",
    "            y_new.append(heun(func, xs[i-1], ys[-1][-1], h, n))\n",
    "            ys.append(y_new)\n",
    "        \n",
    "        ys_final = []\n",
    "        methods = ['euler', 'mid_point', 'heun']\n",
    "        for i in range(len(ys[0])):\n",
    "            y_new = []\n",
    "            for item in ys:\n",
    "                y_new.append(item[i])\n",
    "            y_new.append(methods[i])\n",
    "            ys_final.append(y_new)\n",
    "\n",
    "\n",
    "        return xs, ys_final\n",
    "\n",
    "\n"
   ]
  },
  {
   "cell_type": "code",
   "execution_count": 104,
   "metadata": {},
   "outputs": [],
   "source": [
    "res = compare(func, 0, 2, 4, 1)"
   ]
  },
  {
   "cell_type": "code",
   "execution_count": 105,
   "metadata": {},
   "outputs": [
    {
     "data": {
      "text/plain": [
       "[[2, 5.0, 12.25270464246234, 27.972020666529602, 62.69232997099879, 'euler'],\n",
       " [2,\n",
       "  6.217298790565081,\n",
       "  15.243102923069308,\n",
       "  34.803055682513914,\n",
       "  78.00494126428708,\n",
       "  'mid_point'],\n",
       " [2,\n",
       "  6.701081856984936,\n",
       "  16.31978193789828,\n",
       "  37.199248896864745,\n",
       "  83.33776733540077,\n",
       "  'heun']]"
      ]
     },
     "execution_count": 105,
     "metadata": {},
     "output_type": "execute_result"
    }
   ],
   "source": [
    "res[1]"
   ]
  },
  {
   "cell_type": "markdown",
   "metadata": {},
   "source": [
    "O resultado analitico da EDO é o seguinte"
   ]
  },
  {
   "cell_type": "code",
   "execution_count": 106,
   "metadata": {},
   "outputs": [],
   "source": [
    "y_analitic = lambda x: (4/1.3) * (np.exp(0.8*x) - np.exp(-0.5*x)) + 2 * np.exp(-0.5*x)"
   ]
  },
  {
   "cell_type": "code",
   "execution_count": 107,
   "metadata": {},
   "outputs": [
    {
     "data": {
      "application/vnd.plotly.v1+json": {
       "config": {
        "plotlyServerURL": "https://plot.ly"
       },
       "data": [
        {
         "name": "euler",
         "type": "scatter",
         "x": [
          0,
          1,
          2,
          3,
          4
         ],
         "y": [
          2,
          5,
          12.25270464246234,
          27.972020666529602,
          62.69232997099879
         ]
        },
        {
         "name": "mid_point",
         "type": "scatter",
         "x": [
          0,
          1,
          2,
          3,
          4
         ],
         "y": [
          2,
          6.217298790565081,
          15.243102923069308,
          34.803055682513914,
          78.00494126428708
         ]
        },
        {
         "name": "heun",
         "type": "scatter",
         "x": [
          0,
          1,
          2,
          3,
          4
         ],
         "y": [
          2,
          6.701081856984936,
          16.31978193789828,
          37.199248896864745,
          83.33776733540077
         ]
        },
        {
         "name": "analitic",
         "type": "scatter",
         "x": [
          0,
          1,
          2,
          3,
          4
         ],
         "y": [
          2,
          6.194631377209372,
          14.84392190764649,
          33.67717176796817,
          75.33896260915857
         ]
        }
       ],
       "layout": {
        "template": {
         "data": {
          "bar": [
           {
            "error_x": {
             "color": "#2a3f5f"
            },
            "error_y": {
             "color": "#2a3f5f"
            },
            "marker": {
             "line": {
              "color": "#E5ECF6",
              "width": 0.5
             },
             "pattern": {
              "fillmode": "overlay",
              "size": 10,
              "solidity": 0.2
             }
            },
            "type": "bar"
           }
          ],
          "barpolar": [
           {
            "marker": {
             "line": {
              "color": "#E5ECF6",
              "width": 0.5
             },
             "pattern": {
              "fillmode": "overlay",
              "size": 10,
              "solidity": 0.2
             }
            },
            "type": "barpolar"
           }
          ],
          "carpet": [
           {
            "aaxis": {
             "endlinecolor": "#2a3f5f",
             "gridcolor": "white",
             "linecolor": "white",
             "minorgridcolor": "white",
             "startlinecolor": "#2a3f5f"
            },
            "baxis": {
             "endlinecolor": "#2a3f5f",
             "gridcolor": "white",
             "linecolor": "white",
             "minorgridcolor": "white",
             "startlinecolor": "#2a3f5f"
            },
            "type": "carpet"
           }
          ],
          "choropleth": [
           {
            "colorbar": {
             "outlinewidth": 0,
             "ticks": ""
            },
            "type": "choropleth"
           }
          ],
          "contour": [
           {
            "colorbar": {
             "outlinewidth": 0,
             "ticks": ""
            },
            "colorscale": [
             [
              0,
              "#0d0887"
             ],
             [
              0.1111111111111111,
              "#46039f"
             ],
             [
              0.2222222222222222,
              "#7201a8"
             ],
             [
              0.3333333333333333,
              "#9c179e"
             ],
             [
              0.4444444444444444,
              "#bd3786"
             ],
             [
              0.5555555555555556,
              "#d8576b"
             ],
             [
              0.6666666666666666,
              "#ed7953"
             ],
             [
              0.7777777777777778,
              "#fb9f3a"
             ],
             [
              0.8888888888888888,
              "#fdca26"
             ],
             [
              1,
              "#f0f921"
             ]
            ],
            "type": "contour"
           }
          ],
          "contourcarpet": [
           {
            "colorbar": {
             "outlinewidth": 0,
             "ticks": ""
            },
            "type": "contourcarpet"
           }
          ],
          "heatmap": [
           {
            "colorbar": {
             "outlinewidth": 0,
             "ticks": ""
            },
            "colorscale": [
             [
              0,
              "#0d0887"
             ],
             [
              0.1111111111111111,
              "#46039f"
             ],
             [
              0.2222222222222222,
              "#7201a8"
             ],
             [
              0.3333333333333333,
              "#9c179e"
             ],
             [
              0.4444444444444444,
              "#bd3786"
             ],
             [
              0.5555555555555556,
              "#d8576b"
             ],
             [
              0.6666666666666666,
              "#ed7953"
             ],
             [
              0.7777777777777778,
              "#fb9f3a"
             ],
             [
              0.8888888888888888,
              "#fdca26"
             ],
             [
              1,
              "#f0f921"
             ]
            ],
            "type": "heatmap"
           }
          ],
          "heatmapgl": [
           {
            "colorbar": {
             "outlinewidth": 0,
             "ticks": ""
            },
            "colorscale": [
             [
              0,
              "#0d0887"
             ],
             [
              0.1111111111111111,
              "#46039f"
             ],
             [
              0.2222222222222222,
              "#7201a8"
             ],
             [
              0.3333333333333333,
              "#9c179e"
             ],
             [
              0.4444444444444444,
              "#bd3786"
             ],
             [
              0.5555555555555556,
              "#d8576b"
             ],
             [
              0.6666666666666666,
              "#ed7953"
             ],
             [
              0.7777777777777778,
              "#fb9f3a"
             ],
             [
              0.8888888888888888,
              "#fdca26"
             ],
             [
              1,
              "#f0f921"
             ]
            ],
            "type": "heatmapgl"
           }
          ],
          "histogram": [
           {
            "marker": {
             "pattern": {
              "fillmode": "overlay",
              "size": 10,
              "solidity": 0.2
             }
            },
            "type": "histogram"
           }
          ],
          "histogram2d": [
           {
            "colorbar": {
             "outlinewidth": 0,
             "ticks": ""
            },
            "colorscale": [
             [
              0,
              "#0d0887"
             ],
             [
              0.1111111111111111,
              "#46039f"
             ],
             [
              0.2222222222222222,
              "#7201a8"
             ],
             [
              0.3333333333333333,
              "#9c179e"
             ],
             [
              0.4444444444444444,
              "#bd3786"
             ],
             [
              0.5555555555555556,
              "#d8576b"
             ],
             [
              0.6666666666666666,
              "#ed7953"
             ],
             [
              0.7777777777777778,
              "#fb9f3a"
             ],
             [
              0.8888888888888888,
              "#fdca26"
             ],
             [
              1,
              "#f0f921"
             ]
            ],
            "type": "histogram2d"
           }
          ],
          "histogram2dcontour": [
           {
            "colorbar": {
             "outlinewidth": 0,
             "ticks": ""
            },
            "colorscale": [
             [
              0,
              "#0d0887"
             ],
             [
              0.1111111111111111,
              "#46039f"
             ],
             [
              0.2222222222222222,
              "#7201a8"
             ],
             [
              0.3333333333333333,
              "#9c179e"
             ],
             [
              0.4444444444444444,
              "#bd3786"
             ],
             [
              0.5555555555555556,
              "#d8576b"
             ],
             [
              0.6666666666666666,
              "#ed7953"
             ],
             [
              0.7777777777777778,
              "#fb9f3a"
             ],
             [
              0.8888888888888888,
              "#fdca26"
             ],
             [
              1,
              "#f0f921"
             ]
            ],
            "type": "histogram2dcontour"
           }
          ],
          "mesh3d": [
           {
            "colorbar": {
             "outlinewidth": 0,
             "ticks": ""
            },
            "type": "mesh3d"
           }
          ],
          "parcoords": [
           {
            "line": {
             "colorbar": {
              "outlinewidth": 0,
              "ticks": ""
             }
            },
            "type": "parcoords"
           }
          ],
          "pie": [
           {
            "automargin": true,
            "type": "pie"
           }
          ],
          "scatter": [
           {
            "fillpattern": {
             "fillmode": "overlay",
             "size": 10,
             "solidity": 0.2
            },
            "type": "scatter"
           }
          ],
          "scatter3d": [
           {
            "line": {
             "colorbar": {
              "outlinewidth": 0,
              "ticks": ""
             }
            },
            "marker": {
             "colorbar": {
              "outlinewidth": 0,
              "ticks": ""
             }
            },
            "type": "scatter3d"
           }
          ],
          "scattercarpet": [
           {
            "marker": {
             "colorbar": {
              "outlinewidth": 0,
              "ticks": ""
             }
            },
            "type": "scattercarpet"
           }
          ],
          "scattergeo": [
           {
            "marker": {
             "colorbar": {
              "outlinewidth": 0,
              "ticks": ""
             }
            },
            "type": "scattergeo"
           }
          ],
          "scattergl": [
           {
            "marker": {
             "colorbar": {
              "outlinewidth": 0,
              "ticks": ""
             }
            },
            "type": "scattergl"
           }
          ],
          "scattermapbox": [
           {
            "marker": {
             "colorbar": {
              "outlinewidth": 0,
              "ticks": ""
             }
            },
            "type": "scattermapbox"
           }
          ],
          "scatterpolar": [
           {
            "marker": {
             "colorbar": {
              "outlinewidth": 0,
              "ticks": ""
             }
            },
            "type": "scatterpolar"
           }
          ],
          "scatterpolargl": [
           {
            "marker": {
             "colorbar": {
              "outlinewidth": 0,
              "ticks": ""
             }
            },
            "type": "scatterpolargl"
           }
          ],
          "scatterternary": [
           {
            "marker": {
             "colorbar": {
              "outlinewidth": 0,
              "ticks": ""
             }
            },
            "type": "scatterternary"
           }
          ],
          "surface": [
           {
            "colorbar": {
             "outlinewidth": 0,
             "ticks": ""
            },
            "colorscale": [
             [
              0,
              "#0d0887"
             ],
             [
              0.1111111111111111,
              "#46039f"
             ],
             [
              0.2222222222222222,
              "#7201a8"
             ],
             [
              0.3333333333333333,
              "#9c179e"
             ],
             [
              0.4444444444444444,
              "#bd3786"
             ],
             [
              0.5555555555555556,
              "#d8576b"
             ],
             [
              0.6666666666666666,
              "#ed7953"
             ],
             [
              0.7777777777777778,
              "#fb9f3a"
             ],
             [
              0.8888888888888888,
              "#fdca26"
             ],
             [
              1,
              "#f0f921"
             ]
            ],
            "type": "surface"
           }
          ],
          "table": [
           {
            "cells": {
             "fill": {
              "color": "#EBF0F8"
             },
             "line": {
              "color": "white"
             }
            },
            "header": {
             "fill": {
              "color": "#C8D4E3"
             },
             "line": {
              "color": "white"
             }
            },
            "type": "table"
           }
          ]
         },
         "layout": {
          "annotationdefaults": {
           "arrowcolor": "#2a3f5f",
           "arrowhead": 0,
           "arrowwidth": 1
          },
          "autotypenumbers": "strict",
          "coloraxis": {
           "colorbar": {
            "outlinewidth": 0,
            "ticks": ""
           }
          },
          "colorscale": {
           "diverging": [
            [
             0,
             "#8e0152"
            ],
            [
             0.1,
             "#c51b7d"
            ],
            [
             0.2,
             "#de77ae"
            ],
            [
             0.3,
             "#f1b6da"
            ],
            [
             0.4,
             "#fde0ef"
            ],
            [
             0.5,
             "#f7f7f7"
            ],
            [
             0.6,
             "#e6f5d0"
            ],
            [
             0.7,
             "#b8e186"
            ],
            [
             0.8,
             "#7fbc41"
            ],
            [
             0.9,
             "#4d9221"
            ],
            [
             1,
             "#276419"
            ]
           ],
           "sequential": [
            [
             0,
             "#0d0887"
            ],
            [
             0.1111111111111111,
             "#46039f"
            ],
            [
             0.2222222222222222,
             "#7201a8"
            ],
            [
             0.3333333333333333,
             "#9c179e"
            ],
            [
             0.4444444444444444,
             "#bd3786"
            ],
            [
             0.5555555555555556,
             "#d8576b"
            ],
            [
             0.6666666666666666,
             "#ed7953"
            ],
            [
             0.7777777777777778,
             "#fb9f3a"
            ],
            [
             0.8888888888888888,
             "#fdca26"
            ],
            [
             1,
             "#f0f921"
            ]
           ],
           "sequentialminus": [
            [
             0,
             "#0d0887"
            ],
            [
             0.1111111111111111,
             "#46039f"
            ],
            [
             0.2222222222222222,
             "#7201a8"
            ],
            [
             0.3333333333333333,
             "#9c179e"
            ],
            [
             0.4444444444444444,
             "#bd3786"
            ],
            [
             0.5555555555555556,
             "#d8576b"
            ],
            [
             0.6666666666666666,
             "#ed7953"
            ],
            [
             0.7777777777777778,
             "#fb9f3a"
            ],
            [
             0.8888888888888888,
             "#fdca26"
            ],
            [
             1,
             "#f0f921"
            ]
           ]
          },
          "colorway": [
           "#636efa",
           "#EF553B",
           "#00cc96",
           "#ab63fa",
           "#FFA15A",
           "#19d3f3",
           "#FF6692",
           "#B6E880",
           "#FF97FF",
           "#FECB52"
          ],
          "font": {
           "color": "#2a3f5f"
          },
          "geo": {
           "bgcolor": "white",
           "lakecolor": "white",
           "landcolor": "#E5ECF6",
           "showlakes": true,
           "showland": true,
           "subunitcolor": "white"
          },
          "hoverlabel": {
           "align": "left"
          },
          "hovermode": "closest",
          "mapbox": {
           "style": "light"
          },
          "paper_bgcolor": "white",
          "plot_bgcolor": "#E5ECF6",
          "polar": {
           "angularaxis": {
            "gridcolor": "white",
            "linecolor": "white",
            "ticks": ""
           },
           "bgcolor": "#E5ECF6",
           "radialaxis": {
            "gridcolor": "white",
            "linecolor": "white",
            "ticks": ""
           }
          },
          "scene": {
           "xaxis": {
            "backgroundcolor": "#E5ECF6",
            "gridcolor": "white",
            "gridwidth": 2,
            "linecolor": "white",
            "showbackground": true,
            "ticks": "",
            "zerolinecolor": "white"
           },
           "yaxis": {
            "backgroundcolor": "#E5ECF6",
            "gridcolor": "white",
            "gridwidth": 2,
            "linecolor": "white",
            "showbackground": true,
            "ticks": "",
            "zerolinecolor": "white"
           },
           "zaxis": {
            "backgroundcolor": "#E5ECF6",
            "gridcolor": "white",
            "gridwidth": 2,
            "linecolor": "white",
            "showbackground": true,
            "ticks": "",
            "zerolinecolor": "white"
           }
          },
          "shapedefaults": {
           "line": {
            "color": "#2a3f5f"
           }
          },
          "ternary": {
           "aaxis": {
            "gridcolor": "white",
            "linecolor": "white",
            "ticks": ""
           },
           "baxis": {
            "gridcolor": "white",
            "linecolor": "white",
            "ticks": ""
           },
           "bgcolor": "#E5ECF6",
           "caxis": {
            "gridcolor": "white",
            "linecolor": "white",
            "ticks": ""
           }
          },
          "title": {
           "x": 0.05
          },
          "xaxis": {
           "automargin": true,
           "gridcolor": "white",
           "linecolor": "white",
           "ticks": "",
           "title": {
            "standoff": 15
           },
           "zerolinecolor": "white",
           "zerolinewidth": 2
          },
          "yaxis": {
           "automargin": true,
           "gridcolor": "white",
           "linecolor": "white",
           "ticks": "",
           "title": {
            "standoff": 15
           },
           "zerolinecolor": "white",
           "zerolinewidth": 2
          }
         }
        }
       }
      }
     },
     "metadata": {},
     "output_type": "display_data"
    }
   ],
   "source": [
    "fig = go.Figure()\n",
    "\n",
    "for y in res[1]:\n",
    "    fig.add_scatter(x=res[0], y=y[:-1], name=y[-1] )\n",
    "y_exact = list(map(y_analitic, res[0]))\n",
    "fig.add_scatter(x=res[0], y=y_exact, name='analitic')\n",
    "fig.show()"
   ]
  },
  {
   "cell_type": "code",
   "execution_count": 108,
   "metadata": {},
   "outputs": [
    {
     "data": {
      "image/png": "[encoded data removed]",
      "text/plain": [
       "<Figure size 864x648 with 1 Axes>"
      ]
     },
     "metadata": {
      "needs_background": "light"
     },
     "output_type": "display_data"
    }
   ],
   "source": [
    "plt.figure(figsize=(12,9))\n",
    "\n",
    "for y in res[1]:\n",
    "    plt.plot(res[0], y[:-1], label=y[-1] )\n",
    "\n",
    "y_exact = list(map(y_analitic, res[0]))\n",
    "plt.plot(res[0], y_exact, label='analitic')\n",
    "plt.legend()\n",
    "plt.show()"
   ]
  },
  {
   "cell_type": "markdown",
   "metadata": {},
   "source": [
    "Reduzindo o tamanho dos passos"
   ]
  },
  {
   "cell_type": "code",
   "execution_count": 109,
   "metadata": {},
   "outputs": [],
   "source": [
    "res = compare(func, 0, 2, 4, 0.5)"
   ]
  },
  {
   "cell_type": "code",
   "execution_count": 110,
   "metadata": {},
   "outputs": [
    {
     "data": {
      "image/png": "[encoded data removed]",
      "text/plain": [
       "<Figure size 864x648 with 1 Axes>"
      ]
     },
     "metadata": {
      "needs_background": "light"
     },
     "output_type": "display_data"
    }
   ],
   "source": [
    "plt.figure(figsize=(12,9))\n",
    "\n",
    "for y in res[1]:\n",
    "    plt.plot(res[0], y[:-1], label=y[-1] )\n",
    "\n",
    "y_exact = list(map(y_analitic, res[0]))\n",
    "plt.plot(res[0], y_exact, label='analitic')\n",
    "plt.legend()\n",
    "plt.show()"
   ]
  },
  {
   "cell_type": "markdown",
   "metadata": {},
   "source": [
    "## Métodos de Runge-Kutta\n",
    "\n",
    "Os métodos de `Runge-Kutta (RK)` alcançam a acurácia de uma abordagem por série de Taylor sem exigir cálculos de derivadas de ordem superior. Há muitas variações, mas todas podem ser postas na forma geral\n",
    "\n",
    "$$y_{i+1} = y_i + \\phi(x_i, y_i)h$$\n",
    "\n",
    "em que $\\phi(x_i, y_i, h)$ é chamada função incremento, a qual pode ser interpretada como representativa da inclinação em um intervalo. A função incremento pode ser escrita na\n",
    "forma geral\n",
    "\n",
    "$$\\phi = a_1k_1 + a_2 k_2 +...+ a_n k_n $$\n",
    "\n",
    "em que os $a$’s são constantes e os $k$’s são\n",
    "\n",
    "\\begin{align}\n",
    "k_1 &= f(x_i, y_i)\\\\\n",
    "k_2 &= (x_i + p_1 h, y_i + q_{11}k_1 h)\\\\\n",
    "k_3 &= (x_i + p_2 h, y_i + q_{21}k_1 h + q_{22}k_2 h)\\\\\n",
    ".\\\\\n",
    ".\\\\\n",
    ".\\\\\n",
    "k_n &= (x_i + p_{n-1} h, y_i + q_{n-1,1}k_1 h + q_{n-1,2}k_2 h + ... + q_{n-1,n-1}k_{n-1} h)\n",
    "\\end{align}\n",
    "\n",
    "em que os $p$’s e os $q$’s são constantes. Observe que os $k$’s são relações de recorrência. Isto é, k1 aparece na equação para $k_2$, o qual aparece na equação para $k_3$, e assim por diante. Como cada $k$ é um cálculo da função, essa recorrência torna os métodos RK eficientes\n",
    "para cálculos computacionais.\n",
    "\n",
    "Vários tipos de métodos de Runge-Kutta podem ser deduzidos usando-se um número diferente de termos na função incremento, conforme especificado por $n$. Observe que o método RK de primeira ordem com $n = 1$ é, na realidade, o método de Euler. Uma vez que n seja escolhido, os valores para os $a$’s, os $p$’s e os $q$’s são calculados igualando-se a equação principal a termos da expansão em série de Taylor. Logo, pelo menos para as versões de ordem mais baixa, o número de termos, $n$, usualmente representa a ordem da abordagem. Por exemplo, na próxima seção, os métodos RK de segunda ordem usam uma função incremento com dois termos $(n = 2)$. Tais métodos de segunda ordem serão exatos se a solução da equação diferencial for quadrática. Além disso, como os termos com $h^3$ e com grau mais alto foram desprezados durante a dedução,\n",
    "o erro de truncamento local é $\\mathcal{O}(h^3)$ e o erro global é $\\mathcal{O}(h^2)$. Nas seções subsequentes, serão desenvolvidos os métodos RK de terceira e quarta ordens ($n = 3$ e $4$, respectivamente), casos nos quais os erros de truncamento globais são $\\mathcal{O}(h^3)$ e $\\mathcal{O}(h^4)$, respectivamente."
   ]
  },
  {
   "cell_type": "markdown",
   "metadata": {},
   "source": [
    "### Métodos de Runge-Kutta de Segunda Ordem\n",
    "\n",
    "A versão de segunda ordem da equação geral do método de RK é\n",
    "\n",
    "$$y_{i+1} = y_i + (a_1k_1 + a_2k_2)h$$\n",
    "\n",
    "em que\n",
    "\n",
    "\\begin{align}\n",
    "k1 &= f(x_i, y_i)\\\\\n",
    "k_2 &= (x_i + p_1 h, y_i + q_{11}k_1 h) \n",
    "\\end{align}\n",
    "\n",
    "Os valores $a_1$, $a_2$, $p_1$ e $q_{11}$ são calculados igualando-se a equação acima à expansão em série de Taylor até os termos de $2^o$ grau.\n",
    "\n",
    "<p align=\"center\">\n",
    "<img src=\"./images/9-rk2.png\" width=850 height=800 />\n",
    "</p>\n",
    "\n",
    "Fazendo isso, deduzimos três equações para calcular as quatro constantes desconhecidas. As três equações são\n",
    "\n",
    "\\begin{align}\n",
    "a_1 + a_2 &= 1\\\\\n",
    "a_2 p_1 &= \\frac{1}{2}\\\\\n",
    "a_2 q_{11} &= \\frac{1}{2}\n",
    "\\end{align}\n",
    "\n",
    "Como temos três equações com quatro incógnitas, devemos escolher um valor para\n",
    "uma das incógnitas para determinar as outras três. Suponha que especifiquemos um valor\n",
    "para $a_2$. Então, as equações acima podem ser resolvidas simultaneamente por\n",
    "\n",
    "\\begin{align}\n",
    "a_1 &= 1- a_2 \\\\\n",
    "p_1 &= q_{11} = \\frac{1}{2a_2}\n",
    "\\end{align}\n",
    "\n",
    "Como podemos escolher um número infinito de valores para $a_2$, existe um número\n",
    "infinito de métodos RK de segunda ordem. Cada versão forneceria exatamente o mesmo\n",
    "resultado se a solução da EDO fosse quadrática, linear ou constante. Entretanto, elas\n",
    "fornecem resultados diferentes quando (como é o caso típico) a solução é mais complicada. Apresentamos três das versões usadas mais freqüentemente e preferidas:"
   ]
  },
  {
   "cell_type": "markdown",
   "metadata": {},
   "source": [
    "#### Método de Heun com um Único Corretor $(a_2 = \\frac{1}{2})$\n",
    "\n",
    "Se for suposto que $a_2 = \\frac{1}{2}$, as equações podem ser resolvidas por $a_1 = 1/2$ e $p1 = q_{11} = 1$. Esses parâmetros, quando substituídos na equação principal, fornecem\n",
    "\n",
    "$$y_{i+1} = y_i + (\\frac{1}{2}k_1 + \\frac{1}{2}k_2)h$$\n",
    "\n",
    "em que\n",
    "\n",
    "\\begin{align}\n",
    "k1 &= f(x_i, y_i)\\\\\n",
    "k_2 &= (x_i + h, y_i + k_1 h) \n",
    "\\end{align}\n",
    "\n",
    "Observe que $k_1$ é a inclinação no início do intervalo e $k_2$ é a inclinação no final do intervalo. Consequentemente, esse método de segunda ordem de Runge-Kutta é, na realidade,\n",
    "a técnica de Heun sem iteração!\n",
    "\n",
    "#### O Método do Ponto Médio $(a_2 = 1)$\n",
    "\n",
    "Se for suposto que $a_2$ é 1, então $a_1 = 0, p_1 =\n",
    "q_{11} = \\frac{1}{2}$, e a equação principal se torna\n",
    "\n",
    "$$y_{i+1} = y_i + k_2 h$$\n",
    "\n",
    "em que \n",
    "\\begin{align}\n",
    "k_1 &= f(x_i, y_i)\\\\\n",
    "k_2 &= (x_i + \\frac{1}{2} h, y_i + \\frac{1}{2} k_1 h) \n",
    "\\end{align}\n",
    "\n",
    "Esse é o método do ponto médio.\n",
    "\n",
    "#### Método de Ralston ($a_2 = \\frac{2}{3}$)\n",
    "\n",
    "Ralston (1962) e Ralston e Rabinowitz (1978) determinaram que a escolha $a_2 = \\frac{2}{3}$ fornece um limitante mínimo para o erro de truncamento para os algoritmos RK de segunda ordem. Para essa versão, $a_1 = \\frac{1}{3}$ e $p_1 = q_{11} = \\frac{3}{4}$, e obtém-se\n",
    "\n",
    "$$y_{i+1} = y_i + (\\frac{1}{3} k_1 + \\frac{2}{3} k_2)h$$\n",
    "\n",
    "em que \n",
    "\\begin{align}\n",
    "k_1 &= f(x_i, y_i)\\\\\n",
    "k_2 &= (x_i + \\frac{3}{4} h, y_i + \\frac{3}{4} k_1 h) \n",
    "\\end{align}"
   ]
  },
  {
   "cell_type": "markdown",
   "metadata": {},
   "source": [
    "#### **Exemplo:**\n",
    "Use o método do ponto médio e o método\n",
    "de Ralston para integrar numericamente a equação\n",
    "\n",
    "$$f(x,y) = -2x^3 + 12 x^2 - 20x + 8.5$$\n",
    "\n",
    "de $x = 0$ a $x = 4$ usando um tamanho de passo de $0.5$. A condição inicial em $x = 0$ é\n",
    "$y = 1$. Compare os resultados com os valores obtidos usando um outro algoritmo RK de\n",
    "segunda ordem, isto é, o método de Heun sem iteração do corretor. Tambem com o resultado analitico e o metodo de Euler."
   ]
  },
  {
   "cell_type": "markdown",
   "metadata": {},
   "source": [
    "### Métodos de Runge-Kutta de Terceira Ordem\n",
    "\n",
    "Para $n = 3$, a dedução é parecida com a dos métodos de segunda ordem. O resultado dessa\n",
    "dedução é um conjunto de seis equações com oito incógnitas. Portanto, devem ser especificados valores *a priori* para duas das incógnitas para determinar os parâmetros restantes. Uma versão comum que resulta é\n",
    "\n",
    "$$\n",
    "y_{i+1} = y_i + \\frac{1}{6}(k_1 + 4k_2 + k3)h\n",
    "$$\n",
    "\n",
    "em que\n",
    "\n",
    "\\begin{align}\n",
    "k_1 &= f(x_i, y_i)\\\\\n",
    "k_2 &= f(x_i + \\frac{1}{2} h, y_i + \\frac{1}{2}k_1 h)\\\\\n",
    "k_3 &= f(x_i, y_i - k_1h + 2k_2 h)\n",
    "\\end{align}\n",
    "\n",
    "Observe que, se a derivada for uma função apenas de $x$, o método de terceira ordem\n",
    "se reduz à regra `1/3 de Simpson`. Ralston (1962) e Ralston e Rabinowitz (1978) desenvolveram uma versão alternativa que fornece um limitante mínimo para o erro de truncamento. De qualquer modo, os métodos RK de terceira ordem têm erros local e global de $\\mathcal{O}(h^4)$ e $\\mathcal{O}(h^3)$, respectivamente, e fornecem resultados exatos se a solução for uma função\n",
    "cúbica. Tratando-se de polinômios, a equação acima também será exata quando a equação diferencial for uma função cúbica e a solução for de quarto grau, porque a regra 1/3 de Simpson fornece estimativas exatas da integral para funções cúbicas."
   ]
  },
  {
   "cell_type": "markdown",
   "metadata": {},
   "source": [
    "### Métodos de Runge-Kutta de Quarta Ordem\n",
    "\n",
    "Os métodos RK mais populares são os de quarta ordem. Como no caso das abordagens de\n",
    "segunda ordem, existe um número infinito de versões. A seguinte é a forma mais comumente usada e, assim, a chamamos `método RK de quarta ordem clássico`:\n",
    "\n",
    "$$\n",
    "y_{i+1} = y_i + \\frac{1}{6}(k_1 + 2k_2 + 2k3 + k_4)h\n",
    "$$\n",
    "\n",
    "em que\n",
    "\n",
    "\\begin{align}\n",
    "k_1 &= f(x_i, y_i)\\\\\n",
    "k_2 &= f(x_i + \\frac{1}{2} h, y_i + \\frac{1}{2}k_1 h)\\\\\n",
    "k_3 &= f(x_i + \\frac{1}{2} h, y_i + \\frac{1}{2}k_2 h)\\\\\n",
    "k_4 &= f(x_i, y_i + k_3h)\n",
    "\\end{align}\n",
    "\n",
    "Observe que para EDOs que são uma função apenas de $x$, o método RK de quarta\n",
    "ordem clássico é parecido com a `regra 1/3 de Simpson`. Além disso, o método RK de\n",
    "quarta ordem é parecido com a abordagem de Heun no fato que são desenvolvidas\n",
    "múltiplas estimativas da inclinação para se chegar a uma inclinação média melhorada\n",
    "no intervalo. Como descrito na figura abaixo, cada um dos $k$’s representa uma inclinação.\n",
    "Então, a equação acima representa uma média ponderada delas para chegar a uma\n",
    "inclinação melhorada.\n",
    "\n",
    "<p align=\"center\">\n",
    "<img src=\"./images/9-rk4.png\" width=450 height=400 />\n",
    "</p>\n",
    "\n",
    "\n",
    "#### Exemplo\n",
    "\n",
    "\n",
    "* (a) Use o método RK de quarta ordem clássico para integrar $$f(x, y) = −2x^3 + 12x^2 − 20x + 8.5$$ \n",
    "utilizando um tamanho de passo de $h = 0.5$ e uma condição inicial de $y = 1$ em $x = 0$.\n",
    "\n",
    "* (b) Analogamente, integre $$f(x, y) = 4e^{0.8x} − 0.5y$$\n",
    "usando $h = 0.5$ com $y(0) = 2$ de x = $0$ a $0.5$.\n",
    "\n"
   ]
  },
  {
   "cell_type": "code",
   "execution_count": null,
   "metadata": {},
   "outputs": [],
   "source": []
  }
 ],
 "metadata": {
  "kernelspec": {
   "display_name": "Python 3.9.13 ('base')",
   "language": "python",
   "name": "python3"
  },
  "language_info": {
   "codemirror_mode": {
    "name": "ipython",
    "version": 3
   },
   "file_extension": ".py",
   "mimetype": "text/x-python",
   "name": "python",
   "nbconvert_exporter": "python",
   "pygments_lexer": "ipython3",
   "version": "3.9.13"
  },
  "orig_nbformat": 4,
  "vscode": {
   "interpreter": {
    "hash": "92b1d5f842d7c1e714e1ab666cefb8d1f75311aac337aae0336133957fcbf554"
   }
  }
 },
 "nbformat": 4,
 "nbformat_minor": 2
}
